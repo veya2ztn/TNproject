{
 "cells": [
  {
   "cell_type": "code",
   "execution_count": 1,
   "metadata": {
    "code_folding": []
   },
   "outputs": [],
   "source": [
    "import torch\n",
    "import torch.nn as nn\n",
    "import torch.nn.functional as F\n",
    "from torchvision import datasets, transforms"
   ]
  },
  {
   "cell_type": "markdown",
   "metadata": {},
   "source": [
    "# dataset"
   ]
  },
  {
   "cell_type": "code",
   "execution_count": 3,
   "metadata": {
    "code_folding": []
   },
   "outputs": [],
   "source": [
    "# import numpy as np\n",
    "\n",
    "# mnist_data = np.load('archive/tn-for-unsup-ml/data/binarized_mnist.npz')\n",
    "# train_data = torch.from_numpy(mnist_data['train_data'])\n",
    "# test_data = torch.from_numpy(mnist_data['test_data'])"
   ]
  },
  {
   "cell_type": "code",
   "execution_count": 2,
   "metadata": {
    "code_folding": []
   },
   "outputs": [],
   "source": [
    "from train_base import *\n",
    "statisticinfo= torch.load(\"/media/tianning/DATA/DATASET/MNIST/MNIST/statisitc_stdmean.pt\")\n",
    "statistic_std= statisticinfo['statisitc_std']\n",
    "statistic_mean=statisticinfo['statisitc_mean']\n",
    "transform = transforms.Compose([\n",
    "    transforms.ToTensor(),\n",
    "    lambda x:(x-statistic_mean)/statistic_std,\n",
    "    transforms.CenterCrop(24)\n",
    "])\n",
    "DATAPATH    = '/media/tianning/DATA/DATASET/MNIST/'\n",
    "mnist_train = datasets.MNIST(DATAPATH, train=True, download=False, transform=transform)\n",
    "mnist_test  = datasets.MNIST(DATAPATH, train=False,download=False, transform=transform)"
   ]
  },
  {
   "cell_type": "code",
   "execution_count": 6,
   "metadata": {
    "code_folding": []
   },
   "outputs": [],
   "source": [
    "train_loader= torch.utils.data.DataLoader(dataset=mnist_train, batch_size=60000, shuffle=True)\n",
    "test_loader = torch.utils.data.DataLoader(dataset=mnist_test, batch_size=128, shuffle=False)"
   ]
  },
  {
   "cell_type": "code",
   "execution_count": 14,
   "metadata": {},
   "outputs": [],
   "source": [
    "train_loader= torch.utils.data.DataLoader(dataset=mnist_train, batch_size=60000, shuffle=True)"
   ]
  },
  {
   "cell_type": "code",
   "execution_count": 29,
   "metadata": {},
   "outputs": [],
   "source": [
    "all_image = iter(train_loader).next()[0]"
   ]
  },
  {
   "cell_type": "code",
   "execution_count": 4,
   "metadata": {},
   "outputs": [],
   "source": [
    "from mltool.visualization import *"
   ]
  },
  {
   "cell_type": "code",
   "execution_count": 30,
   "metadata": {},
   "outputs": [
    {
     "data": {
      "text/plain": [
       "<matplotlib.image.AxesImage at 0x7f4e410416a0>"
      ]
     },
     "execution_count": 30,
     "metadata": {},
     "output_type": "execute_result"
    },
    {
     "data": {
      "image/png": "[encoded data removed]",
      "text/plain": [
       "<Figure size 432x288 with 1 Axes>"
      ]
     },
     "metadata": {
      "needs_background": "light"
     },
     "output_type": "display_data"
    }
   ],
   "source": [
    "%matplotlib inline\n",
    "plt.imshow(torch.sum(all_image[:,0]>0,0).numpy()) "
   ]
  },
  {
   "cell_type": "markdown",
   "metadata": {},
   "source": [
    "# Model"
   ]
  },
  {
   "cell_type": "markdown",
   "metadata": {
    "heading_collapsed": true
   },
   "source": [
    "### Simple MPS layer"
   ]
  },
  {
   "cell_type": "code",
   "execution_count": 3,
   "metadata": {
    "code_folding": [
     0,
     2,
     14,
     38,
     51,
     58,
     68
    ],
    "hidden": true
   },
   "outputs": [],
   "source": [
    "class MPSLinear(nn.Module):\n",
    "    '''\n",
    "    For a naive Linear Layer(in_features,out_features,\n",
    "                             in_physics_bond = 2, out_physics_bond=2, virtual_bond_dim=2, \n",
    "                             bias=True,label_position='center',init_std=1e-10\n",
    "                                       ): \n",
    "        input  (B, in_features)\n",
    "        output (B, out_features)\n",
    "    For s simplest MPSLayer(in_features: int, out_features: int, \n",
    "                            in_physics_bond: int, out_physics_bond: int, virtual_bond_dim:int,\n",
    "                            bias: bool = True, label_position: int or str): \n",
    "        input  (B, in_features , in_physics_bond)\n",
    "        output (B, out_features,out_physics_bond)\n",
    "    '''\n",
    "    def __init__(self, in_features,out_features,\n",
    "                                       in_physics_bond = 2, out_physics_bond=1, virtual_bond_dim=2, \n",
    "                                       bias=True,label_position='center',init_std=1e-10):\n",
    "        super(MPSLinear, self).__init__()\n",
    "        if label_position is 'center':\n",
    "            label_position = in_features//2\n",
    "        assert type(label_position) is int\n",
    "        self.in_features   = in_features\n",
    "        self.out_features  = out_features\n",
    "        self.vbd           = virtual_bond_dim\n",
    "        self.ipb           = in_physics_bond\n",
    "        self.opb           = out_physics_bond\n",
    "        self.hn            = label_position\n",
    "        left_num           = self.hn\n",
    "        right_num          = in_features - left_num\n",
    "\n",
    "        bias_mat = torch.eye(self.vbd).unsqueeze(-1).repeat(1,1,self.ipb)\n",
    "        self.left_tensors = nn.Parameter(init_std * torch.randn(left_num         ,self.vbd,self.vbd, self.ipb)+ bias_mat)\n",
    "        self.rigt_tensors = nn.Parameter(init_std * torch.randn(right_num        ,self.vbd,self.vbd, self.ipb)+ bias_mat)\n",
    "        \n",
    "        bias_mat = torch.eye(self.vbd).unsqueeze(-1).repeat(1,1,self.opb)\n",
    "        self.cent_tensors = nn.Parameter(init_std * torch.randn(self.out_features,self.vbd,self.vbd, self.opb)+ bias_mat)\n",
    "        \n",
    "    @staticmethod\n",
    "    def get_chain_contraction_fast(tensor):\n",
    "        size   = int(tensor.shape[0])\n",
    "        while size > 1:\n",
    "            half_size = size // 2\n",
    "            nice_size = 2 * half_size\n",
    "            leftover  = tensor[nice_size:]\n",
    "            tensor    = torch.einsum(\"mbik,mbkj->mbij\",tensor[0:nice_size:2], tensor[1:nice_size:2])\n",
    "            #(k/2,NB,D,D),(k/2,NB,D,D) <-> (k/2,NB,D,D)\n",
    "            tensor   = torch.cat([tensor, leftover], axis=0)\n",
    "            size     = half_size + int(size % 2 == 1)\n",
    "        return tensor.squeeze(0)\n",
    "    \n",
    "    @staticmethod\n",
    "    def get_chain_contraction_memory_save(tensor):\n",
    "        size      = int(tensor.shape[0])\n",
    "        now_tensor= tensor[0]\n",
    "        for next_tensor in tensor[1:]:\n",
    "            now_tensor = torch.einsum(\"bik,bkj->bij\",now_tensor, next_tensor)\n",
    "        return now_tensor\n",
    "    \n",
    "    def get_chain_contraction(self,tensor):\n",
    "        size   = int(tensor.shape[0])\n",
    "        D      = int(tensor.shape[-1])\n",
    "        print(size)\n",
    "        print(D)\n",
    "        if D>30:\n",
    "            return self.get_chain_contraction_memory_save(tensor)\n",
    "        else:\n",
    "            return self.get_chain_contraction_fast(tensor)\n",
    "    \n",
    "    def forward(self, input_data):\n",
    "        # the input data shape is (B,L,pd)\n",
    "        # expand to convolution patch\n",
    "        embedded_data= input_data\n",
    "        left_tensors = torch.einsum('wijp,nwp->wnij',self.left_tensors,embedded_data[:,:self.hn])#i.e. (K,NB,b,b)\n",
    "        rigt_tensors = torch.einsum('wijp,nwp->wnij',self.rigt_tensors,embedded_data[:,-self.hn:])#i.e.(K,NB,b,b)\n",
    "\n",
    "        left_tensors = self.get_chain_contraction(left_tensors) #i.e. (NB,b,b)\n",
    "        rigt_tensors = self.get_chain_contraction(rigt_tensors) #i.e. (NB,b,b)\n",
    "\n",
    "        tensor  = torch.einsum('bip,oplt,bli->bot',left_tensors,self.cent_tensors,rigt_tensors)\n",
    "        # (NB,b,b) <-> (T,b,b,o) <-> (NB,b,b) ==> (NB,T,t)\n",
    "        return tensor"
   ]
  },
  {
   "cell_type": "code",
   "execution_count": 4,
   "metadata": {
    "code_folding": [
     3,
     70
    ],
    "hidden": true
   },
   "outputs": [],
   "source": [
    "import tensornetwork as tn\n",
    "from tensornetwork import contractors\n",
    "tn.set_default_backend(\"pytorch\")\n",
    "class MPSLinear_tn_loop(nn.Module):\n",
    "    '''\n",
    "    For s simplest MPSLayer(in_features: int, out_features: int,\n",
    "                            in_physics_bond: int, \n",
    "                            out_physics_bond: int, virtual_bond_dim:int,\n",
    "                            bias: bool = True, label_position: int or str):\n",
    "        input  (B, in_features , in_physics_bond)\n",
    "        output (B, out_features)\n",
    "    '''\n",
    "    def __init__(self, in_features,out_features,\n",
    "                       in_physics_bond = 2, out_physics_bond=1, virtual_bond_dim=2,\n",
    "                       bias=True,label_position='center',init_std=1e-10,**kargs):\n",
    "        super().__init__()\n",
    "\n",
    "        if label_position is 'center':\n",
    "            label_position = in_features//2\n",
    "        assert type(label_position) is int\n",
    "        self.in_features   = in_features\n",
    "        self.out_features  = out_features\n",
    "        self.vbd           = virtual_bond_dim\n",
    "        self.ipb           = in_physics_bond\n",
    "        self.opb           = out_physics_bond\n",
    "        self.hn            = label_position\n",
    "        \n",
    "        left_num           = self.hn\n",
    "        right_num          = in_features - left_num\n",
    "\n",
    "        bias_mat     = torch.eye(self.ipb,self.vbd)\n",
    "        left_end     = init_std * torch.randn(self.ipb,self.vbd) + bias_mat\n",
    "\n",
    "        bias_mat     = torch.eye(self.vbd, self.ipb)\n",
    "        right_end    = init_std * torch.randn(self.vbd, self.ipb)+ bias_mat\n",
    "\n",
    "        bias_mat     = torch.eye(self.vbd).unsqueeze(1).repeat(1,self.ipb,1)\n",
    "        left_tensors = init_std * torch.randn(left_num-1 ,self.vbd, self.ipb , self.vbd)+ bias_mat\n",
    "        rigt_tensors = init_std * torch.randn(right_num-1,self.vbd, self.ipb,self.vbd)+ bias_mat\n",
    "\n",
    "\n",
    "        bias_mat     = torch.eye(self.vbd).unsqueeze(1).repeat(1,self.out_features,1)\n",
    "        cent_tensors = init_std * torch.randn(self.vbd,self.out_features,self.vbd)+ bias_mat\n",
    "\n",
    "        mps_var      = [left_end] + list(left_tensors)  + [cent_tensors] + list(rigt_tensors) + [right_end]\n",
    "        self.mps_var = [nn.Parameter(v) for v in mps_var]\n",
    "        self.center  = left_num\n",
    "        for i, v in enumerate(self.mps_var):\n",
    "            self.register_parameter(f'mps{i}', param=v)\n",
    "\n",
    "    def contract_mps_with_input(self,input):\n",
    "        assert len(input) == len(self.mps_var)-1\n",
    "        mps_list_1   = self.mps_var\n",
    "        mps_nodes_1  = [tn.Node(v, name=f\"t{i}\") for i,v in enumerate(mps_list_1)]\n",
    "        mps_edges_1  = [mps_nodes_1[i][-1]^mps_nodes_1[i+1][0] for i in range(len(mps_nodes_1)-1)]\n",
    "        inp_nodes    = [tn.Node(v, name=f\"i{i}\") for i,v in enumerate(input)]\n",
    "        for i,input_node in enumerate(inp_nodes):\n",
    "            j = i if i < self.center else i+1\n",
    "            mps_physicd_edge = mps_nodes_1[j][0] if j==0 else mps_nodes_1[j][1]\n",
    "            inp_physics_edge = input_node[0]\n",
    "            tn.connect(mps_physicd_edge,inp_physics_edge,name=f\"p_{i}\")\n",
    "\n",
    "        ans = contractors.auto(mps_nodes_1+inp_nodes,\n",
    "                              output_edge_order=[mps_nodes_1[self.center][1]]).tensor\n",
    "        return ans\n",
    "\n",
    "    def forward(self, inputs):\n",
    "        out = torch.stack([self.contract_mps_with_input(single_input) for single_input in inputs])\n",
    "        return out\n",
    "    \n",
    "class MPSLinear_tn_batch(MPSLinear_tn_loop):\n",
    "    def forward(self, inputs):\n",
    "        num        = len(self.mps_var)\n",
    "        mps_nodes  = [tn.Node(v, name=f\"t{i}\") for i,v in enumerate(self.mps_var)]\n",
    "        mps_edges  = [mps_nodes[i][-1]^mps_nodes[i+1][0] for i in range(num-1)]\n",
    "\n",
    "\n",
    "        inputs= inputs.permute(1,2,0)#(B,num,k)->(num,k,B)\n",
    "        out   = torch.diag_embed(inputs)#(num,k,B)->(num,k,B,B)\n",
    "        out   = out.permute(0,2,1,3)#(num,k,B,B)->(num,B,k,B)\n",
    "        out   = [v for v in out]\n",
    "        out[0]= torch.diagonal(out[0], dim1=0, dim2=-1).transpose(1,0)#(B,k,B) -> #(B,k)\n",
    "\n",
    "        inp_nodes=[tn.Node(v, name=f\"i{i}\") for i,v in enumerate(out)]\n",
    "        inp_edges=[inp_nodes[0][0]^inp_nodes[1][0]]+ [\n",
    "            inp_nodes[i][-1]^inp_nodes[i+1][0] for i in range(1,len(inp_nodes)-1)]\n",
    "\n",
    "        for i,input_node in enumerate(inp_nodes):\n",
    "            j = i if i < self.center else i+1\n",
    "            mps_physicd_edge = mps_nodes[j][0] if j==0 else mps_nodes[j][1]\n",
    "            inp_physics_edge = input_node[1]\n",
    "            tn.connect(mps_physicd_edge,inp_physics_edge,name=f\"p_{i}\")\n",
    "\n",
    "        ans = contractors.auto(mps_nodes+inp_nodes,output_edge_order=[inp_nodes[-1][2],mps_nodes[self.center][1]]).tensor\n",
    "        return ans"
   ]
  },
  {
   "cell_type": "code",
   "execution_count": 91,
   "metadata": {
    "code_folding": [],
    "hidden": true
   },
   "outputs": [],
   "source": [
    "model = MPSLinear_tn_loop(28*28,10,in_physics_bond = 2, out_physics_bond=1, virtual_bond_dim=10,\n",
    "                  bias=False,label_position='center',init_std=1e-2)"
   ]
  },
  {
   "cell_type": "code",
   "execution_count": 88,
   "metadata": {
    "hidden": true
   },
   "outputs": [],
   "source": [
    "model = MPSLinear_tn_batch(28*28,10,in_physics_bond = 2, out_physics_bond=1, virtual_bond_dim=10,\n",
    "                  bias=False,label_position='center',init_std=1e-2)"
   ]
  },
  {
   "cell_type": "code",
   "execution_count": 92,
   "metadata": {
    "hidden": true
   },
   "outputs": [],
   "source": [
    "_input = torch.randn(2,28*28,2)"
   ]
  },
  {
   "cell_type": "markdown",
   "metadata": {
    "heading_collapsed": true
   },
   "source": [
    "### AMPS"
   ]
  },
  {
   "cell_type": "code",
   "execution_count": 79,
   "metadata": {
    "code_folding": [
     1
    ],
    "hidden": true
   },
   "outputs": [],
   "source": [
    "#from models.amps import AMPSShare\n",
    "class AMPSShare(nn.Module):\n",
    "    '''\n",
    "    This version may fast, but will cost much more memory\n",
    "    n        : the length of input tensor sequence\n",
    "    bond_dim : the virtual bond dim. The capacity of model.\n",
    "    phys_dim : the feature/class number\n",
    "    ------------------------------\n",
    "    Input:  any data/spin configurations, shape: (B, n ,phys_dim)\n",
    "    Output: prob_matrix of each sample, shape: (B, n, phys_dim), pass softmax to get probility.\n",
    "    -------------------------------\n",
    "    Weight Cost:\n",
    "        n * bond_dim * bond_dim * phys_dim\n",
    "    '''\n",
    "    def __init__(self, n=784, bond_dim=10, phys_dim=2,std=1e-8):\n",
    "        super(AMPSShare, self).__init__()\n",
    "        # Initialize AMPS model parameters, which is a (n, D, D, 2) tensor\n",
    "        self.register_buffer('bias_mat', torch.eye(bond_dim).unsqueeze(-1).repeat(1,1,phys_dim))\n",
    "        # bias_mat: which is realy important when n>>1\n",
    "        self.tensors = nn.Parameter(std * torch.randn(n, bond_dim, bond_dim, phys_dim)+self.bias_mat)\n",
    "        # Set attributes\n",
    "        self.n = n\n",
    "        self.bond_dim = bond_dim\n",
    "        self.std = std\n",
    "\n",
    "    def forward(self, embedded_data):\n",
    "\n",
    "        bs = embedded_data.shape[0]\n",
    "        # local feature map, x_j -> [x_j, 1-x_j]\n",
    "        #-> embedded_data = torch.stack([data, 1.0 - data], dim=2)  # (bs, n, 2)\n",
    "        ##logx_hat = torch.zeros_like(embedded_data)\n",
    "        ##logx_hat[:, 0, :] = F.log_softmax(self.tensors[0, 0, 0], dim=0)\n",
    "        prob_matrix = self.tensors[0, 0, 0].repeat((bs,1)).unsqueeze(1) # (bs,1,2)\n",
    "        mats = torch.einsum('lri,bi->blr', self.tensors[0] , embedded_data[:, 0, :])\n",
    "        left_vec = mats[:, 0:1, :]  # (bs,  D)\n",
    "        for idx in range(1, self.n):\n",
    "            # compute p(s_2 | s_1) and so on\n",
    "            logits = torch.einsum('br, ri->bi', left_vec.squeeze(1),self.tensors[idx,:,0,:])\n",
    "            #(bs,D) <-> (D,2) ->(bs,2)\n",
    "            prob_matrix = torch.cat([prob_matrix,logits.unsqueeze(1)], dim=1)\n",
    "            #(bs, n-2, 2) + (bs,1,2) -> (bs, n-1, 2)\n",
    "            ##logx_hat[:, idx, :] = F.log_softmax(logits, dim=1)\n",
    "            mats = torch.einsum('lri,bi->blr', self.tensors[idx, :, :, :] , embedded_data[:, idx, :])\n",
    "            #(D,D,2) <-> (bs,2) ->(bs,D,D)\n",
    "            left_vec = torch.bmm(left_vec, mats)  # (bs, 1, D)\n",
    "        # compute log prob\n",
    "        return prob_matrix\n"
   ]
  },
  {
   "cell_type": "markdown",
   "metadata": {
    "heading_collapsed": true
   },
   "source": [
    "### PEPS"
   ]
  },
  {
   "cell_type": "code",
   "execution_count": 4,
   "metadata": {
    "hidden": true
   },
   "outputs": [],
   "source": [
    "from models.two_dim_model import *"
   ]
  },
  {
   "cell_type": "code",
   "execution_count": 194,
   "metadata": {
    "hidden": true
   },
   "outputs": [
    {
     "data": {
      "text/plain": [
       "torch.Size([10, 16])"
      ]
     },
     "execution_count": 194,
     "metadata": {},
     "output_type": "execute_result"
    }
   ],
   "source": [
    "a= torch.randn(10,6,6,16)\n",
    "model(a).shape"
   ]
  },
  {
   "cell_type": "markdown",
   "metadata": {
    "heading_collapsed": true,
    "hidden": true
   },
   "source": [
    "#### naive contractor: face dimenstion explore"
   ]
  },
  {
   "cell_type": "code",
   "execution_count": 3,
   "metadata": {
    "hidden": true
   },
   "outputs": [],
   "source": [
    "import torch"
   ]
  },
  {
   "cell_type": "code",
   "execution_count": 7,
   "metadata": {
    "code_folding": [],
    "hidden": true
   },
   "outputs": [],
   "source": [
    "# import torch\n",
    "# tensor = torch.randn(8,8,6,6,6,6)\n",
    "# while tensor.shape[0]>2:\n",
    "#     print(tensor.shape)\n",
    "#     lu_tensor = tensor[0::2,0::2]\n",
    "#     ld_tensor = tensor[0::2,1::2]\n",
    "#     ru_tensor = tensor[1::2,0::2]\n",
    "#     rd_tensor = tensor[1::2,1::2]\n",
    "#     tensor     = torch.einsum(\"xyabcd,xyhdij,xycefg,xyigkl->xyahbefkjl\",\n",
    "#                             lu_tensor,\n",
    "#                             ld_tensor,\n",
    "#                             ru_tensor,\n",
    "#                             rd_tensor).flatten(4,5).flatten(-4,-3).flatten(2,3).flatten(-2,-1)"
   ]
  },
  {
   "cell_type": "markdown",
   "metadata": {
    "heading_collapsed": true,
    "hidden": true
   },
   "source": [
    "##### cotengra"
   ]
  },
  {
   "cell_type": "code",
   "execution_count": null,
   "metadata": {
    "hidden": true
   },
   "outputs": [],
   "source": [
    "from tensornetwork.contractors.opt_einsum_paths.utils import *\n",
    "from opt_einsum.paths import greedy"
   ]
  },
  {
   "cell_type": "code",
   "execution_count": null,
   "metadata": {
    "hidden": true
   },
   "outputs": [],
   "source": [
    "import opt_einsum as oe\n",
    "import tensornetwork as tn\n",
    "tn.set_default_backend(\"pytorch\")"
   ]
  },
  {
   "cell_type": "code",
   "execution_count": 1,
   "metadata": {
    "code_folding": [],
    "hidden": true
   },
   "outputs": [],
   "source": [
    "import torch\n",
    "import opt_einsum as oe\n",
    "import tensornetwork as tn\n",
    "tn.set_default_backend(\"pytorch\")\n",
    "    from tensornetwork.contractors.opt_einsum_paths.utils import *\n",
    "tensor = torch.randn(16,16,2,2,2,2).cuda()\n",
    "\n",
    "node_array = []\n",
    "W,H = tensor.shape[:2]\n",
    "for i in range(W):\n",
    "    node_line = []\n",
    "    for j in range(H):\n",
    "        node = tn.Node(tensor[i][j],name=f\"{i}-{j}\")\n",
    "        node_line.append(node)\n",
    "    node_array.append(node_line)\n",
    "\n",
    "for i in range(W):\n",
    "    for j in range(H):\n",
    "        if j==H-1:tn.connect(node_array[i][j][2],node_array[i  ][0  ][0],f\"{i}{j}<->{i}{0}\")\n",
    "        else:     tn.connect(node_array[i][j][2],node_array[i  ][j+1][0],f\"{i}{j}<->{i}{j+1}\")\n",
    "        if i==W-1:tn.connect(node_array[i][j][3],node_array[0  ][j  ][1],f\"{i}{j}<->{0}{j}\")\n",
    "        else:     tn.connect(node_array[i][j][3],node_array[i+1][j  ][1],f\"{i}{j}<->{i+1}{j}\")\n",
    "\n",
    "node_list = [item for sublist in node_array for item in sublist]\n",
    "nodes = node_list\n",
    "input_sets = [set(node.edges) for node in nodes]\n",
    "output_set = get_subgraph_dangling(nodes)\n",
    "size_dict = {edge: edge.dimension for edge in get_all_edges(nodes)}\n",
    "\n",
    "operands = []\n",
    "for node,edge_label in zip(node_list,input_sets):\n",
    "    operands+=[node.tensor,[edge.name for edge in edge_label]]\n",
    "\n",
    "path,info = oe.contract_path(*operands)\n",
    "\n",
    "small_cores =[node.tensor for node in node_list]\n",
    "import tqdm as tqdm\n",
    "import cotengra as ctg\n",
    "\n",
    "sf = ctg.SliceFinder(info, target_size=2**27)\n",
    "inds_to_slice, cost_of_slicing = sf.search()"
   ]
  },
  {
   "cell_type": "code",
   "execution_count": 17,
   "metadata": {
    "hidden": true
   },
   "outputs": [],
   "source": [
    "import tqdm as tqdm\n",
    "import cotengra as ctg\n",
    "\n",
    "sf = ctg.SliceFinder(info, target_size=2**27)\n",
    "inds_to_slice, cost_of_slicing = sf.search()"
   ]
  },
  {
   "cell_type": "code",
   "execution_count": 18,
   "metadata": {
    "hidden": true
   },
   "outputs": [
    {
     "name": "stdout",
     "output_type": "stream",
     "text": [
      "67108864\n",
      "2.9753197715379116\n"
     ]
    }
   ],
   "source": [
    "print(cost_of_slicing.size    ) # the new largest intermediate\n",
    "print(cost_of_slicing.overhead)  # theoretical 'slowdown'"
   ]
  },
  {
   "cell_type": "code",
   "execution_count": 19,
   "metadata": {
    "hidden": true
   },
   "outputs": [
    {
     "name": "stderr",
     "output_type": "stream",
     "text": [
      "\n",
      "\n",
      "  0%|          | 0/262144 [00:00<?, ?it/s]\u001b[A\u001b[A\n",
      "\n",
      "  0%|          | 15/262144 [00:00<30:05, 145.21it/s]\u001b[A\u001b[A\n",
      "\n",
      "  0%|          | 30/262144 [00:00<44:00, 99.28it/s] \u001b[A\u001b[A\n",
      "\n",
      "  0%|          | 41/262144 [00:00<47:41, 91.58it/s]\u001b[A\u001b[A\n",
      "\n",
      "  0%|          | 51/262144 [00:00<49:42, 87.88it/s]\u001b[A\u001b[A\n",
      "\n",
      "  0%|          | 60/262144 [00:00<50:56, 85.76it/s]\u001b[A\u001b[A\n",
      "\n",
      "  0%|          | 69/262144 [00:00<51:48, 84.32it/s]\u001b[A\u001b[A\n",
      "\n",
      "  0%|          | 78/262144 [00:00<52:24, 83.35it/s]\u001b[A\u001b[A\n",
      "\n",
      "  0%|          | 87/262144 [00:00<53:13, 82.06it/s]\u001b[A\u001b[A\n",
      "\n",
      "  0%|          | 96/262144 [00:01<53:42, 81.31it/s]\u001b[A\u001b[A\n",
      "\n",
      "  0%|          | 105/262144 [00:01<53:43, 81.29it/s]\u001b[A\u001b[A\n",
      "\n",
      "  0%|          | 114/262144 [00:01<53:46, 81.21it/s]\u001b[A\u001b[A\n",
      "\n",
      "  0%|          | 123/262144 [00:01<53:46, 81.20it/s]\u001b[A\u001b[A\n",
      "\n",
      "  0%|          | 132/262144 [00:01<53:47, 81.19it/s]\u001b[A\u001b[A\n",
      "\n",
      "  0%|          | 141/262144 [00:01<53:47, 81.18it/s]\u001b[A\u001b[A\n",
      "\n",
      "  0%|          | 150/262144 [00:01<53:49, 81.13it/s]\u001b[A\u001b[A\n",
      "\n",
      "  0%|          | 159/262144 [00:01<53:48, 81.14it/s]\u001b[A\u001b[A\n",
      "\n",
      "  0%|          | 168/262144 [00:01<53:57, 80.91it/s]\u001b[A\u001b[A\n",
      "\n",
      "  0%|          | 177/262144 [00:02<54:10, 80.59it/s]\u001b[A\u001b[A\n",
      "\n",
      "  0%|          | 186/262144 [00:02<54:04, 80.74it/s]\u001b[A\u001b[A\n",
      "\n",
      "  0%|          | 195/262144 [00:02<54:04, 80.73it/s]\u001b[A\u001b[A\n",
      "\n",
      "  0%|          | 204/262144 [00:02<54:00, 80.83it/s]\u001b[A\u001b[A\n",
      "\n",
      "  0%|          | 213/262144 [00:02<54:03, 80.77it/s]\u001b[A\u001b[A\n",
      "\n",
      "  0%|          | 222/262144 [00:02<54:02, 80.78it/s]\u001b[A\u001b[A\n",
      "\n",
      "  0%|          | 231/262144 [00:02<53:58, 80.88it/s]\u001b[A\u001b[A\n",
      "\n",
      "  0%|          | 240/262144 [00:02<53:56, 80.92it/s]\u001b[A\u001b[A\n",
      "\n",
      "  0%|          | 249/262144 [00:02<54:02, 80.77it/s]\u001b[A\u001b[A\n",
      "\n",
      "  0%|          | 258/262144 [00:03<54:13, 80.50it/s]\u001b[A\u001b[A\n",
      "\n",
      "  0%|          | 267/262144 [00:03<54:05, 80.69it/s]\u001b[A\u001b[A\n",
      "\n",
      "  0%|          | 276/262144 [00:03<54:01, 80.79it/s]\u001b[A\u001b[A\n",
      "\n",
      "  0%|          | 285/262144 [00:03<54:05, 80.69it/s]\u001b[A\u001b[A\n",
      "\n",
      "  0%|          | 294/262144 [00:03<54:06, 80.65it/s]\u001b[A\u001b[A\n",
      "\n",
      "  0%|          | 303/262144 [00:03<54:04, 80.71it/s]\u001b[A\u001b[A\n",
      "\n",
      "  0%|          | 312/262144 [00:03<54:07, 80.62it/s]\u001b[A\u001b[A\n",
      "\n",
      "  0%|          | 321/262144 [00:03<54:03, 80.72it/s]\u001b[A\u001b[A\n",
      "\n",
      "  0%|          | 330/262144 [00:04<54:05, 80.68it/s]\u001b[A\u001b[A"
     ]
    },
    {
     "ename": "KeyboardInterrupt",
     "evalue": "",
     "output_type": "error",
     "traceback": [
      "\u001b[0;31m---------------------------------------------------------------------------\u001b[0m",
      "\u001b[0;31mKeyboardInterrupt\u001b[0m                         Traceback (most recent call last)",
      "\u001b[0;32m<ipython-input-19-7c7e88620acd>\u001b[0m in \u001b[0;36m<module>\u001b[0;34m\u001b[0m\n\u001b[1;32m      1\u001b[0m \u001b[0msc\u001b[0m \u001b[0;34m=\u001b[0m \u001b[0msf\u001b[0m\u001b[0;34m.\u001b[0m\u001b[0mSlicedContractor\u001b[0m\u001b[0;34m(\u001b[0m\u001b[0;34m[\u001b[0m\u001b[0;34m*\u001b[0m\u001b[0msmall_cores\u001b[0m\u001b[0;34m]\u001b[0m\u001b[0;34m)\u001b[0m\u001b[0;34m\u001b[0m\u001b[0;34m\u001b[0m\u001b[0m\n\u001b[0;32m----> 2\u001b[0;31m \u001b[0mresult\u001b[0m \u001b[0;34m=\u001b[0m \u001b[0msum\u001b[0m\u001b[0;34m(\u001b[0m\u001b[0msc\u001b[0m\u001b[0;34m.\u001b[0m\u001b[0mcontract_slice\u001b[0m\u001b[0;34m(\u001b[0m\u001b[0mi\u001b[0m\u001b[0;34m)\u001b[0m \u001b[0;32mfor\u001b[0m \u001b[0mi\u001b[0m \u001b[0;32min\u001b[0m \u001b[0mtqdm\u001b[0m\u001b[0;34m.\u001b[0m\u001b[0mtrange\u001b[0m\u001b[0;34m(\u001b[0m\u001b[0msc\u001b[0m\u001b[0;34m.\u001b[0m\u001b[0mnslices\u001b[0m\u001b[0;34m)\u001b[0m\u001b[0;34m)\u001b[0m\u001b[0;34m\u001b[0m\u001b[0;34m\u001b[0m\u001b[0m\n\u001b[0m\u001b[1;32m      3\u001b[0m \u001b[0;31m# 100%|██████████| 512/512 [00:55<00:00,  9.30it/s]\u001b[0m\u001b[0;34m\u001b[0m\u001b[0;34m\u001b[0m\u001b[0;34m\u001b[0m\u001b[0m\n",
      "\u001b[0;32m<ipython-input-19-7c7e88620acd>\u001b[0m in \u001b[0;36m<genexpr>\u001b[0;34m(.0)\u001b[0m\n\u001b[1;32m      1\u001b[0m \u001b[0msc\u001b[0m \u001b[0;34m=\u001b[0m \u001b[0msf\u001b[0m\u001b[0;34m.\u001b[0m\u001b[0mSlicedContractor\u001b[0m\u001b[0;34m(\u001b[0m\u001b[0;34m[\u001b[0m\u001b[0;34m*\u001b[0m\u001b[0msmall_cores\u001b[0m\u001b[0;34m]\u001b[0m\u001b[0;34m)\u001b[0m\u001b[0;34m\u001b[0m\u001b[0;34m\u001b[0m\u001b[0m\n\u001b[0;32m----> 2\u001b[0;31m \u001b[0mresult\u001b[0m \u001b[0;34m=\u001b[0m \u001b[0msum\u001b[0m\u001b[0;34m(\u001b[0m\u001b[0msc\u001b[0m\u001b[0;34m.\u001b[0m\u001b[0mcontract_slice\u001b[0m\u001b[0;34m(\u001b[0m\u001b[0mi\u001b[0m\u001b[0;34m)\u001b[0m \u001b[0;32mfor\u001b[0m \u001b[0mi\u001b[0m \u001b[0;32min\u001b[0m \u001b[0mtqdm\u001b[0m\u001b[0;34m.\u001b[0m\u001b[0mtrange\u001b[0m\u001b[0;34m(\u001b[0m\u001b[0msc\u001b[0m\u001b[0;34m.\u001b[0m\u001b[0mnslices\u001b[0m\u001b[0;34m)\u001b[0m\u001b[0;34m)\u001b[0m\u001b[0;34m\u001b[0m\u001b[0;34m\u001b[0m\u001b[0m\n\u001b[0m\u001b[1;32m      3\u001b[0m \u001b[0;31m# 100%|██████████| 512/512 [00:55<00:00,  9.30it/s]\u001b[0m\u001b[0;34m\u001b[0m\u001b[0;34m\u001b[0m\u001b[0;34m\u001b[0m\u001b[0m\n",
      "\u001b[0;32m~/.local/lib/python3.7/site-packages/cotengra/slicer.py\u001b[0m in \u001b[0;36mcontract_slice\u001b[0;34m(self, i, **kwargs)\u001b[0m\n\u001b[1;32m    584\u001b[0m         \"\"\"\n\u001b[1;32m    585\u001b[0m         \u001b[0marrays\u001b[0m \u001b[0;34m=\u001b[0m \u001b[0mself\u001b[0m\u001b[0;34m.\u001b[0m\u001b[0mget_sliced_arrays\u001b[0m\u001b[0;34m(\u001b[0m\u001b[0mi\u001b[0m\u001b[0;34m)\u001b[0m\u001b[0;34m\u001b[0m\u001b[0;34m\u001b[0m\u001b[0m\n\u001b[0;32m--> 586\u001b[0;31m         \u001b[0;32mreturn\u001b[0m \u001b[0mself\u001b[0m\u001b[0;34m.\u001b[0m\u001b[0m_expr\u001b[0m\u001b[0;34m(\u001b[0m\u001b[0;34m*\u001b[0m\u001b[0marrays\u001b[0m\u001b[0;34m,\u001b[0m \u001b[0;34m**\u001b[0m\u001b[0mkwargs\u001b[0m\u001b[0;34m)\u001b[0m\u001b[0;34m\u001b[0m\u001b[0;34m\u001b[0m\u001b[0m\n\u001b[0m\u001b[1;32m    587\u001b[0m \u001b[0;34m\u001b[0m\u001b[0m\n\u001b[1;32m    588\u001b[0m     \u001b[0;32mdef\u001b[0m \u001b[0mgather_slices\u001b[0m\u001b[0;34m(\u001b[0m\u001b[0mself\u001b[0m\u001b[0;34m,\u001b[0m \u001b[0mslices\u001b[0m\u001b[0;34m)\u001b[0m\u001b[0;34m:\u001b[0m\u001b[0;34m\u001b[0m\u001b[0;34m\u001b[0m\u001b[0m\n",
      "\u001b[0;32m/usr/local/lib/python3.7/dist-packages/opt_einsum/contract.py\u001b[0m in \u001b[0;36m__call__\u001b[0;34m(self, *arrays, **kwargs)\u001b[0m\n\u001b[1;32m    761\u001b[0m                 \u001b[0;32mreturn\u001b[0m \u001b[0mself\u001b[0m\u001b[0;34m.\u001b[0m\u001b[0m_contract_with_conversion\u001b[0m\u001b[0;34m(\u001b[0m\u001b[0mops\u001b[0m\u001b[0;34m,\u001b[0m \u001b[0mout\u001b[0m\u001b[0;34m,\u001b[0m \u001b[0mbackend\u001b[0m\u001b[0;34m,\u001b[0m \u001b[0mevaluate_constants\u001b[0m\u001b[0;34m=\u001b[0m\u001b[0mevaluate_constants\u001b[0m\u001b[0;34m)\u001b[0m\u001b[0;34m\u001b[0m\u001b[0;34m\u001b[0m\u001b[0m\n\u001b[1;32m    762\u001b[0m \u001b[0;34m\u001b[0m\u001b[0m\n\u001b[0;32m--> 763\u001b[0;31m             \u001b[0;32mreturn\u001b[0m \u001b[0mself\u001b[0m\u001b[0;34m.\u001b[0m\u001b[0m_contract\u001b[0m\u001b[0;34m(\u001b[0m\u001b[0mops\u001b[0m\u001b[0;34m,\u001b[0m \u001b[0mout\u001b[0m\u001b[0;34m,\u001b[0m \u001b[0mbackend\u001b[0m\u001b[0;34m,\u001b[0m \u001b[0mevaluate_constants\u001b[0m\u001b[0;34m=\u001b[0m\u001b[0mevaluate_constants\u001b[0m\u001b[0;34m)\u001b[0m\u001b[0;34m\u001b[0m\u001b[0;34m\u001b[0m\u001b[0m\n\u001b[0m\u001b[1;32m    764\u001b[0m \u001b[0;34m\u001b[0m\u001b[0m\n\u001b[1;32m    765\u001b[0m         \u001b[0;32mexcept\u001b[0m \u001b[0mValueError\u001b[0m \u001b[0;32mas\u001b[0m \u001b[0merr\u001b[0m\u001b[0;34m:\u001b[0m\u001b[0;34m\u001b[0m\u001b[0;34m\u001b[0m\u001b[0m\n",
      "\u001b[0;32m/usr/local/lib/python3.7/dist-packages/opt_einsum/contract.py\u001b[0m in \u001b[0;36m_contract\u001b[0;34m(self, arrays, out, backend, evaluate_constants)\u001b[0m\n\u001b[1;32m    696\u001b[0m                               \u001b[0mbackend\u001b[0m\u001b[0;34m=\u001b[0m\u001b[0mbackend\u001b[0m\u001b[0;34m,\u001b[0m\u001b[0;34m\u001b[0m\u001b[0;34m\u001b[0m\u001b[0m\n\u001b[1;32m    697\u001b[0m                               \u001b[0mevaluate_constants\u001b[0m\u001b[0;34m=\u001b[0m\u001b[0mevaluate_constants\u001b[0m\u001b[0;34m,\u001b[0m\u001b[0;34m\u001b[0m\u001b[0;34m\u001b[0m\u001b[0m\n\u001b[0;32m--> 698\u001b[0;31m                               **self.einsum_kwargs)\n\u001b[0m\u001b[1;32m    699\u001b[0m \u001b[0;34m\u001b[0m\u001b[0m\n\u001b[1;32m    700\u001b[0m     \u001b[0;32mdef\u001b[0m \u001b[0m_contract_with_conversion\u001b[0m\u001b[0;34m(\u001b[0m\u001b[0mself\u001b[0m\u001b[0;34m,\u001b[0m \u001b[0marrays\u001b[0m\u001b[0;34m,\u001b[0m \u001b[0mout\u001b[0m\u001b[0;34m,\u001b[0m \u001b[0mbackend\u001b[0m\u001b[0;34m,\u001b[0m \u001b[0mevaluate_constants\u001b[0m\u001b[0;34m=\u001b[0m\u001b[0;32mFalse\u001b[0m\u001b[0;34m)\u001b[0m\u001b[0;34m:\u001b[0m\u001b[0;34m\u001b[0m\u001b[0;34m\u001b[0m\u001b[0m\n",
      "\u001b[0;32m/usr/local/lib/python3.7/dist-packages/opt_einsum/contract.py\u001b[0m in \u001b[0;36m_core_contract\u001b[0;34m(operands, contraction_list, backend, evaluate_constants, **einsum_kwargs)\u001b[0m\n\u001b[1;32m    571\u001b[0m \u001b[0;34m\u001b[0m\u001b[0m\n\u001b[1;32m    572\u001b[0m             \u001b[0;31m# Contract!\u001b[0m\u001b[0;34m\u001b[0m\u001b[0;34m\u001b[0m\u001b[0;34m\u001b[0m\u001b[0m\n\u001b[0;32m--> 573\u001b[0;31m             \u001b[0mnew_view\u001b[0m \u001b[0;34m=\u001b[0m \u001b[0m_tensordot\u001b[0m\u001b[0;34m(\u001b[0m\u001b[0;34m*\u001b[0m\u001b[0mtmp_operands\u001b[0m\u001b[0;34m,\u001b[0m \u001b[0maxes\u001b[0m\u001b[0;34m=\u001b[0m\u001b[0;34m(\u001b[0m\u001b[0mtuple\u001b[0m\u001b[0;34m(\u001b[0m\u001b[0mleft_pos\u001b[0m\u001b[0;34m)\u001b[0m\u001b[0;34m,\u001b[0m \u001b[0mtuple\u001b[0m\u001b[0;34m(\u001b[0m\u001b[0mright_pos\u001b[0m\u001b[0;34m)\u001b[0m\u001b[0;34m)\u001b[0m\u001b[0;34m,\u001b[0m \u001b[0mbackend\u001b[0m\u001b[0;34m=\u001b[0m\u001b[0mbackend\u001b[0m\u001b[0;34m)\u001b[0m\u001b[0;34m\u001b[0m\u001b[0;34m\u001b[0m\u001b[0m\n\u001b[0m\u001b[1;32m    574\u001b[0m \u001b[0;34m\u001b[0m\u001b[0m\n\u001b[1;32m    575\u001b[0m             \u001b[0;31m# Build a new view if needed\u001b[0m\u001b[0;34m\u001b[0m\u001b[0;34m\u001b[0m\u001b[0;34m\u001b[0m\u001b[0m\n",
      "\u001b[0;32m/usr/local/lib/python3.7/dist-packages/opt_einsum/sharing.py\u001b[0m in \u001b[0;36mcached_tensordot\u001b[0;34m(x, y, axes, backend)\u001b[0m\n\u001b[1;32m    129\u001b[0m     \u001b[0;32mdef\u001b[0m \u001b[0mcached_tensordot\u001b[0m\u001b[0;34m(\u001b[0m\u001b[0mx\u001b[0m\u001b[0;34m,\u001b[0m \u001b[0my\u001b[0m\u001b[0;34m,\u001b[0m \u001b[0maxes\u001b[0m\u001b[0;34m=\u001b[0m\u001b[0;36m2\u001b[0m\u001b[0;34m,\u001b[0m \u001b[0mbackend\u001b[0m\u001b[0;34m=\u001b[0m\u001b[0;34m'numpy'\u001b[0m\u001b[0;34m)\u001b[0m\u001b[0;34m:\u001b[0m\u001b[0;34m\u001b[0m\u001b[0;34m\u001b[0m\u001b[0m\n\u001b[1;32m    130\u001b[0m         \u001b[0;32mif\u001b[0m \u001b[0;32mnot\u001b[0m \u001b[0mcurrently_sharing\u001b[0m\u001b[0;34m(\u001b[0m\u001b[0;34m)\u001b[0m\u001b[0;34m:\u001b[0m\u001b[0;34m\u001b[0m\u001b[0;34m\u001b[0m\u001b[0m\n\u001b[0;32m--> 131\u001b[0;31m             \u001b[0;32mreturn\u001b[0m \u001b[0mtensordot\u001b[0m\u001b[0;34m(\u001b[0m\u001b[0mx\u001b[0m\u001b[0;34m,\u001b[0m \u001b[0my\u001b[0m\u001b[0;34m,\u001b[0m \u001b[0maxes\u001b[0m\u001b[0;34m,\u001b[0m \u001b[0mbackend\u001b[0m\u001b[0;34m=\u001b[0m\u001b[0mbackend\u001b[0m\u001b[0;34m)\u001b[0m\u001b[0;34m\u001b[0m\u001b[0;34m\u001b[0m\u001b[0m\n\u001b[0m\u001b[1;32m    132\u001b[0m \u001b[0;34m\u001b[0m\u001b[0m\n\u001b[1;32m    133\u001b[0m         \u001b[0;31m# hash based on the (axes_x,axes_y) form of axes\u001b[0m\u001b[0;34m\u001b[0m\u001b[0;34m\u001b[0m\u001b[0;34m\u001b[0m\u001b[0m\n",
      "\u001b[0;32m/usr/local/lib/python3.7/dist-packages/opt_einsum/contract.py\u001b[0m in \u001b[0;36m_tensordot\u001b[0;34m(x, y, axes, backend)\u001b[0m\n\u001b[1;32m    372\u001b[0m     \"\"\"\n\u001b[1;32m    373\u001b[0m     \u001b[0mfn\u001b[0m \u001b[0;34m=\u001b[0m \u001b[0mbackends\u001b[0m\u001b[0;34m.\u001b[0m\u001b[0mget_func\u001b[0m\u001b[0;34m(\u001b[0m\u001b[0;34m'tensordot'\u001b[0m\u001b[0;34m,\u001b[0m \u001b[0mbackend\u001b[0m\u001b[0;34m)\u001b[0m\u001b[0;34m\u001b[0m\u001b[0;34m\u001b[0m\u001b[0m\n\u001b[0;32m--> 374\u001b[0;31m     \u001b[0;32mreturn\u001b[0m \u001b[0mfn\u001b[0m\u001b[0;34m(\u001b[0m\u001b[0mx\u001b[0m\u001b[0;34m,\u001b[0m \u001b[0my\u001b[0m\u001b[0;34m,\u001b[0m \u001b[0maxes\u001b[0m\u001b[0;34m=\u001b[0m\u001b[0maxes\u001b[0m\u001b[0;34m)\u001b[0m\u001b[0;34m\u001b[0m\u001b[0;34m\u001b[0m\u001b[0m\n\u001b[0m\u001b[1;32m    375\u001b[0m \u001b[0;34m\u001b[0m\u001b[0m\n\u001b[1;32m    376\u001b[0m \u001b[0;34m\u001b[0m\u001b[0m\n",
      "\u001b[0;32m/usr/local/lib/python3.7/dist-packages/opt_einsum/backends/torch.py\u001b[0m in \u001b[0;36mtensordot\u001b[0;34m(x, y, axes)\u001b[0m\n\u001b[1;32m     52\u001b[0m \u001b[0;34m\u001b[0m\u001b[0m\n\u001b[1;32m     53\u001b[0m     \u001b[0;32mif\u001b[0m \u001b[0m_TORCH_HAS_TENSORDOT\u001b[0m\u001b[0;34m:\u001b[0m\u001b[0;34m\u001b[0m\u001b[0;34m\u001b[0m\u001b[0m\n\u001b[0;32m---> 54\u001b[0;31m         \u001b[0;32mreturn\u001b[0m \u001b[0mtorch\u001b[0m\u001b[0;34m.\u001b[0m\u001b[0mtensordot\u001b[0m\u001b[0;34m(\u001b[0m\u001b[0mx\u001b[0m\u001b[0;34m,\u001b[0m \u001b[0my\u001b[0m\u001b[0;34m,\u001b[0m \u001b[0mdims\u001b[0m\u001b[0;34m=\u001b[0m\u001b[0maxes\u001b[0m\u001b[0;34m)\u001b[0m\u001b[0;34m\u001b[0m\u001b[0;34m\u001b[0m\u001b[0m\n\u001b[0m\u001b[1;32m     55\u001b[0m \u001b[0;34m\u001b[0m\u001b[0m\n\u001b[1;32m     56\u001b[0m     \u001b[0mxnd\u001b[0m \u001b[0;34m=\u001b[0m \u001b[0mx\u001b[0m\u001b[0;34m.\u001b[0m\u001b[0mndimension\u001b[0m\u001b[0;34m(\u001b[0m\u001b[0;34m)\u001b[0m\u001b[0;34m\u001b[0m\u001b[0;34m\u001b[0m\u001b[0m\n",
      "\u001b[0;32m/usr/local/lib/python3.7/dist-packages/torch/functional.py\u001b[0m in \u001b[0;36mtensordot\u001b[0;34m(a, b, dims)\u001b[0m\n\u001b[1;32m    934\u001b[0m         \u001b[0mdims_a\u001b[0m \u001b[0;34m=\u001b[0m \u001b[0mlist\u001b[0m\u001b[0;34m(\u001b[0m\u001b[0mrange\u001b[0m\u001b[0;34m(\u001b[0m\u001b[0;34m-\u001b[0m\u001b[0mdims\u001b[0m\u001b[0;34m,\u001b[0m \u001b[0;36m0\u001b[0m\u001b[0;34m)\u001b[0m\u001b[0;34m)\u001b[0m\u001b[0;34m\u001b[0m\u001b[0;34m\u001b[0m\u001b[0m\n\u001b[1;32m    935\u001b[0m         \u001b[0mdims_b\u001b[0m \u001b[0;34m=\u001b[0m \u001b[0mlist\u001b[0m\u001b[0;34m(\u001b[0m\u001b[0mrange\u001b[0m\u001b[0;34m(\u001b[0m\u001b[0mdims\u001b[0m\u001b[0;34m)\u001b[0m\u001b[0;34m)\u001b[0m\u001b[0;34m\u001b[0m\u001b[0;34m\u001b[0m\u001b[0m\n\u001b[0;32m--> 936\u001b[0;31m     \u001b[0;32mreturn\u001b[0m \u001b[0m_VF\u001b[0m\u001b[0;34m.\u001b[0m\u001b[0mtensordot\u001b[0m\u001b[0;34m(\u001b[0m\u001b[0ma\u001b[0m\u001b[0;34m,\u001b[0m \u001b[0mb\u001b[0m\u001b[0;34m,\u001b[0m \u001b[0mdims_a\u001b[0m\u001b[0;34m,\u001b[0m \u001b[0mdims_b\u001b[0m\u001b[0;34m)\u001b[0m  \u001b[0;31m# type: ignore\u001b[0m\u001b[0;34m\u001b[0m\u001b[0;34m\u001b[0m\u001b[0m\n\u001b[0m\u001b[1;32m    937\u001b[0m \u001b[0;34m\u001b[0m\u001b[0m\n\u001b[1;32m    938\u001b[0m \u001b[0;32mdef\u001b[0m \u001b[0mcartesian_prod\u001b[0m\u001b[0;34m(\u001b[0m\u001b[0;34m*\u001b[0m\u001b[0mtensors\u001b[0m\u001b[0;34m)\u001b[0m\u001b[0;34m:\u001b[0m\u001b[0;34m\u001b[0m\u001b[0;34m\u001b[0m\u001b[0m\n",
      "\u001b[0;31mKeyboardInterrupt\u001b[0m: "
     ]
    }
   ],
   "source": [
    "sc = sf.SlicedContractor([*small_cores])\n",
    "result = sum(sc.contract_slice(i) for i in tqdm.trange(sc.nslices))\n",
    "# 100%|██████████| 512/512 [00:55<00:00,  9.30it/s]"
   ]
  },
  {
   "cell_type": "code",
   "execution_count": 7,
   "metadata": {
    "hidden": true
   },
   "outputs": [],
   "source": [
    "import torch\n",
    "import opt_einsum as oe"
   ]
  },
  {
   "cell_type": "code",
   "execution_count": null,
   "metadata": {
    "hidden": true,
    "scrolled": true
   },
   "outputs": [
    {
     "name": "stdout",
     "output_type": "stream",
     "text": [
      "[(0, 8), (0, 7), (0, 7), (0, 6), (0, 5), (0, 4), (0, 3), (1, 2), (0, 1), (0, 9), (0, 8), (0, 8), (0, 7), (0, 6), (1, 5), (1, 4), (1, 3), (1, 4), (3, 13), (7, 12), (3, 11), (3, 10), (3, 9), (3, 8), (6, 7), (3, 6), (3, 5), (3, 4), (2, 6), (2, 10), (1, 11), (4, 11), (0, 13), (5, 12), (5, 12), (6, 12), (5, 12), (6, 11), (6, 11), (6, 12), (4, 12), (6, 13), (7, 14), (7, 13), (4, 12), (6, 11), (6, 11), (6, 10), (6, 10), (0, 11), (0, 11), (5, 10), (0, 9), (4, 9), (2, 9), (1, 8), (3, 7), (3, 7), (3, 9), (3, 9), (3, 10), (3, 10), (3, 9), (3, 8), (1, 7), (2, 6), (6, 7), (2, 6), (2, 5), (2, 5), (5, 17), (6, 18), (12, 21), (4, 23), (13, 22), (4, 21), (15, 23), (10, 23), (10, 22), (7, 27), (11, 27), (11, 27), (11, 26), (7, 29), (9, 29), (8, 28), (15, 29), (7, 28), (13, 29), (6, 31), (6, 30), (13, 29), (16, 29), (1, 20), (21, 26), (21, 25), (6, 24), (15, 30), (15, 29), (8, 28), (10, 27), (6, 27), (10, 26), (8, 25), (9, 24), (5, 23), (2, 21), (10, 25), (5, 24), (2, 23), (1, 33), (1, 21), (0, 31), (2, 19), (4, 21), (5, 10), (7, 9), (4, 20), (1, 19), (0, 20), (14, 15), (6, 10), (3, 9), (2, 9), (5, 15), (0, 13), (6, 9), (5, 8), (4, 13), (3, 13), (1, 8), (1, 12), (0, 6), (1, 10), (3, 9), (7, 8), (3, 7), (0, 6), (2, 5), (3, 4), (2, 3), (0, 2), (0, 1)]\n"
     ]
    }
   ],
   "source": [
    "tensor = torch.randn(12,12,4,4,4,4)/2\n",
    "#tensor     = torch.randn(2,2,16,16,16,16)/10\n",
    "computer_vie_tn(tensor)"
   ]
  },
  {
   "cell_type": "markdown",
   "metadata": {},
   "source": [
    "### arbitary partition"
   ]
  },
  {
   "cell_type": "markdown",
   "metadata": {
    "heading_collapsed": true
   },
   "source": [
    "##### generate json file"
   ]
  },
  {
   "cell_type": "code",
   "execution_count": 22,
   "metadata": {
    "hidden": true
   },
   "outputs": [],
   "source": [
    "from models.arbitary_shape.shapes_list import shape_24x24_1"
   ]
  },
  {
   "cell_type": "code",
   "execution_count": 5,
   "metadata": {
    "hidden": true
   },
   "outputs": [],
   "source": [
    "from mltool.visualization import *"
   ]
  },
  {
   "cell_type": "code",
   "execution_count": 23,
   "metadata": {
    "code_folding": [
     5
    ],
    "hidden": true
   },
   "outputs": [],
   "source": [
    "info_per_point = {}\n",
    "info_per_group = {}\n",
    "for i,line in enumerate(shape_24x24_1):\n",
    "    for j,val in enumerate(line):\n",
    "        info_per_point[(i,j)] = {'val':val}\n",
    "def search_for(pos,group=None):\n",
    "    i,j = pos\n",
    "    val = info_per_point[pos]['val']\n",
    "    if 'group' not in info_per_point[pos]:\n",
    "        if group is None:group=len(info_per_group)\n",
    "        info_per_point[pos]['group']=group\n",
    "        if group not in info_per_group:info_per_group[group]={'element':[],'neighbor':set()}\n",
    "        info_per_group[group]['element'].append((i,j))\n",
    "        for neighbor in [(i-1,j),(i+1,j),(i,j-1),(i,j+1)]:    \n",
    "            if (neighbor in info_per_point):\n",
    "                neighbor_val = info_per_point[neighbor]['val']\n",
    "                if ('group' not in info_per_point[neighbor]) and (val == neighbor_val):\n",
    "                    search_for(neighbor,group)"
   ]
  },
  {
   "cell_type": "code",
   "execution_count": 24,
   "metadata": {
    "hidden": true
   },
   "outputs": [],
   "source": [
    "for i,line in enumerate(shape_24x24_1):\n",
    "    for j,val in enumerate(line):\n",
    "        search_for((i,j))"
   ]
  },
  {
   "cell_type": "code",
   "execution_count": 25,
   "metadata": {
    "code_folding": [],
    "hidden": true,
    "scrolled": false
   },
   "outputs": [],
   "source": [
    "info_per_line={}\n",
    "for i,line in enumerate(shape_24x24_1):\n",
    "    for j,val in enumerate(line):\n",
    "        group_now = info_per_point[(i,j)]['group']\n",
    "        for neighbor in [(i-1,j),(i+1,j),(i,j-1),(i+1)]:\n",
    "            if neighbor in info_per_point:\n",
    "                neighbor_group = info_per_point[neighbor]['group']\n",
    "                if neighbor_group!=group_now:\n",
    "                    info_per_group[group_now]['neighbor']=info_per_group[group_now]['neighbor']|set([neighbor_group])\n",
    "                    line_tuple = [group_now,neighbor_group]\n",
    "                    line_tuple.sort() \n",
    "                    line_tuple= tuple(line_tuple)\n",
    "                    if line_tuple not in info_per_line:\n",
    "                        info_per_line[line_tuple]={\"element\":[]}\n",
    "                    linepos=[(i,j),neighbor]\n",
    "                    linepos.sort() \n",
    "                    info_per_line[line_tuple][\"element\"].append(linepos)"
   ]
  },
  {
   "cell_type": "code",
   "execution_count": 26,
   "metadata": {
    "code_folding": [],
    "hidden": true
   },
   "outputs": [],
   "source": [
    "center = np.array([(0+23)/2,(0+23)/2]) \n",
    "for line,pool in info_per_line.items():\n",
    "    start_pos=np.array([a for a,b in pool['element']])\n",
    "    ended_pos=np.array([b for a,b in pool['element']])\n",
    "    start_pos=np.mean(start_pos,0)\n",
    "    ended_pos=np.mean(ended_pos,0)\n",
    "    centr_pos=(start_pos + ended_pos)/2\n",
    "    \n",
    "    info_per_line[line]['weight']    = np.linalg.norm(centr_pos-center)\n",
    "    info_per_line[line]['start_pos'] = list(start_pos)\n",
    "    info_per_line[line]['ended_pos'] = list(ended_pos)\n",
    "    info_per_line[line]['centr_pos'] = list(centr_pos)"
   ]
  },
  {
   "cell_type": "code",
   "execution_count": 27,
   "metadata": {
    "hidden": true
   },
   "outputs": [],
   "source": [
    "MAX_Dimension = 12\n",
    "MIN_Dimension = 3\n",
    "weight_list  = [val['weight'] for val in info_per_line.values()]\n",
    "max_distance = max(weight_list)\n",
    "min_distance = min(weight_list)\n",
    "Dimenstion_function = lambda x : np.floor((MIN_Dimension-MAX_Dimension)/(max_distance-min_distance)*(x-min_distance)+MAX_Dimension)\n",
    "\n",
    "for line,pool in info_per_line.items():\n",
    "    info_per_line[line]['D']    = Dimenstion_function(info_per_line[line]['weight'])\n",
    "\n",
    "for group in info_per_group.keys():\n",
    "    info_per_group[group]['neighbor']=list(info_per_group[group]['neighbor'])\n",
    "\n",
    "for group,info in info_per_group.items():\n",
    "    info_per_group[group]['element_idx']=np.ravel_multi_index(np.array(info['element']).transpose(),(24,24)).tolist()"
   ]
  },
  {
   "cell_type": "code",
   "execution_count": 32,
   "metadata": {
    "hidden": true
   },
   "outputs": [],
   "source": [
    "import torch\n",
    "\n",
    "arbitary_shape_state_dict={}\n",
    "arbitary_shape_state_dict['node']   =info_per_group\n",
    "arbitary_shape_state_dict['line']   =info_per_line\n",
    "arbitary_shape_state_dict['element']=info_per_point\n",
    "torch.save(arbitary_shape_state_dict,\"models/arbitary_shape/arbitary_shape_2.json\")"
   ]
  },
  {
   "cell_type": "markdown",
   "metadata": {
    "code_folding": [],
    "heading_collapsed": true
   },
   "source": [
    "##### plot"
   ]
  },
  {
   "cell_type": "code",
   "execution_count": 86,
   "metadata": {
    "hidden": true
   },
   "outputs": [],
   "source": [
    "import plotly.graph_objects as go\n",
    "import numpy as np"
   ]
  },
  {
   "cell_type": "code",
   "execution_count": 87,
   "metadata": {
    "code_folding": [
     12
    ],
    "hidden": true
   },
   "outputs": [],
   "source": [
    "objects = []\n",
    "offsite = 0.5\n",
    "scalar  = 4\n",
    "for (g_l,g_r), pool in info_per_line.items():\n",
    "    start_pos=pool['start_pos']\n",
    "    ended_pos=pool['ended_pos']\n",
    "    D = pool['D']\n",
    "    x0,y0  = scalar*start_pos\n",
    "    x1,y1  = scalar*ended_pos\n",
    "    objects.append(go.Scatter(x=[x0,x1],y=[y0,y1],mode='lines', fill=\"toself\",\n",
    "                          text=f\"D={D}\",hoveron='points',hoverinfo='text'\n",
    "                             )\n",
    "                  )\n",
    "\n",
    "for group, pool in info_per_group.items():\n",
    "    xes,yes=np.array(pool['element']).transpose()\n",
    "    w = max(xes)-min(xes)\n",
    "    h = max(yes)-min(yes)\n",
    "    c_x = xes.mean()\n",
    "    c_y = yes.mean()\n",
    "    x0  = scalar*min(xes)-offsite\n",
    "    x1  = scalar*max(xes)+offsite\n",
    "    y0  = scalar*min(yes)-offsite\n",
    "    y1  = scalar*max(yes)+offsite\n",
    "    objects.append(go.Scatter(x=[x0,x0,x1,x1,x0],y=[y0,y1,y1,y0,y0],mode='lines',fill=\"toself\",\n",
    "                               hoveron='fills',hoverinfo='text',text=f\"G={group}\",\n",
    "                              ))\n",
    "\n",
    "\n"
   ]
  },
  {
   "cell_type": "code",
   "execution_count": 92,
   "metadata": {
    "code_folding": [],
    "hidden": true,
    "scrolled": true
   },
   "outputs": [
    {
     "data": {
      "application/vnd.plotly.v1+json": {
       "config": {
        "plotlyServerURL": "https://plot.ly"
       },
       "data": [
        {
         "fill": "toself",
         "hoverinfo": "text",
         "hoveron": "points",
         "mode": "lines",
         "text": "D=2.0",
         "type": "scatter",
         "x": [
          12,
          12
         ],
         "y": [
          20,
          24
         ]
        },
        {
         "fill": "toself",
         "hoverinfo": "text",
         "hoveron": "points",
         "mode": "lines",
         "text": "D=2.0",
         "type": "scatter",
         "x": [
          2,
          2
         ],
         "y": [
          28,
          32
         ]
        },
        {
         "fill": "toself",
         "hoverinfo": "text",
         "hoveron": "points",
         "mode": "lines",
         "text": "D=2.0",
         "type": "scatter",
         "x": [
          2,
          2
         ],
         "y": [
          60,
          64
         ]
        },
        {
         "fill": "toself",
         "hoverinfo": "text",
         "hoveron": "points",
         "mode": "lines",
         "text": "D=2.0",
         "type": "scatter",
         "x": [
          12,
          12
         ],
         "y": [
          68,
          72
         ]
        },
        {
         "fill": "toself",
         "hoverinfo": "text",
         "hoveron": "points",
         "mode": "lines",
         "text": "D=3.0",
         "type": "scatter",
         "x": [
          4,
          8
         ],
         "y": [
          46,
          46
         ]
        },
        {
         "fill": "toself",
         "hoverinfo": "text",
         "hoveron": "points",
         "mode": "lines",
         "text": "D=3.0",
         "type": "scatter",
         "x": [
          10,
          10
         ],
         "y": [
          28,
          32
         ]
        },
        {
         "fill": "toself",
         "hoverinfo": "text",
         "hoveron": "points",
         "mode": "lines",
         "text": "D=3.0",
         "type": "scatter",
         "x": [
          10,
          10
         ],
         "y": [
          60,
          64
         ]
        },
        {
         "fill": "toself",
         "hoverinfo": "text",
         "hoveron": "points",
         "mode": "lines",
         "text": "D=4.0",
         "type": "scatter",
         "x": [
          12,
          16
         ],
         "y": [
          36,
          36
         ]
        },
        {
         "fill": "toself",
         "hoverinfo": "text",
         "hoveron": "points",
         "mode": "lines",
         "text": "D=4.0",
         "type": "scatter",
         "x": [
          12,
          16
         ],
         "y": [
          46,
          46
         ]
        },
        {
         "fill": "toself",
         "hoverinfo": "text",
         "hoveron": "points",
         "mode": "lines",
         "text": "D=4.0",
         "type": "scatter",
         "x": [
          12,
          16
         ],
         "y": [
          56,
          56
         ]
        },
        {
         "fill": "toself",
         "hoverinfo": "text",
         "hoveron": "points",
         "mode": "lines",
         "text": "D=4.0",
         "type": "scatter",
         "x": [
          20,
          20
         ],
         "y": [
          28,
          32
         ]
        },
        {
         "fill": "toself",
         "hoverinfo": "text",
         "hoveron": "points",
         "mode": "lines",
         "text": "D=4.0",
         "type": "scatter",
         "x": [
          20,
          20
         ],
         "y": [
          40,
          44
         ]
        },
        {
         "fill": "toself",
         "hoverinfo": "text",
         "hoveron": "points",
         "mode": "lines",
         "text": "D=4.0",
         "type": "scatter",
         "x": [
          20,
          20
         ],
         "y": [
          48,
          52
         ]
        },
        {
         "fill": "toself",
         "hoverinfo": "text",
         "hoveron": "points",
         "mode": "lines",
         "text": "D=4.0",
         "type": "scatter",
         "x": [
          20,
          20
         ],
         "y": [
          60,
          64
         ]
        },
        {
         "fill": "toself",
         "hoverinfo": "text",
         "hoveron": "points",
         "mode": "lines",
         "text": "D=2.0",
         "type": "scatter",
         "x": [
          24,
          28
         ],
         "y": [
          4,
          4
         ]
        },
        {
         "fill": "toself",
         "hoverinfo": "text",
         "hoveron": "points",
         "mode": "lines",
         "text": "D=3.0",
         "type": "scatter",
         "x": [
          24,
          28
         ],
         "y": [
          14,
          14
         ]
        },
        {
         "fill": "toself",
         "hoverinfo": "text",
         "hoveron": "points",
         "mode": "lines",
         "text": "D=4.0",
         "type": "scatter",
         "x": [
          24,
          28
         ],
         "y": [
          20,
          20
         ]
        },
        {
         "fill": "toself",
         "hoverinfo": "text",
         "hoveron": "points",
         "mode": "lines",
         "text": "D=4.0",
         "type": "scatter",
         "x": [
          24,
          28
         ],
         "y": [
          26,
          26
         ]
        },
        {
         "fill": "toself",
         "hoverinfo": "text",
         "hoveron": "points",
         "mode": "lines",
         "text": "D=5.0",
         "type": "scatter",
         "x": [
          24,
          28
         ],
         "y": [
          32,
          32
         ]
        },
        {
         "fill": "toself",
         "hoverinfo": "text",
         "hoveron": "points",
         "mode": "lines",
         "text": "D=5.0",
         "type": "scatter",
         "x": [
          24,
          28
         ],
         "y": [
          38,
          38
         ]
        },
        {
         "fill": "toself",
         "hoverinfo": "text",
         "hoveron": "points",
         "mode": "lines",
         "text": "D=5.0",
         "type": "scatter",
         "x": [
          24,
          28
         ],
         "y": [
          46,
          46
         ]
        },
        {
         "fill": "toself",
         "hoverinfo": "text",
         "hoveron": "points",
         "mode": "lines",
         "text": "D=5.0",
         "type": "scatter",
         "x": [
          24,
          28
         ],
         "y": [
          54,
          54
         ]
        },
        {
         "fill": "toself",
         "hoverinfo": "text",
         "hoveron": "points",
         "mode": "lines",
         "text": "D=5.0",
         "type": "scatter",
         "x": [
          24,
          28
         ],
         "y": [
          60,
          60
         ]
        },
        {
         "fill": "toself",
         "hoverinfo": "text",
         "hoveron": "points",
         "mode": "lines",
         "text": "D=4.0",
         "type": "scatter",
         "x": [
          24,
          28
         ],
         "y": [
          66,
          66
         ]
        },
        {
         "fill": "toself",
         "hoverinfo": "text",
         "hoveron": "points",
         "mode": "lines",
         "text": "D=4.0",
         "type": "scatter",
         "x": [
          24,
          28
         ],
         "y": [
          72,
          72
         ]
        },
        {
         "fill": "toself",
         "hoverinfo": "text",
         "hoveron": "points",
         "mode": "lines",
         "text": "D=3.0",
         "type": "scatter",
         "x": [
          24,
          28
         ],
         "y": [
          78,
          78
         ]
        },
        {
         "fill": "toself",
         "hoverinfo": "text",
         "hoveron": "points",
         "mode": "lines",
         "text": "D=2.0",
         "type": "scatter",
         "x": [
          24,
          28
         ],
         "y": [
          88,
          88
         ]
        },
        {
         "fill": "toself",
         "hoverinfo": "text",
         "hoveron": "points",
         "mode": "lines",
         "text": "D=3.0",
         "type": "scatter",
         "x": [
          48,
          48
         ],
         "y": [
          8,
          12
         ]
        },
        {
         "fill": "toself",
         "hoverinfo": "text",
         "hoveron": "points",
         "mode": "lines",
         "text": "D=4.0",
         "type": "scatter",
         "x": [
          48,
          48
         ],
         "y": [
          16,
          20
         ]
        },
        {
         "fill": "toself",
         "hoverinfo": "text",
         "hoveron": "points",
         "mode": "lines",
         "text": "D=4.0",
         "type": "scatter",
         "x": [
          32,
          32
         ],
         "y": [
          20,
          24
         ]
        },
        {
         "fill": "toself",
         "hoverinfo": "text",
         "hoveron": "points",
         "mode": "lines",
         "text": "D=6.0",
         "type": "scatter",
         "x": [
          32,
          32
         ],
         "y": [
          32,
          36
         ]
        },
        {
         "fill": "toself",
         "hoverinfo": "text",
         "hoveron": "points",
         "mode": "lines",
         "text": "D=6.0",
         "type": "scatter",
         "x": [
          32,
          32
         ],
         "y": [
          40,
          44
         ]
        },
        {
         "fill": "toself",
         "hoverinfo": "text",
         "hoveron": "points",
         "mode": "lines",
         "text": "D=6.0",
         "type": "scatter",
         "x": [
          32,
          32
         ],
         "y": [
          48,
          52
         ]
        },
        {
         "fill": "toself",
         "hoverinfo": "text",
         "hoveron": "points",
         "mode": "lines",
         "text": "D=6.0",
         "type": "scatter",
         "x": [
          32,
          32
         ],
         "y": [
          56,
          60
         ]
        },
        {
         "fill": "toself",
         "hoverinfo": "text",
         "hoveron": "points",
         "mode": "lines",
         "text": "D=4.0",
         "type": "scatter",
         "x": [
          32,
          32
         ],
         "y": [
          68,
          72
         ]
        },
        {
         "fill": "toself",
         "hoverinfo": "text",
         "hoveron": "points",
         "mode": "lines",
         "text": "D=4.0",
         "type": "scatter",
         "x": [
          48,
          48
         ],
         "y": [
          72,
          76
         ]
        },
        {
         "fill": "toself",
         "hoverinfo": "text",
         "hoveron": "points",
         "mode": "lines",
         "text": "D=3.0",
         "type": "scatter",
         "x": [
          48,
          48
         ],
         "y": [
          80,
          84
         ]
        },
        {
         "fill": "toself",
         "hoverinfo": "text",
         "hoveron": "points",
         "mode": "lines",
         "text": "D=5.0",
         "type": "scatter",
         "x": [
          36,
          40
         ],
         "y": [
          26,
          26
         ]
        },
        {
         "fill": "toself",
         "hoverinfo": "text",
         "hoveron": "points",
         "mode": "lines",
         "text": "D=6.0",
         "type": "scatter",
         "x": [
          36,
          40
         ],
         "y": [
          32,
          32
         ]
        },
        {
         "fill": "toself",
         "hoverinfo": "text",
         "hoveron": "points",
         "mode": "lines",
         "text": "D=7.0",
         "type": "scatter",
         "x": [
          36,
          40
         ],
         "y": [
          38,
          38
         ]
        },
        {
         "fill": "toself",
         "hoverinfo": "text",
         "hoveron": "points",
         "mode": "lines",
         "text": "D=7.0",
         "type": "scatter",
         "x": [
          36,
          40
         ],
         "y": [
          46,
          46
         ]
        },
        {
         "fill": "toself",
         "hoverinfo": "text",
         "hoveron": "points",
         "mode": "lines",
         "text": "D=7.0",
         "type": "scatter",
         "x": [
          36,
          40
         ],
         "y": [
          54,
          54
         ]
        },
        {
         "fill": "toself",
         "hoverinfo": "text",
         "hoveron": "points",
         "mode": "lines",
         "text": "D=6.0",
         "type": "scatter",
         "x": [
          36,
          40
         ],
         "y": [
          60,
          60
         ]
        },
        {
         "fill": "toself",
         "hoverinfo": "text",
         "hoveron": "points",
         "mode": "lines",
         "text": "D=5.0",
         "type": "scatter",
         "x": [
          36,
          40
         ],
         "y": [
          66,
          66
         ]
        },
        {
         "fill": "toself",
         "hoverinfo": "text",
         "hoveron": "points",
         "mode": "lines",
         "text": "D=5.0",
         "type": "scatter",
         "x": [
          44,
          44
         ],
         "y": [
          20,
          24
         ]
        },
        {
         "fill": "toself",
         "hoverinfo": "text",
         "hoveron": "points",
         "mode": "lines",
         "text": "D=6.0",
         "type": "scatter",
         "x": [
          44,
          44
         ],
         "y": [
          28,
          32
         ]
        },
        {
         "fill": "toself",
         "hoverinfo": "text",
         "hoveron": "points",
         "mode": "lines",
         "text": "D=7.0",
         "type": "scatter",
         "x": [
          44,
          44
         ],
         "y": [
          40,
          44
         ]
        },
        {
         "fill": "toself",
         "hoverinfo": "text",
         "hoveron": "points",
         "mode": "lines",
         "text": "D=7.0",
         "type": "scatter",
         "x": [
          44,
          44
         ],
         "y": [
          48,
          52
         ]
        },
        {
         "fill": "toself",
         "hoverinfo": "text",
         "hoveron": "points",
         "mode": "lines",
         "text": "D=6.0",
         "type": "scatter",
         "x": [
          44,
          44
         ],
         "y": [
          60,
          64
         ]
        },
        {
         "fill": "toself",
         "hoverinfo": "text",
         "hoveron": "points",
         "mode": "lines",
         "text": "D=5.0",
         "type": "scatter",
         "x": [
          44,
          44
         ],
         "y": [
          68,
          72
         ]
        },
        {
         "fill": "toself",
         "hoverinfo": "text",
         "hoveron": "points",
         "mode": "lines",
         "text": "D=5.0",
         "type": "scatter",
         "x": [
          48,
          52
         ],
         "y": [
          26,
          26
         ]
        },
        {
         "fill": "toself",
         "hoverinfo": "text",
         "hoveron": "points",
         "mode": "lines",
         "text": "D=6.0",
         "type": "scatter",
         "x": [
          48,
          52
         ],
         "y": [
          32,
          32
         ]
        },
        {
         "fill": "toself",
         "hoverinfo": "text",
         "hoveron": "points",
         "mode": "lines",
         "text": "D=7.0",
         "type": "scatter",
         "x": [
          48,
          52
         ],
         "y": [
          38,
          38
         ]
        },
        {
         "fill": "toself",
         "hoverinfo": "text",
         "hoveron": "points",
         "mode": "lines",
         "text": "D=8.0",
         "type": "scatter",
         "x": [
          48,
          52
         ],
         "y": [
          46,
          46
         ]
        },
        {
         "fill": "toself",
         "hoverinfo": "text",
         "hoveron": "points",
         "mode": "lines",
         "text": "D=7.0",
         "type": "scatter",
         "x": [
          48,
          52
         ],
         "y": [
          54,
          54
         ]
        },
        {
         "fill": "toself",
         "hoverinfo": "text",
         "hoveron": "points",
         "mode": "lines",
         "text": "D=6.0",
         "type": "scatter",
         "x": [
          48,
          52
         ],
         "y": [
          60,
          60
         ]
        },
        {
         "fill": "toself",
         "hoverinfo": "text",
         "hoveron": "points",
         "mode": "lines",
         "text": "D=5.0",
         "type": "scatter",
         "x": [
          48,
          52
         ],
         "y": [
          66,
          66
         ]
        },
        {
         "fill": "toself",
         "hoverinfo": "text",
         "hoveron": "points",
         "mode": "lines",
         "text": "D=5.0",
         "type": "scatter",
         "x": [
          56,
          56
         ],
         "y": [
          20,
          24
         ]
        },
        {
         "fill": "toself",
         "hoverinfo": "text",
         "hoveron": "points",
         "mode": "lines",
         "text": "D=6.0",
         "type": "scatter",
         "x": [
          56,
          56
         ],
         "y": [
          32,
          36
         ]
        },
        {
         "fill": "toself",
         "hoverinfo": "text",
         "hoveron": "points",
         "mode": "lines",
         "text": "D=7.0",
         "type": "scatter",
         "x": [
          56,
          56
         ],
         "y": [
          40,
          44
         ]
        },
        {
         "fill": "toself",
         "hoverinfo": "text",
         "hoveron": "points",
         "mode": "lines",
         "text": "D=7.0",
         "type": "scatter",
         "x": [
          56,
          56
         ],
         "y": [
          48,
          52
         ]
        },
        {
         "fill": "toself",
         "hoverinfo": "text",
         "hoveron": "points",
         "mode": "lines",
         "text": "D=6.0",
         "type": "scatter",
         "x": [
          56,
          56
         ],
         "y": [
          56,
          60
         ]
        },
        {
         "fill": "toself",
         "hoverinfo": "text",
         "hoveron": "points",
         "mode": "lines",
         "text": "D=5.0",
         "type": "scatter",
         "x": [
          56,
          56
         ],
         "y": [
          68,
          72
         ]
        },
        {
         "fill": "toself",
         "hoverinfo": "text",
         "hoveron": "points",
         "mode": "lines",
         "text": "D=5.0",
         "type": "scatter",
         "x": [
          60,
          64
         ],
         "y": [
          26,
          26
         ]
        },
        {
         "fill": "toself",
         "hoverinfo": "text",
         "hoveron": "points",
         "mode": "lines",
         "text": "D=5.0",
         "type": "scatter",
         "x": [
          60,
          64
         ],
         "y": [
          32,
          32
         ]
        },
        {
         "fill": "toself",
         "hoverinfo": "text",
         "hoveron": "points",
         "mode": "lines",
         "text": "D=6.0",
         "type": "scatter",
         "x": [
          60,
          64
         ],
         "y": [
          38,
          38
         ]
        },
        {
         "fill": "toself",
         "hoverinfo": "text",
         "hoveron": "points",
         "mode": "lines",
         "text": "D=6.0",
         "type": "scatter",
         "x": [
          60,
          64
         ],
         "y": [
          46,
          46
         ]
        },
        {
         "fill": "toself",
         "hoverinfo": "text",
         "hoveron": "points",
         "mode": "lines",
         "text": "D=6.0",
         "type": "scatter",
         "x": [
          60,
          64
         ],
         "y": [
          54,
          54
         ]
        },
        {
         "fill": "toself",
         "hoverinfo": "text",
         "hoveron": "points",
         "mode": "lines",
         "text": "D=5.0",
         "type": "scatter",
         "x": [
          60,
          64
         ],
         "y": [
          60,
          60
         ]
        },
        {
         "fill": "toself",
         "hoverinfo": "text",
         "hoveron": "points",
         "mode": "lines",
         "text": "D=5.0",
         "type": "scatter",
         "x": [
          60,
          64
         ],
         "y": [
          66,
          66
         ]
        },
        {
         "fill": "toself",
         "hoverinfo": "text",
         "hoveron": "points",
         "mode": "lines",
         "text": "D=4.0",
         "type": "scatter",
         "x": [
          66,
          66
         ],
         "y": [
          20,
          24
         ]
        },
        {
         "fill": "toself",
         "hoverinfo": "text",
         "hoveron": "points",
         "mode": "lines",
         "text": "D=4.0",
         "type": "scatter",
         "x": [
          68,
          68
         ],
         "y": [
          28,
          32
         ]
        },
        {
         "fill": "toself",
         "hoverinfo": "text",
         "hoveron": "points",
         "mode": "lines",
         "text": "D=5.0",
         "type": "scatter",
         "x": [
          68,
          68
         ],
         "y": [
          40,
          44
         ]
        },
        {
         "fill": "toself",
         "hoverinfo": "text",
         "hoveron": "points",
         "mode": "lines",
         "text": "D=5.0",
         "type": "scatter",
         "x": [
          68,
          68
         ],
         "y": [
          48,
          52
         ]
        },
        {
         "fill": "toself",
         "hoverinfo": "text",
         "hoveron": "points",
         "mode": "lines",
         "text": "D=4.0",
         "type": "scatter",
         "x": [
          68,
          68
         ],
         "y": [
          60,
          64
         ]
        },
        {
         "fill": "toself",
         "hoverinfo": "text",
         "hoveron": "points",
         "mode": "lines",
         "text": "D=4.0",
         "type": "scatter",
         "x": [
          66,
          66
         ],
         "y": [
          68,
          72
         ]
        },
        {
         "fill": "toself",
         "hoverinfo": "text",
         "hoveron": "points",
         "mode": "lines",
         "text": "D=2.0",
         "type": "scatter",
         "x": [
          68,
          72
         ],
         "y": [
          4,
          4
         ]
        },
        {
         "fill": "toself",
         "hoverinfo": "text",
         "hoveron": "points",
         "mode": "lines",
         "text": "D=3.0",
         "type": "scatter",
         "x": [
          68,
          72
         ],
         "y": [
          14,
          14
         ]
        },
        {
         "fill": "toself",
         "hoverinfo": "text",
         "hoveron": "points",
         "mode": "lines",
         "text": "D=3.0",
         "type": "scatter",
         "x": [
          68,
          72
         ],
         "y": [
          20,
          20
         ]
        },
        {
         "fill": "toself",
         "hoverinfo": "text",
         "hoveron": "points",
         "mode": "lines",
         "text": "D=3.0",
         "type": "scatter",
         "x": [
          68,
          72
         ],
         "y": [
          72,
          72
         ]
        },
        {
         "fill": "toself",
         "hoverinfo": "text",
         "hoveron": "points",
         "mode": "lines",
         "text": "D=3.0",
         "type": "scatter",
         "x": [
          68,
          72
         ],
         "y": [
          78,
          78
         ]
        },
        {
         "fill": "toself",
         "hoverinfo": "text",
         "hoveron": "points",
         "mode": "lines",
         "text": "D=2.0",
         "type": "scatter",
         "x": [
          68,
          72
         ],
         "y": [
          88,
          88
         ]
        },
        {
         "fill": "toself",
         "hoverinfo": "text",
         "hoveron": "points",
         "mode": "lines",
         "text": "D=2.0",
         "type": "scatter",
         "x": [
          82,
          82
         ],
         "y": [
          20,
          24
         ]
        },
        {
         "fill": "toself",
         "hoverinfo": "text",
         "hoveron": "points",
         "mode": "lines",
         "text": "D=4.0",
         "type": "scatter",
         "x": [
          72,
          76
         ],
         "y": [
          36,
          36
         ]
        },
        {
         "fill": "toself",
         "hoverinfo": "text",
         "hoveron": "points",
         "mode": "lines",
         "text": "D=4.0",
         "type": "scatter",
         "x": [
          72,
          76
         ],
         "y": [
          46,
          46
         ]
        },
        {
         "fill": "toself",
         "hoverinfo": "text",
         "hoveron": "points",
         "mode": "lines",
         "text": "D=4.0",
         "type": "scatter",
         "x": [
          72,
          76
         ],
         "y": [
          56,
          56
         ]
        },
        {
         "fill": "toself",
         "hoverinfo": "text",
         "hoveron": "points",
         "mode": "lines",
         "text": "D=2.0",
         "type": "scatter",
         "x": [
          82,
          82
         ],
         "y": [
          68,
          72
         ]
        },
        {
         "fill": "toself",
         "hoverinfo": "text",
         "hoveron": "points",
         "mode": "lines",
         "text": "D=3.0",
         "type": "scatter",
         "x": [
          78,
          78
         ],
         "y": [
          28,
          32
         ]
        },
        {
         "fill": "toself",
         "hoverinfo": "text",
         "hoveron": "points",
         "mode": "lines",
         "text": "D=3.0",
         "type": "scatter",
         "x": [
          78,
          78
         ],
         "y": [
          60,
          64
         ]
        },
        {
         "fill": "toself",
         "hoverinfo": "text",
         "hoveron": "points",
         "mode": "lines",
         "text": "D=3.0",
         "type": "scatter",
         "x": [
          80,
          84
         ],
         "y": [
          46,
          46
         ]
        },
        {
         "fill": "toself",
         "hoverinfo": "text",
         "hoveron": "points",
         "mode": "lines",
         "text": "D=2.0",
         "type": "scatter",
         "x": [
          88,
          88
         ],
         "y": [
          28,
          32
         ]
        },
        {
         "fill": "toself",
         "hoverinfo": "text",
         "hoveron": "points",
         "mode": "lines",
         "text": "D=2.0",
         "type": "scatter",
         "x": [
          88,
          88
         ],
         "y": [
          60,
          64
         ]
        },
        {
         "fill": "toself",
         "hoverinfo": "text",
         "hoveron": "fills",
         "mode": "lines",
         "text": "G=0",
         "type": "scatter",
         "x": [
          -0.5,
          -0.5,
          24.5,
          24.5,
          -0.5
         ],
         "y": [
          -0.5,
          20.5,
          20.5,
          -0.5,
          -0.5
         ]
        },
        {
         "fill": "toself",
         "hoverinfo": "text",
         "hoveron": "fills",
         "mode": "lines",
         "text": "G=1",
         "type": "scatter",
         "x": [
          -0.5,
          -0.5,
          24.5,
          24.5,
          -0.5
         ],
         "y": [
          23.5,
          28.5,
          28.5,
          23.5,
          23.5
         ]
        },
        {
         "fill": "toself",
         "hoverinfo": "text",
         "hoveron": "fills",
         "mode": "lines",
         "text": "G=2",
         "type": "scatter",
         "x": [
          -0.5,
          -0.5,
          4.5,
          4.5,
          -0.5
         ],
         "y": [
          31.5,
          60.5,
          60.5,
          31.5,
          31.5
         ]
        },
        {
         "fill": "toself",
         "hoverinfo": "text",
         "hoveron": "fills",
         "mode": "lines",
         "text": "G=3",
         "type": "scatter",
         "x": [
          -0.5,
          -0.5,
          24.5,
          24.5,
          -0.5
         ],
         "y": [
          63.5,
          68.5,
          68.5,
          63.5,
          63.5
         ]
        },
        {
         "fill": "toself",
         "hoverinfo": "text",
         "hoveron": "fills",
         "mode": "lines",
         "text": "G=4",
         "type": "scatter",
         "x": [
          -0.5,
          -0.5,
          24.5,
          24.5,
          -0.5
         ],
         "y": [
          71.5,
          92.5,
          92.5,
          71.5,
          71.5
         ]
        },
        {
         "fill": "toself",
         "hoverinfo": "text",
         "hoveron": "fills",
         "mode": "lines",
         "text": "G=5",
         "type": "scatter",
         "x": [
          7.5,
          7.5,
          12.5,
          12.5,
          7.5
         ],
         "y": [
          31.5,
          60.5,
          60.5,
          31.5,
          31.5
         ]
        },
        {
         "fill": "toself",
         "hoverinfo": "text",
         "hoveron": "fills",
         "mode": "lines",
         "text": "G=6",
         "type": "scatter",
         "x": [
          15.5,
          15.5,
          24.5,
          24.5,
          15.5
         ],
         "y": [
          31.5,
          40.5,
          40.5,
          31.5,
          31.5
         ]
        },
        {
         "fill": "toself",
         "hoverinfo": "text",
         "hoveron": "fills",
         "mode": "lines",
         "text": "G=7",
         "type": "scatter",
         "x": [
          15.5,
          15.5,
          24.5,
          24.5,
          15.5
         ],
         "y": [
          43.5,
          48.5,
          48.5,
          43.5,
          43.5
         ]
        },
        {
         "fill": "toself",
         "hoverinfo": "text",
         "hoveron": "fills",
         "mode": "lines",
         "text": "G=8",
         "type": "scatter",
         "x": [
          15.5,
          15.5,
          24.5,
          24.5,
          15.5
         ],
         "y": [
          51.5,
          60.5,
          60.5,
          51.5,
          51.5
         ]
        },
        {
         "fill": "toself",
         "hoverinfo": "text",
         "hoveron": "fills",
         "mode": "lines",
         "text": "G=9",
         "type": "scatter",
         "x": [
          27.5,
          27.5,
          68.5,
          68.5,
          27.5
         ],
         "y": [
          -0.5,
          8.5,
          8.5,
          -0.5,
          -0.5
         ]
        },
        {
         "fill": "toself",
         "hoverinfo": "text",
         "hoveron": "fills",
         "mode": "lines",
         "text": "G=10",
         "type": "scatter",
         "x": [
          27.5,
          27.5,
          68.5,
          68.5,
          27.5
         ],
         "y": [
          11.5,
          16.5,
          16.5,
          11.5,
          11.5
         ]
        },
        {
         "fill": "toself",
         "hoverinfo": "text",
         "hoveron": "fills",
         "mode": "lines",
         "text": "G=11",
         "type": "scatter",
         "x": [
          27.5,
          27.5,
          68.5,
          68.5,
          27.5
         ],
         "y": [
          19.5,
          20.5,
          20.5,
          19.5,
          19.5
         ]
        },
        {
         "fill": "toself",
         "hoverinfo": "text",
         "hoveron": "fills",
         "mode": "lines",
         "text": "G=12",
         "type": "scatter",
         "x": [
          27.5,
          27.5,
          36.5,
          36.5,
          27.5
         ],
         "y": [
          23.5,
          32.5,
          32.5,
          23.5,
          23.5
         ]
        },
        {
         "fill": "toself",
         "hoverinfo": "text",
         "hoveron": "fills",
         "mode": "lines",
         "text": "G=13",
         "type": "scatter",
         "x": [
          27.5,
          27.5,
          36.5,
          36.5,
          27.5
         ],
         "y": [
          35.5,
          40.5,
          40.5,
          35.5,
          35.5
         ]
        },
        {
         "fill": "toself",
         "hoverinfo": "text",
         "hoveron": "fills",
         "mode": "lines",
         "text": "G=14",
         "type": "scatter",
         "x": [
          27.5,
          27.5,
          36.5,
          36.5,
          27.5
         ],
         "y": [
          43.5,
          48.5,
          48.5,
          43.5,
          43.5
         ]
        },
        {
         "fill": "toself",
         "hoverinfo": "text",
         "hoveron": "fills",
         "mode": "lines",
         "text": "G=15",
         "type": "scatter",
         "x": [
          27.5,
          27.5,
          36.5,
          36.5,
          27.5
         ],
         "y": [
          51.5,
          56.5,
          56.5,
          51.5,
          51.5
         ]
        },
        {
         "fill": "toself",
         "hoverinfo": "text",
         "hoveron": "fills",
         "mode": "lines",
         "text": "G=16",
         "type": "scatter",
         "x": [
          27.5,
          27.5,
          36.5,
          36.5,
          27.5
         ],
         "y": [
          59.5,
          68.5,
          68.5,
          59.5,
          59.5
         ]
        },
        {
         "fill": "toself",
         "hoverinfo": "text",
         "hoveron": "fills",
         "mode": "lines",
         "text": "G=17",
         "type": "scatter",
         "x": [
          27.5,
          27.5,
          68.5,
          68.5,
          27.5
         ],
         "y": [
          71.5,
          72.5,
          72.5,
          71.5,
          71.5
         ]
        },
        {
         "fill": "toself",
         "hoverinfo": "text",
         "hoveron": "fills",
         "mode": "lines",
         "text": "G=18",
         "type": "scatter",
         "x": [
          27.5,
          27.5,
          68.5,
          68.5,
          27.5
         ],
         "y": [
          75.5,
          80.5,
          80.5,
          75.5,
          75.5
         ]
        },
        {
         "fill": "toself",
         "hoverinfo": "text",
         "hoveron": "fills",
         "mode": "lines",
         "text": "G=19",
         "type": "scatter",
         "x": [
          27.5,
          27.5,
          68.5,
          68.5,
          27.5
         ],
         "y": [
          83.5,
          92.5,
          92.5,
          83.5,
          83.5
         ]
        },
        {
         "fill": "toself",
         "hoverinfo": "text",
         "hoveron": "fills",
         "mode": "lines",
         "text": "G=20",
         "type": "scatter",
         "x": [
          39.5,
          39.5,
          48.5,
          48.5,
          39.5
         ],
         "y": [
          23.5,
          28.5,
          28.5,
          23.5,
          23.5
         ]
        },
        {
         "fill": "toself",
         "hoverinfo": "text",
         "hoveron": "fills",
         "mode": "lines",
         "text": "G=21",
         "type": "scatter",
         "x": [
          39.5,
          39.5,
          48.5,
          48.5,
          39.5
         ],
         "y": [
          31.5,
          40.5,
          40.5,
          31.5,
          31.5
         ]
        },
        {
         "fill": "toself",
         "hoverinfo": "text",
         "hoveron": "fills",
         "mode": "lines",
         "text": "G=22",
         "type": "scatter",
         "x": [
          39.5,
          39.5,
          48.5,
          48.5,
          39.5
         ],
         "y": [
          43.5,
          48.5,
          48.5,
          43.5,
          43.5
         ]
        },
        {
         "fill": "toself",
         "hoverinfo": "text",
         "hoveron": "fills",
         "mode": "lines",
         "text": "G=23",
         "type": "scatter",
         "x": [
          39.5,
          39.5,
          48.5,
          48.5,
          39.5
         ],
         "y": [
          51.5,
          60.5,
          60.5,
          51.5,
          51.5
         ]
        },
        {
         "fill": "toself",
         "hoverinfo": "text",
         "hoveron": "fills",
         "mode": "lines",
         "text": "G=24",
         "type": "scatter",
         "x": [
          39.5,
          39.5,
          48.5,
          48.5,
          39.5
         ],
         "y": [
          63.5,
          68.5,
          68.5,
          63.5,
          63.5
         ]
        },
        {
         "fill": "toself",
         "hoverinfo": "text",
         "hoveron": "fills",
         "mode": "lines",
         "text": "G=25",
         "type": "scatter",
         "x": [
          51.5,
          51.5,
          60.5,
          60.5,
          51.5
         ],
         "y": [
          23.5,
          32.5,
          32.5,
          23.5,
          23.5
         ]
        },
        {
         "fill": "toself",
         "hoverinfo": "text",
         "hoveron": "fills",
         "mode": "lines",
         "text": "G=26",
         "type": "scatter",
         "x": [
          51.5,
          51.5,
          60.5,
          60.5,
          51.5
         ],
         "y": [
          35.5,
          40.5,
          40.5,
          35.5,
          35.5
         ]
        },
        {
         "fill": "toself",
         "hoverinfo": "text",
         "hoveron": "fills",
         "mode": "lines",
         "text": "G=27",
         "type": "scatter",
         "x": [
          51.5,
          51.5,
          60.5,
          60.5,
          51.5
         ],
         "y": [
          43.5,
          48.5,
          48.5,
          43.5,
          43.5
         ]
        },
        {
         "fill": "toself",
         "hoverinfo": "text",
         "hoveron": "fills",
         "mode": "lines",
         "text": "G=28",
         "type": "scatter",
         "x": [
          51.5,
          51.5,
          60.5,
          60.5,
          51.5
         ],
         "y": [
          51.5,
          56.5,
          56.5,
          51.5,
          51.5
         ]
        },
        {
         "fill": "toself",
         "hoverinfo": "text",
         "hoveron": "fills",
         "mode": "lines",
         "text": "G=29",
         "type": "scatter",
         "x": [
          51.5,
          51.5,
          60.5,
          60.5,
          51.5
         ],
         "y": [
          59.5,
          68.5,
          68.5,
          59.5,
          59.5
         ]
        },
        {
         "fill": "toself",
         "hoverinfo": "text",
         "hoveron": "fills",
         "mode": "lines",
         "text": "G=30",
         "type": "scatter",
         "x": [
          63.5,
          63.5,
          92.5,
          92.5,
          63.5
         ],
         "y": [
          23.5,
          28.5,
          28.5,
          23.5,
          23.5
         ]
        },
        {
         "fill": "toself",
         "hoverinfo": "text",
         "hoveron": "fills",
         "mode": "lines",
         "text": "G=31",
         "type": "scatter",
         "x": [
          63.5,
          63.5,
          72.5,
          72.5,
          63.5
         ],
         "y": [
          31.5,
          40.5,
          40.5,
          31.5,
          31.5
         ]
        },
        {
         "fill": "toself",
         "hoverinfo": "text",
         "hoveron": "fills",
         "mode": "lines",
         "text": "G=32",
         "type": "scatter",
         "x": [
          63.5,
          63.5,
          72.5,
          72.5,
          63.5
         ],
         "y": [
          43.5,
          48.5,
          48.5,
          43.5,
          43.5
         ]
        },
        {
         "fill": "toself",
         "hoverinfo": "text",
         "hoveron": "fills",
         "mode": "lines",
         "text": "G=33",
         "type": "scatter",
         "x": [
          63.5,
          63.5,
          72.5,
          72.5,
          63.5
         ],
         "y": [
          51.5,
          60.5,
          60.5,
          51.5,
          51.5
         ]
        },
        {
         "fill": "toself",
         "hoverinfo": "text",
         "hoveron": "fills",
         "mode": "lines",
         "text": "G=34",
         "type": "scatter",
         "x": [
          63.5,
          63.5,
          92.5,
          92.5,
          63.5
         ],
         "y": [
          63.5,
          68.5,
          68.5,
          63.5,
          63.5
         ]
        },
        {
         "fill": "toself",
         "hoverinfo": "text",
         "hoveron": "fills",
         "mode": "lines",
         "text": "G=35",
         "type": "scatter",
         "x": [
          71.5,
          71.5,
          92.5,
          92.5,
          71.5
         ],
         "y": [
          -0.5,
          20.5,
          20.5,
          -0.5,
          -0.5
         ]
        },
        {
         "fill": "toself",
         "hoverinfo": "text",
         "hoveron": "fills",
         "mode": "lines",
         "text": "G=36",
         "type": "scatter",
         "x": [
          71.5,
          71.5,
          92.5,
          92.5,
          71.5
         ],
         "y": [
          71.5,
          92.5,
          92.5,
          71.5,
          71.5
         ]
        },
        {
         "fill": "toself",
         "hoverinfo": "text",
         "hoveron": "fills",
         "mode": "lines",
         "text": "G=37",
         "type": "scatter",
         "x": [
          75.5,
          75.5,
          80.5,
          80.5,
          75.5
         ],
         "y": [
          31.5,
          60.5,
          60.5,
          31.5,
          31.5
         ]
        },
        {
         "fill": "toself",
         "hoverinfo": "text",
         "hoveron": "fills",
         "mode": "lines",
         "text": "G=38",
         "type": "scatter",
         "x": [
          83.5,
          83.5,
          92.5,
          92.5,
          83.5
         ],
         "y": [
          31.5,
          60.5,
          60.5,
          31.5,
          31.5
         ]
        }
       ],
       "layout": {
        "autosize": false,
        "height": 900,
        "hoverlabel": {
         "bgcolor": "white",
         "font": {
          "family": "Rockwell",
          "size": 16
         }
        },
        "plot_bgcolor": "white",
        "showlegend": false,
        "template": {
         "data": {
          "bar": [
           {
            "error_x": {
             "color": "#2a3f5f"
            },
            "error_y": {
             "color": "#2a3f5f"
            },
            "marker": {
             "line": {
              "color": "#E5ECF6",
              "width": 0.5
             }
            },
            "type": "bar"
           }
          ],
          "barpolar": [
           {
            "marker": {
             "line": {
              "color": "#E5ECF6",
              "width": 0.5
             }
            },
            "type": "barpolar"
           }
          ],
          "carpet": [
           {
            "aaxis": {
             "endlinecolor": "#2a3f5f",
             "gridcolor": "white",
             "linecolor": "white",
             "minorgridcolor": "white",
             "startlinecolor": "#2a3f5f"
            },
            "baxis": {
             "endlinecolor": "#2a3f5f",
             "gridcolor": "white",
             "linecolor": "white",
             "minorgridcolor": "white",
             "startlinecolor": "#2a3f5f"
            },
            "type": "carpet"
           }
          ],
          "choropleth": [
           {
            "colorbar": {
             "outlinewidth": 0,
             "ticks": ""
            },
            "type": "choropleth"
           }
          ],
          "contour": [
           {
            "colorbar": {
             "outlinewidth": 0,
             "ticks": ""
            },
            "colorscale": [
             [
              0,
              "#0d0887"
             ],
             [
              0.1111111111111111,
              "#46039f"
             ],
             [
              0.2222222222222222,
              "#7201a8"
             ],
             [
              0.3333333333333333,
              "#9c179e"
             ],
             [
              0.4444444444444444,
              "#bd3786"
             ],
             [
              0.5555555555555556,
              "#d8576b"
             ],
             [
              0.6666666666666666,
              "#ed7953"
             ],
             [
              0.7777777777777778,
              "#fb9f3a"
             ],
             [
              0.8888888888888888,
              "#fdca26"
             ],
             [
              1,
              "#f0f921"
             ]
            ],
            "type": "contour"
           }
          ],
          "contourcarpet": [
           {
            "colorbar": {
             "outlinewidth": 0,
             "ticks": ""
            },
            "type": "contourcarpet"
           }
          ],
          "heatmap": [
           {
            "colorbar": {
             "outlinewidth": 0,
             "ticks": ""
            },
            "colorscale": [
             [
              0,
              "#0d0887"
             ],
             [
              0.1111111111111111,
              "#46039f"
             ],
             [
              0.2222222222222222,
              "#7201a8"
             ],
             [
              0.3333333333333333,
              "#9c179e"
             ],
             [
              0.4444444444444444,
              "#bd3786"
             ],
             [
              0.5555555555555556,
              "#d8576b"
             ],
             [
              0.6666666666666666,
              "#ed7953"
             ],
             [
              0.7777777777777778,
              "#fb9f3a"
             ],
             [
              0.8888888888888888,
              "#fdca26"
             ],
             [
              1,
              "#f0f921"
             ]
            ],
            "type": "heatmap"
           }
          ],
          "heatmapgl": [
           {
            "colorbar": {
             "outlinewidth": 0,
             "ticks": ""
            },
            "colorscale": [
             [
              0,
              "#0d0887"
             ],
             [
              0.1111111111111111,
              "#46039f"
             ],
             [
              0.2222222222222222,
              "#7201a8"
             ],
             [
              0.3333333333333333,
              "#9c179e"
             ],
             [
              0.4444444444444444,
              "#bd3786"
             ],
             [
              0.5555555555555556,
              "#d8576b"
             ],
             [
              0.6666666666666666,
              "#ed7953"
             ],
             [
              0.7777777777777778,
              "#fb9f3a"
             ],
             [
              0.8888888888888888,
              "#fdca26"
             ],
             [
              1,
              "#f0f921"
             ]
            ],
            "type": "heatmapgl"
           }
          ],
          "histogram": [
           {
            "marker": {
             "colorbar": {
              "outlinewidth": 0,
              "ticks": ""
             }
            },
            "type": "histogram"
           }
          ],
          "histogram2d": [
           {
            "colorbar": {
             "outlinewidth": 0,
             "ticks": ""
            },
            "colorscale": [
             [
              0,
              "#0d0887"
             ],
             [
              0.1111111111111111,
              "#46039f"
             ],
             [
              0.2222222222222222,
              "#7201a8"
             ],
             [
              0.3333333333333333,
              "#9c179e"
             ],
             [
              0.4444444444444444,
              "#bd3786"
             ],
             [
              0.5555555555555556,
              "#d8576b"
             ],
             [
              0.6666666666666666,
              "#ed7953"
             ],
             [
              0.7777777777777778,
              "#fb9f3a"
             ],
             [
              0.8888888888888888,
              "#fdca26"
             ],
             [
              1,
              "#f0f921"
             ]
            ],
            "type": "histogram2d"
           }
          ],
          "histogram2dcontour": [
           {
            "colorbar": {
             "outlinewidth": 0,
             "ticks": ""
            },
            "colorscale": [
             [
              0,
              "#0d0887"
             ],
             [
              0.1111111111111111,
              "#46039f"
             ],
             [
              0.2222222222222222,
              "#7201a8"
             ],
             [
              0.3333333333333333,
              "#9c179e"
             ],
             [
              0.4444444444444444,
              "#bd3786"
             ],
             [
              0.5555555555555556,
              "#d8576b"
             ],
             [
              0.6666666666666666,
              "#ed7953"
             ],
             [
              0.7777777777777778,
              "#fb9f3a"
             ],
             [
              0.8888888888888888,
              "#fdca26"
             ],
             [
              1,
              "#f0f921"
             ]
            ],
            "type": "histogram2dcontour"
           }
          ],
          "mesh3d": [
           {
            "colorbar": {
             "outlinewidth": 0,
             "ticks": ""
            },
            "type": "mesh3d"
           }
          ],
          "parcoords": [
           {
            "line": {
             "colorbar": {
              "outlinewidth": 0,
              "ticks": ""
             }
            },
            "type": "parcoords"
           }
          ],
          "pie": [
           {
            "automargin": true,
            "type": "pie"
           }
          ],
          "scatter": [
           {
            "marker": {
             "colorbar": {
              "outlinewidth": 0,
              "ticks": ""
             }
            },
            "type": "scatter"
           }
          ],
          "scatter3d": [
           {
            "line": {
             "colorbar": {
              "outlinewidth": 0,
              "ticks": ""
             }
            },
            "marker": {
             "colorbar": {
              "outlinewidth": 0,
              "ticks": ""
             }
            },
            "type": "scatter3d"
           }
          ],
          "scattercarpet": [
           {
            "marker": {
             "colorbar": {
              "outlinewidth": 0,
              "ticks": ""
             }
            },
            "type": "scattercarpet"
           }
          ],
          "scattergeo": [
           {
            "marker": {
             "colorbar": {
              "outlinewidth": 0,
              "ticks": ""
             }
            },
            "type": "scattergeo"
           }
          ],
          "scattergl": [
           {
            "marker": {
             "colorbar": {
              "outlinewidth": 0,
              "ticks": ""
             }
            },
            "type": "scattergl"
           }
          ],
          "scattermapbox": [
           {
            "marker": {
             "colorbar": {
              "outlinewidth": 0,
              "ticks": ""
             }
            },
            "type": "scattermapbox"
           }
          ],
          "scatterpolar": [
           {
            "marker": {
             "colorbar": {
              "outlinewidth": 0,
              "ticks": ""
             }
            },
            "type": "scatterpolar"
           }
          ],
          "scatterpolargl": [
           {
            "marker": {
             "colorbar": {
              "outlinewidth": 0,
              "ticks": ""
             }
            },
            "type": "scatterpolargl"
           }
          ],
          "scatterternary": [
           {
            "marker": {
             "colorbar": {
              "outlinewidth": 0,
              "ticks": ""
             }
            },
            "type": "scatterternary"
           }
          ],
          "surface": [
           {
            "colorbar": {
             "outlinewidth": 0,
             "ticks": ""
            },
            "colorscale": [
             [
              0,
              "#0d0887"
             ],
             [
              0.1111111111111111,
              "#46039f"
             ],
             [
              0.2222222222222222,
              "#7201a8"
             ],
             [
              0.3333333333333333,
              "#9c179e"
             ],
             [
              0.4444444444444444,
              "#bd3786"
             ],
             [
              0.5555555555555556,
              "#d8576b"
             ],
             [
              0.6666666666666666,
              "#ed7953"
             ],
             [
              0.7777777777777778,
              "#fb9f3a"
             ],
             [
              0.8888888888888888,
              "#fdca26"
             ],
             [
              1,
              "#f0f921"
             ]
            ],
            "type": "surface"
           }
          ],
          "table": [
           {
            "cells": {
             "fill": {
              "color": "#EBF0F8"
             },
             "line": {
              "color": "white"
             }
            },
            "header": {
             "fill": {
              "color": "#C8D4E3"
             },
             "line": {
              "color": "white"
             }
            },
            "type": "table"
           }
          ]
         },
         "layout": {
          "annotationdefaults": {
           "arrowcolor": "#2a3f5f",
           "arrowhead": 0,
           "arrowwidth": 1
          },
          "autotypenumbers": "strict",
          "coloraxis": {
           "colorbar": {
            "outlinewidth": 0,
            "ticks": ""
           }
          },
          "colorscale": {
           "diverging": [
            [
             0,
             "#8e0152"
            ],
            [
             0.1,
             "#c51b7d"
            ],
            [
             0.2,
             "#de77ae"
            ],
            [
             0.3,
             "#f1b6da"
            ],
            [
             0.4,
             "#fde0ef"
            ],
            [
             0.5,
             "#f7f7f7"
            ],
            [
             0.6,
             "#e6f5d0"
            ],
            [
             0.7,
             "#b8e186"
            ],
            [
             0.8,
             "#7fbc41"
            ],
            [
             0.9,
             "#4d9221"
            ],
            [
             1,
             "#276419"
            ]
           ],
           "sequential": [
            [
             0,
             "#0d0887"
            ],
            [
             0.1111111111111111,
             "#46039f"
            ],
            [
             0.2222222222222222,
             "#7201a8"
            ],
            [
             0.3333333333333333,
             "#9c179e"
            ],
            [
             0.4444444444444444,
             "#bd3786"
            ],
            [
             0.5555555555555556,
             "#d8576b"
            ],
            [
             0.6666666666666666,
             "#ed7953"
            ],
            [
             0.7777777777777778,
             "#fb9f3a"
            ],
            [
             0.8888888888888888,
             "#fdca26"
            ],
            [
             1,
             "#f0f921"
            ]
           ],
           "sequentialminus": [
            [
             0,
             "#0d0887"
            ],
            [
             0.1111111111111111,
             "#46039f"
            ],
            [
             0.2222222222222222,
             "#7201a8"
            ],
            [
             0.3333333333333333,
             "#9c179e"
            ],
            [
             0.4444444444444444,
             "#bd3786"
            ],
            [
             0.5555555555555556,
             "#d8576b"
            ],
            [
             0.6666666666666666,
             "#ed7953"
            ],
            [
             0.7777777777777778,
             "#fb9f3a"
            ],
            [
             0.8888888888888888,
             "#fdca26"
            ],
            [
             1,
             "#f0f921"
            ]
           ]
          },
          "colorway": [
           "#636efa",
           "#EF553B",
           "#00cc96",
           "#ab63fa",
           "#FFA15A",
           "#19d3f3",
           "#FF6692",
           "#B6E880",
           "#FF97FF",
           "#FECB52"
          ],
          "font": {
           "color": "#2a3f5f"
          },
          "geo": {
           "bgcolor": "white",
           "lakecolor": "white",
           "landcolor": "#E5ECF6",
           "showlakes": true,
           "showland": true,
           "subunitcolor": "white"
          },
          "hoverlabel": {
           "align": "left"
          },
          "hovermode": "closest",
          "mapbox": {
           "style": "light"
          },
          "paper_bgcolor": "white",
          "plot_bgcolor": "#E5ECF6",
          "polar": {
           "angularaxis": {
            "gridcolor": "white",
            "linecolor": "white",
            "ticks": ""
           },
           "bgcolor": "#E5ECF6",
           "radialaxis": {
            "gridcolor": "white",
            "linecolor": "white",
            "ticks": ""
           }
          },
          "scene": {
           "xaxis": {
            "backgroundcolor": "#E5ECF6",
            "gridcolor": "white",
            "gridwidth": 2,
            "linecolor": "white",
            "showbackground": true,
            "ticks": "",
            "zerolinecolor": "white"
           },
           "yaxis": {
            "backgroundcolor": "#E5ECF6",
            "gridcolor": "white",
            "gridwidth": 2,
            "linecolor": "white",
            "showbackground": true,
            "ticks": "",
            "zerolinecolor": "white"
           },
           "zaxis": {
            "backgroundcolor": "#E5ECF6",
            "gridcolor": "white",
            "gridwidth": 2,
            "linecolor": "white",
            "showbackground": true,
            "ticks": "",
            "zerolinecolor": "white"
           }
          },
          "shapedefaults": {
           "line": {
            "color": "#2a3f5f"
           }
          },
          "ternary": {
           "aaxis": {
            "gridcolor": "white",
            "linecolor": "white",
            "ticks": ""
           },
           "baxis": {
            "gridcolor": "white",
            "linecolor": "white",
            "ticks": ""
           },
           "bgcolor": "#E5ECF6",
           "caxis": {
            "gridcolor": "white",
            "linecolor": "white",
            "ticks": ""
           }
          },
          "title": {
           "x": 0.05
          },
          "xaxis": {
           "automargin": true,
           "gridcolor": "white",
           "linecolor": "white",
           "ticks": "",
           "title": {
            "standoff": 15
           },
           "zerolinecolor": "white",
           "zerolinewidth": 2
          },
          "yaxis": {
           "automargin": true,
           "gridcolor": "white",
           "linecolor": "white",
           "ticks": "",
           "title": {
            "standoff": 15
           },
           "zerolinecolor": "white",
           "zerolinewidth": 2
          }
         }
        },
        "width": 900,
        "xaxis": {
         "fixedrange": true,
         "showgrid": false,
         "showline": false,
         "showticklabels": false,
         "zeroline": false
        },
        "yaxis": {
         "scaleanchor": "x",
         "scaleratio": 1,
         "showgrid": false,
         "showline": false,
         "showticklabels": false,
         "zeroline": false
        }
       }
      },
      "text/html": [
       "<div>                            <div id=\"0340e75a-b75d-42b7-bd95-945d9a681b86\" class=\"plotly-graph-div\" style=\"height:900px; width:900px;\"></div>            <script type=\"text/javascript\">                require([\"plotly\"], function(Plotly) {                    window.PLOTLYENV=window.PLOTLYENV || {};                                    if (document.getElementById(\"0340e75a-b75d-42b7-bd95-945d9a681b86\")) {                    Plotly.newPlot(                        \"0340e75a-b75d-42b7-bd95-945d9a681b86\",                        [{\"fill\": \"toself\", \"hoverinfo\": \"text\", \"hoveron\": \"points\", \"mode\": \"lines\", \"text\": \"D=2.0\", \"type\": \"scatter\", \"x\": [12.0, 12.0], \"y\": [20.0, 24.0]}, {\"fill\": \"toself\", \"hoverinfo\": \"text\", \"hoveron\": \"points\", \"mode\": \"lines\", \"text\": \"D=2.0\", \"type\": \"scatter\", \"x\": [2.0, 2.0], \"y\": [28.0, 32.0]}, {\"fill\": \"toself\", \"hoverinfo\": \"text\", \"hoveron\": \"points\", \"mode\": \"lines\", \"text\": \"D=2.0\", \"type\": \"scatter\", \"x\": [2.0, 2.0], \"y\": [60.0, 64.0]}, {\"fill\": \"toself\", \"hoverinfo\": \"text\", \"hoveron\": \"points\", \"mode\": \"lines\", \"text\": \"D=2.0\", \"type\": \"scatter\", \"x\": [12.0, 12.0], \"y\": [68.0, 72.0]}, {\"fill\": \"toself\", \"hoverinfo\": \"text\", \"hoveron\": \"points\", \"mode\": \"lines\", \"text\": \"D=3.0\", \"type\": \"scatter\", \"x\": [4.0, 8.0], \"y\": [46.0, 46.0]}, {\"fill\": \"toself\", \"hoverinfo\": \"text\", \"hoveron\": \"points\", \"mode\": \"lines\", \"text\": \"D=3.0\", \"type\": \"scatter\", \"x\": [10.0, 10.0], \"y\": [28.0, 32.0]}, {\"fill\": \"toself\", \"hoverinfo\": \"text\", \"hoveron\": \"points\", \"mode\": \"lines\", \"text\": \"D=3.0\", \"type\": \"scatter\", \"x\": [10.0, 10.0], \"y\": [60.0, 64.0]}, {\"fill\": \"toself\", \"hoverinfo\": \"text\", \"hoveron\": \"points\", \"mode\": \"lines\", \"text\": \"D=4.0\", \"type\": \"scatter\", \"x\": [12.0, 16.0], \"y\": [36.0, 36.0]}, {\"fill\": \"toself\", \"hoverinfo\": \"text\", \"hoveron\": \"points\", \"mode\": \"lines\", \"text\": \"D=4.0\", \"type\": \"scatter\", \"x\": [12.0, 16.0], \"y\": [46.0, 46.0]}, {\"fill\": \"toself\", \"hoverinfo\": \"text\", \"hoveron\": \"points\", \"mode\": \"lines\", \"text\": \"D=4.0\", \"type\": \"scatter\", \"x\": [12.0, 16.0], \"y\": [56.0, 56.0]}, {\"fill\": \"toself\", \"hoverinfo\": \"text\", \"hoveron\": \"points\", \"mode\": \"lines\", \"text\": \"D=4.0\", \"type\": \"scatter\", \"x\": [20.0, 20.0], \"y\": [28.0, 32.0]}, {\"fill\": \"toself\", \"hoverinfo\": \"text\", \"hoveron\": \"points\", \"mode\": \"lines\", \"text\": \"D=4.0\", \"type\": \"scatter\", \"x\": [20.0, 20.0], \"y\": [40.0, 44.0]}, {\"fill\": \"toself\", \"hoverinfo\": \"text\", \"hoveron\": \"points\", \"mode\": \"lines\", \"text\": \"D=4.0\", \"type\": \"scatter\", \"x\": [20.0, 20.0], \"y\": [48.0, 52.0]}, {\"fill\": \"toself\", \"hoverinfo\": \"text\", \"hoveron\": \"points\", \"mode\": \"lines\", \"text\": \"D=4.0\", \"type\": \"scatter\", \"x\": [20.0, 20.0], \"y\": [60.0, 64.0]}, {\"fill\": \"toself\", \"hoverinfo\": \"text\", \"hoveron\": \"points\", \"mode\": \"lines\", \"text\": \"D=2.0\", \"type\": \"scatter\", \"x\": [24.0, 28.0], \"y\": [4.0, 4.0]}, {\"fill\": \"toself\", \"hoverinfo\": \"text\", \"hoveron\": \"points\", \"mode\": \"lines\", \"text\": \"D=3.0\", \"type\": \"scatter\", \"x\": [24.0, 28.0], \"y\": [14.0, 14.0]}, {\"fill\": \"toself\", \"hoverinfo\": \"text\", \"hoveron\": \"points\", \"mode\": \"lines\", \"text\": \"D=4.0\", \"type\": \"scatter\", \"x\": [24.0, 28.0], \"y\": [20.0, 20.0]}, {\"fill\": \"toself\", \"hoverinfo\": \"text\", \"hoveron\": \"points\", \"mode\": \"lines\", \"text\": \"D=4.0\", \"type\": \"scatter\", \"x\": [24.0, 28.0], \"y\": [26.0, 26.0]}, {\"fill\": \"toself\", \"hoverinfo\": \"text\", \"hoveron\": \"points\", \"mode\": \"lines\", \"text\": \"D=5.0\", \"type\": \"scatter\", \"x\": [24.0, 28.0], \"y\": [32.0, 32.0]}, {\"fill\": \"toself\", \"hoverinfo\": \"text\", \"hoveron\": \"points\", \"mode\": \"lines\", \"text\": \"D=5.0\", \"type\": \"scatter\", \"x\": [24.0, 28.0], \"y\": [38.0, 38.0]}, {\"fill\": \"toself\", \"hoverinfo\": \"text\", \"hoveron\": \"points\", \"mode\": \"lines\", \"text\": \"D=5.0\", \"type\": \"scatter\", \"x\": [24.0, 28.0], \"y\": [46.0, 46.0]}, {\"fill\": \"toself\", \"hoverinfo\": \"text\", \"hoveron\": \"points\", \"mode\": \"lines\", \"text\": \"D=5.0\", \"type\": \"scatter\", \"x\": [24.0, 28.0], \"y\": [54.0, 54.0]}, {\"fill\": \"toself\", \"hoverinfo\": \"text\", \"hoveron\": \"points\", \"mode\": \"lines\", \"text\": \"D=5.0\", \"type\": \"scatter\", \"x\": [24.0, 28.0], \"y\": [60.0, 60.0]}, {\"fill\": \"toself\", \"hoverinfo\": \"text\", \"hoveron\": \"points\", \"mode\": \"lines\", \"text\": \"D=4.0\", \"type\": \"scatter\", \"x\": [24.0, 28.0], \"y\": [66.0, 66.0]}, {\"fill\": \"toself\", \"hoverinfo\": \"text\", \"hoveron\": \"points\", \"mode\": \"lines\", \"text\": \"D=4.0\", \"type\": \"scatter\", \"x\": [24.0, 28.0], \"y\": [72.0, 72.0]}, {\"fill\": \"toself\", \"hoverinfo\": \"text\", \"hoveron\": \"points\", \"mode\": \"lines\", \"text\": \"D=3.0\", \"type\": \"scatter\", \"x\": [24.0, 28.0], \"y\": [78.0, 78.0]}, {\"fill\": \"toself\", \"hoverinfo\": \"text\", \"hoveron\": \"points\", \"mode\": \"lines\", \"text\": \"D=2.0\", \"type\": \"scatter\", \"x\": [24.0, 28.0], \"y\": [88.0, 88.0]}, {\"fill\": \"toself\", \"hoverinfo\": \"text\", \"hoveron\": \"points\", \"mode\": \"lines\", \"text\": \"D=3.0\", \"type\": \"scatter\", \"x\": [48.0, 48.0], \"y\": [8.0, 12.0]}, {\"fill\": \"toself\", \"hoverinfo\": \"text\", \"hoveron\": \"points\", \"mode\": \"lines\", \"text\": \"D=4.0\", \"type\": \"scatter\", \"x\": [48.0, 48.0], \"y\": [16.0, 20.0]}, {\"fill\": \"toself\", \"hoverinfo\": \"text\", \"hoveron\": \"points\", \"mode\": \"lines\", \"text\": \"D=4.0\", \"type\": \"scatter\", \"x\": [32.0, 32.0], \"y\": [20.0, 24.0]}, {\"fill\": \"toself\", \"hoverinfo\": \"text\", \"hoveron\": \"points\", \"mode\": \"lines\", \"text\": \"D=6.0\", \"type\": \"scatter\", \"x\": [32.0, 32.0], \"y\": [32.0, 36.0]}, {\"fill\": \"toself\", \"hoverinfo\": \"text\", \"hoveron\": \"points\", \"mode\": \"lines\", \"text\": \"D=6.0\", \"type\": \"scatter\", \"x\": [32.0, 32.0], \"y\": [40.0, 44.0]}, {\"fill\": \"toself\", \"hoverinfo\": \"text\", \"hoveron\": \"points\", \"mode\": \"lines\", \"text\": \"D=6.0\", \"type\": \"scatter\", \"x\": [32.0, 32.0], \"y\": [48.0, 52.0]}, {\"fill\": \"toself\", \"hoverinfo\": \"text\", \"hoveron\": \"points\", \"mode\": \"lines\", \"text\": \"D=6.0\", \"type\": \"scatter\", \"x\": [32.0, 32.0], \"y\": [56.0, 60.0]}, {\"fill\": \"toself\", \"hoverinfo\": \"text\", \"hoveron\": \"points\", \"mode\": \"lines\", \"text\": \"D=4.0\", \"type\": \"scatter\", \"x\": [32.0, 32.0], \"y\": [68.0, 72.0]}, {\"fill\": \"toself\", \"hoverinfo\": \"text\", \"hoveron\": \"points\", \"mode\": \"lines\", \"text\": \"D=4.0\", \"type\": \"scatter\", \"x\": [48.0, 48.0], \"y\": [72.0, 76.0]}, {\"fill\": \"toself\", \"hoverinfo\": \"text\", \"hoveron\": \"points\", \"mode\": \"lines\", \"text\": \"D=3.0\", \"type\": \"scatter\", \"x\": [48.0, 48.0], \"y\": [80.0, 84.0]}, {\"fill\": \"toself\", \"hoverinfo\": \"text\", \"hoveron\": \"points\", \"mode\": \"lines\", \"text\": \"D=5.0\", \"type\": \"scatter\", \"x\": [36.0, 40.0], \"y\": [26.0, 26.0]}, {\"fill\": \"toself\", \"hoverinfo\": \"text\", \"hoveron\": \"points\", \"mode\": \"lines\", \"text\": \"D=6.0\", \"type\": \"scatter\", \"x\": [36.0, 40.0], \"y\": [32.0, 32.0]}, {\"fill\": \"toself\", \"hoverinfo\": \"text\", \"hoveron\": \"points\", \"mode\": \"lines\", \"text\": \"D=7.0\", \"type\": \"scatter\", \"x\": [36.0, 40.0], \"y\": [38.0, 38.0]}, {\"fill\": \"toself\", \"hoverinfo\": \"text\", \"hoveron\": \"points\", \"mode\": \"lines\", \"text\": \"D=7.0\", \"type\": \"scatter\", \"x\": [36.0, 40.0], \"y\": [46.0, 46.0]}, {\"fill\": \"toself\", \"hoverinfo\": \"text\", \"hoveron\": \"points\", \"mode\": \"lines\", \"text\": \"D=7.0\", \"type\": \"scatter\", \"x\": [36.0, 40.0], \"y\": [54.0, 54.0]}, {\"fill\": \"toself\", \"hoverinfo\": \"text\", \"hoveron\": \"points\", \"mode\": \"lines\", \"text\": \"D=6.0\", \"type\": \"scatter\", \"x\": [36.0, 40.0], \"y\": [60.0, 60.0]}, {\"fill\": \"toself\", \"hoverinfo\": \"text\", \"hoveron\": \"points\", \"mode\": \"lines\", \"text\": \"D=5.0\", \"type\": \"scatter\", \"x\": [36.0, 40.0], \"y\": [66.0, 66.0]}, {\"fill\": \"toself\", \"hoverinfo\": \"text\", \"hoveron\": \"points\", \"mode\": \"lines\", \"text\": \"D=5.0\", \"type\": \"scatter\", \"x\": [44.0, 44.0], \"y\": [20.0, 24.0]}, {\"fill\": \"toself\", \"hoverinfo\": \"text\", \"hoveron\": \"points\", \"mode\": \"lines\", \"text\": \"D=6.0\", \"type\": \"scatter\", \"x\": [44.0, 44.0], \"y\": [28.0, 32.0]}, {\"fill\": \"toself\", \"hoverinfo\": \"text\", \"hoveron\": \"points\", \"mode\": \"lines\", \"text\": \"D=7.0\", \"type\": \"scatter\", \"x\": [44.0, 44.0], \"y\": [40.0, 44.0]}, {\"fill\": \"toself\", \"hoverinfo\": \"text\", \"hoveron\": \"points\", \"mode\": \"lines\", \"text\": \"D=7.0\", \"type\": \"scatter\", \"x\": [44.0, 44.0], \"y\": [48.0, 52.0]}, {\"fill\": \"toself\", \"hoverinfo\": \"text\", \"hoveron\": \"points\", \"mode\": \"lines\", \"text\": \"D=6.0\", \"type\": \"scatter\", \"x\": [44.0, 44.0], \"y\": [60.0, 64.0]}, {\"fill\": \"toself\", \"hoverinfo\": \"text\", \"hoveron\": \"points\", \"mode\": \"lines\", \"text\": \"D=5.0\", \"type\": \"scatter\", \"x\": [44.0, 44.0], \"y\": [68.0, 72.0]}, {\"fill\": \"toself\", \"hoverinfo\": \"text\", \"hoveron\": \"points\", \"mode\": \"lines\", \"text\": \"D=5.0\", \"type\": \"scatter\", \"x\": [48.0, 52.0], \"y\": [26.0, 26.0]}, {\"fill\": \"toself\", \"hoverinfo\": \"text\", \"hoveron\": \"points\", \"mode\": \"lines\", \"text\": \"D=6.0\", \"type\": \"scatter\", \"x\": [48.0, 52.0], \"y\": [32.0, 32.0]}, {\"fill\": \"toself\", \"hoverinfo\": \"text\", \"hoveron\": \"points\", \"mode\": \"lines\", \"text\": \"D=7.0\", \"type\": \"scatter\", \"x\": [48.0, 52.0], \"y\": [38.0, 38.0]}, {\"fill\": \"toself\", \"hoverinfo\": \"text\", \"hoveron\": \"points\", \"mode\": \"lines\", \"text\": \"D=8.0\", \"type\": \"scatter\", \"x\": [48.0, 52.0], \"y\": [46.0, 46.0]}, {\"fill\": \"toself\", \"hoverinfo\": \"text\", \"hoveron\": \"points\", \"mode\": \"lines\", \"text\": \"D=7.0\", \"type\": \"scatter\", \"x\": [48.0, 52.0], \"y\": [54.0, 54.0]}, {\"fill\": \"toself\", \"hoverinfo\": \"text\", \"hoveron\": \"points\", \"mode\": \"lines\", \"text\": \"D=6.0\", \"type\": \"scatter\", \"x\": [48.0, 52.0], \"y\": [60.0, 60.0]}, {\"fill\": \"toself\", \"hoverinfo\": \"text\", \"hoveron\": \"points\", \"mode\": \"lines\", \"text\": \"D=5.0\", \"type\": \"scatter\", \"x\": [48.0, 52.0], \"y\": [66.0, 66.0]}, {\"fill\": \"toself\", \"hoverinfo\": \"text\", \"hoveron\": \"points\", \"mode\": \"lines\", \"text\": \"D=5.0\", \"type\": \"scatter\", \"x\": [56.0, 56.0], \"y\": [20.0, 24.0]}, {\"fill\": \"toself\", \"hoverinfo\": \"text\", \"hoveron\": \"points\", \"mode\": \"lines\", \"text\": \"D=6.0\", \"type\": \"scatter\", \"x\": [56.0, 56.0], \"y\": [32.0, 36.0]}, {\"fill\": \"toself\", \"hoverinfo\": \"text\", \"hoveron\": \"points\", \"mode\": \"lines\", \"text\": \"D=7.0\", \"type\": \"scatter\", \"x\": [56.0, 56.0], \"y\": [40.0, 44.0]}, {\"fill\": \"toself\", \"hoverinfo\": \"text\", \"hoveron\": \"points\", \"mode\": \"lines\", \"text\": \"D=7.0\", \"type\": \"scatter\", \"x\": [56.0, 56.0], \"y\": [48.0, 52.0]}, {\"fill\": \"toself\", \"hoverinfo\": \"text\", \"hoveron\": \"points\", \"mode\": \"lines\", \"text\": \"D=6.0\", \"type\": \"scatter\", \"x\": [56.0, 56.0], \"y\": [56.0, 60.0]}, {\"fill\": \"toself\", \"hoverinfo\": \"text\", \"hoveron\": \"points\", \"mode\": \"lines\", \"text\": \"D=5.0\", \"type\": \"scatter\", \"x\": [56.0, 56.0], \"y\": [68.0, 72.0]}, {\"fill\": \"toself\", \"hoverinfo\": \"text\", \"hoveron\": \"points\", \"mode\": \"lines\", \"text\": \"D=5.0\", \"type\": \"scatter\", \"x\": [60.0, 64.0], \"y\": [26.0, 26.0]}, {\"fill\": \"toself\", \"hoverinfo\": \"text\", \"hoveron\": \"points\", \"mode\": \"lines\", \"text\": \"D=5.0\", \"type\": \"scatter\", \"x\": [60.0, 64.0], \"y\": [32.0, 32.0]}, {\"fill\": \"toself\", \"hoverinfo\": \"text\", \"hoveron\": \"points\", \"mode\": \"lines\", \"text\": \"D=6.0\", \"type\": \"scatter\", \"x\": [60.0, 64.0], \"y\": [38.0, 38.0]}, {\"fill\": \"toself\", \"hoverinfo\": \"text\", \"hoveron\": \"points\", \"mode\": \"lines\", \"text\": \"D=6.0\", \"type\": \"scatter\", \"x\": [60.0, 64.0], \"y\": [46.0, 46.0]}, {\"fill\": \"toself\", \"hoverinfo\": \"text\", \"hoveron\": \"points\", \"mode\": \"lines\", \"text\": \"D=6.0\", \"type\": \"scatter\", \"x\": [60.0, 64.0], \"y\": [54.0, 54.0]}, {\"fill\": \"toself\", \"hoverinfo\": \"text\", \"hoveron\": \"points\", \"mode\": \"lines\", \"text\": \"D=5.0\", \"type\": \"scatter\", \"x\": [60.0, 64.0], \"y\": [60.0, 60.0]}, {\"fill\": \"toself\", \"hoverinfo\": \"text\", \"hoveron\": \"points\", \"mode\": \"lines\", \"text\": \"D=5.0\", \"type\": \"scatter\", \"x\": [60.0, 64.0], \"y\": [66.0, 66.0]}, {\"fill\": \"toself\", \"hoverinfo\": \"text\", \"hoveron\": \"points\", \"mode\": \"lines\", \"text\": \"D=4.0\", \"type\": \"scatter\", \"x\": [66.0, 66.0], \"y\": [20.0, 24.0]}, {\"fill\": \"toself\", \"hoverinfo\": \"text\", \"hoveron\": \"points\", \"mode\": \"lines\", \"text\": \"D=4.0\", \"type\": \"scatter\", \"x\": [68.0, 68.0], \"y\": [28.0, 32.0]}, {\"fill\": \"toself\", \"hoverinfo\": \"text\", \"hoveron\": \"points\", \"mode\": \"lines\", \"text\": \"D=5.0\", \"type\": \"scatter\", \"x\": [68.0, 68.0], \"y\": [40.0, 44.0]}, {\"fill\": \"toself\", \"hoverinfo\": \"text\", \"hoveron\": \"points\", \"mode\": \"lines\", \"text\": \"D=5.0\", \"type\": \"scatter\", \"x\": [68.0, 68.0], \"y\": [48.0, 52.0]}, {\"fill\": \"toself\", \"hoverinfo\": \"text\", \"hoveron\": \"points\", \"mode\": \"lines\", \"text\": \"D=4.0\", \"type\": \"scatter\", \"x\": [68.0, 68.0], \"y\": [60.0, 64.0]}, {\"fill\": \"toself\", \"hoverinfo\": \"text\", \"hoveron\": \"points\", \"mode\": \"lines\", \"text\": \"D=4.0\", \"type\": \"scatter\", \"x\": [66.0, 66.0], \"y\": [68.0, 72.0]}, {\"fill\": \"toself\", \"hoverinfo\": \"text\", \"hoveron\": \"points\", \"mode\": \"lines\", \"text\": \"D=2.0\", \"type\": \"scatter\", \"x\": [68.0, 72.0], \"y\": [4.0, 4.0]}, {\"fill\": \"toself\", \"hoverinfo\": \"text\", \"hoveron\": \"points\", \"mode\": \"lines\", \"text\": \"D=3.0\", \"type\": \"scatter\", \"x\": [68.0, 72.0], \"y\": [14.0, 14.0]}, {\"fill\": \"toself\", \"hoverinfo\": \"text\", \"hoveron\": \"points\", \"mode\": \"lines\", \"text\": \"D=3.0\", \"type\": \"scatter\", \"x\": [68.0, 72.0], \"y\": [20.0, 20.0]}, {\"fill\": \"toself\", \"hoverinfo\": \"text\", \"hoveron\": \"points\", \"mode\": \"lines\", \"text\": \"D=3.0\", \"type\": \"scatter\", \"x\": [68.0, 72.0], \"y\": [72.0, 72.0]}, {\"fill\": \"toself\", \"hoverinfo\": \"text\", \"hoveron\": \"points\", \"mode\": \"lines\", \"text\": \"D=3.0\", \"type\": \"scatter\", \"x\": [68.0, 72.0], \"y\": [78.0, 78.0]}, {\"fill\": \"toself\", \"hoverinfo\": \"text\", \"hoveron\": \"points\", \"mode\": \"lines\", \"text\": \"D=2.0\", \"type\": \"scatter\", \"x\": [68.0, 72.0], \"y\": [88.0, 88.0]}, {\"fill\": \"toself\", \"hoverinfo\": \"text\", \"hoveron\": \"points\", \"mode\": \"lines\", \"text\": \"D=2.0\", \"type\": \"scatter\", \"x\": [82.0, 82.0], \"y\": [20.0, 24.0]}, {\"fill\": \"toself\", \"hoverinfo\": \"text\", \"hoveron\": \"points\", \"mode\": \"lines\", \"text\": \"D=4.0\", \"type\": \"scatter\", \"x\": [72.0, 76.0], \"y\": [36.0, 36.0]}, {\"fill\": \"toself\", \"hoverinfo\": \"text\", \"hoveron\": \"points\", \"mode\": \"lines\", \"text\": \"D=4.0\", \"type\": \"scatter\", \"x\": [72.0, 76.0], \"y\": [46.0, 46.0]}, {\"fill\": \"toself\", \"hoverinfo\": \"text\", \"hoveron\": \"points\", \"mode\": \"lines\", \"text\": \"D=4.0\", \"type\": \"scatter\", \"x\": [72.0, 76.0], \"y\": [56.0, 56.0]}, {\"fill\": \"toself\", \"hoverinfo\": \"text\", \"hoveron\": \"points\", \"mode\": \"lines\", \"text\": \"D=2.0\", \"type\": \"scatter\", \"x\": [82.0, 82.0], \"y\": [68.0, 72.0]}, {\"fill\": \"toself\", \"hoverinfo\": \"text\", \"hoveron\": \"points\", \"mode\": \"lines\", \"text\": \"D=3.0\", \"type\": \"scatter\", \"x\": [78.0, 78.0], \"y\": [28.0, 32.0]}, {\"fill\": \"toself\", \"hoverinfo\": \"text\", \"hoveron\": \"points\", \"mode\": \"lines\", \"text\": \"D=3.0\", \"type\": \"scatter\", \"x\": [78.0, 78.0], \"y\": [60.0, 64.0]}, {\"fill\": \"toself\", \"hoverinfo\": \"text\", \"hoveron\": \"points\", \"mode\": \"lines\", \"text\": \"D=3.0\", \"type\": \"scatter\", \"x\": [80.0, 84.0], \"y\": [46.0, 46.0]}, {\"fill\": \"toself\", \"hoverinfo\": \"text\", \"hoveron\": \"points\", \"mode\": \"lines\", \"text\": \"D=2.0\", \"type\": \"scatter\", \"x\": [88.0, 88.0], \"y\": [28.0, 32.0]}, {\"fill\": \"toself\", \"hoverinfo\": \"text\", \"hoveron\": \"points\", \"mode\": \"lines\", \"text\": \"D=2.0\", \"type\": \"scatter\", \"x\": [88.0, 88.0], \"y\": [60.0, 64.0]}, {\"fill\": \"toself\", \"hoverinfo\": \"text\", \"hoveron\": \"fills\", \"mode\": \"lines\", \"text\": \"G=0\", \"type\": \"scatter\", \"x\": [-0.5, -0.5, 24.5, 24.5, -0.5], \"y\": [-0.5, 20.5, 20.5, -0.5, -0.5]}, {\"fill\": \"toself\", \"hoverinfo\": \"text\", \"hoveron\": \"fills\", \"mode\": \"lines\", \"text\": \"G=1\", \"type\": \"scatter\", \"x\": [-0.5, -0.5, 24.5, 24.5, -0.5], \"y\": [23.5, 28.5, 28.5, 23.5, 23.5]}, {\"fill\": \"toself\", \"hoverinfo\": \"text\", \"hoveron\": \"fills\", \"mode\": \"lines\", \"text\": \"G=2\", \"type\": \"scatter\", \"x\": [-0.5, -0.5, 4.5, 4.5, -0.5], \"y\": [31.5, 60.5, 60.5, 31.5, 31.5]}, {\"fill\": \"toself\", \"hoverinfo\": \"text\", \"hoveron\": \"fills\", \"mode\": \"lines\", \"text\": \"G=3\", \"type\": \"scatter\", \"x\": [-0.5, -0.5, 24.5, 24.5, -0.5], \"y\": [63.5, 68.5, 68.5, 63.5, 63.5]}, {\"fill\": \"toself\", \"hoverinfo\": \"text\", \"hoveron\": \"fills\", \"mode\": \"lines\", \"text\": \"G=4\", \"type\": \"scatter\", \"x\": [-0.5, -0.5, 24.5, 24.5, -0.5], \"y\": [71.5, 92.5, 92.5, 71.5, 71.5]}, {\"fill\": \"toself\", \"hoverinfo\": \"text\", \"hoveron\": \"fills\", \"mode\": \"lines\", \"text\": \"G=5\", \"type\": \"scatter\", \"x\": [7.5, 7.5, 12.5, 12.5, 7.5], \"y\": [31.5, 60.5, 60.5, 31.5, 31.5]}, {\"fill\": \"toself\", \"hoverinfo\": \"text\", \"hoveron\": \"fills\", \"mode\": \"lines\", \"text\": \"G=6\", \"type\": \"scatter\", \"x\": [15.5, 15.5, 24.5, 24.5, 15.5], \"y\": [31.5, 40.5, 40.5, 31.5, 31.5]}, {\"fill\": \"toself\", \"hoverinfo\": \"text\", \"hoveron\": \"fills\", \"mode\": \"lines\", \"text\": \"G=7\", \"type\": \"scatter\", \"x\": [15.5, 15.5, 24.5, 24.5, 15.5], \"y\": [43.5, 48.5, 48.5, 43.5, 43.5]}, {\"fill\": \"toself\", \"hoverinfo\": \"text\", \"hoveron\": \"fills\", \"mode\": \"lines\", \"text\": \"G=8\", \"type\": \"scatter\", \"x\": [15.5, 15.5, 24.5, 24.5, 15.5], \"y\": [51.5, 60.5, 60.5, 51.5, 51.5]}, {\"fill\": \"toself\", \"hoverinfo\": \"text\", \"hoveron\": \"fills\", \"mode\": \"lines\", \"text\": \"G=9\", \"type\": \"scatter\", \"x\": [27.5, 27.5, 68.5, 68.5, 27.5], \"y\": [-0.5, 8.5, 8.5, -0.5, -0.5]}, {\"fill\": \"toself\", \"hoverinfo\": \"text\", \"hoveron\": \"fills\", \"mode\": \"lines\", \"text\": \"G=10\", \"type\": \"scatter\", \"x\": [27.5, 27.5, 68.5, 68.5, 27.5], \"y\": [11.5, 16.5, 16.5, 11.5, 11.5]}, {\"fill\": \"toself\", \"hoverinfo\": \"text\", \"hoveron\": \"fills\", \"mode\": \"lines\", \"text\": \"G=11\", \"type\": \"scatter\", \"x\": [27.5, 27.5, 68.5, 68.5, 27.5], \"y\": [19.5, 20.5, 20.5, 19.5, 19.5]}, {\"fill\": \"toself\", \"hoverinfo\": \"text\", \"hoveron\": \"fills\", \"mode\": \"lines\", \"text\": \"G=12\", \"type\": \"scatter\", \"x\": [27.5, 27.5, 36.5, 36.5, 27.5], \"y\": [23.5, 32.5, 32.5, 23.5, 23.5]}, {\"fill\": \"toself\", \"hoverinfo\": \"text\", \"hoveron\": \"fills\", \"mode\": \"lines\", \"text\": \"G=13\", \"type\": \"scatter\", \"x\": [27.5, 27.5, 36.5, 36.5, 27.5], \"y\": [35.5, 40.5, 40.5, 35.5, 35.5]}, {\"fill\": \"toself\", \"hoverinfo\": \"text\", \"hoveron\": \"fills\", \"mode\": \"lines\", \"text\": \"G=14\", \"type\": \"scatter\", \"x\": [27.5, 27.5, 36.5, 36.5, 27.5], \"y\": [43.5, 48.5, 48.5, 43.5, 43.5]}, {\"fill\": \"toself\", \"hoverinfo\": \"text\", \"hoveron\": \"fills\", \"mode\": \"lines\", \"text\": \"G=15\", \"type\": \"scatter\", \"x\": [27.5, 27.5, 36.5, 36.5, 27.5], \"y\": [51.5, 56.5, 56.5, 51.5, 51.5]}, {\"fill\": \"toself\", \"hoverinfo\": \"text\", \"hoveron\": \"fills\", \"mode\": \"lines\", \"text\": \"G=16\", \"type\": \"scatter\", \"x\": [27.5, 27.5, 36.5, 36.5, 27.5], \"y\": [59.5, 68.5, 68.5, 59.5, 59.5]}, {\"fill\": \"toself\", \"hoverinfo\": \"text\", \"hoveron\": \"fills\", \"mode\": \"lines\", \"text\": \"G=17\", \"type\": \"scatter\", \"x\": [27.5, 27.5, 68.5, 68.5, 27.5], \"y\": [71.5, 72.5, 72.5, 71.5, 71.5]}, {\"fill\": \"toself\", \"hoverinfo\": \"text\", \"hoveron\": \"fills\", \"mode\": \"lines\", \"text\": \"G=18\", \"type\": \"scatter\", \"x\": [27.5, 27.5, 68.5, 68.5, 27.5], \"y\": [75.5, 80.5, 80.5, 75.5, 75.5]}, {\"fill\": \"toself\", \"hoverinfo\": \"text\", \"hoveron\": \"fills\", \"mode\": \"lines\", \"text\": \"G=19\", \"type\": \"scatter\", \"x\": [27.5, 27.5, 68.5, 68.5, 27.5], \"y\": [83.5, 92.5, 92.5, 83.5, 83.5]}, {\"fill\": \"toself\", \"hoverinfo\": \"text\", \"hoveron\": \"fills\", \"mode\": \"lines\", \"text\": \"G=20\", \"type\": \"scatter\", \"x\": [39.5, 39.5, 48.5, 48.5, 39.5], \"y\": [23.5, 28.5, 28.5, 23.5, 23.5]}, {\"fill\": \"toself\", \"hoverinfo\": \"text\", \"hoveron\": \"fills\", \"mode\": \"lines\", \"text\": \"G=21\", \"type\": \"scatter\", \"x\": [39.5, 39.5, 48.5, 48.5, 39.5], \"y\": [31.5, 40.5, 40.5, 31.5, 31.5]}, {\"fill\": \"toself\", \"hoverinfo\": \"text\", \"hoveron\": \"fills\", \"mode\": \"lines\", \"text\": \"G=22\", \"type\": \"scatter\", \"x\": [39.5, 39.5, 48.5, 48.5, 39.5], \"y\": [43.5, 48.5, 48.5, 43.5, 43.5]}, {\"fill\": \"toself\", \"hoverinfo\": \"text\", \"hoveron\": \"fills\", \"mode\": \"lines\", \"text\": \"G=23\", \"type\": \"scatter\", \"x\": [39.5, 39.5, 48.5, 48.5, 39.5], \"y\": [51.5, 60.5, 60.5, 51.5, 51.5]}, {\"fill\": \"toself\", \"hoverinfo\": \"text\", \"hoveron\": \"fills\", \"mode\": \"lines\", \"text\": \"G=24\", \"type\": \"scatter\", \"x\": [39.5, 39.5, 48.5, 48.5, 39.5], \"y\": [63.5, 68.5, 68.5, 63.5, 63.5]}, {\"fill\": \"toself\", \"hoverinfo\": \"text\", \"hoveron\": \"fills\", \"mode\": \"lines\", \"text\": \"G=25\", \"type\": \"scatter\", \"x\": [51.5, 51.5, 60.5, 60.5, 51.5], \"y\": [23.5, 32.5, 32.5, 23.5, 23.5]}, {\"fill\": \"toself\", \"hoverinfo\": \"text\", \"hoveron\": \"fills\", \"mode\": \"lines\", \"text\": \"G=26\", \"type\": \"scatter\", \"x\": [51.5, 51.5, 60.5, 60.5, 51.5], \"y\": [35.5, 40.5, 40.5, 35.5, 35.5]}, {\"fill\": \"toself\", \"hoverinfo\": \"text\", \"hoveron\": \"fills\", \"mode\": \"lines\", \"text\": \"G=27\", \"type\": \"scatter\", \"x\": [51.5, 51.5, 60.5, 60.5, 51.5], \"y\": [43.5, 48.5, 48.5, 43.5, 43.5]}, {\"fill\": \"toself\", \"hoverinfo\": \"text\", \"hoveron\": \"fills\", \"mode\": \"lines\", \"text\": \"G=28\", \"type\": \"scatter\", \"x\": [51.5, 51.5, 60.5, 60.5, 51.5], \"y\": [51.5, 56.5, 56.5, 51.5, 51.5]}, {\"fill\": \"toself\", \"hoverinfo\": \"text\", \"hoveron\": \"fills\", \"mode\": \"lines\", \"text\": \"G=29\", \"type\": \"scatter\", \"x\": [51.5, 51.5, 60.5, 60.5, 51.5], \"y\": [59.5, 68.5, 68.5, 59.5, 59.5]}, {\"fill\": \"toself\", \"hoverinfo\": \"text\", \"hoveron\": \"fills\", \"mode\": \"lines\", \"text\": \"G=30\", \"type\": \"scatter\", \"x\": [63.5, 63.5, 92.5, 92.5, 63.5], \"y\": [23.5, 28.5, 28.5, 23.5, 23.5]}, {\"fill\": \"toself\", \"hoverinfo\": \"text\", \"hoveron\": \"fills\", \"mode\": \"lines\", \"text\": \"G=31\", \"type\": \"scatter\", \"x\": [63.5, 63.5, 72.5, 72.5, 63.5], \"y\": [31.5, 40.5, 40.5, 31.5, 31.5]}, {\"fill\": \"toself\", \"hoverinfo\": \"text\", \"hoveron\": \"fills\", \"mode\": \"lines\", \"text\": \"G=32\", \"type\": \"scatter\", \"x\": [63.5, 63.5, 72.5, 72.5, 63.5], \"y\": [43.5, 48.5, 48.5, 43.5, 43.5]}, {\"fill\": \"toself\", \"hoverinfo\": \"text\", \"hoveron\": \"fills\", \"mode\": \"lines\", \"text\": \"G=33\", \"type\": \"scatter\", \"x\": [63.5, 63.5, 72.5, 72.5, 63.5], \"y\": [51.5, 60.5, 60.5, 51.5, 51.5]}, {\"fill\": \"toself\", \"hoverinfo\": \"text\", \"hoveron\": \"fills\", \"mode\": \"lines\", \"text\": \"G=34\", \"type\": \"scatter\", \"x\": [63.5, 63.5, 92.5, 92.5, 63.5], \"y\": [63.5, 68.5, 68.5, 63.5, 63.5]}, {\"fill\": \"toself\", \"hoverinfo\": \"text\", \"hoveron\": \"fills\", \"mode\": \"lines\", \"text\": \"G=35\", \"type\": \"scatter\", \"x\": [71.5, 71.5, 92.5, 92.5, 71.5], \"y\": [-0.5, 20.5, 20.5, -0.5, -0.5]}, {\"fill\": \"toself\", \"hoverinfo\": \"text\", \"hoveron\": \"fills\", \"mode\": \"lines\", \"text\": \"G=36\", \"type\": \"scatter\", \"x\": [71.5, 71.5, 92.5, 92.5, 71.5], \"y\": [71.5, 92.5, 92.5, 71.5, 71.5]}, {\"fill\": \"toself\", \"hoverinfo\": \"text\", \"hoveron\": \"fills\", \"mode\": \"lines\", \"text\": \"G=37\", \"type\": \"scatter\", \"x\": [75.5, 75.5, 80.5, 80.5, 75.5], \"y\": [31.5, 60.5, 60.5, 31.5, 31.5]}, {\"fill\": \"toself\", \"hoverinfo\": \"text\", \"hoveron\": \"fills\", \"mode\": \"lines\", \"text\": \"G=38\", \"type\": \"scatter\", \"x\": [83.5, 83.5, 92.5, 92.5, 83.5], \"y\": [31.5, 60.5, 60.5, 31.5, 31.5]}],                        {\"autosize\": false, \"height\": 900, \"hoverlabel\": {\"bgcolor\": \"white\", \"font\": {\"family\": \"Rockwell\", \"size\": 16}}, \"plot_bgcolor\": \"white\", \"showlegend\": false, \"template\": {\"data\": {\"bar\": [{\"error_x\": {\"color\": \"#2a3f5f\"}, \"error_y\": {\"color\": \"#2a3f5f\"}, \"marker\": {\"line\": {\"color\": \"#E5ECF6\", \"width\": 0.5}}, \"type\": \"bar\"}], \"barpolar\": [{\"marker\": {\"line\": {\"color\": \"#E5ECF6\", \"width\": 0.5}}, \"type\": \"barpolar\"}], \"carpet\": [{\"aaxis\": {\"endlinecolor\": \"#2a3f5f\", \"gridcolor\": \"white\", \"linecolor\": \"white\", \"minorgridcolor\": \"white\", \"startlinecolor\": \"#2a3f5f\"}, \"baxis\": {\"endlinecolor\": \"#2a3f5f\", \"gridcolor\": \"white\", \"linecolor\": \"white\", \"minorgridcolor\": \"white\", \"startlinecolor\": \"#2a3f5f\"}, \"type\": \"carpet\"}], \"choropleth\": [{\"colorbar\": {\"outlinewidth\": 0, \"ticks\": \"\"}, \"type\": \"choropleth\"}], \"contour\": [{\"colorbar\": {\"outlinewidth\": 0, \"ticks\": \"\"}, \"colorscale\": [[0.0, \"#0d0887\"], [0.1111111111111111, \"#46039f\"], [0.2222222222222222, \"#7201a8\"], [0.3333333333333333, \"#9c179e\"], [0.4444444444444444, \"#bd3786\"], [0.5555555555555556, \"#d8576b\"], [0.6666666666666666, \"#ed7953\"], [0.7777777777777778, \"#fb9f3a\"], [0.8888888888888888, \"#fdca26\"], [1.0, \"#f0f921\"]], \"type\": \"contour\"}], \"contourcarpet\": [{\"colorbar\": {\"outlinewidth\": 0, \"ticks\": \"\"}, \"type\": \"contourcarpet\"}], \"heatmap\": [{\"colorbar\": {\"outlinewidth\": 0, \"ticks\": \"\"}, \"colorscale\": [[0.0, \"#0d0887\"], [0.1111111111111111, \"#46039f\"], [0.2222222222222222, \"#7201a8\"], [0.3333333333333333, \"#9c179e\"], [0.4444444444444444, \"#bd3786\"], [0.5555555555555556, \"#d8576b\"], [0.6666666666666666, \"#ed7953\"], [0.7777777777777778, \"#fb9f3a\"], [0.8888888888888888, \"#fdca26\"], [1.0, \"#f0f921\"]], \"type\": \"heatmap\"}], \"heatmapgl\": [{\"colorbar\": {\"outlinewidth\": 0, \"ticks\": \"\"}, \"colorscale\": [[0.0, \"#0d0887\"], [0.1111111111111111, \"#46039f\"], [0.2222222222222222, \"#7201a8\"], [0.3333333333333333, \"#9c179e\"], [0.4444444444444444, \"#bd3786\"], [0.5555555555555556, \"#d8576b\"], [0.6666666666666666, \"#ed7953\"], [0.7777777777777778, \"#fb9f3a\"], [0.8888888888888888, \"#fdca26\"], [1.0, \"#f0f921\"]], \"type\": \"heatmapgl\"}], \"histogram\": [{\"marker\": {\"colorbar\": {\"outlinewidth\": 0, \"ticks\": \"\"}}, \"type\": \"histogram\"}], \"histogram2d\": [{\"colorbar\": {\"outlinewidth\": 0, \"ticks\": \"\"}, \"colorscale\": [[0.0, \"#0d0887\"], [0.1111111111111111, \"#46039f\"], [0.2222222222222222, \"#7201a8\"], [0.3333333333333333, \"#9c179e\"], [0.4444444444444444, \"#bd3786\"], [0.5555555555555556, \"#d8576b\"], [0.6666666666666666, \"#ed7953\"], [0.7777777777777778, \"#fb9f3a\"], [0.8888888888888888, \"#fdca26\"], [1.0, \"#f0f921\"]], \"type\": \"histogram2d\"}], \"histogram2dcontour\": [{\"colorbar\": {\"outlinewidth\": 0, \"ticks\": \"\"}, \"colorscale\": [[0.0, \"#0d0887\"], [0.1111111111111111, \"#46039f\"], [0.2222222222222222, \"#7201a8\"], [0.3333333333333333, \"#9c179e\"], [0.4444444444444444, \"#bd3786\"], [0.5555555555555556, \"#d8576b\"], [0.6666666666666666, \"#ed7953\"], [0.7777777777777778, \"#fb9f3a\"], [0.8888888888888888, \"#fdca26\"], [1.0, \"#f0f921\"]], \"type\": \"histogram2dcontour\"}], \"mesh3d\": [{\"colorbar\": {\"outlinewidth\": 0, \"ticks\": \"\"}, \"type\": \"mesh3d\"}], \"parcoords\": [{\"line\": {\"colorbar\": {\"outlinewidth\": 0, \"ticks\": \"\"}}, \"type\": \"parcoords\"}], \"pie\": [{\"automargin\": true, \"type\": \"pie\"}], \"scatter\": [{\"marker\": {\"colorbar\": {\"outlinewidth\": 0, \"ticks\": \"\"}}, \"type\": \"scatter\"}], \"scatter3d\": [{\"line\": {\"colorbar\": {\"outlinewidth\": 0, \"ticks\": \"\"}}, \"marker\": {\"colorbar\": {\"outlinewidth\": 0, \"ticks\": \"\"}}, \"type\": \"scatter3d\"}], \"scattercarpet\": [{\"marker\": {\"colorbar\": {\"outlinewidth\": 0, \"ticks\": \"\"}}, \"type\": \"scattercarpet\"}], \"scattergeo\": [{\"marker\": {\"colorbar\": {\"outlinewidth\": 0, \"ticks\": \"\"}}, \"type\": \"scattergeo\"}], \"scattergl\": [{\"marker\": {\"colorbar\": {\"outlinewidth\": 0, \"ticks\": \"\"}}, \"type\": \"scattergl\"}], \"scattermapbox\": [{\"marker\": {\"colorbar\": {\"outlinewidth\": 0, \"ticks\": \"\"}}, \"type\": \"scattermapbox\"}], \"scatterpolar\": [{\"marker\": {\"colorbar\": {\"outlinewidth\": 0, \"ticks\": \"\"}}, \"type\": \"scatterpolar\"}], \"scatterpolargl\": [{\"marker\": {\"colorbar\": {\"outlinewidth\": 0, \"ticks\": \"\"}}, \"type\": \"scatterpolargl\"}], \"scatterternary\": [{\"marker\": {\"colorbar\": {\"outlinewidth\": 0, \"ticks\": \"\"}}, \"type\": \"scatterternary\"}], \"surface\": [{\"colorbar\": {\"outlinewidth\": 0, \"ticks\": \"\"}, \"colorscale\": [[0.0, \"#0d0887\"], [0.1111111111111111, \"#46039f\"], [0.2222222222222222, \"#7201a8\"], [0.3333333333333333, \"#9c179e\"], [0.4444444444444444, \"#bd3786\"], [0.5555555555555556, \"#d8576b\"], [0.6666666666666666, \"#ed7953\"], [0.7777777777777778, \"#fb9f3a\"], [0.8888888888888888, \"#fdca26\"], [1.0, \"#f0f921\"]], \"type\": \"surface\"}], \"table\": [{\"cells\": {\"fill\": {\"color\": \"#EBF0F8\"}, \"line\": {\"color\": \"white\"}}, \"header\": {\"fill\": {\"color\": \"#C8D4E3\"}, \"line\": {\"color\": \"white\"}}, \"type\": \"table\"}]}, \"layout\": {\"annotationdefaults\": {\"arrowcolor\": \"#2a3f5f\", \"arrowhead\": 0, \"arrowwidth\": 1}, \"autotypenumbers\": \"strict\", \"coloraxis\": {\"colorbar\": {\"outlinewidth\": 0, \"ticks\": \"\"}}, \"colorscale\": {\"diverging\": [[0, \"#8e0152\"], [0.1, \"#c51b7d\"], [0.2, \"#de77ae\"], [0.3, \"#f1b6da\"], [0.4, \"#fde0ef\"], [0.5, \"#f7f7f7\"], [0.6, \"#e6f5d0\"], [0.7, \"#b8e186\"], [0.8, \"#7fbc41\"], [0.9, \"#4d9221\"], [1, \"#276419\"]], \"sequential\": [[0.0, \"#0d0887\"], [0.1111111111111111, \"#46039f\"], [0.2222222222222222, \"#7201a8\"], [0.3333333333333333, \"#9c179e\"], [0.4444444444444444, \"#bd3786\"], [0.5555555555555556, \"#d8576b\"], [0.6666666666666666, \"#ed7953\"], [0.7777777777777778, \"#fb9f3a\"], [0.8888888888888888, \"#fdca26\"], [1.0, \"#f0f921\"]], \"sequentialminus\": [[0.0, \"#0d0887\"], [0.1111111111111111, \"#46039f\"], [0.2222222222222222, \"#7201a8\"], [0.3333333333333333, \"#9c179e\"], [0.4444444444444444, \"#bd3786\"], [0.5555555555555556, \"#d8576b\"], [0.6666666666666666, \"#ed7953\"], [0.7777777777777778, \"#fb9f3a\"], [0.8888888888888888, \"#fdca26\"], [1.0, \"#f0f921\"]]}, \"colorway\": [\"#636efa\", \"#EF553B\", \"#00cc96\", \"#ab63fa\", \"#FFA15A\", \"#19d3f3\", \"#FF6692\", \"#B6E880\", \"#FF97FF\", \"#FECB52\"], \"font\": {\"color\": \"#2a3f5f\"}, \"geo\": {\"bgcolor\": \"white\", \"lakecolor\": \"white\", \"landcolor\": \"#E5ECF6\", \"showlakes\": true, \"showland\": true, \"subunitcolor\": \"white\"}, \"hoverlabel\": {\"align\": \"left\"}, \"hovermode\": \"closest\", \"mapbox\": {\"style\": \"light\"}, \"paper_bgcolor\": \"white\", \"plot_bgcolor\": \"#E5ECF6\", \"polar\": {\"angularaxis\": {\"gridcolor\": \"white\", \"linecolor\": \"white\", \"ticks\": \"\"}, \"bgcolor\": \"#E5ECF6\", \"radialaxis\": {\"gridcolor\": \"white\", \"linecolor\": \"white\", \"ticks\": \"\"}}, \"scene\": {\"xaxis\": {\"backgroundcolor\": \"#E5ECF6\", \"gridcolor\": \"white\", \"gridwidth\": 2, \"linecolor\": \"white\", \"showbackground\": true, \"ticks\": \"\", \"zerolinecolor\": \"white\"}, \"yaxis\": {\"backgroundcolor\": \"#E5ECF6\", \"gridcolor\": \"white\", \"gridwidth\": 2, \"linecolor\": \"white\", \"showbackground\": true, \"ticks\": \"\", \"zerolinecolor\": \"white\"}, \"zaxis\": {\"backgroundcolor\": \"#E5ECF6\", \"gridcolor\": \"white\", \"gridwidth\": 2, \"linecolor\": \"white\", \"showbackground\": true, \"ticks\": \"\", \"zerolinecolor\": \"white\"}}, \"shapedefaults\": {\"line\": {\"color\": \"#2a3f5f\"}}, \"ternary\": {\"aaxis\": {\"gridcolor\": \"white\", \"linecolor\": \"white\", \"ticks\": \"\"}, \"baxis\": {\"gridcolor\": \"white\", \"linecolor\": \"white\", \"ticks\": \"\"}, \"bgcolor\": \"#E5ECF6\", \"caxis\": {\"gridcolor\": \"white\", \"linecolor\": \"white\", \"ticks\": \"\"}}, \"title\": {\"x\": 0.05}, \"xaxis\": {\"automargin\": true, \"gridcolor\": \"white\", \"linecolor\": \"white\", \"ticks\": \"\", \"title\": {\"standoff\": 15}, \"zerolinecolor\": \"white\", \"zerolinewidth\": 2}, \"yaxis\": {\"automargin\": true, \"gridcolor\": \"white\", \"linecolor\": \"white\", \"ticks\": \"\", \"title\": {\"standoff\": 15}, \"zerolinecolor\": \"white\", \"zerolinewidth\": 2}}}, \"width\": 900, \"xaxis\": {\"fixedrange\": true, \"showgrid\": false, \"showline\": false, \"showticklabels\": false, \"zeroline\": false}, \"yaxis\": {\"scaleanchor\": \"x\", \"scaleratio\": 1, \"showgrid\": false, \"showline\": false, \"showticklabels\": false, \"zeroline\": false}},                        {\"responsive\": true}                    ).then(function(){\n",
       "                            \n",
       "var gd = document.getElementById('0340e75a-b75d-42b7-bd95-945d9a681b86');\n",
       "var x = new MutationObserver(function (mutations, observer) {{\n",
       "        var display = window.getComputedStyle(gd).display;\n",
       "        if (!display || display === 'none') {{\n",
       "            console.log([gd, 'removed!']);\n",
       "            Plotly.purge(gd);\n",
       "            observer.disconnect();\n",
       "        }}\n",
       "}});\n",
       "\n",
       "// Listen for the removal of the full notebook cells\n",
       "var notebookContainer = gd.closest('#notebook-container');\n",
       "if (notebookContainer) {{\n",
       "    x.observe(notebookContainer, {childList: true});\n",
       "}}\n",
       "\n",
       "// Listen for the clearing of the current output cell\n",
       "var outputEl = gd.closest('.output');\n",
       "if (outputEl) {{\n",
       "    x.observe(outputEl, {childList: true});\n",
       "}}\n",
       "\n",
       "                        })                };                });            </script>        </div>"
      ]
     },
     "metadata": {},
     "output_type": "display_data"
    }
   ],
   "source": [
    "fig = go.Figure()\n",
    "\n",
    "axis = dict(showline=False, zeroline=False,showgrid=False,showticklabels=False,)\n",
    "fig.update_layout(showlegend=False,xaxis=axis,yaxis=axis,plot_bgcolor='white')\n",
    "fig.update_layout(\n",
    "         autosize=False,\n",
    "            width=900,\n",
    "            height=900,\n",
    "        hoverlabel=dict(\n",
    "        bgcolor=\"white\",\n",
    "        font_size=16,\n",
    "        font_family=\"Rockwell\"\n",
    "        )\n",
    ")\n",
    "fig.update_xaxes(fixedrange=True)\n",
    "fig.update_yaxes(scaleanchor = \"x\",scaleratio = 1,)\n",
    "#if show_name: self.depoly_label(fig)\n",
    "for obj in objects:fig.add_trace(obj)\n",
    "fig"
   ]
  },
  {
   "cell_type": "code",
   "execution_count": 65,
   "metadata": {
    "hidden": true,
    "scrolled": true
   },
   "outputs": [
    {
     "data": {
      "text/plain": [
       "<matplotlib.image.AxesImage at 0x7f4db68ba8d0>"
      ]
     },
     "execution_count": 65,
     "metadata": {},
     "output_type": "execute_result"
    },
    {
     "data": {
      "image/png": "[encoded data removed]",
      "text/plain": [
       "<Figure size 432x288 with 1 Axes>"
      ]
     },
     "metadata": {
      "needs_background": "light"
     },
     "output_type": "display_data"
    }
   ],
   "source": [
    "%matplotlib inline\n",
    "plt.imshow(np.array(shape_24x24_1))"
   ]
  },
  {
   "cell_type": "markdown",
   "metadata": {
    "heading_collapsed": true
   },
   "source": [
    "##### module"
   ]
  },
  {
   "cell_type": "code",
   "execution_count": 3,
   "metadata": {
    "hidden": true
   },
   "outputs": [],
   "source": [
    "from models.tensornetwork_base import TN_Base\n",
    "import torch.nn as nn"
   ]
  },
  {
   "cell_type": "code",
   "execution_count": 4,
   "metadata": {
    "hidden": true
   },
   "outputs": [],
   "source": [
    "import opt_einsum as oe"
   ]
  },
  {
   "cell_type": "code",
   "execution_count": null,
   "metadata": {
    "hidden": true
   },
   "outputs": [],
   "source": [
    "info_per_group=self.info_per_group\n",
    "info_per_line =self.info_per_line \n",
    "info_per_point=self.info_per_point"
   ]
  },
  {
   "cell_type": "code",
   "execution_count": 5,
   "metadata": {
    "code_folding": [
     0
    ],
    "hidden": true
   },
   "outputs": [],
   "source": [
    "class PEPS_einsum_arbitrary_partition_optim(TN_Base):\n",
    "    def __init__(self,out_features=10,in_physics_bond = 2, virtual_bond_dim=\"models/arbitary_shape/arbitary_shape_1.json\",\n",
    "                       bias=True,label_position='center',init_std=1e-10,contraction_mode = 'recursion',seted_variation=10):\n",
    "        super().__init__()\n",
    "        if isinstance(virtual_bond_dim,str):\n",
    "            arbitary_shape_state_dict = torch.load(virtual_bond_dim)\n",
    "        else:\n",
    "            arbitary_shape_state_dict = virtual_bond_dim\n",
    "        assert isinstance(arbitary_shape_state_dict,dict)\n",
    "        \n",
    "        \n",
    "        info_per_group = arbitary_shape_state_dict['node']\n",
    "        info_per_line  = arbitary_shape_state_dict['line']\n",
    "        info_per_point = arbitary_shape_state_dict['element']\n",
    "        \n",
    "        num_of_tensor   = len(info_per_group)\n",
    "        list_of_virt_dim= [t['D'] for t in info_per_line.values()]\n",
    "        list_of_phys_dim= [len(t['element']) for t in info_per_group.values()]\n",
    "        divider         = np.prod([np.power(t,1/num_of_tensor) for t in list_of_phys_dim+list_of_virt_dim])\n",
    "        solved_var      = np.power(seted_variation,1/num_of_tensor)/divider\n",
    "        solved_std      = np.sqrt(solved_var)\n",
    "        print(solved_std)\n",
    "        \n",
    "        center_group    = 0\n",
    "        damgling_num    = len(info_per_group)\n",
    "        info_per_group[center_group]['neighbor'].insert(0,damgling_num)\n",
    "        info_per_line[(center_group,damgling_num)]={'D': out_features}\n",
    "\n",
    "        self.info_per_group=info_per_group\n",
    "        self.info_per_line =info_per_line\n",
    "        self.info_per_point=info_per_point\n",
    "\n",
    "        operands = []\n",
    "        sublist_list=[]\n",
    "        outlist  = [list(info_per_line.keys()).index((center_group,damgling_num))]\n",
    "        ranks_list=[]\n",
    "        for group_now in range(len(info_per_group)):\n",
    "            group_info= info_per_group[group_now]\n",
    "            neighbors = group_info['neighbor']\n",
    "            ranks = []\n",
    "            sublist=[]\n",
    "            for neighbor_id in neighbors:\n",
    "                line_tuple = [group_now,neighbor_id]\n",
    "                line_tuple.sort()\n",
    "                line_tuple= tuple(line_tuple)\n",
    "                D = int(info_per_line[line_tuple]['D'])\n",
    "                idx = list(info_per_line.keys()).index(line_tuple)\n",
    "                ranks.append(D)\n",
    "                sublist.append(idx)\n",
    "            tensor = np.random.randn(*ranks)\n",
    "            operands+=[tensor,[*sublist]]\n",
    "\n",
    "            ranks_list.append(ranks)\n",
    "            sublist_list.append(sublist)\n",
    "        operands+= [[...,*outlist]]\n",
    "        path,info = oe.contract_path(*operands,optimize='random-greedy-128')\n",
    "\n",
    "        self.path         = path\n",
    "        self.sublist_list = sublist_list\n",
    "        self.outlist      = outlist\n",
    "    \n",
    "        # assume all element for the tensornetwork is indenpendent. \n",
    "        # The bond (include physics) list is l0,l1,l2,...,ln\n",
    "        # All element follow normal distribution X - sigma(0,alpha)\n",
    "        # where alpha is the variation we need to calculated.\n",
    "        # the output after contracting is also a tensor (may 1-rank scalar, 2-rank matrix, etc)\n",
    "        # the element of the output follow the composite normal distribution Y - sigma(0,beta)\n",
    "        # where beta = l0 x l1 x l2 x ... x ln x alpha^(# of tensor)\n",
    "        \n",
    "        unit_list = []\n",
    "        for i in range(len(sublist_list)):\n",
    "            shape = ranks_list[i]\n",
    "            P        = len(info_per_group[i]['element'])\n",
    "            control_mat = self.rde2D((P,*shape),0,physics_index=0,offset= 2 if i==center_group else 1)\n",
    "            bias_mat    = torch.normal(0,solved_std,(P,*shape))\n",
    "            bias_mat[control_mat.nonzero(as_tuple=True)]=0                           \n",
    "            unit_list.append(control_mat+bias_mat)\n",
    "            #unit_list.append(rdetemp((P,*shape),1 if i==center_group else None))\n",
    "            #unit_list.append()\n",
    "        assert len(unit_list)==len(sublist_list)\n",
    "\n",
    "        self.unit_list = [nn.Parameter(v) for v in unit_list]\n",
    "        for i, v in enumerate(self.unit_list):\n",
    "            self.register_parameter(f'unit_{i}', param=v)\n",
    "\n",
    "    def forward(self,input_data):\n",
    "        #input data shape B,1,W,H\n",
    "        assert len(input_data.shape)==4\n",
    "        input_data  = input_data.flatten(-3,-1)\n",
    "\n",
    "        _input = []\n",
    "        for i,unit in enumerate(self.unit_list):\n",
    "            patch_idx  = self.info_per_group[i]['element_idx']\n",
    "            batch_input= input_data[...,patch_idx] # B,P\n",
    "            batch_unit = torch.tensordot(batch_input,unit,dims=([-1], [0]))\n",
    "            #print(f\"{batch_input.norm()}-{unit.norm()}->{batch_unit.norm()}\")\n",
    "            _input.append(batch_unit)\n",
    "\n",
    "        operands=[]\n",
    "        for tensor,sublist in zip(_input,self.sublist_list):\n",
    "            operand = [tensor,[...,*sublist]]\n",
    "            operands+=operand\n",
    "        operands+= [[...,*self.outlist]]\n",
    "        return self.einsum_engine(*operands,optimize=self.path)\n"
   ]
  },
  {
   "cell_type": "code",
   "execution_count": 5,
   "metadata": {
    "hidden": true
   },
   "outputs": [],
   "source": [
    "from models.two_dim_model import PEPS_einsum_uniform_shape_6x6_fast"
   ]
  },
  {
   "cell_type": "code",
   "execution_count": 6,
   "metadata": {
    "hidden": true
   },
   "outputs": [],
   "source": [
    "model = PEPS_einsum_uniform_shape_6x6_fast(in_physics_bond=16)"
   ]
  },
  {
   "cell_type": "code",
   "execution_count": 10,
   "metadata": {
    "hidden": true
   },
   "outputs": [
    {
     "name": "stdout",
     "output_type": "stream",
     "text": [
      "bulk_tensors:0.0005047222948633134\n",
      "edge_tensors:7.03040132066235e-05\n",
      "corn_tensors:4.461875050765229e-06\n",
      "cent_tensors:3.6354849726194516e-06\n"
     ]
    }
   ],
   "source": [
    "for name,p in model.named_parameters():\n",
    "    print(f\"{name}:{p.grad.norm()}\")"
   ]
  },
  {
   "cell_type": "code",
   "execution_count": 8,
   "metadata": {
    "hidden": true
   },
   "outputs": [],
   "source": [
    "a=torch.randn(10,6,6,16)\n",
    "model(a).norm().backward()"
   ]
  },
  {
   "cell_type": "markdown",
   "metadata": {},
   "source": [
    "### Deep model (with nonlienar layer)"
   ]
  },
  {
   "cell_type": "code",
   "execution_count": 4,
   "metadata": {},
   "outputs": [],
   "source": [
    "from models.tensornetwork_base import TN_Base\n",
    "import torch.nn as nn\n",
    "from models.model_utils import *\n",
    "from models.two_dim_model import *"
   ]
  },
  {
   "cell_type": "markdown",
   "metadata": {},
   "source": [
    "###### the random set for tensornetwork"
   ]
  },
  {
   "cell_type": "code",
   "execution_count": null,
   "metadata": {},
   "outputs": [],
   "source": [
    "#         num_of_edge     = (W-1)*H+(H-1)*W\n",
    "#         num_of_unit     = W*H\n",
    "#         solved_var      = np.power(set_var,1/num_of_unit)*np.power(1/virtual_bond_dim,num_of_edge/(num_of_unit))/in_physics_bond\n",
    "#         solved_std      = np.sqrt(solved_var)\n",
    "#         print(solved_std)\n",
    "#         random_engine   = lambda shape:torch.normal(0,solved_std,shape)"
   ]
  },
  {
   "cell_type": "markdown",
   "metadata": {
    "heading_collapsed": true
   },
   "source": [
    "###### test"
   ]
  },
  {
   "cell_type": "code",
   "execution_count": 150,
   "metadata": {
    "hidden": true
   },
   "outputs": [],
   "source": [
    "W=H=10\n",
    "LW = W//2\n",
    "LH = H//2"
   ]
  },
  {
   "cell_type": "code",
   "execution_count": 151,
   "metadata": {
    "hidden": true
   },
   "outputs": [],
   "source": [
    "index_matrix = torch.LongTensor([[[i,j] for j in range(W)] for i in range(H)])\n",
    "bulk_index,edge_index,corn_index=PEPS_uniform_shape_symmetry_base.flatten_image_input(index_matrix)\n",
    "\n",
    "flag_matrix = torch.zeros(W,H).long()\n",
    "position_matrix = torch.zeros(W,H).long()\n",
    "\n",
    "for n,(i,j) in enumerate(corn_index.numpy()):\n",
    "    flag_matrix[i,j]=0\n",
    "    position_matrix[i,j]=n\n",
    "for n,(i,j) in enumerate(edge_index.numpy()):\n",
    "    flag_matrix[i,j]=1\n",
    "    position_matrix[i,j]=n\n",
    "for n,(i,j) in enumerate(bulk_index.numpy()):\n",
    "    flag_matrix[i,j]=2\n",
    "    position_matrix[i,j]=n\n",
    "\n",
    "flag_matrix     = flag_matrix\n",
    "position_matrix = position_matrix"
   ]
  },
  {
   "cell_type": "code",
   "execution_count": 157,
   "metadata": {
    "hidden": true
   },
   "outputs": [],
   "source": [
    "O=2;D=3;B=5\n",
    "corn_tensors = torch.randn(4,B,O,D,D)\n",
    "edge_tensors = torch.randn(2*(W-2)+2*(H-2),B,D,D,D)\n",
    "bulk_tensors = torch.randn((W-2)*(H-2),B,D,D,D,D)"
   ]
  },
  {
   "cell_type": "code",
   "execution_count": 158,
   "metadata": {
    "hidden": true
   },
   "outputs": [],
   "source": [
    "point_x = [0,0,1,1]\n",
    "point_y = [0,1,1,0]\n",
    "p       = part_idex[point_x,point_y]#(L,4,2)\n",
    "indexrule=position_matrix[p[...,0],p[...,1]]\n",
    "partrule =flag_matrix[p[...,0],p[...,1]][:,0]"
   ]
  },
  {
   "cell_type": "code",
   "execution_count": 159,
   "metadata": {
    "hidden": true
   },
   "outputs": [],
   "source": [
    "L=3"
   ]
  },
  {
   "cell_type": "code",
   "execution_count": 160,
   "metadata": {
    "hidden": true
   },
   "outputs": [],
   "source": [
    "point_x = [j for j in range(L)]\n",
    "point_y = [L for j in range(L)]\n",
    "p       = part_idex[point_x,point_y]#(L,4,2)\n",
    "indexrule=position_matrix[p[...,0],p[...,1]]\n",
    "partrule =flag_matrix[p[...,0],p[...,1]][:,0]\n",
    "should = PEPS_uniform_shape_symmetry_base.pick_tensors(partrule,indexrule,corn_tensors,edge_tensors,bulk_tensors)"
   ]
  },
  {
   "cell_type": "markdown",
   "metadata": {},
   "source": [
    "##### module"
   ]
  },
  {
   "cell_type": "code",
   "execution_count": 51,
   "metadata": {
    "code_folding": []
   },
   "outputs": [],
   "source": [
    "class PEPS_uniform_shape_symmetry_deep_model(PEPS_uniform_shape_symmetry_base):\n",
    "    def __init__(self, nonlinear_layer=nn.Tanh(),\n",
    "                       normlized_layer_module=nn.InstanceNorm3d,\n",
    "                       init_std=1e-10,set_var=1,**kargs):\n",
    "        super().__init__(**kargs)\n",
    "        H = self.H\n",
    "        W = self.W\n",
    "        LW= self.LW\n",
    "        LH= self.LH\n",
    "        D = self.D\n",
    "        O = self.O\n",
    "        P = self.P\n",
    "        num_of_edge     = (W-1)*H+(H-1)*W\n",
    "        num_of_unit     = W*H\n",
    "        solved_var      = np.power(set_var,1/num_of_unit)*np.power(1/D,num_of_edge/(num_of_unit))/P\n",
    "        solved_std      = np.sqrt(solved_var)\n",
    "        print(solved_std)\n",
    "        random_engine   = lambda shape:torch.normal(0,solved_std,shape)\n",
    "        self.corn_tensors = torch.nn.init.normal_(self.corn_tensors,mean=0.0, std=solved_std)\n",
    "        self.edge_tensors = torch.nn.init.normal_(self.edge_tensors,mean=0.0, std=solved_std)\n",
    "        self.bulk_tensors = torch.nn.init.normal_(self.bulk_tensors,mean=0.0, std=solved_std)\n",
    "        \n",
    "        flag_matrix     = self.flag_matrix\n",
    "        position_matrix = self.position_matrix\n",
    "        index_matrix    = self.index_matrix\n",
    "        part_lu_idex = torch.rot90(index_matrix,k=0)[:LW,:LH]\n",
    "        part_ru_idex = torch.rot90(index_matrix,k=1)[:LW,:LH]\n",
    "        part_rd_idex = torch.rot90(index_matrix,k=2)[:LW,:LH]\n",
    "        part_ld_idex = torch.rot90(index_matrix,k=3)[:LW,:LH]\n",
    "        part_idex = torch.stack([part_lu_idex,\n",
    "                                 part_ru_idex,\n",
    "                                 part_rd_idex,\n",
    "                                 part_ld_idex],-2)\n",
    "        \n",
    "        indexrules = []\n",
    "        partrules  = []\n",
    "        point_x = [0,0,1,1]\n",
    "        point_y = [0,1,1,0]\n",
    "        p       = part_idex[point_x,point_y]#(L,4,2)\n",
    "        indexrule=position_matrix[p[...,0],p[...,1]]\n",
    "        partrule =flag_matrix[p[...,0],p[...,1]][:,0]\n",
    "\n",
    "        indexrules.append(indexrule)\n",
    "        partrules.append(partrule)\n",
    "        edge_contraction_path=[]\n",
    "        for L in range(2,LW):\n",
    "            indexrule={}\n",
    "            partrule={}\n",
    "            tn2D_shape_list = [[(D,D,D)]+[(D,D,D,D)]*(L-1)]\n",
    "            path,sublist_list,outlist = get_best_path(tn2D_shape_list,store=path_recorder,type='sub')\n",
    "            edge_contraction_path.append([path,sublist_list,outlist])\n",
    "            point_x = [[j for j in range(L)],[L for j in range(L)]]\n",
    "            point_y = [[L for j in range(L)],[j for j in range(L)]]\n",
    "            p       = part_idex[point_x,point_y]#(2,L,4,2)\n",
    "            indexrule['edge']= position_matrix[p[...,0],p[...,1]].transpose(0,1)\n",
    "            partrule['edge'] = flag_matrix[p[...,0],p[...,1]][0][:,0]\n",
    "            \n",
    "            point_x = [L]\n",
    "            point_y = [L]\n",
    "            p       = part_idex[point_x,point_y]#(L,4,2)\n",
    "            \n",
    "            indexrule['cent']= position_matrix[p[...,0],p[...,1]]\n",
    "            partrule['cent'] = flag_matrix[p[...,0],p[...,1]][:,0]\n",
    "            \n",
    "            indexrules.append(indexrule)\n",
    "            partrules.append(partrule)\n",
    "        self.indexrules = indexrules\n",
    "        self.partrules  = partrules\n",
    "        self.edge_contraction_path = edge_contraction_path\n",
    "        self.nonlinear_layer = nonlinear_layer\n",
    "        self.normlized_layers = nn.ModuleList([normlized_layer_module(O,affine=True) for _ in self.partrules])\n",
    "        \n",
    "    def forward(self,input_data):\n",
    "        LH = self.LH\n",
    "        LW = self.LW\n",
    "        D  = self.D\n",
    "        bulk_tensors,edge_tensors,corn_tensors = self.get_batch_contraction_network(input_data)\n",
    "        corn_tensors = self.pick_tensors(self.partrules[0],self.indexrules[0],corn_tensors,edge_tensors,bulk_tensors)\n",
    "        corn = self.einsum_engine(\"lkoab,lkcdb,lkefcg,lkgah->lkohedf\",*corn_tensors).flatten(-4,-3).flatten(-2,-1)\n",
    "        corn = self.nonlinear_layer(corn)# (4,B,O,D,D)\n",
    "        corn = self.normlized_layers[0](corn.permute(1,2,0,3,4)).permute(2,0,1,3,4)\n",
    "        #corn = corn/D**2\n",
    "        for i,(partrule, indexrule) in enumerate(zip(self.partrules[1:],self.indexrules[1:])):\n",
    "            path,sublist_list,outlist = self.edge_contraction_path[i]\n",
    "            edge_tensors= self.pick_tensors(partrule['edge'],indexrule['edge'],corn_tensors,edge_tensors,bulk_tensors)\n",
    "            cent_tensor = self.pick_tensors(partrule['cent'],indexrule['cent'],corn_tensors,edge_tensors,bulk_tensors)[0]\n",
    "            L           = len(edge_tensors)\n",
    "            operands    = structure_operands(edge_tensors,sublist_list,outlist)\n",
    "            edge1,edge2 = self.einsum_engine(*operands,optimize=path).flatten(-L-L,-L-1).flatten(-L,-1)\n",
    "            corn = self.einsum_engine(\"lkoab,lkcdb,lkefcg,lkgah->lkohedf\",corn ,edge1,cent_tensor,edge2).flatten(-4,-3).flatten(-2,-1)\n",
    "            corn = self.nonlinear_layer(corn)\n",
    "            corn = self.normlized_layers[i+1](corn.permute(1,2,0,3,4)).permute(2,0,1,3,4)\n",
    "            #corn = corn/D**(L+1)\n",
    "        # corn now is a tensor (B,4,D^(L/2),D^(L/2))\n",
    "        corn   = corn/D**(LW/3)\n",
    "        corn   = self.einsum_engine(\"kvab,kxbc,kycd,kzda->kvxyz\",*corn).flatten(-4,-1)# -> (B,O^4)\n",
    "        \n",
    "        return corn"
   ]
  },
  {
   "cell_type": "code",
   "execution_count": 52,
   "metadata": {},
   "outputs": [
    {
     "name": "stdout",
     "output_type": "stream",
     "text": [
      "0.06538302430059152\n"
     ]
    }
   ],
   "source": [
    "model = PEPS_uniform_shape_symmetry_deep_model(W=6,H=6,virtual_bond_dim=5,in_physics_bond=16,\n",
    "                                               nonlinear_layer=nn.Identity(),\n",
    "                                               normlized_layer_module=nn.Identity)\n",
    "#model.weight_init(method=\"Expecatation_Normalization\")"
   ]
  },
  {
   "cell_type": "code",
   "execution_count": 53,
   "metadata": {},
   "outputs": [
    {
     "name": "stdout",
     "output_type": "stream",
     "text": [
      "(tensor(0.9999), tensor(-0.0018))\n",
      "(tensor(0.0016), tensor(-3.4246e-05))\n"
     ]
    }
   ],
   "source": [
    "with torch.no_grad():\n",
    "    x=torch.normal(mean=0,std=1,size=(1000,6,6,16));print(torch.std_mean(x))\n",
    "    x=model(x);print(torch.std_mean(x))"
   ]
  },
  {
   "cell_type": "markdown",
   "metadata": {
    "heading_collapsed": true
   },
   "source": [
    "# Contractor Test perodic condition"
   ]
  },
  {
   "cell_type": "code",
   "execution_count": 24,
   "metadata": {
    "code_folding": [],
    "hidden": true
   },
   "outputs": [],
   "source": [
    "D=4;L=H=W=5;B=10;\n",
    "tn2D_shape_list = [[(D,D)]+[(D,D,D)]*(H-1)]+[[(D,D,D)]+[(D,D,D,D)]*(H-1)]*(W-1)"
   ]
  },
  {
   "cell_type": "code",
   "execution_count": null,
   "metadata": {
    "hidden": true
   },
   "outputs": [],
   "source": [
    "path,sublist_list,outlist = get_best_path(tn2D_shape_list,store=path_recorder,type='sub')"
   ]
  },
  {
   "cell_type": "code",
   "execution_count": 21,
   "metadata": {
    "hidden": true
   },
   "outputs": [],
   "source": [
    "import numpy as np\n",
    "import torch\n",
    "import tensornetwork as tn\n",
    "import opt_einsum as oe\n",
    "import os,json\n",
    "from tensornetwork.network_components import get_all_nondangling,get_all_dangling\n",
    "from tensornetwork.contractors.opt_einsum_paths.utils import get_subgraph_dangling,get_all_edges"
   ]
  },
  {
   "cell_type": "code",
   "execution_count": 29,
   "metadata": {
    "hidden": true
   },
   "outputs": [
    {
     "data": {
      "text/plain": [
       "torch.Size([10, 4, 4, 4, 4])"
      ]
     },
     "execution_count": 29,
     "metadata": {},
     "output_type": "execute_result"
    }
   ],
   "source": [
    "equation   = \"kab,kcdb,kefcg,kgha->khedf\"\n",
    "tensor_l   = [torch.randn(B,D,D) ,torch.randn(B,D,D,D),torch.randn(B,D,D,D,D),torch.randn(B,D,D,D)]\n",
    "oe.contract_path(equation, *tensor_l)[0]\n",
    "path = oe.contract_path(equation, *tensor_l)[0]\n",
    "oe.contract(equation,*tensor_l,optimize=path).shape"
   ]
  },
  {
   "cell_type": "code",
   "execution_count": 38,
   "metadata": {
    "hidden": true
   },
   "outputs": [],
   "source": [
    "def rd_engine(*x,**kargs):\n",
    "    x =  torch.randn(*x,device='cpu',**kargs)\n",
    "    x/=  torch.norm(x).sqrt()\n",
    "    x =  torch.autograd.Variable(x,requires_grad=True)\n",
    "    return x"
   ]
  },
  {
   "cell_type": "code",
   "execution_count": 34,
   "metadata": {
    "hidden": true
   },
   "outputs": [],
   "source": [
    "path_recorder={}"
   ]
  },
  {
   "cell_type": "code",
   "execution_count": 32,
   "metadata": {
    "hidden": true
   },
   "outputs": [],
   "source": [
    "from models.model_utils import *"
   ]
  },
  {
   "cell_type": "code",
   "execution_count": 35,
   "metadata": {
    "hidden": true
   },
   "outputs": [],
   "source": [
    "tn2D_shape_list = [[(D,D)]+[(D,D,D)]*(H-1)]+[[(D,D,D)]+[(D,D,D,D)]*(H-1)]*(W-1)\n",
    "path,sublist_list,outlist = get_best_path(tn2D_shape_list,store=path_recorder,type='sub')"
   ]
  },
  {
   "cell_type": "code",
   "execution_count": 39,
   "metadata": {
    "hidden": true
   },
   "outputs": [],
   "source": [
    "tensor_list     = [rd_engine(B,*l) for t in tn2D_shape_list for l in t]\n",
    "operands=[]\n",
    "for tensor,sublist in zip(tensor_list,sublist_list):\n",
    "    operand = [tensor,[...,*sublist]]\n",
    "    operands+=operand\n",
    "operands+= [[...,*outlist]]"
   ]
  },
  {
   "cell_type": "code",
   "execution_count": 42,
   "metadata": {
    "hidden": true
   },
   "outputs": [
    {
     "data": {
      "text/plain": [
       "torch.Size([10, 4, 4, 4, 4, 4, 4, 4, 4, 4, 4])"
      ]
     },
     "execution_count": 42,
     "metadata": {},
     "output_type": "execute_result"
    }
   ],
   "source": [
    "oe.contract(*operands,optimize=path).shape"
   ]
  },
  {
   "cell_type": "markdown",
   "metadata": {
    "hidden": true
   },
   "source": [
    "#### test_the_TRG_on_even_number"
   ]
  },
  {
   "cell_type": "code",
   "execution_count": 23,
   "metadata": {
    "code_folding": [
     0
    ],
    "hidden": true
   },
   "outputs": [
    {
     "name": "stdout",
     "output_type": "stream",
     "text": [
      "Writing Contractor2D/test_the_TRG_on_even_number.py\n"
     ]
    }
   ],
   "source": [
    "# #%%writefile Contractor2D/test_the_TRG_on_even_number.py\n",
    "# import torch\n",
    "# from Contractor2D.utils import apply_SVD\n",
    "\n",
    "# tensor = torch.randn(4,4,2,2,2,2)\n",
    "\n",
    "# print(uniform_shape_tensor_contractor_tn(tensor))\n",
    "\n",
    "# truncate= None\n",
    "# lu_tensor = tensor[0::2,0::2]\n",
    "# ld_tensor = tensor[0::2,1::2]\n",
    "# ru_tensor = tensor[1::2,0::2]\n",
    "# rd_tensor = tensor[1::2,1::2]\n",
    "# lu_lu,lu_rd = apply_SVD(lu_tensor,left_bond=[0,1],right_bond=[2,3],truncate=truncate)# abk ,kcd\n",
    "# rd_lu,rd_rd = apply_SVD(rd_tensor,left_bond=[0,1],right_bond=[2,3],truncate=truncate)# abk, kcd\n",
    "# ld_ld,ld_ru = apply_SVD(ld_tensor,left_bond=[1,2],right_bond=[3,0],truncate=truncate)# bck, kda\n",
    "# ru_ld,ru_ru = apply_SVD(ru_tensor,left_bond=[1,2],right_bond=[3,0],truncate=truncate)# bck, kda\n",
    "# tensor1     = torch.einsum(\"whicd,whjac,whbak,whdbl->whijkl\",\n",
    "#                             lu_rd,\n",
    "#                             ld_ru,\n",
    "#                             rd_lu,\n",
    "#                             ru_ld)\n",
    "# tensor2     = torch.einsum(\"whicd,whjac,whbak,whdbl->whijkl\",\n",
    "#                            rd_rd,\n",
    "#                            ru_ru.roll(-1,1),\n",
    "#                            lu_lu.roll(shifts=(-1, -1), dims=(0, 1)),\n",
    "#                            ld_ld.roll(-1,0))\n",
    "\n",
    "# print(tensor1_and_tensor2_contractor_tn(tensor1,tensor2))\n",
    "\n",
    "# #print(torch.einsum(\"abcd,cdab->\",tensor1[0,0],tensor2[0,0]))\n",
    "# left,right  = apply_SVD(tensor1,left_bond=[0,1],right_bond=[2,3],truncate=truncate)# ABK,KCD\n",
    "# lower,uppe  = apply_SVD(tensor2,left_bond=[1,2],right_bond=[3,0],truncate=truncate)# BCK,KDA\n",
    "# # new_tensor  = torch.einsum(\"whicd,whjac,whbak,whdbl->whijkl\",\n",
    "# #                            right,\n",
    "# #                            uppe,\n",
    "# #                            left.roll(shifts=-1,dims=0),\n",
    "# #                            lower.roll(shifts=1,dims=1))\n",
    "# new_tensor  = torch.einsum(\"whadi,whjba,whkcb,whdcl->whijkl\",\n",
    "#                            lower,\n",
    "#                            right.roll(-1,1),\n",
    "#                            uppe.roll(-1,1),\n",
    "#                            left.roll(shifts=(-1, -1), dims=(0, 1))\n",
    "#                            )\n",
    "# print(uniform_shape_tensor_contractor_tn(new_tensor))\n",
    "\n",
    "# torch.einsum(\"abn,nji,lkh,hdc,caw,wkj,ilm,mbd->\",\n",
    "#              lu_lu[0,0],lu_rd[0,0],\n",
    "#              rd_lu[0,0],rd_rd[0,0],\n",
    "#              ld_ld[0,0],ld_ru[0,0],\n",
    "#              ru_ld[0,0],ru_ru[0,0])\n",
    "\n",
    "# torch.einsum(\"abji,lkdc,jcak,dilb->\",\n",
    "#              torch.einsum(\"abn,nji->abji\",lu_lu[0,0],lu_rd[0,0]),\n",
    "#              torch.einsum(\"lkh,hdc->lkdc\",rd_lu[0,0],rd_rd[0,0]),\n",
    "#              torch.einsum(\"caw,wkj->jcak\",ld_ld[0,0],ld_ru[0,0]),\n",
    "#              torch.einsum(\"ilm,mbd->dilb\",ru_ld[0,0],ru_ru[0,0]))\n",
    "\n",
    "# torch.dist(torch.einsum(\"abn,nji->abji\",lu_lu[0,0],lu_rd[0,0]),lu_tensor)\n",
    "\n",
    "# torch.dist(torch.einsum(\"lkh,hdc->lkdc\",rd_lu[0,0],rd_rd[0,0]),rd_tensor)\n",
    "\n",
    "# torch.dist(torch.einsum(\"caw,wkj->jcak\",ld_ld[0,0],ld_ru[0,0]),ld_tensor)\n",
    "\n",
    "# torch.dist(torch.einsum(\"ilm,mbd->dilb\",ru_ld[0,0],ru_ru[0,0]),ru_tensor)\n",
    "\n",
    "# torch.dist(lu_tensor[0,0],tensor[0,0])\n",
    "\n",
    "# torch.dist(rd_tensor[0,0],tensor[1,1])\n",
    "\n",
    "# torch.dist(ld_tensor[0,0],tensor[0,1])\n",
    "\n",
    "# torch.dist(ru_tensor[0,0],tensor[1,0])\n",
    "\n",
    "# torch.einsum(\"abji,lkdc,jcak,dilb->\",\n",
    "#              torch.einsum(\"abn,nji->abji\",lu_lu[0,0],lu_rd[0,0]),\n",
    "#              torch.einsum(\"lkh,hdc->lkdc\",rd_lu[0,0],rd_rd[0,0]),\n",
    "#              torch.einsum(\"caw,wkj->jcak\",ld_ld[0,0],ld_ru[0,0]),\n",
    "#              torch.einsum(\"ilm,mbd->dilb\",ru_ld[0,0],ru_ru[0,0]))\n",
    "\n",
    "# torch.einsum(\"abcd,idjb,ckal,jlik->\",lu_tensor[0,0],ld_tensor[0,0],ru_tensor[0,0],rd_tensor[0,0])\n",
    "\n",
    "# torch.einsum(\"abcd,ciaj,ldkb,kjli->\",lu_tensor[0,0],ld_tensor[0,0],ru_tensor[0,0],rd_tensor[0,0])\n",
    "\n",
    "# tensor1 = tensor[0,0]\n",
    "# tensor2 = tensor[0,1]\n",
    "# tensor3 = tensor[1,0]\n",
    "# tensor4 = tensor[1,1]\n",
    "# torch.einsum(\"abcd,idjb,ckal,jlik->\",tensor1,tensor2,tensor3,tensor4)"
   ]
  },
  {
   "cell_type": "markdown",
   "metadata": {
    "heading_collapsed": true,
    "hidden": true
   },
   "source": [
    "#### check_the_brdc_coding_on_even_number"
   ]
  },
  {
   "cell_type": "code",
   "execution_count": 24,
   "metadata": {
    "hidden": true
   },
   "outputs": [
    {
     "name": "stdout",
     "output_type": "stream",
     "text": [
      "Overwriting Contractor2D/check_the_brdc_coding_on_even_number.py\n"
     ]
    }
   ],
   "source": [
    "# #%%writefile Contractor2D/check_the_brdc_coding_on_even_number.py\n",
    "# import torch\n",
    "# from Contractor2D.utils import apply_SVD\n",
    "\n",
    "# tensor     = torch.randn(8,8,2,2,2,2)/2\n",
    "# uniform_shape_tensor_contractor_tn(tensor)\n",
    "\n",
    "# lu_lu_origin,lu_rd_origin = apply_SVD(tensor[0::2,0::2],left_bond=[0,1],right_bond=[2,3],truncate=None)# abk ,kcd\n",
    "# rd_lu_origin,rd_rd_origin = apply_SVD(tensor[1::2,1::2],left_bond=[0,1],right_bond=[2,3],truncate=None)# abk, kcd\n",
    "# ld_ld_origin,ld_ru_origin = apply_SVD(tensor[0::2,1::2],left_bond=[1,2],right_bond=[3,0],truncate=None)# bck, kda\n",
    "# ru_ld_origin,ru_ru_origin = apply_SVD(tensor[1::2,0::2],left_bond=[1,2],right_bond=[3,0],truncate=None)# bck, kda\n",
    "\n",
    "# lu_lu,lu_rd = apply_SVD(bulk_tensor[0::2,0::2],left_bond=[0,1],right_bond=[2,3],truncate=None)# abk ,kcd\n",
    "# rd_lu,rd_rd = apply_SVD(bulk_tensor[1::2,1::2],left_bond=[0,1],right_bond=[2,3],truncate=None)# abk, kcd\n",
    "# ld_ld,ld_ru = apply_SVD(bulk_tensor[0::2,1::2],left_bond=[1,2],right_bond=[3,0],truncate=None)# bck, kda\n",
    "# ru_ld,ru_ru = apply_SVD(bulk_tensor[1::2,0::2],left_bond=[1,2],right_bond=[3,0],truncate=None)# bck, kda\n",
    "\n",
    "# print(lu_lu.shape)\n",
    "# print(rd_lu.shape)\n",
    "# print(ld_ld.shape)\n",
    "# print(ru_ld.shape)\n",
    "\n",
    "# lu_lu_should = lu_lu_origin[:,:]    ;lu_rd_should =lu_rd_origin[:,:]\n",
    "# rd_lu_should = rd_lu_origin[:-1,:-1];rd_rd_should =rd_rd_origin[:-1,:-1]\n",
    "# ld_ld_should = ld_ld_origin[:,:-1]  ;ld_ru_should =ld_ru_origin[:,:-1]\n",
    "# ru_ld_should = ru_ld_origin[:-1,:]  ;ru_ru_should =ru_ru_origin[:-1,:]\n",
    "\n",
    "# print(lu_lu_should.shape)\n",
    "# print(rd_lu_should.shape)\n",
    "# print(ld_ld_should.shape)\n",
    "# print(ru_ld_should.shape)\n",
    "\n",
    "# print(torch.dist(lu_lu_should,lu_lu),torch.dist(lu_rd_should,lu_rd))\n",
    "# print(torch.dist(rd_lu_should,rd_lu),torch.dist(rd_rd_should,rd_rd))\n",
    "# print(torch.dist(ld_ld_should,ld_ld),torch.dist(ld_ru_should,ld_ru))\n",
    "# print(torch.dist(ru_ld_should,ru_ld),torch.dist(ru_ru_should,ru_ru))\n",
    "\n",
    "# # right_edge == bulk_tensor[-1]\n",
    "# # down_edge  == bulk_tensor[:,-1]\n",
    "\n",
    "# rd_lu_r,rd_rd_r = apply_SVD(right_edge[1::2],left_bond=[0,1],right_bond=[2,3],truncate=None)# abk, kcd\n",
    "# ru_ld_r,ru_ru_r = apply_SVD(right_edge[0::2],left_bond=[1,2],right_bond=[3,0],truncate=None)# bck, kda\n",
    "# rd_lu_d,rd_rd_d = apply_SVD( down_edge[1::2],left_bond=[0,1],right_bond=[2,3],truncate=None)# abk, kcd\n",
    "# ld_ld_d,ld_ru_d = apply_SVD( down_edge[0::2],left_bond=[1,2],right_bond=[3,0],truncate=None)# bck, kda\n",
    "# rd_lu_c,rd_rd_c = apply_SVD(corn_tensor     ,left_bond=[0,1],right_bond=[2,3],truncate=None)# bck, kda\n",
    "\n",
    "# rd_lu_r_should=rd_lu_origin[-1,:-1];rd_rd_r_should=rd_rd_origin[-1,:-1]\n",
    "# ru_ld_r_should=ru_ld_origin[-1,:]  ;ru_ru_r_should=ru_ru_origin[-1,:]\n",
    "# rd_lu_d_should=rd_lu_origin[:-1,-1];rd_rd_d_should=rd_rd_origin[:-1,-1]\n",
    "# ld_ld_d_should=ld_ld_origin[:,-1]  ;ld_ru_d_should=ld_ru_origin[:,-1]\n",
    "# rd_lu_c_should=rd_lu_origin[ -1,-1];rd_rd_c_should=rd_rd_origin[ -1,-1]\n",
    "\n",
    "# print(rd_lu_r_should.shape)\n",
    "# print(ru_ld_r_should.shape)\n",
    "# print(rd_lu_d_should.shape)\n",
    "# print(ld_ld_d_should.shape)\n",
    "# print(rd_lu_c_should.shape)\n",
    "\n",
    "# print(torch.dist(rd_lu_r_should,rd_lu_r),torch.dist(rd_rd_r_should,rd_rd_r))\n",
    "# print(torch.dist(ru_ld_r_should,ru_ld_r),torch.dist(ru_ru_r_should,ru_ru_r))\n",
    "# print(torch.dist(rd_lu_d_should,rd_lu_d),torch.dist(rd_rd_d_should,rd_rd_d))\n",
    "# print(torch.dist(ld_ld_d_should,ld_ld_d),torch.dist(ld_ru_d_should,ld_ru_d))\n",
    "# print(torch.dist(rd_lu_c_should,rd_lu_c),torch.dist(rd_rd_c_should,rd_rd_c))\n",
    "\n",
    "# tensor1     = torch.einsum(\"whicd,whjac,whbak,whdbl->whijkl\",\n",
    "#                                     lu_rd_origin,\n",
    "#                                     ld_ru_origin,\n",
    "#                                     rd_lu_origin,\n",
    "#                                     ru_ld_origin)\n",
    "# tensor2     = torch.einsum(\"whicd,whjac,whbak,whdbl->whijkl\",\n",
    "#                            rd_rd_origin,\n",
    "#                            ru_ru_origin.roll(shifts=-1,dims=1),\n",
    "#                            lu_lu_origin.roll(shifts=(-1, -1), dims=(0, 1)),\n",
    "#                            ld_ld_origin.roll(shifts=-1,dims=0))\n",
    "\n",
    "# bulk_tensor1_should= tensor1[:-1,:-1]\n",
    "# rigt_tensor1_should= tensor1[-1,:-1]\n",
    "# down_tensor1_should= tensor1[:-1,-1]\n",
    "# corn_tensor1_should= tensor1[-1,-1]\n",
    "# bulk_tensor2_should= tensor2[:-1,:-1]\n",
    "# rigt_tensor2_should= tensor2[-1,:-1]\n",
    "# down_tensor2_should= tensor2[:-1,-1]\n",
    "# corn_tensor2_should= tensor2[-1,-1]\n",
    "\n",
    "# print(bulk_tensor1_should.shape)\n",
    "# print(rigt_tensor1_should.shape)  \n",
    "# print(down_tensor1_should.shape)  \n",
    "# print(corn_tensor1_should.shape)  \n",
    "# print(bulk_tensor2_should.shape)  \n",
    "# print(rigt_tensor2_should.shape)  \n",
    "# print(down_tensor2_should.shape)  \n",
    "# print(corn_tensor2_should.shape)  \n",
    "\n",
    "# bulk_tensor1 = torch.einsum(\"whicd,whjac,whbak,whdbl->whijkl\",lu_rd[:-1,:-1],ld_ru[:-1],rd_lu,ru_ld[:,:-1])\n",
    "# rigt_tensor1 = torch.einsum(\"wicd,wjac,wbak,wdbl->wijkl\",lu_rd[-1,:-1],ld_ru[-1]   ,rd_lu_r, ru_ld_r[:-1])\n",
    "# down_tensor1 = torch.einsum(\"wicd,wjac,wbak,wdbl->wijkl\",lu_rd[:-1,-1],ld_ru_d[:-1],rd_lu_d, ru_ld[:,-1])\n",
    "# corn_tensor1 = torch.einsum(\" icd, jac, bak, dbl-> ijkl\",lu_rd[-1,-1] ,ld_ru_d[-1] ,rd_lu_c, ru_ld_r[-1])\n",
    "# bulk_tensor2 = torch.einsum(\"whicd,whjac,whbak,whdbl->whijkl\",rd_rd,ru_ru[:,1:],lu_lu[1:,1:],ld_ld[1:])\n",
    "# rigt_tensor2 = torch.einsum(\"wicd,wjac,wbak,wdbl->wijkl\",rd_rd_r, ru_ru_r[1:],lu_lu[0,1:], ld_ld[0])\n",
    "# down_tensor2 = torch.einsum(\"wicd,wjac,wbak,wdbl->wijkl\",rd_rd_d, ru_ru[:,0],lu_lu[1:,0], ld_ld_d[1:])\n",
    "# corn_tensor2 = torch.einsum(\" icd, jac, bak, dbl-> ijkl\",rd_rd_c, ru_ru_r[0],lu_lu[0,0] , ld_ld_d[0])\n",
    "\n",
    "# print(bulk_tensor1.shape)\n",
    "# print(rigt_tensor1.shape)  \n",
    "# print(down_tensor1.shape)  \n",
    "# print(corn_tensor1.shape)  \n",
    "# print(bulk_tensor2.shape)  \n",
    "# print(rigt_tensor2.shape)  \n",
    "# print(down_tensor2.shape)  \n",
    "# print(corn_tensor2.shape)  \n",
    "\n",
    "# print(torch.dist(bulk_tensor1,bulk_tensor1_should))\n",
    "# print(torch.dist(rigt_tensor1,rigt_tensor1_should))  \n",
    "# print(torch.dist(down_tensor1,down_tensor1_should))  \n",
    "# print(torch.dist(corn_tensor1,corn_tensor1_should))  \n",
    "# print(torch.dist(bulk_tensor2,bulk_tensor2_should))  \n",
    "# print(torch.dist(rigt_tensor2,rigt_tensor2_should))  \n",
    "# print(torch.dist(down_tensor2,down_tensor2_should))  \n",
    "# print(torch.dist(corn_tensor2,corn_tensor2_should)) \n",
    "\n",
    "# computer_vie_tn(tensor)\n",
    "\n",
    "# truncate = None\n",
    "# bulk_left ,bulk_right= apply_SVD(bulk_tensor1,left_bond=[0,1],right_bond=[2,3],truncate=truncate)\n",
    "# rigt_left ,rigt_right= apply_SVD(rigt_tensor1,left_bond=[0,1],right_bond=[2,3],truncate=truncate)\n",
    "# down_left ,down_right= apply_SVD(down_tensor1,left_bond=[0,1],right_bond=[2,3],truncate=truncate)\n",
    "# corn_left ,corn_right= apply_SVD(corn_tensor1,left_bond=[0,1],right_bond=[2,3],truncate=truncate)\n",
    "# bulk_lower,bulk_uppe = apply_SVD(bulk_tensor2,left_bond=[1,2],right_bond=[3,0],truncate=truncate)# BCK,KDA\n",
    "# rigt_lower,rigt_uppe = apply_SVD(rigt_tensor2,left_bond=[1,2],right_bond=[3,0],truncate=truncate)# BCK,KDA\n",
    "# down_lower,down_uppe = apply_SVD(down_tensor2,left_bond=[1,2],right_bond=[3,0],truncate=truncate)# BCK,KDA\n",
    "# corn_lower,corn_uppe = apply_SVD(corn_tensor2,left_bond=[1,2],right_bond=[3,0],truncate=truncate)# BCK,KDA\n",
    "\n",
    "# bulk_tensor           = torch.einsum(\"whadi,whjba,whkcb,whdcl->whijkl\", bulk_lower[:-1,:-1],bulk_right[:-1,1:],bulk_uppe[:-1,1:],bulk_left[1:,1:])\n",
    "# rigt_bulk_tensor      = torch.einsum(\"hadi,hjba,hkcb,hdcl->hijkl\"     , rigt_lower[:-1]    ,rigt_right[1:]    ,rigt_uppe[1:]    ,bulk_left[0,1:])\n",
    "# down_bulk_tensor      = torch.einsum(\"hadi,hjba,hkcb,hdcl->hijkl\"     , down_lower[:-1]    ,bulk_right[:-1,0] ,bulk_uppe[:-1,0] ,bulk_left[1:,0])\n",
    "# bulk_rigt_tensor      = torch.einsum(\"hadi,hjba,hkcb,hdcl->hijkl\"     , bulk_lower[-1,:-1] ,bulk_right[-1,1:] ,bulk_uppe[-1,1:] ,rigt_left[1:])\n",
    "# bulk_down_tensor      = torch.einsum(\"hadi,hjba,hkcb,hdcl->hijkl\"     , bulk_lower[:-1,-1] ,down_right[:-1]   ,down_uppe[:-1]   ,down_left[1:])\n",
    "# bulk_down_corn_tensor = torch.einsum(\"adi,jba,kcb,dcl->ijkl\"          , bulk_lower[-1,-1]  ,down_right[-1]    ,down_uppe[-1]    ,corn_left)\n",
    "# corn_right_bulk_tensor= torch.einsum(\"adi,jba,kcb,dcl->ijkl\"          , corn_lower         ,rigt_right[0]     ,rigt_uppe[0]     ,bulk_left[0,0])\n",
    "# right_corn_down_tensor= torch.einsum(\"adi,jba,kcb,dcl->ijkl\"          , rigt_lower[-1]     ,corn_right        ,corn_uppe        ,down_left[0])\n",
    "# down_bulk_right_tensor= torch.einsum(\"adi,jba,kcb,dcl->ijkl\"          , down_lower[-1]     ,bulk_right[-1,0]  ,bulk_uppe[-1,0]  ,rigt_left[0])\n",
    "\n",
    "# left,right  = apply_SVD(tensor1,left_bond=[0,1],right_bond=[2,3],truncate=truncate)# ABK,KCD\n",
    "# lower,uppe  = apply_SVD(tensor2,left_bond=[1,2],right_bond=[3,0],truncate=truncate)# BCK,KDA\n",
    "# new_tensor_should  = torch.einsum(\"whadi,whjba,whkcb,whdcl->whijkl\",\n",
    "#                    lower,\n",
    "#                    right.roll(-1,1),\n",
    "#                    uppe.roll(-1,1),\n",
    "#                    left.roll(shifts=(-1, -1), dims=(0, 1))\n",
    "#                    )\n",
    "\n",
    "# print(bulk_tensor.shape)           \n",
    "# print(rigt_bulk_tensor.shape)      \n",
    "# print(down_bulk_tensor.shape)      \n",
    "# print(bulk_rigt_tensor.shape)      \n",
    "# print(bulk_down_tensor.shape)      \n",
    "# print(bulk_down_corn_tensor.shape) \n",
    "# print(corn_right_bulk_tensor.shape)\n",
    "# print(right_corn_down_tensor.shape)\n",
    "# print(down_bulk_right_tensor.shape)\n",
    "\n",
    "# bulk_tensor_should            = new_tensor_should[:-2, :-2]\n",
    "# rigt_bulk_tensor_should       = new_tensor_should[-1,:-2]\n",
    "# down_bulk_tensor_should       = new_tensor_should[:-2,-1]\n",
    "# bulk_rigt_tensor_should       = new_tensor_should[-2,:-2]\n",
    "# bulk_down_tensor_should       = new_tensor_should[:-2,-2]\n",
    "# bulk_down_corn_tensor_should  = new_tensor_should[-2,-2]\n",
    "# corn_right_bulk_tensor_should = new_tensor_should[-1,-1]\n",
    "# right_corn_down_tensor_should = new_tensor_should[-1,-2]\n",
    "# down_bulk_right_tensor_should = new_tensor_should[-2,-1]\n",
    "\n",
    "# print(bulk_tensor_should.shape           )\n",
    "# print(rigt_bulk_tensor_should.shape      )\n",
    "# print(down_bulk_tensor_should.shape      )\n",
    "# print(bulk_rigt_tensor_should.shape      )\n",
    "# print(bulk_down_tensor_should.shape      )\n",
    "# print(bulk_down_corn_tensor_should.shape )\n",
    "# print(corn_right_bulk_tensor_should.shape)\n",
    "# print(right_corn_down_tensor_should.shape)\n",
    "# print(down_bulk_right_tensor_should.shape)\n",
    "\n",
    "# print(torch.dist(bulk_tensor_should            ,bulk_tensor           ))\n",
    "# print(torch.dist(rigt_bulk_tensor_should       ,rigt_bulk_tensor      ))\n",
    "# print(torch.dist(down_bulk_tensor_should       ,down_bulk_tensor      ))\n",
    "# print(torch.dist(bulk_rigt_tensor_should       ,bulk_rigt_tensor      ))\n",
    "# print(torch.dist(bulk_down_tensor_should       ,bulk_down_tensor      ))\n",
    "# print(torch.dist(bulk_down_corn_tensor_should  ,bulk_down_corn_tensor ))\n",
    "# print(torch.dist(corn_right_bulk_tensor_should ,corn_right_bulk_tensor))\n",
    "# print(torch.dist(right_corn_down_tensor_should ,right_corn_down_tensor))\n",
    "# print(torch.dist(down_bulk_right_tensor_should ,down_bulk_right_tensor))\n",
    "\n",
    "# new_tensor = torch.cat(\n",
    "#     [torch.cat([bulk_tensor,bulk_rigt_tensor.unsqueeze(0),rigt_bulk_tensor.unsqueeze(0)]),\n",
    "#      torch.cat([bulk_down_tensor,bulk_down_corn_tensor.unsqueeze(0),right_corn_down_tensor.unsqueeze(0)]).unsqueeze(1),\n",
    "#      torch.cat([down_bulk_tensor,down_bulk_right_tensor.unsqueeze(0),corn_right_bulk_tensor.unsqueeze(0)]).unsqueeze(1),\n",
    "#     ],dim=1)"
   ]
  },
  {
   "cell_type": "markdown",
   "metadata": {
    "heading_collapsed": true,
    "hidden": true
   },
   "source": [
    "#### odd number"
   ]
  },
  {
   "cell_type": "code",
   "execution_count": 56,
   "metadata": {
    "code_folding": [],
    "hidden": true,
    "scrolled": true
   },
   "outputs": [],
   "source": [
    "# #%%writefile Contractor2D/test_for_TRG_odd_number.py\n",
    "# import torch\n",
    "\n",
    "# from Contractor2D.utils import apply_SVD\n",
    "\n",
    "# tensor = torch.randn(5,5,2,2,2,2)\n",
    "# print(f\"the input tensor network store in {tensor.shape}\")\n",
    "# print(f\"the ultimate result should be {uniform_shape_tensor_contractor_tn(tensor)}\")\n",
    "\n",
    "\n",
    "# right_edge1,right_edge2 = tensor[-2:]\n",
    "# right_edge = torch.einsum(\"wabcd,wedfg->waebcfg\",right_edge1,right_edge2).flatten(1,2).flatten(-3,-2)\n",
    "# down_edge1, down_edge2 = tensor[:-2,-2:].transpose(1,0)\n",
    "# corn_tensor1,corn_tensor2= right_edge[-2:]\n",
    "# bulk_tensor= tensor[:-2,:-2]\n",
    "# right_edge = right_edge[:-2]\n",
    "# down_edge  = torch.einsum(\"wabcd,wcefg->wabefdg\",down_edge1,down_edge2).flatten(2,3).flatten(-2,-1)\n",
    "# corn_tensor= torch.einsum(\"abcd,cefg->abefdg\",corn_tensor1,corn_tensor2).flatten(1,2).flatten(-2,-1)\n",
    "\n",
    "# print(f\"the input bulk_right_left_corner tensor :\")\n",
    "# print(f\"bulk_tensor.shape = {bulk_tensor.shape}\")\n",
    "# print(f\"right_edge.shape  = {right_edge.shape }\")\n",
    "# print(f\"down_edge.shape   = {down_edge.shape  }\")\n",
    "# print(f\"corn_tensor.shape = {corn_tensor.shape}\")\n",
    "\n",
    "# print(f\"the bulk_right_left_corner_contractor result {bulk_right_left_corner_contractor_tn(bulk_tensor,right_edge,down_edge,corn_tensor)}\")\n",
    "\n",
    "# lu_lu,lu_rd = apply_SVD(bulk_tensor[0::2,0::2],left_bond=[0,1],right_bond=[2,3],truncate=None)# abk ,kcd\n",
    "# rd_lu,rd_rd = apply_SVD(bulk_tensor[1::2,1::2],left_bond=[0,1],right_bond=[2,3],truncate=None)# abk, kcd\n",
    "# ld_ld,ld_ru = apply_SVD(bulk_tensor[0::2,1::2],left_bond=[1,2],right_bond=[3,0],truncate=None)# bck, kda\n",
    "# ru_ld,ru_ru = apply_SVD(bulk_tensor[1::2,0::2],left_bond=[1,2],right_bond=[3,0],truncate=None)# bck, kda\n",
    "\n",
    "# rd_lu_r,rd_rd_r = apply_SVD(right_edge[1::2],left_bond=[0,1],right_bond=[2,3],truncate=None)# abk, kcd\n",
    "# ru_ld_r,ru_ru_r = apply_SVD(right_edge[0::2],left_bond=[1,2],right_bond=[3,0],truncate=None)# bck, kda\n",
    "# rd_lu_d,rd_rd_d = apply_SVD( down_edge[1::2],left_bond=[0,1],right_bond=[2,3],truncate=None)# abk, kcd\n",
    "# ld_ld_d,ld_ru_d = apply_SVD( down_edge[0::2],left_bond=[1,2],right_bond=[3,0],truncate=None)# bck, kda\n",
    "# rd_lu_c,rd_rd_c = apply_SVD(corn_tensor     ,left_bond=[0,1],right_bond=[2,3],truncate=None)# bck, kda\n",
    "\n",
    "# bulk_tensor1 = torch.einsum(\"whicd,whjac,whbak,whdbl->whijkl\",lu_rd[:-1,:-1],ld_ru[:-1],rd_lu,ru_ld[:,:-1])\n",
    "# rigt_tensor1 = torch.einsum(\"wicd,wjac,wbak,wdbl->wijkl\",lu_rd[-1,:-1],ld_ru[-1]   ,rd_lu_r, ru_ld_r[:-1])\n",
    "# down_tensor1 = torch.einsum(\"wicd,wjac,wbak,wdbl->wijkl\",lu_rd[:-1,-1],ld_ru_d[:-1],rd_lu_d, ru_ld[:,-1])\n",
    "# corn_tensor1 = torch.einsum(\" icd, jac, bak, dbl-> ijkl\",lu_rd[-1,-1] ,ld_ru_d[-1] ,rd_lu_c, ru_ld_r[-1])\n",
    "# bulk_tensor2 = torch.einsum(\"whicd,whjac,whbak,whdbl->whijkl\",rd_rd,ru_ru[:,1:],lu_lu[1:,1:],ld_ld[1:])\n",
    "# rigt_tensor2 = torch.einsum(\"wicd,wjac,wbak,wdbl->wijkl\",rd_rd_r, ru_ru_r[1:],lu_lu[0,1:], ld_ld[0])\n",
    "# down_tensor2 = torch.einsum(\"wicd,wjac,wbak,wdbl->wijkl\",rd_rd_d, ru_ru[:,0],lu_lu[1:,0], ld_ld_d[1:])\n",
    "# corn_tensor2 = torch.einsum(\" icd, jac, bak, dbl-> ijkl\",rd_rd_c, ru_ru_r[0],lu_lu[0,0] , ld_ld_d[0])\n",
    "\n",
    "# print(\"phase1:result\")\n",
    "# print(f\"bulk_tensor1.shape={bulk_tensor1.shape}\")\n",
    "# print(f\"rigt_tensor1.shape={rigt_tensor1.shape}\")\n",
    "# print(f\"down_tensor1.shape={down_tensor1.shape}\")\n",
    "# print(f\"corn_tensor1.shape={corn_tensor1.shape}\")\n",
    "# print()\n",
    "# print(f\"bulk_tensor2.shape={bulk_tensor2.shape}\")\n",
    "# print(f\"rigt_tensor2.shape={rigt_tensor2.shape}\")\n",
    "# print(f\"down_tensor2.shape={down_tensor2.shape}\")\n",
    "# print(f\"corn_tensor2.shape={corn_tensor2.shape}\")\n",
    "\n",
    "# # if we don't truncate at this step, the map will become too complex and can not code as unique way,\n",
    "# # so in such case, we will require truncate 16 in here and the recommend input not big than 32.\n",
    "# truncate = None\n",
    "# bulk_left ,bulk_right= apply_SVD(bulk_tensor1,left_bond=[0,1],right_bond=[2,3],truncate=truncate)\n",
    "# rigt_left ,rigt_right= apply_SVD(rigt_tensor1,left_bond=[0,1],right_bond=[2,3],truncate=truncate)\n",
    "# down_left ,down_right= apply_SVD(down_tensor1,left_bond=[0,1],right_bond=[2,3],truncate=truncate)\n",
    "# corn_left ,corn_right= apply_SVD(corn_tensor1,left_bond=[0,1],right_bond=[2,3],truncate=truncate)\n",
    "# bulk_lower,bulk_uppe = apply_SVD(bulk_tensor2,left_bond=[1,2],right_bond=[3,0],truncate=truncate)# BCK,KDA\n",
    "# rigt_lower,rigt_uppe = apply_SVD(rigt_tensor2,left_bond=[1,2],right_bond=[3,0],truncate=truncate)# BCK,KDA\n",
    "# down_lower,down_uppe = apply_SVD(down_tensor2,left_bond=[1,2],right_bond=[3,0],truncate=truncate)# BCK,KDA\n",
    "# corn_lower,corn_uppe = apply_SVD(corn_tensor2,left_bond=[1,2],right_bond=[3,0],truncate=truncate)# BCK,KDA\n",
    "\n",
    "# bulk_tensor_cent      = torch.einsum(\"whadi,whjba,whkcb,whdcl->whijkl\", bulk_lower[:-1,:-1],bulk_right[:-1,1:],bulk_uppe[:-1,1:],bulk_left[1:,1:])\n",
    "# rigt_bulk_tensor      = torch.einsum(\"hadi,hjba,hkcb,hdcl->hijkl\"     , rigt_lower[:-1]    ,rigt_right[1:]    ,rigt_uppe[1:]    ,bulk_left[0,1:])\n",
    "# down_bulk_tensor      = torch.einsum(\"hadi,hjba,hkcb,hdcl->hijkl\"     , down_lower[:-1]    ,bulk_right[:-1,0] ,bulk_uppe[:-1,0] ,bulk_left[1:,0])\n",
    "# bulk_rigt_tensor      = torch.einsum(\"hadi,hjba,hkcb,hdcl->hijkl\"     , bulk_lower[-1,:-1] ,bulk_right[-1,1:] ,bulk_uppe[-1,1:] ,rigt_left[1:])\n",
    "# bulk_down_tensor      = torch.einsum(\"hadi,hjba,hkcb,hdcl->hijkl\"     , bulk_lower[:-1,-1] ,down_right[:-1]   ,down_uppe[:-1]   ,down_left[1:])\n",
    "# bulk_down_corn_tensor = torch.einsum(\"adi,jba,kcb,dcl->ijkl\"          , bulk_lower[-1,-1]  ,down_right[-1]    ,down_uppe[-1]    ,corn_left)\n",
    "# corn_right_bulk_tensor= torch.einsum(\"adi,jba,kcb,dcl->ijkl\"          , corn_lower         ,rigt_right[0]     ,rigt_uppe[0]     ,bulk_left[0,0])\n",
    "# right_corn_down_tensor= torch.einsum(\"adi,jba,kcb,dcl->ijkl\"          , rigt_lower[-1]     ,corn_right        ,corn_uppe        ,down_left[0])\n",
    "# down_bulk_right_tensor= torch.einsum(\"adi,jba,kcb,dcl->ijkl\"          , down_lower[-1]     ,bulk_right[-1,0]  ,bulk_uppe[-1,0]  ,rigt_left[0])\n",
    "# # down_bulk_tensor       = down_bulk_tensor[None]\n",
    "# # down_bulk_right_tensor = down_bulk_right_tensor[None]\n",
    "# # corn_right_bulk_tensor = corn_right_bulk_tensor[None]\n",
    "# # bulk_down_corn_tensor  = bulk_down_corn_tensor[None]\n",
    "\n",
    "# print(\"phase2 result:\")\n",
    "# print(f\"bulk_tensor_cent.shape      ={bulk_tensor_cent.shape      }\")\n",
    "# print(f\"down_bulk_tensor.shape      ={down_bulk_tensor.shape      }\")      \n",
    "# print(f\"bulk_rigt_tensor.shape      ={bulk_rigt_tensor.shape      }\")   \n",
    "# print(f\"down_bulk_right_tensor.shape={down_bulk_right_tensor.shape}\")\n",
    "# print(f\"rigt_bulk_tensor.shape      ={rigt_bulk_tensor.shape      }\")      \n",
    "# print(f\"corn_right_bulk_tensor.shape={corn_right_bulk_tensor.shape}\")\n",
    "# print(f\"bulk_down_tensor.shape      ={bulk_down_tensor.shape      }\") \n",
    "# print(f\"bulk_down_corn_tensor.shape ={bulk_down_corn_tensor.shape }\") \n",
    "# print(f\"right_corn_down_tensor.shape={right_corn_down_tensor.shape}\")\n",
    "\n",
    "# bulk_tensor = torch.cat([\n",
    "#     torch.cat([bulk_tensor_cent,down_bulk_tensor[None]],1),\n",
    "#     torch.cat([bulk_rigt_tensor,down_bulk_right_tensor[None]])[None]\n",
    "# ])\n",
    "\n",
    "# bulk_tensor.shape\n",
    "\n",
    "# bulk_tensor = down_bulk_right_tensor[None][None]\n",
    "\n",
    "# right_edge = torch.cat([rigt_bulk_tensor,corn_right_bulk_tensor[None]])\n",
    "# down_edge  = torch.cat([bulk_down_tensor,bulk_down_corn_tensor[None]])\n",
    "# corn_tensor =right_corn_down_tensor\n",
    "\n",
    "# print(f\"next tensor shape:\")\n",
    "# print(f\"bulk_tensor.shape = {bulk_tensor.shape}\")\n",
    "# print(f\"right_edge.shape  = {right_edge.shape }\")\n",
    "# print(f\"down_edge.shape   = {down_edge.shape  }\")\n",
    "# print(f\"corn_tensor.shape = {corn_tensor.shape}\")\n",
    "\n",
    "# print(f\"next tensor contraction result:\")\n",
    "# print(bulk_right_left_corner_contractor_tn(bulk_tensor,right_edge,down_edge,corn_tensor))"
   ]
  },
  {
   "cell_type": "markdown",
   "metadata": {
    "heading_collapsed": true,
    "hidden": true
   },
   "source": [
    "#### time test for different engine (only bulk $2^n$)"
   ]
  },
  {
   "cell_type": "code",
   "execution_count": 20,
   "metadata": {
    "code_folding": [
     0
    ],
    "hidden": true
   },
   "outputs": [],
   "source": [
    "# import torch_semiring_einsum\n",
    "# def TRT_semiring(tensor,truncate=None, block_size=5):\n",
    "#     W,H = tensor.shape[:2]\n",
    "#     einsum_1 = torch_semiring_einsum.compile_equation(\"whicd,whjac,whbak,whdbl->whijkl\")\n",
    "#     einsum_2 = torch_semiring_einsum.compile_equation(\"whadi,whjba,whkcb,whdcl->whijkl\")\n",
    "#     einsum_3 = torch_semiring_einsum.compile_equation(\"abcd,ciaj,ldkb,kjli->\")\n",
    "#     while True:\n",
    "#         print(tensor.shape)\n",
    "#         W,H = tensor.shape[:2]\n",
    "#         #if W<=1 or H<=1:break\n",
    "#         lu_tensor = tensor[0::2,0::2]\n",
    "#         ld_tensor = tensor[0::2,1::2]\n",
    "#         ru_tensor = tensor[1::2,0::2]\n",
    "#         rd_tensor = tensor[1::2,1::2]\n",
    "#         if W<=2 or H<=2:break\n",
    "            \n",
    "#         lu_lu,lu_rd = apply_SVD(lu_tensor,left_bond=[0,1],right_bond=[2,3],truncate=truncate)# abk ,kcd\n",
    "#         rd_lu,rd_rd = apply_SVD(rd_tensor,left_bond=[0,1],right_bond=[2,3],truncate=truncate)# abk, kcd\n",
    "#         ld_ld,ld_ru = apply_SVD(ld_tensor,left_bond=[1,2],right_bond=[3,0],truncate=truncate)# bck, kda\n",
    "#         ru_ld,ru_ru = apply_SVD(ru_tensor,left_bond=[1,2],right_bond=[3,0],truncate=truncate)# bck, kda\n",
    "#         tensor1     = torch_semiring_einsum.einsum(einsum_1,\n",
    "#                                     lu_rd,\n",
    "#                                     ld_ru,\n",
    "#                                     rd_lu,\n",
    "#                                     ru_ld,block_size=block_size)\n",
    "#         tensor2     = torch_semiring_einsum.einsum(einsum_1,\n",
    "#                                    rd_rd,\n",
    "#                                    ru_ru.roll(shifts=-1,dims=1),\n",
    "#                                    lu_lu.roll(shifts=(-1, -1), dims=(0, 1)),\n",
    "#                                    ld_ld.roll(shifts=-1,dims=0),block_size=block_size)\n",
    "#         left,right  = apply_SVD(tensor1,left_bond=[0,1],right_bond=[2,3],truncate=truncate)# ABK,KCD\n",
    "#         lower,uppe  = apply_SVD(tensor2,left_bond=[1,2],right_bond=[3,0],truncate=truncate)# BCK,KDA\n",
    "#         tensor  = torch_semiring_einsum.einsum(einsum_2,\n",
    "#                            lower,\n",
    "#                            right.roll(-1,1),\n",
    "#                            uppe.roll(-1,1),\n",
    "#                            left.roll(shifts=(-1, -1), dims=(0, 1)),block_size=block_size\n",
    "#                            )\n",
    "#     value   = torch_semiring_einsum.einsum(einsum_3,\n",
    "#                            lu_tensor[0,0],ld_tensor[0,0],\n",
    "#                            ru_tensor[0,0],rd_tensor[0,0],block_size=block_size)\n",
    "#     #value = torch.einsum(\"abab->\",tensor[0,0])\n",
    "#     return value"
   ]
  },
  {
   "cell_type": "code",
   "execution_count": null,
   "metadata": {
    "hidden": true
   },
   "outputs": [],
   "source": [
    "tensor = torch.randn(14,14,2,2,2,2)/2"
   ]
  },
  {
   "cell_type": "code",
   "execution_count": 4,
   "metadata": {
    "code_folding": [
     0
    ],
    "hidden": true
   },
   "outputs": [],
   "source": [
    "def TRT(tensor,truncate=None,einsum_engin=torch.einsum):\n",
    "    W,H = tensor.shape[:2]\n",
    "    while True:\n",
    "        print(tensor.shape)\n",
    "        W,H = tensor.shape[:2]\n",
    "        #if W<=1 or H<=1:break\n",
    "        lu_tensor = tensor[0::2,0::2]\n",
    "        ld_tensor = tensor[0::2,1::2]\n",
    "        ru_tensor = tensor[1::2,0::2]\n",
    "        rd_tensor = tensor[1::2,1::2]\n",
    "        if W<=2 or H<=2:break\n",
    "#         print(\"SVD:time\"),\n",
    "#         start_time  = time.time()\n",
    "        lu_lu,lu_rd = apply_SVD(lu_tensor,left_bond=[0,1],right_bond=[2,3],truncate=truncate)# abk ,kcd\n",
    "        rd_lu,rd_rd = apply_SVD(rd_tensor,left_bond=[0,1],right_bond=[2,3],truncate=truncate)# abk, kcd\n",
    "        ld_ld,ld_ru = apply_SVD(ld_tensor,left_bond=[1,2],right_bond=[3,0],truncate=truncate)# bck, kda\n",
    "        ru_ld,ru_ru = apply_SVD(ru_tensor,left_bond=[1,2],right_bond=[3,0],truncate=truncate)# bck, kda\n",
    "#         cost = time.time() - start_time\n",
    "#         print(cost)       \n",
    "#         print(\"einsum:time\"),\n",
    "#         start_time  = time.time()\n",
    "        tensor1     = einsum_engin(\"whicd,whjac,whbak,whdbl->whijkl\",\n",
    "                                    lu_rd,\n",
    "                                    ld_ru,\n",
    "                                    rd_lu,\n",
    "                                    ru_ld)\n",
    "        tensor2     = einsum_engin(\"whicd,whjac,whbak,whdbl->whijkl\",\n",
    "                                   rd_rd,\n",
    "                                   ru_ru.roll(shifts=-1,dims=1),\n",
    "                                   lu_lu.roll(shifts=(-1, -1), dims=(0, 1)),\n",
    "                                   ld_ld.roll(shifts=-1,dims=0))\n",
    "#         cost = time.time() - start_time\n",
    "#         print(cost)\n",
    "#         print(\"SVD:time\"),\n",
    "#         start_time  = time.time()\n",
    "        \n",
    "        left,right  = apply_SVD(tensor1,left_bond=[0,1],right_bond=[2,3],truncate=truncate)# ABK,KCD\n",
    "        lower,uppe  = apply_SVD(tensor2,left_bond=[1,2],right_bond=[3,0],truncate=truncate)# BCK,KDA\n",
    "#         cost = time.time() - start_time\n",
    "#         print(cost)\n",
    "#         print(\"einsum:time\"),\n",
    "#         start_time  = time.time()\n",
    "        tensor  = einsum_engin(\"whadi,whjba,whkcb,whdcl->whijkl\",\n",
    "                           lower,\n",
    "                           right.roll(-1,1),\n",
    "                           uppe.roll(-1,1),\n",
    "                           left.roll(shifts=(-1, -1), dims=(0, 1))\n",
    "                           )\n",
    "#         cost = time.time() - start_time\n",
    "#         print(cost)\n",
    "    value   = einsum_engin(\"abcd,ciaj,ldkb,kjli->\",lu_tensor[0,0],ld_tensor[0,0],ru_tensor[0,0],rd_tensor[0,0])\n",
    "    #value = torch.einsum(\"abab->\",tensor[0,0])\n",
    "    return value"
   ]
  },
  {
   "cell_type": "code",
   "execution_count": null,
   "metadata": {
    "hidden": true
   },
   "outputs": [],
   "source": [
    "tensor = torch.randn(14,14,2,2,2,2)/2"
   ]
  },
  {
   "cell_type": "code",
   "execution_count": 4,
   "metadata": {
    "hidden": true
   },
   "outputs": [],
   "source": [
    "engine=lambda equ,*karg:torch_semiring_einsum.einsum(torch_semiring_einsum.compile_equation(equ),*karg,block_size=10)"
   ]
  },
  {
   "cell_type": "code",
   "execution_count": 24,
   "metadata": {
    "hidden": true,
    "scrolled": true
   },
   "outputs": [
    {
     "name": "stdout",
     "output_type": "stream",
     "text": [
      "2.49 ms ± 10 µs per loop (mean ± std. dev. of 7 runs, 100 loops each)\n"
     ]
    }
   ],
   "source": [
    "tensor = torch.randn(4,4,2,2,2,2)\n",
    "%timeit TRT(tensor,truncate=None)"
   ]
  },
  {
   "cell_type": "code",
   "execution_count": 5,
   "metadata": {
    "code_folding": [],
    "hidden": true
   },
   "outputs": [],
   "source": []
  },
  {
   "cell_type": "code",
   "execution_count": 23,
   "metadata": {
    "hidden": true
   },
   "outputs": [
    {
     "name": "stdout",
     "output_type": "stream",
     "text": [
      "3.67 ms ± 1.43 µs per loop (mean ± std. dev. of 7 runs, 100 loops each)\n"
     ]
    }
   ],
   "source": [
    "%timeit TRT(tensor,truncate=None,einsum_engin=contract)"
   ]
  },
  {
   "cell_type": "markdown",
   "metadata": {
    "heading_collapsed": true,
    "hidden": true
   },
   "source": [
    "#### Boundary MPS"
   ]
  },
  {
   "cell_type": "code",
   "execution_count": 65,
   "metadata": {
    "hidden": true
   },
   "outputs": [],
   "source": [
    "import numpy as np\n",
    "import torch\n",
    "import time\n",
    "from tqdm.notebook import trange, tqdm\n",
    "from utils import *\n",
    "\n",
    "\n",
    "def rd_engine(*x,**kargs):\n",
    "    x =  torch.randn(*x,device='cpu',**kargs)\n",
    "    x/=  torch.norm(x).sqrt()\n",
    "    return x"
   ]
  },
  {
   "cell_type": "code",
   "execution_count": 3,
   "metadata": {
    "hidden": true
   },
   "outputs": [],
   "source": [
    "D=4;P=4;L=7;\n",
    "# top_mps_list    = [rd_engine(P,D)] + [rd_engine(L-2,D,P,D)]  + [rd_engine(D,P)]\n",
    "# middle_mpo_list = [[rd_engine(P,D,P)]+[rd_engine(L-2,D,P,D,P)]+ [rd_engine(D,P,P)]\n",
    "#                   for _ in range(L-2)]\n",
    "# bottom_mps_list = [rd_engine(P,D)] + [rd_engine(L-2,D,P,D)]  + [rd_engine(D,P)]\n",
    "# peps  = [top_mps_list]+middle_mpo_list+[bottom_mps_list]"
   ]
  },
  {
   "cell_type": "code",
   "execution_count": 2,
   "metadata": {
    "hidden": true
   },
   "outputs": [],
   "source": [
    "D=4;P=4;L=7;\n",
    "top_mps_list    = [rd_engine(D,D)]     + [rd_engine(L-2,D,D,D)]  + [rd_engine(D,D)]\n",
    "middle_mpo_list = [[rd_engine(D,D,D)]  + [rd_engine(L-2,D,D,D,D)]+ [rd_engine(D,D,D)]\n",
    "                  for _ in range(L-2)]\n",
    "bottom_mps_list = [rd_engine(D,D)]     + [rd_engine(L-2,D,D,D)]  + [rd_engine(D,D)]\n",
    "peps  = [top_mps_list]+middle_mpo_list+[bottom_mps_list]"
   ]
  },
  {
   "cell_type": "code",
   "execution_count": 13,
   "metadata": {
    "code_folding": [
     3,
     64,
     94,
     127,
     131,
     159
    ],
    "hidden": true
   },
   "outputs": [],
   "source": [
    "# from engine.torch_dense import approxmate_mps_line\n",
    "import torch\n",
    "import numpy as np\n",
    "def truncated_SVD(tensor,output='RQ',max_singular_values= None,\n",
    "                  max_truncation_error= None,\n",
    "                  relative = True,\n",
    "                  normlized= True,\n",
    "                  verbose  = False,auto_check_diagonal=False):\n",
    "    # the canonocal\n",
    "    # tensor is batched\n",
    "    reduce = False\n",
    "    u=s=v = None\n",
    "    if len(tensor.shape)==2:\n",
    "        tensor = tensor.unsqueeze(0)\n",
    "        reduce = True\n",
    "    if auto_check_diagonal:\n",
    "        out = diagonal_tensor_svd_torch_dense(tensor)\n",
    "        if out is not None:u, s, v = out\n",
    "    if u is None: u, s, v = torch.svd(tensor)\n",
    "\n",
    "\n",
    "    max_singular_values = s.shape[-1] if max_singular_values is None else max_singular_values\n",
    "\n",
    "    if max_truncation_error is not None:\n",
    "        # Cumulative norms of singular values in ascending order\n",
    "        s_sorted, _ = torch.sort(s**2,-1)\n",
    "        trunc_errs  = torch.sqrt(torch.cumsum(s_sorted, -1))\n",
    "        # If relative is true, rescale max_truncation error with the largest\n",
    "        # singular value to yield the absolute maximal truncation error.\n",
    "        abs_max_truncation_error = max_truncation_error * s[:,0:1] if relative else max_truncation_error\n",
    "        # We must keep at least this many singular values to ensure the\n",
    "        # truncation error is <= abs_max_truncation_error.\n",
    "        num_sing_vals_err = torch.sum(trunc_errs > abs_max_truncation_error,-1).max()\n",
    "        if max_singular_values>num_sing_vals_err and verbose:\n",
    "            print(f\"use {num_sing_vals_err}/{max_singular_values} sing vals\")\n",
    "    else:\n",
    "        num_sing_vals_err  = max_singular_values\n",
    "\n",
    "    num_sing_vals_keep = min(max_singular_values, num_sing_vals_err)\n",
    "\n",
    "\n",
    "    #s_rest = s[...,num_sing_vals_keep:]\n",
    "    u      = u[...,:num_sing_vals_keep]\n",
    "    s      = s[...,:num_sing_vals_keep]\n",
    "    v      = v[...,:num_sing_vals_keep]\n",
    "    v      = torch.transpose(v, -1, -2)#vh\n",
    "\n",
    "    if num_sing_vals_keep == s.shape[-1] and normlized:\n",
    "        Z = 1.0*torch.ones(s.shape[0])\n",
    "    else:\n",
    "        Z = torch.sum(s**2,-1).sqrt()\n",
    "\n",
    "    if output == 'RQ':\n",
    "        R = torch.einsum('iab,ibc->iac',u ,torch.diag_embed(s))\n",
    "        Q = v\n",
    "        output = [R,Q,Z]\n",
    "    elif output == 'QR':\n",
    "        Q = u\n",
    "        R = torch.einsum('iab,ibc->iac',torch.diag_embed(s),v)\n",
    "        output = [Q,R,Z]\n",
    "    else:\n",
    "        output = [u,s,v,Z]\n",
    "    if reduce:output = [t[0] for t in output]\n",
    "    return output\n",
    "def left_canonicalize_MPS(mps_line,Decomposition_Engine=torch.qr,\n",
    "                          normlization =True):\n",
    "    # for any not canonical mps line\n",
    "    # the chain size (D,P,D)\n",
    "    new_chain = []\n",
    "    R         = None\n",
    "    #Z_list    = []# record the scale information for each unit.\n",
    "    # for a perfect MPS state, we expect the norm for each tensor is 1.\n",
    "    for i,tensor in enumerate(mps_line):\n",
    "        if len(tensor.shape)==2:\n",
    "            new_tensor = torch.einsum('ab,bd->ad',R,tensor) if R is not None else tensor\n",
    "            shape      = new_tensor.shape\n",
    "        elif len(tensor.shape)==3:\n",
    "            new_tensor = torch.einsum('ab,bcd->acd',R,tensor) if R is not None else tensor\n",
    "            shape      = new_tensor.shape\n",
    "            a,b,c = shape\n",
    "            new_tensor = new_tensor.reshape(a*b,c)\n",
    "        else:\n",
    "            raise NotImplementedError\n",
    "\n",
    "        if i == len(mps_line) - 1:\n",
    "            Z = torch.norm(new_tensor)\n",
    "            if normlization:new_tensor /= (Z)\n",
    "            new_chain.append(new_tensor.reshape(*shape[:-1],-1))\n",
    "        else:\n",
    "            Q,R = Decomposition_Engine(new_tensor)[:2]\n",
    "            Q   = Q.reshape(*shape[:-1],-1)\n",
    "            new_chain.append(Q)\n",
    "\n",
    "    return new_chain,[Z]\n",
    "def right_canonicalize_MPS(mps_line,Decomposition_Engine=truncated_SVD,\n",
    "                          #normlization =True\n",
    "                          ):\n",
    "    new_chain = []\n",
    "    R         = None\n",
    "    Z_list    = []\n",
    "    svd_Z         = torch.Tensor([1.0])#input has already been normalized\n",
    "    for i,tensor in enumerate(mps_line[::-1]):\n",
    "\n",
    "        if len(tensor.shape)==2:\n",
    "            new_tensor = torch.einsum('ab,bc->ac',tensor, R) if R is not None else tensor\n",
    "            shape      = new_tensor.shape\n",
    "        elif len(tensor.shape)==3:\n",
    "            new_tensor = torch.einsum('alb,bc->alc',tensor, R) if R is not None else tensor\n",
    "            shape      = new_tensor.shape\n",
    "            a,b,c      = shape\n",
    "            new_tensor = new_tensor.reshape(a,b*c)\n",
    "        else:\n",
    "            raise NotImplementedError\n",
    "        Z = torch.norm(new_tensor)\n",
    "        Z_list.append(Z)\n",
    "        new_tensor /= Z\n",
    "        # normlization is necessary; directly use the SVD_Z may cause problem due to precision\n",
    "        #print(f\"svd_Z{svd_Z.item()}<->all_Z {Z.item()} <-> after_Z{torch.norm(new_tensor).item()}\")\n",
    "        #if normlization:new_tensor /= Z\n",
    "        if i == len(mps_line) - 1:\n",
    "            new_chain.append(new_tensor.reshape(-1,*shape[1:]))\n",
    "        else:\n",
    "            R,Q,svd_Z = Decomposition_Engine(new_tensor)\n",
    "            Q   = Q.reshape(-1,*shape[1:])\n",
    "            new_chain.append(Q)\n",
    "    new_chain=new_chain[::-1]\n",
    "    return new_chain,Z_list\n",
    "def torchrq(tensor):\n",
    "    q, r = torch.qr(torch.transpose(tensor, -2, -1))\n",
    "    r, q = torch.transpose(r, -2, -1), torch.transpose(q, -2, -1)  #M=r*q at this point\n",
    "    return r,qx\n",
    "def approxmate_mps_line(mps_line,\n",
    "                        max_singular_values= None,max_truncation_error= None,relative = True,\n",
    "                        mode='full',left_method='qr'\n",
    "                       ):\n",
    "\n",
    "\n",
    "    scalar = 1\n",
    "    if mode != 'right':\n",
    "        if left_method == 'qr':\n",
    "            DCEngine = torch.linalg.qr if float(torch.__version__[:4])>1.07 else torch.qr\n",
    "        elif left_method == 'svd':\n",
    "            DCEngine = lambda x:truncated_SVD(x,output='QR')\n",
    "        else:\n",
    "            raise NotImplementedError\n",
    "        mps_line,Z_list = left_canonicalize_MPS(mps_line,Decomposition_Engine=DCEngine)\n",
    "        #print(get_mps_size_list(mps_line))\n",
    "        print(f\"   left canonical scalar:{np.prod(Z_list)}\")\n",
    "        scalar *= np.prod(Z_list)\n",
    "        #print(f\"now tensor norm: {torch.norm(mps_line[-1])}\")\n",
    "    SVD_Engine = lambda x:truncated_SVD(x,max_singular_values = max_singular_values,\n",
    "                                          max_truncation_error= max_truncation_error,\n",
    "                                          relative = relative)\n",
    "    mps_line,Z_list = right_canonicalize_MPS(mps_line,Decomposition_Engine=SVD_Engine)\n",
    "    #print(get_mps_size_list(mps_line))\n",
    "    #print(f\"   right canonical Z:{[np.round(t.item(),3) for t in Z_list]}\")\n",
    "    print(f\"   right canonical scalar:{np.prod(Z_list)}\")\n",
    "    scalar *= np.prod(Z_list)\n",
    "    return mps_line,scalar\n",
    "def diagonal_tensor_svd_torch_dense(tensor):\n",
    "    # support batch tensor\n",
    "    reduce = False\n",
    "    if len(tensor.shape)==2:\n",
    "        tensor = tensor.unsqueeze(0)\n",
    "        reduce = True\n",
    "    W,H   = tensor.shape[-2:]\n",
    "    batch_shape= tensor.shape[:-2]\n",
    "    u = s = v = None\n",
    "    if W>=H:\n",
    "        batch_diag = torch.matmul(tensor.transpose(-1,-2),tensor)#auto broadcast, or can use bmm\n",
    "    else:\n",
    "        batch_diag = torch.matmul(tensor,tensor.transpose(-1,-2))#auto broadcast, or can use bmm\n",
    "    diagnol_num = torch.diagonal(a,dim1=-2,dim2=-1).nelement()\n",
    "    tensor_num  = tensor.nelement()\n",
    "    if diagnol_num != tensor_num:return None\n",
    "    A,A        = batch_diag.shape[-2:]\n",
    "    batch_diag = batch_diag[...,range(A),range(A)]\n",
    "    batch_diag,batch_order= batch_diag.sort(-1,descending=True)\n",
    "    #fast_V      = [get_sort_matrix(order).to_dense() for order in batch_order]\n",
    "    batch_order = batch_order.flatten(start_dim=0,end_dim=-2)\n",
    "    K,A         = batch_order.shape\n",
    "    s           = batch_diag.sqrt()\n",
    "    s           = s.reshape(*batch_shape,A)\n",
    "    if W>=H:\n",
    "        v = torch.sparse_coo_tensor([list(range(K*A)),batch_order.flatten().tolist()], [1.0]*K*A,(K*A,A))\n",
    "        v = v.to_dense().reshape(-1,A,A)\n",
    "        u = torch.bmm(tensor,v.transpose(-1,-2)/s.unsqueeze(-2))\n",
    "        v = v.reshape(*batch_shape,A,A)\n",
    "        u = u.reshape(*batch_shape,W,A)\n",
    "    else:\n",
    "        u = torch.sparse_coo_tensor([list(range(K*A)),batch_order.flatten().tolist()], [1.0]*K*A,(K*A,A))\n",
    "        u = u.to_dense().reshape(-1,A,A).transpose(-1,-2)\n",
    "        v = torch.bmm(u.transpose(-1,-2)/s.unsqueeze(-1),tensor)#TODO: case when s==0\n",
    "        u = u.reshape(*batch_shape,A,A)\n",
    "        v = v.reshape(*batch_shape,A,H)\n",
    "    output = [u,s,v.transpose(-1,-2)]\n",
    "    if reduce:\n",
    "        output = [t[0] for t in output]\n",
    "    return output"
   ]
  },
  {
   "cell_type": "code",
   "execution_count": 8,
   "metadata": {
    "hidden": true
   },
   "outputs": [
    {
     "data": {
      "text/plain": [
       "'1.10.0+cu102'"
      ]
     },
     "execution_count": 8,
     "metadata": {},
     "output_type": "execute_result"
    }
   ],
   "source": [
    "torch.__version__"
   ]
  },
  {
   "cell_type": "code",
   "execution_count": 18,
   "metadata": {
    "hidden": true
   },
   "outputs": [
    {
     "name": "stdout",
     "output_type": "stream",
     "text": [
      "   left canonical scalar:0.5324269533157349\n",
      "   right canonical scalar:0.9999996423721313\n",
      "(4, 4)-(4, 4, 16)- 3x(16, 4, 16) -(16, 4, 4)-(4, 4)\n",
      "   left canonical scalar:0.17249836027622223\n",
      "   right canonical scalar:0.9999997615814209\n",
      "(4, 4)-(4, 4, 16)-(16, 4, 64)-(64, 4, 64)-(64, 4, 16)-(16, 4, 4)-(4, 4)\n",
      "   left canonical scalar:0.141238734126091\n",
      "   right canonical scalar:0.9999996423721313\n",
      "(4, 4)-(4, 4, 16)-(16, 4, 64)-(64, 4, 64)-(64, 4, 16)-(16, 4, 4)-(4, 4)\n",
      "   left canonical scalar:0.13460852205753326\n",
      "   right canonical scalar:0.9999997019767761\n",
      "(4, 4)-(4, 4, 16)-(16, 4, 64)-(64, 4, 64)-(64, 4, 16)-(16, 4, 4)-(4, 4)\n",
      "   left canonical scalar:0.1684599667787552\n",
      "   right canonical scalar:1.000000238418579\n",
      "(4, 4)-(4, 4, 16)-(16, 4, 64)-(64, 4, 64)-(64, 4, 16)-(16, 4, 4)-(4, 4)\n"
     ]
    }
   ],
   "source": [
    "tensor = peps[0]\n",
    "for mpo in peps[1:-1]:\n",
    "    tensor = contract_mps_mpo(tensor,mpo)\n",
    "    #print(get_mps_size_list(tensor))\n",
    "    tensor = right_mps_form(tensor)\n",
    "    tensor,scale = approxmate_mps_line(tensor,max_singular_values=100)\n",
    "    print(get_mps_size_list(tensor))\n",
    "tensor = contract_two_mps_tn(tensor,peps[-1])"
   ]
  },
  {
   "cell_type": "code",
   "execution_count": 3,
   "metadata": {
    "code_folding": [
     0
    ],
    "hidden": true
   },
   "outputs": [],
   "source": [
    "def onebyoneBMPS(tensor,truncate=None,einsum_engin=torch.einsum):\n",
    "    W,H = tensor.shape[:2]\n",
    "    while W > 1:\n",
    "            half_size = size // 2\n",
    "            nice_size = 2 * half_size\n",
    "            leftover  = tensor[nice_size:]\n",
    "            tensor    = torch.einsum(\"mbik,mbkj->mbij\",tensor[0:nice_size:2], tensor[1:nice_size:2])\n",
    "            #(k/2,NB,D,D),(k/2,NB,D,D) <-> (k/2,NB,D,D)\n",
    "            tensor   = torch.cat([tensor, leftover], axis=0)\n",
    "            size     = half_size + int(size % 2 == 1)\n",
    "    return value"
   ]
  },
  {
   "cell_type": "markdown",
   "metadata": {
    "heading_collapsed": true
   },
   "source": [
    "# Batch Method"
   ]
  },
  {
   "cell_type": "code",
   "execution_count": 1,
   "metadata": {
    "code_folding": [],
    "hidden": true
   },
   "outputs": [],
   "source": [
    "import numpy as np\n",
    "import torch\n",
    "import time\n",
    "from tqdm.notebook import trange, tqdm\n",
    "from utils import *\n",
    "\n",
    "D=10\n",
    "P=4\n",
    "L=14\n",
    "def rd_engine(*x,**kargs):\n",
    "    x =  torch.randn(*x,device='cpu',**kargs)\n",
    "    x/=  torch.norm(x).sqrt()\n",
    "    return x\n",
    "def generate_test_data(L=10,num=20,k=2):\n",
    "    #images,labels = iter(train_loader).next()\n",
    "    #inputs = preprocess_sum_one(images)\n",
    "    inputs = rd_engine(L,num,k)\n",
    "    inputs = inputs.permute(1,2,0)#(B,num,k)->(num,k,B)\n",
    "    inputs = torch.diag_embed(inputs)#(num,k,B)->(num,k,B,B)\n",
    "    inputs = inputs.permute(0,2,1,3)#(num,k,B,B)->(num,B,k,B)\n",
    "    #inputs= [v for v in inputs]\n",
    "    #inputs[0]= torch.diagonal(inputs[0], dim1=0, dim2=-1)#(B,k,B) -> #(k,B)\n",
    "    return inputs\n"
   ]
  },
  {
   "cell_type": "code",
   "execution_count": 140,
   "metadata": {
    "hidden": true,
    "scrolled": true
   },
   "outputs": [
    {
     "name": "stdout",
     "output_type": "stream",
     "text": [
      "7.935704472353725e-15\n"
     ]
    }
   ],
   "source": [
    "print(np.linalg.norm(result_should-the_result))"
   ]
  },
  {
   "cell_type": "code",
   "execution_count": 170,
   "metadata": {
    "hidden": true
   },
   "outputs": [],
   "source": [
    "from torchvision import datasets, transforms\n",
    "mnist_data = np.load('archive/tn-for-unsup-ml/data/binarized_mnist.npz')\n",
    "train_data = torch.from_numpy(mnist_data['train_data'])\n",
    "test_data  = torch.from_numpy(mnist_data['test_data'])\n",
    "\n",
    "transform = transforms.Compose([\n",
    "    transforms.ToTensor(),\n",
    "    #transforms.Normalize(mean=(0.0,), std=(1.0,))\n",
    "])\n",
    "DATAPATH    = '/media/tianning/DATA/DATASET/MNIST/'\n",
    "mnist_train = datasets.MNIST(DATAPATH, train=True, download=False, transform=transform)\n",
    "mnist_test  = datasets.MNIST(DATAPATH, train=False,download=False, transform=transform)\n",
    "train_loader= torch.utils.data.DataLoader(dataset=mnist_train, batch_size=1000, shuffle=False)\n",
    "test_loader = torch.utils.data.DataLoader(dataset=mnist_test , batch_size=1000, shuffle=False)\n",
    "images,labels = iter(train_loader).next()"
   ]
  },
  {
   "cell_type": "code",
   "execution_count": 130,
   "metadata": {
    "hidden": true
   },
   "outputs": [],
   "source": [
    "now_result = np.einsum(\"abc,cd,de,ef,fg,gh,hi,ijk->abjk\",\n",
    "                       imps.get_tensor(len(imps) - 1), \n",
    "                       inv_sqrtl, \n",
    "                       U, \n",
    "                       np.sqrt(lam),np.sqrt(lam), \n",
    "                       V, \n",
    "                       inv_sqrtr, \n",
    "                       imps.tensors[0])"
   ]
  },
  {
   "cell_type": "code",
   "execution_count": 172,
   "metadata": {
    "hidden": true
   },
   "outputs": [
    {
     "data": {
      "text/plain": [
       "tensor(0.)"
      ]
     },
     "execution_count": 172,
     "metadata": {},
     "output_type": "execute_result"
    }
   ],
   "source": [
    "torch.dist(images1,images2)"
   ]
  },
  {
   "cell_type": "code",
   "execution_count": 131,
   "metadata": {
    "hidden": true
   },
   "outputs": [
    {
     "name": "stdout",
     "output_type": "stream",
     "text": [
      "14.051250619959221\n",
      "1.5940558554691758e-14\n"
     ]
    }
   ],
   "source": [
    "print(np.linalg.norm(now_result-result_should))\n",
    "print(np.linalg.norm(now_result-the_result))"
   ]
  },
  {
   "cell_type": "markdown",
   "metadata": {
    "heading_collapsed": true,
    "hidden": true
   },
   "source": [
    "###### torch.dense"
   ]
  },
  {
   "cell_type": "code",
   "execution_count": 11,
   "metadata": {
    "hidden": true
   },
   "outputs": [],
   "source": [
    "a,X,U,S,V,Y,b = canonicalize(imps)"
   ]
  },
  {
   "cell_type": "code",
   "execution_count": 169,
   "metadata": {
    "hidden": true
   },
   "outputs": [],
   "source": [
    "from engine.torch_dense import *\n",
    "from tqdm.notebook import trange, tqdm"
   ]
  },
  {
   "cell_type": "code",
   "execution_count": 54,
   "metadata": {
    "hidden": true
   },
   "outputs": [],
   "source": [
    "left  = np.einsum('ea,ab,bc->ec',X,U,np.sqrt(S)).real\n",
    "right = np.einsum('ea,ab,bc->ec',np.sqrt(S),V,Y).real"
   ]
  },
  {
   "cell_type": "code",
   "execution_count": 60,
   "metadata": {
    "hidden": true
   },
   "outputs": [
    {
     "data": {
      "text/plain": [
       "array([[ 1.35 +0.j, -1.134+0.j,  0.117+0.j,  2.915+0.j],\n",
       "       [ 1.193+0.j,  1.376+0.j, -3.855+0.j,  0.129+0.j],\n",
       "       [-1.92 +0.j,  2.322+0.j,  0.48 +0.j,  0.344+0.j],\n",
       "       [ 2.836+0.j,  0.947+0.j,  0.577+0.j, -0.068+0.j]])"
      ]
     },
     "execution_count": 60,
     "metadata": {},
     "output_type": "execute_result"
    }
   ],
   "source": [
    "np.einsum('ab,ca->bc',X,Y).round(3)"
   ]
  },
  {
   "cell_type": "markdown",
   "metadata": {
    "heading_collapsed": true,
    "hidden": true
   },
   "source": [
    "###### diagonal.sparse"
   ]
  },
  {
   "cell_type": "code",
   "execution_count": 2,
   "metadata": {
    "hidden": true
   },
   "outputs": [],
   "source": [
    "from engine.sparse import *\n",
    "from tqdm.notebook import trange, tqdm"
   ]
  },
  {
   "cell_type": "code",
   "execution_count": 134,
   "metadata": {
    "hidden": true,
    "scrolled": true
   },
   "outputs": [
    {
     "data": {
      "text/plain": [
       "1.0"
      ]
     },
     "execution_count": 134,
     "metadata": {},
     "output_type": "execute_result"
    }
   ],
   "source": [
    "imps = FiniteMPS.random(d=[3,3]*5,\n",
    "      D=[2]*9,\n",
    "      dtype=np.float64)\n",
    "imps.canonicalize()\n",
    "imps.position(2)"
   ]
  },
  {
   "cell_type": "code",
   "execution_count": 4,
   "metadata": {
    "hidden": true
   },
   "outputs": [
    {
     "name": "stdout",
     "output_type": "stream",
     "text": [
      "(10, 10)\n",
      "(10, 20)\n"
     ]
    }
   ],
   "source": [
    "L=10\n",
    "idx1     = list(range(2*L))\n",
    "idx2     = [i for i in range(L) for j in range(2)]\n",
    "mps_unit = sparse.COO([idx1,idx2],np.random.randn(2*L),(2*L,L)).reshape((L,L*2))\n",
    "R,Q = diagonal_tensor_RQ(mps_unit)\n",
    "print(R.shape)\n",
    "print(Q.shape)\n",
    "# u0,s0,v0 = diagonal_tensor_svd_sparse_2D(mps_unit)\n",
    "# u1,s1,v1 = np.linalg.svd(mps_unit.todense(),full_matrices=False)"
   ]
  },
  {
   "cell_type": "code",
   "execution_count": 158,
   "metadata": {
    "hidden": true
   },
   "outputs": [],
   "source": [
    "a=np.random.randint(3,(100,100)).astype('uint8')"
   ]
  },
  {
   "cell_type": "code",
   "execution_count": 161,
   "metadata": {
    "hidden": true
   },
   "outputs": [],
   "source": [
    "np.save(\"tttest\",a)"
   ]
  },
  {
   "cell_type": "code",
   "execution_count": 162,
   "metadata": {
    "hidden": true
   },
   "outputs": [],
   "source": [
    "b=np.load(\"tttest.npy\")"
   ]
  },
  {
   "cell_type": "code",
   "execution_count": 166,
   "metadata": {
    "hidden": true
   },
   "outputs": [
    {
     "data": {
      "text/plain": [
       "array([16, 43], dtype=uint8)"
      ]
     },
     "execution_count": 166,
     "metadata": {},
     "output_type": "execute_result"
    }
   ],
   "source": [
    "b"
   ]
  },
  {
   "cell_type": "code",
   "execution_count": 144,
   "metadata": {
    "code_folding": [
     1,
     3,
     8,
     14,
     39
    ],
    "hidden": true
   },
   "outputs": [],
   "source": [
    "class Efficient_Sparse_Matrix_List_Saver:\n",
    "    def __init__(self,dtype = 'sparse'):\n",
    "        self.dtype = dtype\n",
    "    def save(self,sparse_matrix_list,save_dir):\n",
    "        if self.dtype == 'sparse':\n",
    "            self.save_sparse_data(sparse_matrix_list,save_dir)\n",
    "        else:\n",
    "            raise NotImplementedError\n",
    "    def load(self,save_dir):\n",
    "        if self.dtype == 'sparse':\n",
    "            return self.load_sparse_data(save_dir)\n",
    "        else:\n",
    "            raise NotImplementedError\n",
    "    @staticmethod \n",
    "    def save_sparse_data(sparse_matrix_list,save_dir):\n",
    "        max_shape_len = max([len(t.shape) for t in sparse_matrix_list])\n",
    "        save_indexes  = []\n",
    "        save_shapes   = []\n",
    "        for i in range(len(sparse_matrix_list)):\n",
    "            save_index = sparse_matrix_list[i].coords.transpose()\n",
    "            save_shape = list(sparse_matrix_list[i].shape)\n",
    "            if len(save_shape)< max_shape_len:\n",
    "                padding     = max_shape_len-len(save_shape)\n",
    "                save_index  = np.pad(save_index,[[0,0],[0,padding]])\n",
    "                save_shape  = save_shape+[1]*padding\n",
    "            save_indexes.append(save_index) \n",
    "            save_shapes.append(save_shape)\n",
    "        all_indexs  = np.concatenate(save_indexes)\n",
    "        all_values  = np.concatenate([t.data for t in sparse_matrix_list])\n",
    "        all_shape   = np.stack(save_shapes)\n",
    "        all_idx_size= np.array([len(t.shape) for t in sparse_matrix_list])\n",
    "        nnz_list    = np.array([t.nnz for t in sparse_matrix_list])\n",
    "        assert sum(nnz_list) == len(all_indexs) == len(all_values)\n",
    "        np.save(os.path.join(save_dir,\"all_indexs\"),all_indexs)\n",
    "        np.save(os.path.join(save_dir,\"all_idx_size\"),all_idx_size)\n",
    "        np.save(os.path.join(save_dir,\"all_values\"),all_values)\n",
    "        np.save(os.path.join(save_dir,\"all_shape\"),all_shape)\n",
    "        np.save(os.path.join(save_dir,\"nnz_list\"),nnz_list)\n",
    "    @staticmethod\n",
    "    def load_sparse_data(save_dir):\n",
    "        all_indexs   = np.load(os.path.join(save_dir,\"all_indexs.npy\"))\n",
    "        all_idx_size = np.load(os.path.join(save_dir,\"all_idx_size.npy\"))\n",
    "        all_values   = np.load(os.path.join(save_dir,\"all_values.npy\"))\n",
    "        all_shape    = np.load(os.path.join(save_dir,\"all_shape.npy\"))\n",
    "        nnz_list     = np.load(os.path.join(save_dir,\"nnz_list.npy\"))\n",
    "        \n",
    "        sparse_matrix_list =[]\n",
    "        start = 0 \n",
    "        for nnz,sz,shape in zip(nnz_list,all_idx_size,all_shape):\n",
    "            indexs = all_indexs[start:start+nnz][...,:sz].transpose()\n",
    "            values = all_values[start:start+nnz]\n",
    "            shape  = shape[:sz]\n",
    "            tensor = sparse.COO(indexs,values,shape.tolist())\n",
    "            start  = start+nnz\n",
    "            sparse_matrix_list.append(tensor)\n",
    "        return sparse_matrix_list"
   ]
  },
  {
   "cell_type": "code",
   "execution_count": 56,
   "metadata": {
    "code_folding": [],
    "hidden": true
   },
   "outputs": [],
   "source": [
    "L=10\n",
    "idx1     = list(range(2*L))\n",
    "idx2     = [i for i in range(L) for j in range(2)]\n",
    "#mps_unit = sparse.COO([idx1,idx2],np.random.randn(2*L),(2*L,L)).reshape((L,2,L))\n",
    "mps_line = ([sparse.as_coo(np.random.randn(2,L))]+\n",
    "            [sparse.COO([idx1,idx2],np.random.randn(2*L),(2*L,L)).reshape((L,2,L))\n",
    "               for i in range(9)])\n",
    "#mps_line[0]"
   ]
  },
  {
   "cell_type": "code",
   "execution_count": 34,
   "metadata": {
    "hidden": true
   },
   "outputs": [],
   "source": [
    "train_loader= torch.utils.data.DataLoader(dataset=mnist_train, batch_size=1000, shuffle=True)\n",
    "test_loader = torch.utils.data.DataLoader(dataset=mnist_test , batch_size=1000, shuffle=False)\n",
    "images,labels = iter(train_loader).next()\n",
    "origin_inputs = preprocess_sum_one(images)"
   ]
  },
  {
   "cell_type": "code",
   "execution_count": 35,
   "metadata": {
    "hidden": true
   },
   "outputs": [],
   "source": [
    "L=origin_inputs.shape[0]\n",
    "idx1     = list(range(2*L))\n",
    "idx2     = [i for i in range(L) for j in range(2)]\n",
    "mps_line=[sparse.as_coo(origin_inputs[:,0,:].transpose(1,0).numpy())]\n",
    "for tensor in origin_inputs.permute(1,0,2)[1:]:\n",
    "    #print(tensor.flatten().numpy().shape)\n",
    "    mps_line.append(sparse.COO([idx1,idx2],tensor.flatten().numpy(),(2*L,L)).reshape((L,2,L)))"
   ]
  },
  {
   "cell_type": "code",
   "execution_count": 36,
   "metadata": {
    "hidden": true,
    "scrolled": true
   },
   "outputs": [],
   "source": [
    "# next_line,z = right_canonicalize_MPS_sparse(mps_line,final_normlization =True,all_renormlization=False)\n",
    "\n",
    "# Decomposition_Engine=lambda x:truncated_SVD_sparse(x,output='QR',\n",
    "#                                                     max_truncation_error=0.00,\n",
    "#                                                     max_singular_values=100,\n",
    "#                                                    )\n",
    "# next_line_2,z_2 = left_canonicalize_MPS_sparse(next_line,final_normlization =True,\n",
    "#                                                all_renormlization=True,\n",
    "#                                                Decomposition_Engine=Decomposition_Engine)"
   ]
  },
  {
   "cell_type": "code",
   "execution_count": 54,
   "metadata": {
    "hidden": true,
    "scrolled": false
   },
   "outputs": [
    {
     "name": "stdout",
     "output_type": "stream",
     "text": [
      "8.67 ms ± 33.8 µs per loop (mean ± std. dev. of 7 runs, 100 loops each)\n"
     ]
    }
   ],
   "source": [
    "%%timeit \n",
    "u,s,v = diagonal_tensor_svd_sparse(sparse_inputs)"
   ]
  },
  {
   "cell_type": "markdown",
   "metadata": {
    "heading_collapsed": true,
    "hidden": true
   },
   "source": [
    "###### diagonal.torch.dense"
   ]
  },
  {
   "cell_type": "code",
   "execution_count": 58,
   "metadata": {
    "code_folding": [
     0
    ],
    "hidden": true
   },
   "outputs": [],
   "source": [
    "def diagonal_tensor_svd_torch_dense(tensor):\n",
    "    reduce = False\n",
    "    if len(tensor.shape)==2:\n",
    "        tensor = tensor.unsqueeze(0)\n",
    "        reduce = True\n",
    "    W,H   = tensor.shape[-2:]\n",
    "    batch_shape= tensor.shape[:-2]\n",
    "    u = s = v = None\n",
    "    if W>=H:\n",
    "        batch_diag = torch.matmul(tensor.transpose(-1,-2),tensor)#auto broadcast, or can use bmm\n",
    "    else:\n",
    "        batch_diag = torch.matmul(tensor,tensor.transpose(-1,-2))#auto broadcast, or can use bmm\n",
    "    A,A        = batch_diag.shape[-2:]\n",
    "    batch_diag = batch_diag[...,range(A),range(A)]\n",
    "    batch_diag,batch_order= batch_diag.sort(-1,descending=True)\n",
    "    #fast_V      = [get_sort_matrix(order).to_dense() for order in batch_order]\n",
    "    batch_order = batch_order.flatten(start_dim=0,end_dim=-2)\n",
    "    K,A         = batch_order.shape\n",
    "    s           = batch_diag.sqrt()\n",
    "    s           = s.reshape(*batch_shape,A)\n",
    "    if W>=H:\n",
    "        v = torch.sparse_coo_tensor([list(range(K*A)),batch_order.flatten().tolist()], [1.0]*K*A,(K*A,A))\n",
    "        v = v.to_dense().reshape(-1,A,A)\n",
    "        u = torch.bmm(tensor,v.transpose(-1,-2)/s.unsqueeze(-2))\n",
    "        v = v.reshape(*batch_shape,A,A)\n",
    "        u = u.reshape(*batch_shape,W,A)\n",
    "    else:\n",
    "        u = torch.sparse_coo_tensor([list(range(K*A)),batch_order.flatten().tolist()], [1.0]*K*A,(K*A,A))\n",
    "        u = u.to_dense().reshape(-1,A,A).transpose(-1,-2)\n",
    "        v = torch.bmm(u.transpose(-1,-2)/s.unsqueeze(-1),tensor)#TODO: case when s==0\n",
    "        u = u.reshape(*batch_shape,A,A)\n",
    "        v = v.reshape(*batch_shape,A,H)\n",
    "    output = [u,s,v.transpose(-1,-2)]\n",
    "    if reduce:\n",
    "        output = [t[0] for t in output]\n",
    "    return output"
   ]
  },
  {
   "cell_type": "code",
   "execution_count": 10,
   "metadata": {
    "code_folding": [
     1
    ],
    "hidden": true
   },
   "outputs": [
    {
     "data": {
      "application/vnd.jupyter.widget-view+json": {
       "model_id": "8abfe4bc2fdb4e06b505cc3e15235fab",
       "version_major": 2,
       "version_minor": 0
      },
      "text/plain": [
       "  0%|          | 0/60 [00:00<?, ?it/s]"
      ]
     },
     "metadata": {},
     "output_type": "display_data"
    }
   ],
   "source": [
    "# i=0\n",
    "# for images,labels in tqdm(train_loader):\n",
    "#     #images,labels = iter(train_loader).next()\n",
    "#     inputs = preprocess_sum_one(images)\n",
    "#     #inputs= rd_engine(10,50,2)\n",
    "#     inputs= inputs.permute(1,2,0)#(B,num,k)->(num,k,B)\n",
    "#     inputs= torch.diag_embed(inputs)#(num,k,B)->(num,k,B,B)\n",
    "#     inputs= inputs.permute(0,2,1,3)#(num,k,B,B)->(num,B,k,B)\n",
    "#     inputs= [v for v in inputs]\n",
    "#     inputs[0]= torch.diagonal(inputs[0], dim1=0, dim2=-1)#(B,k,B) -> #(k,B)\n",
    "#     DCEngine = lambda x:truncated_SVD(x,output='QR',max_truncation_error=0.00,max_singular_values=100)\n",
    "#     mps_line,Z_list = left_canonicalize_MPS(inputs,Decomposition_Engine=DCEngine,normlization=False)\n",
    "#     state_dict = {}\n",
    "#     state_dict['xdata']=dict([[i,t] for i,t in enumerate(mps_line)])\n",
    "#     state_dict['ydata']=labels\n",
    "#     torch.save(state_dict,f'offline_SVD_data/preprocess_sum_one.cut100/mps_line_{i}.pt')\n",
    "#     i+=1"
   ]
  },
  {
   "cell_type": "code",
   "execution_count": 62,
   "metadata": {
    "code_folding": [
     0
    ],
    "hidden": true,
    "scrolled": true
   },
   "outputs": [
    {
     "name": "stdout",
     "output_type": "stream",
     "text": [
      "use 1/2 sing vals\n"
     ]
    }
   ],
   "source": [
    "Q,R        = Decomposition_Engine(inputs[0])[:2]\n",
    "new_tensor = torch.einsum('ab,bcd->acd',R,inputs[1])\n",
    "shape      = new_tensor.shape\n",
    "a,b,c = shape\n",
    "new_tensor = new_tensor.reshape(a*b,c)"
   ]
  },
  {
   "cell_type": "markdown",
   "metadata": {
    "heading_collapsed": true,
    "hidden": true
   },
   "source": [
    "###### diagonal.torch_sparse"
   ]
  },
  {
   "cell_type": "code",
   "execution_count": null,
   "metadata": {
    "hidden": true
   },
   "outputs": [],
   "source": [
    "# L=10\n",
    "# idx1     = list(range(2*L))\n",
    "# idx2     = [i for i in range(L) for j in range(2)]\n",
    "# #mps_unit = sparse.COO([idx1,idx2],np.random.randn(2*L),(2*L,L)).reshape((L,2,L))\n",
    "# mps_line = ([sparse.as_coo(np.random.randn(2,L))]+\n",
    "#             [sparse.COO([idx1,idx2],np.random.randn(2*L),(2*L,L)).reshape((L,2,L))\n",
    "#                for i in range(9)])\n",
    "# #mps_line[0]"
   ]
  },
  {
   "cell_type": "code",
   "execution_count": 5,
   "metadata": {
    "hidden": true
   },
   "outputs": [],
   "source": [
    "# L=10\n",
    "# num=1\n",
    "# k=2\n",
    "# origin_inputs = rd_engine(L,num,k)\n",
    "# inputs = origin_inputs.permute(1,2,0)#(B,num,k)->(num,k,B)\n",
    "# inputs = torch.diag_embed(inputs)#(num,k,B)->(num,k,B,B)\n",
    "# inputs = inputs.permute(0,2,1,3)#(num,k,B,B)->(num,B,k,B)\n",
    "# num,B,k,B     = inputs.shape\n",
    "# inputs        = inputs.reshape(num,B*k,B )"
   ]
  },
  {
   "cell_type": "code",
   "execution_count": 6,
   "metadata": {
    "hidden": true
   },
   "outputs": [],
   "source": [
    "# import torch\n",
    "# from torch_sparse import coalesce\n",
    "# idx1          = list(range(2*L))\n",
    "# idx2          = [i for i in range(L) for j in range(2)]\n",
    "# index         = torch.tensor([idx1,idx2])\n",
    "# sparse_tensor = torch.sparse_coo_tensor(index, origin_inputs.flatten(), (2*L,L)).coalesce()\n",
    "# sparse_tensor = reshape_sparse_tensor(sparse_tensor,(L,2*L))"
   ]
  },
  {
   "cell_type": "code",
   "execution_count": 30,
   "metadata": {
    "code_folding": [
     0,
     3,
     15,
     26,
     31,
     42,
     74,
     80,
     92,
     124,
     160,
     180,
     191
    ],
    "hidden": true
   },
   "outputs": [],
   "source": [
    "def transpose_sparse_tensor(coalesce_sparse_tensor):\n",
    "    return coalesce_sparse_tensor.transpose(1,0).coalesce()\n",
    "\n",
    "def matmul_sparse_tensor(coalesce_sparse_tensor_1,coalesce_sparse_tensor_2):\n",
    "    m,k1   = coalesce_sparse_tensor_1.size()\n",
    "    k2,n   = coalesce_sparse_tensor_2.size()\n",
    "    assert k1==k2\n",
    "    indexA = coalesce_sparse_tensor_1.indices()\n",
    "    valueA = coalesce_sparse_tensor_1.values()\n",
    "    \n",
    "    indexB = coalesce_sparse_tensor_2.indices()\n",
    "    valueB = coalesce_sparse_tensor_2.values()\n",
    "\n",
    "    indexC, valueC = torch_sparse.spspmm(indexA, valueA, indexB, valueB, m, k1, n)\n",
    "    return torch.sparse_coo_tensor(indexC, valueC, (m,n)).coalesce()\n",
    "def reshape_sparse_tensor(coalesce_sparse_tensor,target_shape):\n",
    "    indices = coalesce_sparse_tensor.indices().tolist()\n",
    "    size    = coalesce_sparse_tensor.size()\n",
    "    assert np.prod(size)==np.prod(target_shape)\n",
    "    target_indices = np.stack(np.unravel_index(np.ravel_multi_index(indices,size),target_shape))\n",
    "    target_indices = torch.Tensor(target_indices)\n",
    "    target_indices = target_indices.to(coalesce_sparse_tensor.device)\n",
    "    tensor = torch.sparse_coo_tensor(target_indices, coalesce_sparse_tensor.values(), target_shape).coalesce()\n",
    "    #tensor.to(coalesce_sparse_tensor.device)\n",
    "    return tensor\n",
    "\n",
    "def sparse_diagonal(dense_matrix):\n",
    "    A = len(dense_matrix)\n",
    "    idx = torch.stack([torch.arange(A),torch.arange(A)]).to(dense_matrix.device)\n",
    "    return torch.sparse_coo_tensor(idx,dense_matrix, (A,A)).coalesce()\n",
    "\n",
    "def sparse_take_first(coalesce_sparse_tensor,row_num,axis=0):\n",
    "    size    = list(coalesce_sparse_tensor.shape)\n",
    "    if row_num > size[axis]:return coalesce_sparse_tensor\n",
    "    indexes = coalesce_sparse_tensor.indices()\n",
    "    value   = coalesce_sparse_tensor.values()\n",
    "    good_i=indexes[axis]<row_num\n",
    "    indexes = torch.stack([t[good_i] for t in indexes])\n",
    "    value   = value[good_i]\n",
    "    size[axis] = row_num\n",
    "    return torch.sparse_coo_tensor(indexes,value, size).coalesce().to(coalesce_sparse_tensor.device)\n",
    "\n",
    "def diagonal_tensor_svd_torch_sparse_2D(tensor):\n",
    "    W,H   = tensor.size()\n",
    "    if W>=H:\n",
    "        MstarM     = matmul_sparse_tensor(transpose_sparse_tensor(tensor),tensor)\n",
    "    else:\n",
    "        MstarM     = matmul_sparse_tensor(tensor,transpose_sparse_tensor(tensor))\n",
    "    diagonal_svd_flag = True\n",
    "    a,b = MstarM.indices()\n",
    "    if (a!=b).any():\n",
    "        return None\n",
    "    L,L = MstarM.shape\n",
    "    batch_diag  = torch.Tensor([MstarM[i,i] for i in range(L)]).to(tensor.device)\n",
    "    #batch_diag = MstarM.values()\n",
    "    # in sparse representation, only value > 0 takes.\n",
    "    batch_diag,batch_order = batch_diag.sort(-1,descending=True)\n",
    "    s          = batch_diag.sqrt()\n",
    "    nonzero_num= torch.sum(s>0)\n",
    "    s          = s[:nonzero_num]\n",
    "    A = len(batch_order)\n",
    "    index = torch.stack([torch.arange(A).to(tensor.device),batch_order])\n",
    "    value = torch.ones(A).to(tensor.device)\n",
    "    if W>=H: \n",
    "        v = torch.sparse_coo_tensor(index,value,(A,A)).coalesce()\n",
    "        if nonzero_num < A :v = sparse_take_first(v,nonzero_num,axis=1)\n",
    "        u = matmul_sparse_tensor(tensor,matmul_sparse_tensor(transpose_sparse_tensor(v),sparse_diagonal(1/s)))\n",
    "    else:\n",
    "        u = torch.sparse_coo_tensor(index,value,(A,A)).coalesce()\n",
    "        if nonzero_num < A :u = sparse_take_first(u,nonzero_num,axis=0)\n",
    "        v = matmul_sparse_tensor(matmul_sparse_tensor(sparse_diagonal(1/s),u),tensor)\n",
    "        u = transpose_sparse_tensor(u)\n",
    "    return u,s,v\n",
    "\n",
    "def reciprocal_sparse_tensor(coalesce_sparse_tensor):\n",
    "    size   = coalesce_sparse_tensor.size()\n",
    "    indexA = coalesce_sparse_tensor.indices()\n",
    "    valueA = coalesce_sparse_tensor.values()\n",
    "    return torch.sparse_coo_tensor(indexA, 1/valueA, size).coalesce()\n",
    "\n",
    "def diagonal_tensor_RQ_torch_sparse(tensor):\n",
    "    W,H   = tensor.shape\n",
    "    assert W<=H\n",
    "    MstarM     = matmul_sparse_tensor(tensor,transpose_sparse_tensor(tensor))\n",
    "    a,b = MstarM.indices()\n",
    "    assert (a==b).any()\n",
    "    #batch_diag = MstarM.values()\n",
    "    #s = batch_diag.sqrt()\n",
    "    R = MstarM.sqrt()\n",
    "    Q = matmul_sparse_tensor(reciprocal_sparse_tensor(R),tensor)\n",
    "    return R,Q\n",
    "\n",
    "def right_canonicalize_MPS_torch_sparse(mps_line,Decomposition_Engine=diagonal_tensor_RQ_torch_sparse,\n",
    "                          final_normlization =True,all_renormlization=False\n",
    "                          ):\n",
    "    new_chain = []\n",
    "    R         = None\n",
    "    Z_list    = []\n",
    "    # assume every mps_unit is store (kD,D)\n",
    "    for i,tensor in enumerate(mps_line[::-1]):\n",
    "        if R is not None:\n",
    "            new_tensor = matmul_sparse_tensor(tensor,R)   \n",
    "        else:\n",
    "            new_tensor = tensor\n",
    "        kD,D  = new_tensor.shape\n",
    "        if kD>D:\n",
    "            new_tensor = reshape_sparse_tensor(new_tensor,(D,kD))\n",
    "\n",
    "        if i == len(mps_line) - 1:\n",
    "            if final_normlization:\n",
    "                Z = (new_tensor**2).values().sum().sqrt()\n",
    "                new_tensor /= Z\n",
    "                Z_list.append(Z)\n",
    "            new_chain.append(new_tensor)\n",
    "        else:\n",
    "            if all_renormlization:\n",
    "                Z = (new_tensor**2).values().sum().sqrt()\n",
    "                new_tensor /= Z\n",
    "                Z_list.append(Z)\n",
    "            R,Q = Decomposition_Engine(new_tensor)[:2]\n",
    "            new_chain.append(Q)\n",
    "    new_chain=new_chain[::-1]\n",
    "    return new_chain,Z_list\n",
    "\n",
    "def left_canonicalize_MPS_torch_sparse(mps_line,Decomposition_Engine=None,\n",
    "                          final_normlization =True,all_renormlization=False):\n",
    "    # for any not canonical mps line\n",
    "    # the chain size (D,P,D)\n",
    "    new_chain = []\n",
    "    R         = None\n",
    "    Z_list    = []# record the scale information for each unit.\n",
    "    # assume every mps_unit is store (D,kD)\n",
    "    for i,tensor in enumerate(tqdm(mps_line)):\n",
    "        if R is not None:\n",
    "            D,kD       = tensor.shape\n",
    "            B,D        = R.shape\n",
    "            new_tensor = matmul_sparse_tensor(R,tensor)   \n",
    "            new_shape  = new_tensor.shape\n",
    "            new_tensor = reshape_sparse_tensor(new_tensor,(B*kD//D,D))\n",
    "        else:\n",
    "            new_tensor = tensor        \n",
    "        if i == len(mps_line) - 1:\n",
    "            if final_normlization:\n",
    "                Z = (new_tensor**2).values().sum().sqrt()\n",
    "                new_tensor /= Z\n",
    "                Z_list.append(Z)\n",
    "            new_chain.append(new_tensor)\n",
    "        else:\n",
    "            if all_renormlization:\n",
    "                Z = (new_tensor**2).values().sum().sqrt()\n",
    "                new_tensor /= Z\n",
    "                Z_list.append(Z)\n",
    "            Q,R,_,diagonal_svd_flag = Decomposition_Engine(new_tensor)\n",
    "            new_chain.append(Q)\n",
    "           # print(Q.shape)\n",
    "#         if not diagonal_svd_flag:\n",
    "#             print(f\"full matrix SVD at unit {i}\")\n",
    "\n",
    "    return new_chain,Z_list\n",
    "\n",
    "def truncated_SVD_torch_sparse(tensor,output='RQ',max_singular_values= None,\n",
    "                          max_truncation_error= None,\n",
    "                          relative = True,\n",
    "                          normlized= True,\n",
    "                          verbose  = False):\n",
    "    # the canonocal\n",
    "    # tensor is batched\n",
    "    assert len(tensor.shape)  == 2\n",
    "    diagonal_svd_flag = True\n",
    "    out = diagonal_tensor_svd_torch_sparse_2D(tensor)\n",
    "    if out is None:\n",
    "        diagonal_svd_flag=False\n",
    "        q = min(tensor.size())\n",
    "        q = min(q,max_singular_values) \n",
    "        u, s, v = torch.svd_lowrank(tensor,q=q)\n",
    "        v       = v.T\n",
    "        #print(q,s.shape)\n",
    "    else:\n",
    "        u, s, v = out\n",
    "        max_singular_values = s.shape[-1] if max_singular_values is None else max_singular_values\n",
    "        if max_truncation_error is not None and len(s)>max_singular_values:\n",
    "            # Cumulative norms of singular values in ascending order\n",
    "            s_normlized  = s**2\n",
    "            s_normlized /= torch.sum(s_normlized)\n",
    "            s_sorted,_   = torch.sort(s_normlized)# 0.1,0.2,...,0.4\n",
    "            trunc_errs   = torch.sqrt(torch.cumsum(s_sorted,0))# 0.1,0.3,....1\n",
    "            # If relative is true, rescale max_truncation error with the largest\n",
    "            # singular value to yield the absolute maximal truncation error.\n",
    "            num_sing_vals_err = torch.sum(trunc_errs > max_truncation_error)\n",
    "            if max_singular_values>num_sing_vals_err and verbose:\n",
    "                print(f\"use {num_sing_vals_err}/{max_singular_values} sing vals\")\n",
    "        else:\n",
    "            num_sing_vals_err  = max_singular_values\n",
    "\n",
    "        nk = min(max_singular_values, num_sing_vals_err)\n",
    "\n",
    "\n",
    "        #s_rest = s[...,num_sing_vals_keep:]\n",
    "\n",
    "        u  = sparse_take_first(u,nk,axis=1) if u.is_sparse else u[...,:nk]\n",
    "        s  = s[...,:nk]\n",
    "        v  = sparse_take_first(v,nk,axis=0) if v.is_sparse else v[:nk,:]\n",
    "    Z  = None #maybe add in the furture\n",
    "    if output == 'RQ':\n",
    "        R = u*s[None] if not u.is_sparse else matmul_sparse_tensor(u,sparse_diagonal(s))\n",
    "        Q = v\n",
    "        if not R.is_sparse:R = R.to_sparse() \n",
    "        if not Q.is_sparse:Q = Q.to_sparse() \n",
    "        output = [R,Q,Z,diagonal_svd_flag]\n",
    "    elif output == 'QR':\n",
    "        Q = u\n",
    "        R = s[:,None]*v if not  v.is_sparse else matmul_sparse_tensor(sparse_diagonal(s),v)\n",
    "        if not R.is_sparse:R = R.to_sparse()\n",
    "        if not Q.is_sparse:Q = Q.to_sparse()\n",
    "        output = [Q,R,Z,diagonal_svd_flag]\n",
    "    else:\n",
    "        if not u.is_sparse:u = u.to_sparse() \n",
    "        if not v.is_sparse:v = v.to_sparse() \n",
    "        output = [u,s,v,Z,diagonal_svd_flag]\n",
    "    return output"
   ]
  },
  {
   "cell_type": "code",
   "execution_count": 7,
   "metadata": {
    "hidden": true
   },
   "outputs": [],
   "source": [
    "train_loader= torch.utils.data.DataLoader(dataset=mnist_train, batch_size=1000, shuffle=True)\n",
    "test_loader = torch.utils.data.DataLoader(dataset=mnist_test , batch_size=1000, shuffle=False)\n",
    "images,labels = iter(train_loader).next()\n",
    "origin_inputs = preprocess_sum_one(images)\n",
    "\n",
    "L=origin_inputs.shape[0]\n",
    "idx1          = list(range(2*L))\n",
    "idx2          = [i for i in range(L) for j in range(2)]\n",
    "index         = torch.tensor([idx1,idx2])\n",
    "mps_line=[(origin_inputs[:,0,:].transpose(1,0)).to_sparse()]\n",
    "for tensor in origin_inputs.permute(1,0,2)[1:]:\n",
    "    sparse_tensor = torch.sparse_coo_tensor(index, tensor.flatten(), (2*L,L)).coalesce()      \n",
    "    #sparse_tensor = reshape_sparse_tensor(sparse_tensor,(L,2*L))                              \n",
    "    mps_line.append(sparse_tensor)"
   ]
  },
  {
   "cell_type": "code",
   "execution_count": 11,
   "metadata": {
    "hidden": true
   },
   "outputs": [],
   "source": [
    "mps_line=[t.cuda() for t in mps_line]"
   ]
  },
  {
   "cell_type": "code",
   "execution_count": 21,
   "metadata": {
    "hidden": true
   },
   "outputs": [],
   "source": [
    "import torch_sparse"
   ]
  },
  {
   "cell_type": "code",
   "execution_count": 22,
   "metadata": {
    "hidden": true
   },
   "outputs": [],
   "source": [
    "mps_line,Z = right_canonicalize_MPS_torch_sparse(mps_line,final_normlization =True,all_renormlization=False)"
   ]
  },
  {
   "cell_type": "code",
   "execution_count": 25,
   "metadata": {
    "hidden": true
   },
   "outputs": [],
   "source": [
    "from tqdm.notebook import tqdm"
   ]
  },
  {
   "cell_type": "code",
   "execution_count": 38,
   "metadata": {
    "hidden": true,
    "scrolled": true
   },
   "outputs": [
    {
     "data": {
      "application/vnd.jupyter.widget-view+json": {
       "model_id": "860f1c30906e46208b3c22b98cd2c437",
       "version_major": 2,
       "version_minor": 0
      },
      "text/plain": [
       "  0%|          | 0/784 [00:00<?, ?it/s]"
      ]
     },
     "metadata": {},
     "output_type": "display_data"
    }
   ],
   "source": [
    "Decomposition_Engine=lambda x:truncated_SVD_torch_sparse(x,output='QR',\n",
    "                                                        max_truncation_error=0.00,\n",
    "                                                        max_singular_values=1,\n",
    "                                                       )\n",
    "mps_line2,z_2 = left_canonicalize_MPS_torch_sparse(mps_line,final_normlization =True,\n",
    "                                               all_renormlization=True,\n",
    "                                               Decomposition_Engine=Decomposition_Engine)"
   ]
  },
  {
   "cell_type": "markdown",
   "metadata": {
    "heading_collapsed": true,
    "hidden": true
   },
   "source": [
    "###### torch_sparse MPS"
   ]
  },
  {
   "cell_type": "code",
   "execution_count": 1,
   "metadata": {
    "hidden": true
   },
   "outputs": [],
   "source": [
    "import torch\n",
    "import torch_sparse\n",
    "import numpy as np\n",
    "from utils import *\n",
    "\n",
    "def rd_engine(*x,**kargs):\n",
    "    x =  torch.randn(*x,device='cpu',**kargs)\n",
    "    x/=  torch.norm(x).sqrt()\n",
    "    return x"
   ]
  },
  {
   "cell_type": "code",
   "execution_count": 2,
   "metadata": {
    "hidden": true
   },
   "outputs": [],
   "source": [
    "from torchvision import datasets, transforms\n",
    "mnist_data = np.load('archive/tn-for-unsup-ml/data/binarized_mnist.npz')\n",
    "train_data = torch.from_numpy(mnist_data['train_data'])\n",
    "test_data  = torch.from_numpy(mnist_data['test_data'])\n",
    "\n",
    "transform = transforms.Compose([\n",
    "    transforms.ToTensor(),\n",
    "    #transforms.Normalize(mean=(0.0,), std=(1.0,))\n",
    "])\n",
    "DATAPATH    = '/media/tianning/DATA/DATASET/MNIST/'\n",
    "mnist_train = datasets.MNIST(DATAPATH, train=True, download=False, transform=transform)\n",
    "mnist_test  = datasets.MNIST(DATAPATH, train=False,download=False, transform=transform)\n"
   ]
  },
  {
   "cell_type": "code",
   "execution_count": 17,
   "metadata": {
    "hidden": true
   },
   "outputs": [],
   "source": [
    "train_loader= torch.utils.data.DataLoader(dataset=mnist_train, batch_size=1000, shuffle=True)\n",
    "test_loader = torch.utils.data.DataLoader(dataset=mnist_test , batch_size=1000, shuffle=False)\n",
    "images,labels = iter(train_loader).next()\n",
    "origin_inputs = preprocess_sum_one(images)"
   ]
  },
  {
   "cell_type": "code",
   "execution_count": 18,
   "metadata": {
    "hidden": true
   },
   "outputs": [
    {
     "data": {
      "text/plain": [
       "torch.Size([1000, 784, 2])"
      ]
     },
     "execution_count": 18,
     "metadata": {},
     "output_type": "execute_result"
    }
   ],
   "source": [
    "origin_inputs.shape"
   ]
  },
  {
   "cell_type": "code",
   "execution_count": 3,
   "metadata": {
    "hidden": true
   },
   "outputs": [],
   "source": [
    "device='cpu'\n",
    "L=origin_inputs.shape[0]\n",
    "idx1  = [0]*L+[1]*L\n",
    "idx2  = [(L+1)*i for i in range(L)]\n",
    "idx2  = idx2 + idx2\n",
    "index = torch.tensor([idx2,idx1])\n",
    "input_mps=[(origin_inputs[:,0,:]).to_sparse().to(device)]\n",
    "for tensor in origin_inputs.permute(1,0,2)[1:]:\n",
    "    sparse_tensor = torch.sparse_coo_tensor(index, tensor.flatten(), (L*L,2)).coalesce()      \n",
    "    #sparse_tensor = reshape_sparse_tensor(sparse_tensor,(L,2*L))                              \n",
    "    input_mps.append(sparse_tensor.to(device))\n",
    "    "
   ]
  },
  {
   "cell_type": "code",
   "execution_count": 3,
   "metadata": {
    "hidden": true
   },
   "outputs": [],
   "source": []
  },
  {
   "cell_type": "code",
   "execution_count": null,
   "metadata": {
    "hidden": true
   },
   "outputs": [],
   "source": [
    "# left_tensors = [torch.einsum('cpd,apb->acbd', input_data[i]  ,self.mps_var[i]).flatten(0,1).flatten(-2,-1) for i in range(self.hn)]\n",
    "# rigt_tensors = [torch.einsum('cpd,apb->acbd', input_data[i-1]  ,self.mps_var[i]).flatten(0,1).flatten(-2,-1) for i in range(self.hn+1,len(self.mps_var))]\n"
   ]
  },
  {
   "cell_type": "code",
   "execution_count": 38,
   "metadata": {
    "hidden": true
   },
   "outputs": [],
   "source": [
    "D=2\n",
    "P=2\n",
    "L=14\n",
    "B=3\n",
    "inputs = rd_engine(B,L,P)    \n",
    "# inputs = inputs.permute(1,2,0)#(B,num,k)->(num,k,B)\n",
    "# inputs = torch.diag_embed(inputs)#(num,k,B)->(num,k,B,B)\n",
    "# inputs = inputs.flatten(-2,-1)\n",
    "#inputs = inputs.permute(0,2,1,3)#(num,k,B,B)->(num,B,k,B)"
   ]
  },
  {
   "cell_type": "code",
   "execution_count": 39,
   "metadata": {
    "hidden": true
   },
   "outputs": [],
   "source": [
    "B=inputs.shape[0]\n",
    "idx1  = [0]*B+[1]*B\n",
    "idx2  = [(B+1)*i for i in range(B)]\n",
    "idx2  = idx2 + idx2\n",
    "index = torch.tensor([idx2,idx1])\n",
    "input_mps=[(inputs[:,0,:]).to_sparse()]\n",
    "for tensor in inputs.permute(1,0,2)[1:]:\n",
    "    sparse_tensor = torch.sparse_coo_tensor(index, tensor.flatten(), (B*B,2)).coalesce()      \n",
    "    #sparse_tensor = reshape_sparse_tensor(sparse_tensor,(L,2*L))                              \n",
    "    input_mps.append(sparse_tensor)"
   ]
  },
  {
   "cell_type": "code",
   "execution_count": 70,
   "metadata": {
    "hidden": true
   },
   "outputs": [],
   "source": [
    "\n",
    "def rd_engine(*x,**kargs):\n",
    "    x =  torch.randn(*x,device='cpu',**kargs)\n",
    "    x/=  torch.norm(x).sqrt()\n",
    "    return x\n",
    "Ds  = [1]+list(np.random.randint(3,10,L-1))+[1]\n",
    "mps_var    = [rd_engine(Ds[i],P,Ds[i+1]) for i in range(L)]  \n",
    "print(Ds)"
   ]
  },
  {
   "cell_type": "code",
   "execution_count": 75,
   "metadata": {
    "hidden": true
   },
   "outputs": [
    {
     "data": {
      "text/plain": [
       "[1, 3, 4, 9, 6, 4, 6, 6, 3, 6, 5, 6, 6, 3, 1]"
      ]
     },
     "execution_count": 75,
     "metadata": {},
     "output_type": "execute_result"
    }
   ],
   "source": [
    "Ds"
   ]
  },
  {
   "cell_type": "code",
   "execution_count": 85,
   "metadata": {
    "hidden": true
   },
   "outputs": [],
   "source": [
    "out=[]\n",
    "for inp,mps_unit in zip(input_mps,mps_var):\n",
    "    out.append(torch.sparse.mm(inp,mps_unit.permute(1,0,2).flatten(1,2)))"
   ]
  },
  {
   "cell_type": "code",
   "execution_count": 81,
   "metadata": {
    "hidden": true
   },
   "outputs": [
    {
     "name": "stdout",
     "output_type": "stream",
     "text": [
      "torch.Size([9, 2])\n"
     ]
    }
   ],
   "source": [
    "idx=4\n",
    "print(input_mps[idx].shape)\n",
    "D1,P,D2=mps_var[idx].shape"
   ]
  },
  {
   "cell_type": "code",
   "execution_count": 78,
   "metadata": {
    "hidden": true
   },
   "outputs": [],
   "source": [
    "all_values= input_mps[idx].values().reshape(B,P)@mps_var[idx].permute(1,0,2).flatten(1,2)"
   ]
  },
  {
   "cell_type": "code",
   "execution_count": 80,
   "metadata": {
    "hidden": true
   },
   "outputs": [
    {
     "data": {
      "text/plain": [
       "torch.Size([3, 24])"
      ]
     },
     "execution_count": 80,
     "metadata": {},
     "output_type": "execute_result"
    }
   ],
   "source": [
    "all_values.shape"
   ]
  },
  {
   "cell_type": "code",
   "execution_count": 84,
   "metadata": {
    "hidden": true,
    "scrolled": true
   },
   "outputs": [
    {
     "data": {
      "text/plain": [
       "tensor([[ 0.0746, -0.0109,  0.0053,  0.0967,  0.0000,  0.0000,  0.0000,  0.0000,\n",
       "          0.0000,  0.0000,  0.0000,  0.0000],\n",
       "        [ 0.0675, -0.0708,  0.1573, -0.1155,  0.0000,  0.0000,  0.0000,  0.0000,\n",
       "          0.0000,  0.0000,  0.0000,  0.0000],\n",
       "        [-0.0360,  0.2245,  0.0516,  0.1981,  0.0000,  0.0000,  0.0000,  0.0000,\n",
       "          0.0000,  0.0000,  0.0000,  0.0000],\n",
       "        [ 0.2776, -0.2080, -0.0120,  0.1236,  0.0000,  0.0000,  0.0000,  0.0000,\n",
       "          0.0000,  0.0000,  0.0000,  0.0000],\n",
       "        [ 0.1618,  0.0482,  0.0096, -0.0264,  0.0000,  0.0000,  0.0000,  0.0000,\n",
       "          0.0000,  0.0000,  0.0000,  0.0000],\n",
       "        [ 0.1465, -0.1226, -0.1381,  0.1770,  0.0000,  0.0000,  0.0000,  0.0000,\n",
       "          0.0000,  0.0000,  0.0000,  0.0000],\n",
       "        [ 0.0000,  0.0000,  0.0000,  0.0000,  0.1027, -0.0411, -0.0813,  0.1604,\n",
       "          0.0000,  0.0000,  0.0000,  0.0000],\n",
       "        [ 0.0000,  0.0000,  0.0000,  0.0000,  0.1903, -0.0082,  0.2638, -0.0855,\n",
       "          0.0000,  0.0000,  0.0000,  0.0000],\n",
       "        [ 0.0000,  0.0000,  0.0000,  0.0000,  0.0499,  0.3243,  0.0474,  0.2284,\n",
       "          0.0000,  0.0000,  0.0000,  0.0000],\n",
       "        [ 0.0000,  0.0000,  0.0000,  0.0000,  0.4458, -0.2313, -0.0468,  0.2555,\n",
       "          0.0000,  0.0000,  0.0000,  0.0000],\n",
       "        [ 0.0000,  0.0000,  0.0000,  0.0000,  0.2578,  0.0307,  0.0229, -0.0274,\n",
       "          0.0000,  0.0000,  0.0000,  0.0000],\n",
       "        [ 0.0000,  0.0000,  0.0000,  0.0000,  0.1947, -0.2375, -0.2380,  0.2213,\n",
       "          0.0000,  0.0000,  0.0000,  0.0000],\n",
       "        [ 0.0000,  0.0000,  0.0000,  0.0000,  0.0000,  0.0000,  0.0000,  0.0000,\n",
       "         -0.0436,  0.0053, -0.0069, -0.0554],\n",
       "        [ 0.0000,  0.0000,  0.0000,  0.0000,  0.0000,  0.0000,  0.0000,  0.0000,\n",
       "         -0.0353,  0.0452, -0.0900,  0.0707],\n",
       "        [ 0.0000,  0.0000,  0.0000,  0.0000,  0.0000,  0.0000,  0.0000,  0.0000,\n",
       "          0.0254, -0.1306, -0.0312, -0.1177],\n",
       "        [ 0.0000,  0.0000,  0.0000,  0.0000,  0.0000,  0.0000,  0.0000,  0.0000,\n",
       "         -0.1596,  0.1240,  0.0057, -0.0686],\n",
       "        [ 0.0000,  0.0000,  0.0000,  0.0000,  0.0000,  0.0000,  0.0000,  0.0000,\n",
       "         -0.0931, -0.0297, -0.0052,  0.0158],\n",
       "        [ 0.0000,  0.0000,  0.0000,  0.0000,  0.0000,  0.0000,  0.0000,  0.0000,\n",
       "         -0.0860,  0.0687,  0.0787, -0.1045]])"
      ]
     },
     "execution_count": 84,
     "metadata": {},
     "output_type": "execute_result"
    }
   ],
   "source": [
    "torch.block_diag(*all_values.reshape(B,D1,D2))"
   ]
  },
  {
   "cell_type": "code",
   "execution_count": 89,
   "metadata": {
    "hidden": true
   },
   "outputs": [],
   "source": [
    "LDLD=out[idx].reshape(B,B,Ds[idx],Ds[idx+1]).permute(0,2,1,3).flatten(0,1).flatten(-2,-1).to_sparse()"
   ]
  },
  {
   "cell_type": "code",
   "execution_count": 93,
   "metadata": {
    "hidden": true
   },
   "outputs": [
    {
     "data": {
      "text/plain": [
       "torch.Size([18, 12])"
      ]
     },
     "execution_count": 93,
     "metadata": {},
     "output_type": "execute_result"
    }
   ],
   "source": [
    "LDLD.shape"
   ]
  },
  {
   "cell_type": "code",
   "execution_count": 92,
   "metadata": {
    "hidden": true
   },
   "outputs": [
    {
     "name": "stdout",
     "output_type": "stream",
     "text": [
      "[[ 0.075 -0.011  0.005  0.097  0.     0.     0.     0.     0.     0.\n",
      "   0.     0.   ]\n",
      " [ 0.067 -0.071  0.157 -0.115  0.     0.     0.     0.     0.     0.\n",
      "   0.     0.   ]\n",
      " [-0.036  0.225  0.052  0.198  0.     0.     0.     0.     0.     0.\n",
      "   0.     0.   ]\n",
      " [ 0.278 -0.208 -0.012  0.124  0.     0.     0.     0.     0.     0.\n",
      "   0.     0.   ]\n",
      " [ 0.162  0.048  0.01  -0.026  0.     0.     0.     0.     0.     0.\n",
      "   0.     0.   ]\n",
      " [ 0.146 -0.123 -0.138  0.177  0.     0.     0.     0.     0.     0.\n",
      "   0.     0.   ]\n",
      " [ 0.     0.     0.     0.     0.103 -0.041 -0.081  0.16   0.     0.\n",
      "   0.     0.   ]\n",
      " [ 0.     0.     0.     0.     0.19  -0.008  0.264 -0.086  0.     0.\n",
      "   0.     0.   ]\n",
      " [ 0.     0.     0.     0.     0.05   0.324  0.047  0.228  0.     0.\n",
      "   0.     0.   ]\n",
      " [ 0.     0.     0.     0.     0.446 -0.231 -0.047  0.256  0.     0.\n",
      "   0.     0.   ]\n",
      " [ 0.     0.     0.     0.     0.258  0.031  0.023 -0.027  0.     0.\n",
      "   0.     0.   ]\n",
      " [ 0.     0.     0.     0.     0.195 -0.238 -0.238  0.221  0.     0.\n",
      "   0.     0.   ]\n",
      " [ 0.     0.     0.     0.     0.     0.     0.     0.    -0.044  0.005\n",
      "  -0.007 -0.055]\n",
      " [ 0.     0.     0.     0.     0.     0.     0.     0.    -0.035  0.045\n",
      "  -0.09   0.071]\n",
      " [ 0.     0.     0.     0.     0.     0.     0.     0.     0.025 -0.131\n",
      "  -0.031 -0.118]\n",
      " [ 0.     0.     0.     0.     0.     0.     0.     0.    -0.16   0.124\n",
      "   0.006 -0.069]\n",
      " [ 0.     0.     0.     0.     0.     0.     0.     0.    -0.093 -0.03\n",
      "  -0.005  0.016]\n",
      " [ 0.     0.     0.     0.     0.     0.     0.     0.    -0.086  0.069\n",
      "   0.079 -0.104]]\n"
     ]
    }
   ],
   "source": [
    "print(LDLD.to_dense().numpy().round(3))"
   ]
  },
  {
   "cell_type": "markdown",
   "metadata": {
    "hidden": true
   },
   "source": [
    "###### test"
   ]
  },
  {
   "cell_type": "markdown",
   "metadata": {
    "hidden": true
   },
   "source": [
    "the max singular value truncation only good for hundreds dimenstion, for small dimenstion not good"
   ]
  },
  {
   "cell_type": "markdown",
   "metadata": {
    "hidden": true
   },
   "source": [
    "FiniteMPS canonicalize == right_canonicalize_MPS with torchrq"
   ]
  },
  {
   "cell_type": "markdown",
   "metadata": {
    "hidden": true
   },
   "source": []
  },
  {
   "cell_type": "code",
   "execution_count": null,
   "metadata": {
    "hidden": true
   },
   "outputs": [],
   "source": [
    "import torch"
   ]
  },
  {
   "cell_type": "code",
   "execution_count": 4,
   "metadata": {
    "hidden": true
   },
   "outputs": [],
   "source": [
    "from tensornetwork.matrixproductstates.finite_mps import FiniteMPS\n",
    "from tensornetwork.matrixproductstates.infinite_mps import InfiniteMPS\n",
    "from typing import Any, List, Optional, Text, Type, Union, Dict, Sequence\n",
    "import numpy as np\n",
    "Tensor = Any"
   ]
  },
  {
   "cell_type": "code",
   "execution_count": 10,
   "metadata": {
    "hidden": true,
    "scrolled": true
   },
   "outputs": [],
   "source": [
    "# D=6\n",
    "# P=4\n",
    "# L=5\n",
    "# mps_line = [torch.randn(1,P,D)] + [torch.randn(D,P,D) for i in range(L-2)]+ [torch.randn(D,P,1)]\n",
    "# input_mps= [torch.randn(P,D)] + [torch.randn(D,P,D) for i in range(L-2)]+ [torch.randn(D,P)]\n",
    "# approx = approxmate_mps_line(mps_line,max_singular_values=2)\n",
    "# #contract_two_mps(approx,input_mps)"
   ]
  },
  {
   "cell_type": "code",
   "execution_count": 16,
   "metadata": {
    "hidden": true
   },
   "outputs": [],
   "source": [
    "# tn.set_default_backend(\"pytorch\")\n",
    "# tn_mps_1 = FiniteMPS(mps_line,canonicalize=False)\n",
    "# tn_mps_1.canonicalize(normalize=False)\n",
    "# tn_mps_1.center_position"
   ]
  },
  {
   "cell_type": "code",
   "execution_count": 1,
   "metadata": {
    "hidden": true
   },
   "outputs": [],
   "source": [
    "import tensornetwork as tn\n",
    "from tensornetwork import contractors\n",
    "tn.set_default_backend(\"pytorch\")"
   ]
  },
  {
   "cell_type": "code",
   "execution_count": 32,
   "metadata": {
    "code_folding": [
     0
    ],
    "hidden": true
   },
   "outputs": [],
   "source": [
    "from utils import *"
   ]
  },
  {
   "cell_type": "code",
   "execution_count": 3,
   "metadata": {
    "code_folding": [
     3
    ],
    "hidden": true
   },
   "outputs": [],
   "source": [
    "D=10\n",
    "P=4\n",
    "L=14\n",
    "def rd_engine(*x,**kargs):\n",
    "    x =  torch.randn(*x,device='cpu',**kargs)\n",
    "    x/=  torch.norm(x).sqrt()\n",
    "    return x"
   ]
  },
  {
   "cell_type": "code",
   "execution_count": 34,
   "metadata": {
    "code_folding": [
     1,
     36
    ],
    "hidden": true
   },
   "outputs": [],
   "source": [
    "from tensornetwork.contractors.opt_einsum_paths.path_contractors import *\n",
    "def my_contracter(nodes: Iterable[AbstractNode],\n",
    "         path = None,\n",
    "         output_edge_order: Optional[Sequence[Edge]] = None,\n",
    "         ignore_edge_order: bool = False,\n",
    "         memory_limit: Optional[int] = None) -> AbstractNode:\n",
    "        \"\"\"Base method for all `opt_einsum` contractors.\n",
    "\n",
    "        Args:\n",
    "        nodes: A collection of connected nodes.\n",
    "        algorithm: `opt_einsum` contraction method to use.\n",
    "        output_edge_order: An optional list of edges. Edges of the\n",
    "        final node in `nodes_set`\n",
    "        are reordered into `output_edge_order`;\n",
    "        if final node has more than one edge,\n",
    "        `output_edge_order` must be provided.\n",
    "        ignore_edge_order: An option to ignore the output edge\n",
    "        order.\n",
    "\n",
    "        Returns:\n",
    "        Final node after full contraction.\n",
    "        \"\"\"\n",
    "        nodes_set = set(nodes)\n",
    "        edges = get_all_edges(nodes_set)\n",
    "        #output edge order has to be determinded before any contraction\n",
    "        #(edges are refreshed after contractions)\n",
    "\n",
    "        if not ignore_edge_order:\n",
    "            if output_edge_order is None:\n",
    "                output_edge_order = list(get_subgraph_dangling(nodes))\n",
    "                if len(output_edge_order) > 1:\n",
    "                    raise ValueError(\"The final node after contraction has more than \"\n",
    "                                 \"one remaining edge. In this case `output_edge_order` \"\n",
    "                                 \"has to be provided.\")\n",
    "\n",
    "            if set(output_edge_order) != get_subgraph_dangling(nodes):\n",
    "                raise ValueError(\"output edges are not equal to the remaining \"\n",
    "                       \"non-contracted edges of the final node.\")\n",
    "\n",
    "        for edge in edges:\n",
    "            if not edge.is_disabled:  #if its disabled we already contracted it\n",
    "                if edge.is_trace():\n",
    "                    nodes_set.remove(edge.node1)\n",
    "                    nodes_set.add(contract_parallel(edge))\n",
    "\n",
    "        if len(nodes_set) == 1:\n",
    "            # There's nothing to contract.\n",
    "            if ignore_edge_order:\n",
    "                return list(nodes_set)[0]\n",
    "            return list(nodes_set)[0].reorder_edges(output_edge_order)\n",
    "\n",
    "        if path is None:\n",
    "            algorithm = functools.partial(opt_einsum.paths.greedy, memory_limit=memory_limit)\n",
    "            # Then apply `opt_einsum`'s algorithm\n",
    "            path, nodes = utils.get_path(nodes_set, algorithm)\n",
    "        else:\n",
    "            nodes = list(nodes_set) \n",
    "        for a, b in path:\n",
    "            new_node = contract_between(nodes[a], nodes[b], allow_outer_product=True)\n",
    "            nodes.append(new_node)\n",
    "            nodes = utils.multi_remove(nodes, [a, b])\n",
    "\n",
    "        # if the final node has more than one edge,\n",
    "        # output_edge_order has to be specified\n",
    "        final_node = nodes[0]  # nodes were connected, we checked this\n",
    "        if not ignore_edge_order:\n",
    "            final_node.reorder_edges(output_edge_order)\n",
    "        return final_node,path"
   ]
  },
  {
   "cell_type": "code",
   "execution_count": 32,
   "metadata": {
    "hidden": true
   },
   "outputs": [],
   "source": [
    "D=10;O=10;mps_core = [rd_engine(P,D)] + [rd_engine(D,P,D) for _ in range(L-1)] + [rd_engine(D,O,D)]+ [rd_engine(D,P)]\n",
    "B=20;inp_line = [rd_engine(B,P)] + [rd_engine(B,P,B) for _ in range(L-1)] + [rd_engine(B,P,B)]"
   ]
  },
  {
   "cell_type": "code",
   "execution_count": 33,
   "metadata": {
    "hidden": true,
    "scrolled": true
   },
   "outputs": [
    {
     "name": "stdout",
     "output_type": "stream",
     "text": [
      "[(7, 18), (12, 28), (10, 27), (14, 17), (25, 26), (0, 25), (21, 24), (20, 23), (19, 22), (5, 21), (1, 20), (1, 19), (1, 18), (8, 17), (11, 16), (12, 15), (5, 14), (4, 13), (7, 12), (7, 11), (8, 10), (4, 9), (0, 8), (2, 7), (1, 6), (0, 5), (0, 4), (0, 3), (0, 2), (0, 1)]\n"
     ]
    },
    {
     "data": {
      "text/plain": [
       "tensor([[-1.4304e-01, -1.5820e-01, -1.3586e-02, -9.4462e-04, -1.3982e-01,\n",
       "          9.9057e-02,  1.7996e-01, -1.1456e-01,  1.4263e-01, -2.4580e-03],\n",
       "        [ 3.4687e-01, -4.8310e-01,  2.2043e-01, -2.1364e-01,  4.1445e-01,\n",
       "         -2.5674e-01,  1.4035e-01,  2.4091e-01, -2.3025e-01, -1.1829e-01],\n",
       "        [ 2.0311e-01, -8.6519e-02,  3.1690e-01,  2.3554e-01,  1.1007e-02,\n",
       "         -4.1188e-01,  4.2258e-02,  3.6463e-01, -3.4286e-01, -4.0262e-01],\n",
       "        [-4.7547e-01,  3.7831e-01,  3.3061e-02,  2.4604e-01, -1.5482e-01,\n",
       "         -4.6528e-02,  4.5324e-03, -4.0088e-01,  3.5013e-01,  8.5555e-02],\n",
       "        [ 9.9050e-02, -8.2526e-02,  1.8456e-01, -1.9140e-02,  1.1645e-01,\n",
       "         -3.5684e-01, -2.0432e-01,  1.1110e-01,  9.2640e-02, -1.0480e-01],\n",
       "        [ 1.6438e-01,  2.7121e-01, -3.3816e-02, -4.1494e-03,  1.2835e-01,\n",
       "          1.2292e-01,  8.6925e-02,  3.1019e-01,  3.8543e-01,  1.7188e-01],\n",
       "        [-5.1561e-02,  1.1307e-01, -5.6854e-01,  1.4294e-01, -2.3753e-01,\n",
       "          2.2774e-01,  3.7236e-01, -3.5108e-01,  1.8630e-01,  3.9439e-02],\n",
       "        [ 5.2912e-02,  2.5094e-01, -1.9803e-01,  4.7044e-03, -1.8587e-01,\n",
       "          4.2176e-01,  1.8772e-01,  3.0565e-01,  1.2801e-01,  1.9867e-01],\n",
       "        [ 1.1517e-01,  1.0643e-01,  1.5878e-01,  5.5360e-02, -1.3950e-01,\n",
       "          5.1184e-02,  8.2136e-02, -2.4243e-01, -8.4872e-02,  1.3361e-02],\n",
       "        [ 1.4793e-01, -1.5811e-01,  5.4551e-05, -8.3154e-02, -2.5979e-01,\n",
       "         -1.9083e-01, -1.5844e-01,  1.5925e-01,  1.1895e-01,  2.1983e-02],\n",
       "        [-3.0817e-01,  2.3907e-01, -1.7756e-01,  2.8272e-01,  1.4382e-01,\n",
       "          5.0498e-01,  4.2695e-01,  3.0219e-01, -2.6779e-01, -1.2777e-01],\n",
       "        [-3.8576e-02,  9.5788e-03,  8.3571e-02, -7.7039e-02,  3.6145e-03,\n",
       "          1.6885e-01,  1.5983e-01, -2.3978e-01, -2.0942e-01,  9.6214e-02],\n",
       "        [ 4.0893e-03, -3.6139e-01,  4.0647e-01, -2.6646e-01,  1.9695e-01,\n",
       "         -1.0266e-01,  1.9087e-01,  5.0853e-01, -3.8624e-02,  1.8222e-04],\n",
       "        [-2.9511e-02,  3.1189e-01,  2.4094e-01,  1.7423e-01, -2.5471e-01,\n",
       "         -8.0931e-02, -3.8496e-02, -1.2300e-02,  6.1083e-02, -6.5881e-02],\n",
       "        [-2.3669e-01, -3.0595e-01, -1.7096e-01,  1.4025e-02,  1.4744e-01,\n",
       "         -3.6415e-02, -1.7377e-01,  2.5554e-01, -1.3301e-01, -8.9086e-02],\n",
       "        [ 1.0746e-01, -8.4043e-02,  8.2953e-02,  1.8575e-01, -1.6408e-01,\n",
       "          1.5920e-01, -7.5862e-02, -2.0506e-01, -3.0581e-01, -7.0687e-02],\n",
       "        [-8.5354e-02,  2.5426e-01,  1.8748e-01,  8.1318e-02, -2.2259e-01,\n",
       "          4.7392e-02, -3.1515e-01,  1.3632e-01, -1.4565e-01, -2.7911e-01],\n",
       "        [ 1.8653e-01, -1.3372e-01,  4.8352e-02, -1.3855e-01, -1.6892e-01,\n",
       "          2.6170e-01,  1.0761e-01, -6.7705e-02, -4.6117e-02,  1.2726e-01],\n",
       "        [-2.1083e-01, -3.7951e-02, -1.1342e-01,  4.1334e-02, -6.1075e-03,\n",
       "          2.7614e-01,  7.5191e-03, -2.2903e-01, -8.9833e-02,  2.0455e-01],\n",
       "        [ 7.3030e-02,  2.0093e-01, -2.6945e-01,  1.6580e-01, -2.3946e-02,\n",
       "          1.6530e-01, -1.5978e-01, -1.2399e-01,  1.9520e-02, -1.6731e-02]])"
      ]
     },
     "execution_count": 33,
     "metadata": {},
     "output_type": "execute_result"
    }
   ],
   "source": [
    "mps_nodes  = [tn.Node(v, name=f\"t{i}\") for i,v in enumerate(mps_core)]\n",
    "for i in range(len(mps_core)-1):\n",
    "    tn.connect(mps_nodes[i][-1],mps_nodes[i+1][0],name=f\"mps:{i}<->{i+1}\")\n",
    "inp_nodes=[tn.Node(v, name=f\"i{i}\") for i,v in enumerate(inp_line)]\n",
    "tn.connect(inp_nodes[0][0],inp_nodes[1][0],name=f\"inp:{0}<->{1}\")\n",
    "for i in range(1,len(inp_nodes)-1):\n",
    "    tn.connect(inp_nodes[i][-1],inp_nodes[i+1][0],name=f\"inp:{i}<->{i+1}\")\n",
    "for i,input_node in enumerate(inp_nodes):\n",
    "    j = i if i < L else i+1\n",
    "    mps_physicd_edge = mps_nodes[j][0] if j==0 else mps_nodes[j][1]\n",
    "    inp_physics_edge = input_node[1]\n",
    "    tn.connect(mps_physicd_edge,inp_physics_edge,name=f\"phy_{i}\")\n",
    "ans,path = my_contracter(mps_nodes+inp_nodes,\n",
    "                       output_edge_order=[inp_nodes[-1][2],mps_nodes[L][1]])\n",
    "ans.tensor"
   ]
  },
  {
   "cell_type": "code",
   "execution_count": null,
   "metadata": {
    "code_folding": [],
    "hidden": true
   },
   "outputs": [],
   "source": [
    "top_mps_list    = [rd_engine(P,D)] + [rd_engine(L-2,D,P,D)]  + [rd_engine(D,P)]\n",
    "middle_mpo_list =[[rd_engine(P,D,P)]+[rd_engine(L-2,D,P,D,P)]+ [rd_engine(D,P,P)]\n",
    "                  for _ in range(L-2)]\n",
    "bottom_mps_list = [rd_engine(P,D)] + [rd_engine(L-2,D,P,D)]  + [rd_engine(D,P)]"
   ]
  },
  {
   "cell_type": "code",
   "execution_count": 31,
   "metadata": {
    "hidden": true
   },
   "outputs": [],
   "source": [
    "D=2000\n",
    "P=4\n",
    "L=14\n",
    "top_mps_list = [rd_engine(P,D)] + [rd_engine(L-2,D,P,D)]  + [rd_engine(D,P)]\n",
    "top_mps_list = right_mps_form(top_mps_list)\n",
    "bottom_mps_list= [0.005*torch.randn_like(a)+a for a in top_mps_list]"
   ]
  },
  {
   "cell_type": "code",
   "execution_count": 32,
   "metadata": {
    "hidden": true
   },
   "outputs": [],
   "source": [
    "bottom_mps_list,Zb = left_canonicalize_MPS(right_mps_form(bottom_mps_list))"
   ]
  },
  {
   "cell_type": "code",
   "execution_count": 33,
   "metadata": {
    "hidden": true
   },
   "outputs": [
    {
     "data": {
      "text/plain": [
       "tensor(0.0166)"
      ]
     },
     "execution_count": 33,
     "metadata": {},
     "output_type": "execute_result"
    }
   ],
   "source": [
    "contract_two_mps(bottom_mps_list,top_mps_list)"
   ]
  },
  {
   "cell_type": "code",
   "execution_count": 34,
   "metadata": {
    "hidden": true
   },
   "outputs": [
    {
     "name": "stdout",
     "output_type": "stream",
     "text": [
      "   left canonical scalar:0.09317030757665634\n",
      "   right canonical Z:[1.0, 1.0, 1.0, 1.0, 1.0, 0.999, 0.942, 0.938, 0.958, 1.0, 1.0, 1.0, 1.0, 1.0]\n",
      "   right canonical scalar:0.8452922105789185\n"
     ]
    },
    {
     "data": {
      "text/plain": [
       "tensor(0.0118)"
      ]
     },
     "execution_count": 34,
     "metadata": {},
     "output_type": "execute_result"
    }
   ],
   "source": [
    "new_mps_list, scalar = approxmate_mps_line(top_mps_list,max_singular_values=1000)\n",
    "contract_two_mps(bottom_mps_list,new_mps_list)*scalar"
   ]
  },
  {
   "cell_type": "code",
   "execution_count": 7,
   "metadata": {
    "code_folding": [],
    "hidden": true,
    "scrolled": true
   },
   "outputs": [
    {
     "name": "stdout",
     "output_type": "stream",
     "text": [
      "start:0/12 (4, 6) - 12x(6, 4, 6) - (6, 4)\n",
      "start:1/12 \n",
      "get mps (4, 36) - 12x(36, 4, 36) - (36, 4)\n",
      "boundary contraction cost:0.0013422966003417969\n",
      "   left canonical scalar:3.0327204513014294e-05\n",
      "   right canonical Z:[1.0, 1.0, 1.0, 1.0, 1.0, 1.0, 1.0, 1.0, 1.0, 1.0, 1.0, 1.0, 1.0, 1.0]\n",
      "   right canonical scalar:1.0\n",
      "low rank approximation cost:0.11043429374694824 scalar:3.0327204513014294e-05\n",
      "==========================================\n",
      "start:2/12 \n",
      "get mps (4, 24)-(24, 4, 96)-(96, 4, 216)-(216, 4, 216)-(216, 4, 216)-(216, 4, 216)-(216, 4, 216)-(216, 4, 216)-(216, 4, 216)-(216, 4, 216)-(216, 4, 216)-(216, 4, 96)-(96, 4, 24)-(24, 4)\n",
      "boundary contraction cost:0.0018436908721923828\n",
      "   left canonical scalar:0.000614150136243552\n",
      "   right canonical Z:[1.0, 1.0, 1.0, 1.0, 1.0, 1.0, 1.0, 1.0, 1.0, 1.0, 1.0, 1.0, 1.0, 1.0]\n",
      "   right canonical scalar:1.0000004768371582\n",
      "low rank approximation cost:0.23517894744873047 scalar:0.0006141504272818565\n",
      "==========================================\n",
      "start:3/12 \n",
      "get mps (4, 24)-(24, 4, 96)-(96, 4, 384)-(384, 4, 1296)-(1296, 4, 1296)-(1296, 4, 1296)-(1296, 4, 1296)-(1296, 4, 1296)-(1296, 4, 1296)-(1296, 4, 1296)-(1296, 4, 384)-(384, 4, 96)-(96, 4, 24)-(24, 4)\n",
      "boundary contraction cost:0.0022668838500976562\n",
      "   left canonical scalar:0.000502652779687196\n",
      "   right canonical Z:[1.0, 1.0, 1.0, 1.0, 1.0, 1.0, 0.999, 0.998, 0.999, 1.0, 1.0, 1.0, 1.0, 1.0]\n",
      "   right canonical scalar:0.9966887831687927\n",
      "low rank approximation cost:1.6759274005889893 scalar:0.0005009883898310363\n",
      "==========================================\n",
      "start:4/12 \n",
      "get mps (4, 24)-(24, 4, 96)-(96, 4, 384)-(384, 4, 1536)-(1536, 4, 6000)-(6000, 4, 6000)-(6000, 4, 6000)-(6000, 4, 6000)-(6000, 4, 6000)-(6000, 4, 1536)-(1536, 4, 384)-(384, 4, 96)-(96, 4, 24)-(24, 4)\n",
      "boundary contraction cost:0.0043697357177734375\n",
      "   left canonical scalar:0.0005132302176207304\n",
      "   right canonical Z:[1.0, 1.0, 1.0, 1.0, 1.0, 1.0, 0.923, 0.91, 0.963, 1.0, 1.0, 1.0, 1.0, 1.0]\n",
      "   right canonical scalar:0.808193027973175\n",
      "low rank approximation cost:14.75801420211792 scalar:0.00041478907223790884\n",
      "==========================================\n",
      "start:5/12 \n",
      "get mps (4, 24)-(24, 4, 96)-(96, 4, 384)-(384, 4, 1536)-(1536, 4, 6000)-(6000, 4, 6000)-(6000, 4, 6000)-(6000, 4, 6000)-(6000, 4, 6000)-(6000, 4, 1536)-(1536, 4, 384)-(384, 4, 96)-(96, 4, 24)-(24, 4)\n",
      "boundary contraction cost:0.0012714862823486328\n",
      "   left canonical scalar:0.0005140540306456387\n",
      "   right canonical Z:[1.0, 1.0, 1.0, 1.0, 1.0, 1.0, 0.906, 0.887, 0.956, 1.0, 1.0, 1.0, 1.0, 1.0]\n",
      "   right canonical scalar:0.7686819434165955\n",
      "low rank approximation cost:14.943126678466797 scalar:0.0003951440448872745\n",
      "==========================================\n",
      "start:6/12 \n",
      "get mps (4, 24)-(24, 4, 96)-(96, 4, 384)-(384, 4, 1536)-(1536, 4, 6000)-(6000, 4, 6000)-(6000, 4, 6000)-(6000, 4, 6000)-(6000, 4, 6000)-(6000, 4, 1536)-(1536, 4, 384)-(384, 4, 96)-(96, 4, 24)-(24, 4)\n",
      "boundary contraction cost:0.0012161731719970703\n",
      "   left canonical scalar:0.000582900014705956\n",
      "   right canonical Z:[1.0, 1.0, 1.0, 1.0, 1.0, 1.0, 0.915, 0.888, 0.958, 1.0, 1.0, 1.0, 1.0, 1.0]\n",
      "   right canonical scalar:0.777186393737793\n",
      "low rank approximation cost:14.729921102523804 scalar:0.0004530219594016671\n",
      "==========================================\n",
      "start:7/12 \n",
      "get mps (4, 24)-(24, 4, 96)-(96, 4, 384)-(384, 4, 1536)-(1536, 4, 6000)-(6000, 4, 6000)-(6000, 4, 6000)-(6000, 4, 6000)-(6000, 4, 6000)-(6000, 4, 1536)-(1536, 4, 384)-(384, 4, 96)-(96, 4, 24)-(24, 4)\n",
      "boundary contraction cost:0.0012156963348388672\n",
      "   left canonical scalar:0.0005581201403401792\n",
      "   right canonical Z:[1.0, 1.0, 1.0, 1.0, 1.0, 1.0, 0.915, 0.88, 0.949, 1.0, 1.0, 1.0, 1.0, 1.0]\n",
      "   right canonical scalar:0.7637606859207153\n",
      "low rank approximation cost:14.766213178634644 scalar:0.00042627021321095526\n",
      "==========================================\n",
      "start:8/12 \n",
      "get mps (4, 24)-(24, 4, 96)-(96, 4, 384)-(384, 4, 1536)-(1536, 4, 6000)-(6000, 4, 6000)-(6000, 4, 6000)-(6000, 4, 6000)-(6000, 4, 6000)-(6000, 4, 1536)-(1536, 4, 384)-(384, 4, 96)-(96, 4, 24)-(24, 4)\n",
      "boundary contraction cost:0.001264333724975586\n",
      "   left canonical scalar:0.0005442900583148003\n",
      "   right canonical Z:[1.0, 1.0, 1.0, 1.0, 1.0, 1.0, 0.911, 0.876, 0.946, 1.0, 1.0, 1.0, 1.0, 1.0]\n",
      "   right canonical scalar:0.7541176080703735\n",
      "low rank approximation cost:14.809579372406006 scalar:0.00041045871330425143\n",
      "==========================================\n",
      "start:9/12 \n",
      "get mps (4, 24)-(24, 4, 96)-(96, 4, 384)-(384, 4, 1536)-(1536, 4, 6000)-(6000, 4, 6000)-(6000, 4, 6000)-(6000, 4, 6000)-(6000, 4, 6000)-(6000, 4, 1536)-(1536, 4, 384)-(384, 4, 96)-(96, 4, 24)-(24, 4)\n",
      "boundary contraction cost:0.0011568069458007812\n",
      "   left canonical scalar:0.0005957805551588535\n",
      "   right canonical Z:[1.0, 1.0, 1.0, 1.0, 1.0, 1.0, 0.91, 0.878, 0.948, 1.0, 1.0, 1.0, 1.0, 1.0]\n",
      "   right canonical scalar:0.7570173740386963\n",
      "low rank approximation cost:14.73672342300415 scalar:0.00045101623982191086\n",
      "==========================================\n",
      "start:10/12 \n",
      "get mps (4, 24)-(24, 4, 96)-(96, 4, 384)-(384, 4, 1536)-(1536, 4, 6000)-(6000, 4, 6000)-(6000, 4, 6000)-(6000, 4, 6000)-(6000, 4, 6000)-(6000, 4, 1536)-(1536, 4, 384)-(384, 4, 96)-(96, 4, 24)-(24, 4)\n",
      "boundary contraction cost:0.0012233257293701172\n",
      "   left canonical scalar:0.0006513702101074159\n",
      "   right canonical Z:[1.0, 1.0, 1.0, 1.0, 1.0, 1.0, 0.91, 0.881, 0.951, 1.0, 1.0, 1.0, 1.0, 1.0]\n",
      "   right canonical scalar:0.7616574168205261\n",
      "low rank approximation cost:14.767654418945312 scalar:0.0004961209488101304\n",
      "==========================================\n",
      "start:11/12 \n",
      "get mps (4, 24)-(24, 4, 96)-(96, 4, 384)-(384, 4, 1536)-(1536, 4, 6000)-(6000, 4, 6000)-(6000, 4, 6000)-(6000, 4, 6000)-(6000, 4, 6000)-(6000, 4, 1536)-(1536, 4, 384)-(384, 4, 96)-(96, 4, 24)-(24, 4)\n",
      "boundary contraction cost:0.0015985965728759766\n",
      "   left canonical scalar:0.0004802705952897668\n",
      "   right canonical Z:[1.0, 1.0, 1.0, 1.0, 1.0, 0.999, 0.905, 0.879, 0.949, 1.0, 1.0, 1.0, 1.0, 1.0]\n",
      "   right canonical scalar:0.7546309232711792\n",
      "low rank approximation cost:14.78076958656311 scalar:0.0003624270320869982\n",
      "==========================================\n",
      "start:12/12 \n",
      "get mps (4, 24)-(24, 4, 96)-(96, 4, 384)-(384, 4, 1536)-(1536, 4, 6000)-(6000, 4, 6000)-(6000, 4, 6000)-(6000, 4, 6000)-(6000, 4, 6000)-(6000, 4, 1536)-(1536, 4, 384)-(384, 4, 96)-(96, 4, 24)-(24, 4)\n",
      "boundary contraction cost:0.0012969970703125\n",
      "   left canonical scalar:0.0005720893968828022\n",
      "   right canonical Z:[1.0, 1.0, 1.0, 1.0, 1.0, 1.0, 0.912, 0.88, 0.947, 1.0, 1.0, 1.0, 1.0, 1.0]\n",
      "   right canonical scalar:0.7601038813591003\n",
      "low rank approximation cost:14.883152484893799 scalar:0.0004348473739810288\n",
      "==========================================\n"
     ]
    }
   ],
   "source": [
    "now_mps_list = bottom_mps_list\n",
    "print(f\"start:0/{len(middle_mpo_list)} {get_mps_size_list(now_mps_list)}\")\n",
    "for i,next_mpo in enumerate(middle_mpo_list):\n",
    "    \n",
    "    start_time = time.time()\n",
    "    now_mps_list = contract_mps_mpo(now_mps_list,next_mpo)\n",
    "    print(f\"start:{i+1}/{len(middle_mpo_list)} \")\n",
    "    print(f\"get mps {get_mps_size_list(now_mps_list)}\")\n",
    "    cost       = time.time() - start_time\n",
    "    print(f\"boundary contraction cost:{cost}\")\n",
    "    if now_mps_list[0].shape[-1]>1:\n",
    "        start_time = time.time()\n",
    "        now_mps_list,scalar = approxmate_mps_line(right_mps_form(now_mps_list),\n",
    "                                                  max_singular_values= 1000,\n",
    "                                                  mode='full',\n",
    "                                                 # mode='right' if i>3 else 'full'\n",
    "                                                 )\n",
    "        #now_mps_list = [now_mps_list[0],torch.stack(now_mps_list[1:-1],dim=0),now_mps_list[-1]]\n",
    "        cost       = time.time() - start_time\n",
    "        print(f\"low rank approximation cost:{cost} scalar:{scalar}\")\n",
    "        print(\"==========================================\")\n",
    "#     start_time = time.time()\n",
    "#     value      = contract_two_mps(now_mps_list,top_mps_list)\n",
    "#     cost       = time.time() - start_time\n",
    "#     print(f\"col contraction cost:{cost}\")"
   ]
  },
  {
   "cell_type": "code",
   "execution_count": 45,
   "metadata": {
    "code_folding": [],
    "hidden": true,
    "scrolled": true
   },
   "outputs": [
    {
     "name": "stdout",
     "output_type": "stream",
     "text": [
      "start:0/10 (4, 36) - 10x(36, 4, 36) - (36, 4)\n",
      "boundary contraction cost:0.0007288455963134766\n",
      "low rank approximation cost:0.010253667831420898 scalar:5.410343841081405e-23\n",
      "start:1/10 (4, 24)-(24, 4, 96)-(96, 4, 216)-(216, 4, 216)-(216, 4, 216)-(216, 4, 216)-(216, 4, 216)-(216, 4, 216)-(216, 4, 216)-(216, 4, 96)-(96, 4, 24)-(24, 4)\n",
      "boundary contraction cost:0.0014865398406982422\n",
      "low rank approximation cost:0.038602352142333984 scalar:1.2635199960961407e-13\n",
      "start:2/10 (4, 24)-(24, 4, 96)-(96, 4, 384)-(384, 4, 1296)-(1296, 4, 1296)-(1296, 4, 1296)-(1296, 4, 1296)-(1296, 4, 1296)-(1296, 4, 384)-(384, 4, 96)-(96, 4, 24)-(24, 4)\n",
      "boundary contraction cost:0.03164219856262207\n",
      "low rank approximation cost:0.9437947273254395 scalar:1.3323970424988897e-13\n",
      "start:3/10 (4, 24)-(24, 4, 96)-(96, 4, 384)-(384, 4, 1536)-(1536, 4, 6000)-(6000, 4, 6000)-(6000, 4, 6000)-(6000, 4, 1536)-(1536, 4, 384)-(384, 4, 96)-(96, 4, 24)-(24, 4)\n",
      "boundary contraction cost:0.4210662841796875\n",
      "low rank approximation cost:16.94850254058838 scalar:1.2046462453368452e-13\n",
      "start:4/10 (4, 24)-(24, 4, 96)-(96, 4, 384)-(384, 4, 1536)-(1536, 4, 6000)-(6000, 4, 6000)-(6000, 4, 6000)-(6000, 4, 1536)-(1536, 4, 384)-(384, 4, 96)-(96, 4, 24)-(24, 4)\n",
      "boundary contraction cost:0.42435622215270996\n",
      "low rank approximation cost:16.967477798461914 scalar:1.1561990114818506e-13\n",
      "start:5/10 (4, 24)-(24, 4, 96)-(96, 4, 384)-(384, 4, 1536)-(1536, 4, 6000)-(6000, 4, 6000)-(6000, 4, 6000)-(6000, 4, 1536)-(1536, 4, 384)-(384, 4, 96)-(96, 4, 24)-(24, 4)\n",
      "boundary contraction cost:0.4237658977508545\n",
      "low rank approximation cost:16.9342782497406 scalar:1.2458078908988426e-13\n",
      "start:6/10 (4, 24)-(24, 4, 96)-(96, 4, 384)-(384, 4, 1536)-(1536, 4, 6000)-(6000, 4, 6000)-(6000, 4, 6000)-(6000, 4, 1536)-(1536, 4, 384)-(384, 4, 96)-(96, 4, 24)-(24, 4)\n",
      "boundary contraction cost:0.42182374000549316\n",
      "low rank approximation cost:16.97764825820923 scalar:1.2171254678217144e-13\n",
      "start:7/10 (4, 24)-(24, 4, 96)-(96, 4, 384)-(384, 4, 1536)-(1536, 4, 6000)-(6000, 4, 6000)-(6000, 4, 6000)-(6000, 4, 1536)-(1536, 4, 384)-(384, 4, 96)-(96, 4, 24)-(24, 4)\n",
      "boundary contraction cost:0.4213716983795166\n",
      "low rank approximation cost:17.01645064353943 scalar:1.169041377770211e-13\n",
      "start:8/10 (4, 24)-(24, 4, 96)-(96, 4, 384)-(384, 4, 1536)-(1536, 4, 6000)-(6000, 4, 6000)-(6000, 4, 6000)-(6000, 4, 1536)-(1536, 4, 384)-(384, 4, 96)-(96, 4, 24)-(24, 4)\n",
      "boundary contraction cost:0.42140722274780273\n"
     ]
    },
    {
     "ename": "KeyboardInterrupt",
     "evalue": "",
     "output_type": "error",
     "traceback": [
      "\u001b[0;31m---------------------------------------------------------------------------\u001b[0m",
      "\u001b[0;31mKeyboardInterrupt\u001b[0m                         Traceback (most recent call last)",
      "\u001b[0;32m<ipython-input-45-c84427f25f0b>\u001b[0m in \u001b[0;36m<module>\u001b[0;34m\u001b[0m\n\u001b[1;32m      9\u001b[0m     \u001b[0;32mif\u001b[0m \u001b[0mnow_mps_list\u001b[0m\u001b[0;34m[\u001b[0m\u001b[0;36m0\u001b[0m\u001b[0;34m]\u001b[0m\u001b[0;34m.\u001b[0m\u001b[0mshape\u001b[0m\u001b[0;34m[\u001b[0m\u001b[0;34m-\u001b[0m\u001b[0;36m1\u001b[0m\u001b[0;34m]\u001b[0m\u001b[0;34m>\u001b[0m\u001b[0;36m1\u001b[0m\u001b[0;34m:\u001b[0m\u001b[0;34m\u001b[0m\u001b[0;34m\u001b[0m\u001b[0m\n\u001b[1;32m     10\u001b[0m         \u001b[0mstart_time\u001b[0m \u001b[0;34m=\u001b[0m \u001b[0mtime\u001b[0m\u001b[0;34m.\u001b[0m\u001b[0mtime\u001b[0m\u001b[0;34m(\u001b[0m\u001b[0;34m)\u001b[0m\u001b[0;34m\u001b[0m\u001b[0;34m\u001b[0m\u001b[0m\n\u001b[0;32m---> 11\u001b[0;31m         \u001b[0mnow_mps_list\u001b[0m\u001b[0;34m,\u001b[0m\u001b[0mscalar\u001b[0m \u001b[0;34m=\u001b[0m \u001b[0mapproxmate_mps_line\u001b[0m\u001b[0;34m(\u001b[0m\u001b[0mright_mps_form\u001b[0m\u001b[0;34m(\u001b[0m\u001b[0mnow_mps_list\u001b[0m\u001b[0;34m)\u001b[0m\u001b[0;34m,\u001b[0m\u001b[0mmax_singular_values\u001b[0m\u001b[0;34m=\u001b[0m \u001b[0;36m1000\u001b[0m\u001b[0;34m)\u001b[0m\u001b[0;34m\u001b[0m\u001b[0;34m\u001b[0m\u001b[0m\n\u001b[0m\u001b[1;32m     12\u001b[0m         \u001b[0;31m#now_mps_list = [now_mps_list[0],torch.stack(now_mps_list[1:-1],dim=0),now_mps_list[-1]]\u001b[0m\u001b[0;34m\u001b[0m\u001b[0;34m\u001b[0m\u001b[0;34m\u001b[0m\u001b[0m\n\u001b[1;32m     13\u001b[0m         \u001b[0mcost\u001b[0m       \u001b[0;34m=\u001b[0m \u001b[0mtime\u001b[0m\u001b[0;34m.\u001b[0m\u001b[0mtime\u001b[0m\u001b[0;34m(\u001b[0m\u001b[0;34m)\u001b[0m \u001b[0;34m-\u001b[0m \u001b[0mstart_time\u001b[0m\u001b[0;34m\u001b[0m\u001b[0;34m\u001b[0m\u001b[0m\n",
      "\u001b[0;32m<ipython-input-43-ab53d8dcd2bf>\u001b[0m in \u001b[0;36mapproxmate_mps_line\u001b[0;34m(mps_line, max_singular_values, max_truncation_error, relative)\u001b[0m\n\u001b[1;32m    119\u001b[0m                        ):\n\u001b[1;32m    120\u001b[0m     \u001b[0mscalar\u001b[0m \u001b[0;34m=\u001b[0m \u001b[0;36m1\u001b[0m\u001b[0;34m\u001b[0m\u001b[0;34m\u001b[0m\u001b[0m\n\u001b[0;32m--> 121\u001b[0;31m     \u001b[0mmps_line\u001b[0m\u001b[0;34m,\u001b[0m\u001b[0mZ_list\u001b[0m \u001b[0;34m=\u001b[0m \u001b[0mleft_canonicalize_MPS\u001b[0m\u001b[0;34m(\u001b[0m\u001b[0mmps_line\u001b[0m\u001b[0;34m,\u001b[0m\u001b[0mDecomposition_Engine\u001b[0m\u001b[0;34m=\u001b[0m\u001b[0mtorch\u001b[0m\u001b[0;34m.\u001b[0m\u001b[0mqr\u001b[0m\u001b[0;34m)\u001b[0m\u001b[0;34m\u001b[0m\u001b[0;34m\u001b[0m\u001b[0m\n\u001b[0m\u001b[1;32m    122\u001b[0m     SVD_Engine = lambda x:truncated_SVD(x,max_singular_values = max_singular_values,\n\u001b[1;32m    123\u001b[0m                                           \u001b[0mmax_truncation_error\u001b[0m\u001b[0;34m=\u001b[0m \u001b[0mmax_truncation_error\u001b[0m\u001b[0;34m,\u001b[0m\u001b[0;34m\u001b[0m\u001b[0;34m\u001b[0m\u001b[0m\n",
      "\u001b[0;32m<ipython-input-43-ab53d8dcd2bf>\u001b[0m in \u001b[0;36mleft_canonicalize_MPS\u001b[0;34m(mps_line, Decomposition_Engine, normlization)\u001b[0m\n\u001b[1;32m     70\u001b[0m             \u001b[0mnew_chain\u001b[0m\u001b[0;34m.\u001b[0m\u001b[0mappend\u001b[0m\u001b[0;34m(\u001b[0m\u001b[0mnew_tensor\u001b[0m\u001b[0;34m)\u001b[0m\u001b[0;34m\u001b[0m\u001b[0;34m\u001b[0m\u001b[0m\n\u001b[1;32m     71\u001b[0m         \u001b[0;32melse\u001b[0m\u001b[0;34m:\u001b[0m\u001b[0;34m\u001b[0m\u001b[0;34m\u001b[0m\u001b[0m\n\u001b[0;32m---> 72\u001b[0;31m             \u001b[0mQ\u001b[0m\u001b[0;34m,\u001b[0m\u001b[0mR\u001b[0m \u001b[0;34m=\u001b[0m \u001b[0mDecomposition_Engine\u001b[0m\u001b[0;34m(\u001b[0m\u001b[0mnew_tensor\u001b[0m\u001b[0;34m)\u001b[0m\u001b[0;34m\u001b[0m\u001b[0;34m\u001b[0m\u001b[0m\n\u001b[0m\u001b[1;32m     73\u001b[0m             \u001b[0mQ\u001b[0m   \u001b[0;34m=\u001b[0m \u001b[0mQ\u001b[0m\u001b[0;34m.\u001b[0m\u001b[0mreshape\u001b[0m\u001b[0;34m(\u001b[0m\u001b[0;34m*\u001b[0m\u001b[0mshape\u001b[0m\u001b[0;34m[\u001b[0m\u001b[0;34m:\u001b[0m\u001b[0;34m-\u001b[0m\u001b[0;36m1\u001b[0m\u001b[0;34m]\u001b[0m\u001b[0;34m,\u001b[0m\u001b[0;34m-\u001b[0m\u001b[0;36m1\u001b[0m\u001b[0;34m)\u001b[0m\u001b[0;34m\u001b[0m\u001b[0;34m\u001b[0m\u001b[0m\n\u001b[1;32m     74\u001b[0m             \u001b[0mnew_chain\u001b[0m\u001b[0;34m.\u001b[0m\u001b[0mappend\u001b[0m\u001b[0;34m(\u001b[0m\u001b[0mQ\u001b[0m\u001b[0;34m)\u001b[0m\u001b[0;34m\u001b[0m\u001b[0;34m\u001b[0m\u001b[0m\n",
      "\u001b[0;31mKeyboardInterrupt\u001b[0m: "
     ]
    }
   ],
   "source": [
    "now_mps_list = bottom_mps_list\n",
    "for i,next_mpo in enumerate(middle_mpo_list):\n",
    "    \n",
    "    start_time = time.time()\n",
    "    now_mps_list = contract_mps_mpo(now_mps_list,next_mpo)\n",
    "    print(f\"start:{i}/{len(middle_mpo_list)} {get_mps_size_list(now_mps_list)}\")\n",
    "    cost       = time.time() - start_time\n",
    "    print(f\"boundary contraction cost:{cost}\")\n",
    "    if now_mps_list[0].shape[-1]>1:\n",
    "        start_time = time.time()\n",
    "        now_mps_list,scalar = approxmate_mps_line(right_mps_form(now_mps_list),max_singular_values= 1000)\n",
    "        #now_mps_list = [now_mps_list[0],torch.stack(now_mps_list[1:-1],dim=0),now_mps_list[-1]]\n",
    "        cost       = time.time() - start_time\n",
    "        print(f\"low rank approximation cost:{cost} scalar:{scalar}\")\n",
    "#     start_time = time.time()\n",
    "#     value      = contract_two_mps(now_mps_list,top_mps_list)\n",
    "#     cost       = time.time() - start_time\n",
    "#     print(f\"col contraction cost:{cost}\")"
   ]
  },
  {
   "cell_type": "code",
   "execution_count": 31,
   "metadata": {
    "hidden": true
   },
   "outputs": [
    {
     "data": {
      "text/plain": [
       "[torch.Size([4, 4, 16]),\n",
       " torch.Size([16, 4, 64]),\n",
       " torch.Size([64, 4, 256]),\n",
       " torch.Size([256, 4, 64]),\n",
       " torch.Size([64, 4, 16]),\n",
       " torch.Size([16, 4, 4])]"
      ]
     },
     "execution_count": 31,
     "metadata": {},
     "output_type": "execute_result"
    }
   ],
   "source": [
    "[t.shape for t in now_mps_list[1:-1]]"
   ]
  },
  {
   "cell_type": "code",
   "execution_count": null,
   "metadata": {
    "code_folding": [],
    "hidden": true
   },
   "outputs": [],
   "source": [
    "def contraction_row(tensor1,tensor2,truncate=None,einsum_engin=einsum_engin):\n",
    "    # tensor1 <-> tensor2 :-> tensor\n",
    "    # (N,H,a,b,c,d) <-> (N,H,c,e,f,g) :-> (N,H,a,be,f,dg)\n",
    "    tensor  = einsum_engin(\"whabcd,whcefg->whabefdg\",tensor1,tensor2).flatten(3,4).flatten(-2,-1)\n",
    "    if truncate is None:return tensor \n",
    "    W,H = tensor.shape[:2]\n",
    "    "
   ]
  },
  {
   "cell_type": "code",
   "execution_count": null,
   "metadata": {
    "hidden": true
   },
   "outputs": [],
   "source": [
    "def RecursionBMPS(tensor,truncate=None,einsum_engin=torch.einsum):\n",
    "    W,H = tensor.shape[:2]\n",
    "    while W > 1:\n",
    "            half_size = size // 2\n",
    "            nice_size = 2 * half_size\n",
    "            leftover  = tensor[nice_size:]\n",
    "            tensor    = contraction_line(tensor[0:nice_size:2], tensor[1:nice_size:2],truncate=None,einsum_engin=einsum_engin)\n",
    "            #tensor    = torch.einsum(\"mbik,mbkj->mbij\",tensor[0:nice_size:2], tensor[1:nice_size:2])\n",
    "            #(k/2,NB,D,D),(k/2,NB,D,D) <-> (k/2,NB,D,D)\n",
    "            tensor   = torch.cat([tensor, leftover], axis=0)\n",
    "            size     = half_size + int(size % 2 == 1)\n",
    "    return value"
   ]
  },
  {
   "cell_type": "markdown",
   "metadata": {
    "hidden": true
   },
   "source": [
    "#### Module"
   ]
  },
  {
   "cell_type": "code",
   "execution_count": null,
   "metadata": {
    "code_folding": [
     0
    ],
    "hidden": true
   },
   "outputs": [],
   "source": [
    "class PEPSLinear(nn.Module):\n",
    "    '''\n",
    "     MPSLinear(in_features: int, out_features: int, W:int,H:int\n",
    "               in_physics_bond: int, out_physics_bond: int, virtual_bond_dim:int,\n",
    "                            bias: bool = True, label_position: int or str):\n",
    "        input  (Batch, in_features , W, H,  in_physics_bond)\n",
    "        output (Batch, out_features,        out_physics_bond)\n",
    "    '''\n",
    "\n",
    "    def __init__(self, in_features,out_features,\n",
    "                       in_physics_bond = 2, out_physics_bond=1, virtual_bond_dim=2,\n",
    "                       bias=True,label_position='center',init_std=1e-10):\n",
    "        super(MPSLinear, self).__init__()\n",
    "        if label_position is 'center':label_position = in_features//2\n",
    "        assert type(label_position) is int\n",
    "        self.in_features   = in_features\n",
    "        self.out_features  = out_features\n",
    "        self.W             = W \n",
    "        self.H             = H\n",
    "        self.vbd           = virtual_bond_dim\n",
    "        self.ipb           = in_physics_bond\n",
    "        self.opb           = out_physics_bond\n",
    "\n",
    "        self.hn            = label_position\n",
    "        left_num           = self.hn\n",
    "        right_num          = in_features - left_num\n",
    "\n",
    "        bias_mat = torch.einsum(\"ij,kl->ijkl\",torch.eye(2),torch.eye(2)).unsqueeze(-1).repeat(1,1,1,1,self.ipb)\n",
    "        self.left_tensors = nn.Parameter(init_std * torch.randn(self.W, left_num  ,self.vbd,self.vbd,self.vbd,self.vbd, self.ipb)+ bias_mat)\n",
    "        self.rigt_tensors = nn.Parameter(init_std * torch.randn(self.W, right_num ,self.vbd,self.vbd,self.vbd,self.vbd, self.ipb)+ bias_mat)\n",
    "\n",
    "        bias_mat = torch.einsum(\"ij,kl->ijkl\",torch.eye(2),torch.eye(2)).unsqueeze(-1).repeat(1,1,1,1,self.opb)\n",
    "        self.cent_tensors = nn.Parameter(init_std * torch.randn(self.W,self.out_features,self.vbd,self.vbd,self.vbd,self.vbd, self.opb)+ bias_mat)\n",
    "\n",
    "    @staticmethod\n",
    "    def TRG_contraction(tensor):\n",
    "        '''\n",
    "        Tensor renormalization group Contraction method\n",
    "                     | \n",
    "           |      —○\n",
    "        —●—\t==>    \\ \n",
    "           |           ○—\n",
    "                       | \n",
    "        input: (W[2^N], H[2^N] , D,D,D,D)\n",
    "        '''\n",
    "        W,H = tensor.shape[:2]\n",
    "        lu_tensor = tensor[0:::2,0:::2]\n",
    "        ll_tensor = tensor[0:::2,1:::2]\n",
    "        ru_tensor = tensor[1:::2,0:::2]\n",
    "        rl_tensor = tensor[1:::2,1:::2]\n",
    "        size   = int(tensor.shape[0])\n",
    "        while size > 1:\n",
    "            half_size = size // 2\n",
    "            nice_size = 2 * half_size\n",
    "            leftover  = tensor[nice_size:]\n",
    "            tensor    = torch.einsum(\"mbik,mbkj->mbij\",tensor[0:nice_size:2], tensor[1:nice_size:2])\n",
    "            #(k/2,NB,D,D),(k/2,NB,D,D) <-> (k/2,NB,D,D)\n",
    "            tensor   = torch.cat([tensor, leftover], axis=0)\n",
    "            size     = half_size + int(size % 2 == 1)\n",
    "        return tensor.squeeze(0)\n",
    "\n",
    "    @staticmethod\n",
    "    def get_chain_contraction(tensor):\n",
    "        size   = int(tensor.shape[0])\n",
    "        while size > 1:\n",
    "            half_size = size // 2\n",
    "            nice_size = 2 * half_size\n",
    "            leftover  = tensor[nice_size:]\n",
    "            tensor    = torch.einsum(\"mbik,mbkj->mbij\",tensor[0:nice_size:2], tensor[1:nice_size:2])\n",
    "            #(k/2,NB,D,D),(k/2,NB,D,D) <-> (k/2,NB,D,D)\n",
    "            tensor   = torch.cat([tensor, leftover], axis=0)\n",
    "            size     = half_size + int(size % 2 == 1)\n",
    "        return tensor.squeeze(0)\n",
    "\n",
    "    def forward(self, input_data):\n",
    "        # the input data shape is (B,L,pd)\n",
    "        # expand to convolution patch\n",
    "        embedded_data= input_data\n",
    "        left_tensors = torch.einsum('wijp,nwp->wnij',self.left_tensors,embedded_data[:,:self.hn])#i.e. (K,NB,b,b)\n",
    "        rigt_tensors = torch.einsum('wijp,nwp->wnij',self.rigt_tensors,embedded_data[:,-self.hn:])#i.e.(K,NB,b,b)\n",
    "\n",
    "        left_tensors = self.get_chain_contraction(left_tensors) #i.e. (NB,b,b)\n",
    "        rigt_tensors = self.get_chain_contraction(rigt_tensors) #i.e. (NB,b,b)\n",
    "\n",
    "        tensor  = torch.einsum('bip,oplt,bli->bot',left_tensors,self.cent_tensors,rigt_tensors)\n",
    "        # (NB,b,b) <-> (T,b,b,o) <-> (NB,b,b) ==> (NB,T,t)\n",
    "        return tensor\n"
   ]
  },
  {
   "cell_type": "markdown",
   "metadata": {},
   "source": [
    "# train"
   ]
  },
  {
   "cell_type": "code",
   "execution_count": 6,
   "metadata": {
    "code_folding": [
     0
    ]
   },
   "outputs": [],
   "source": [
    "import time\n",
    "from mltool.dataaccelerate import DataSimfetcher\n",
    "from mltool.loggingsystem import LoggingSystem"
   ]
  },
  {
   "cell_type": "code",
   "execution_count": 72,
   "metadata": {},
   "outputs": [],
   "source": [
    "train_loader= torch.utils.data.DataLoader(dataset=mnist_train, batch_size=1000, shuffle=True)\n",
    "test_loader = torch.utils.data.DataLoader(dataset=mnist_test , batch_size=1000, shuffle=False)"
   ]
  },
  {
   "cell_type": "code",
   "execution_count": 73,
   "metadata": {
    "code_folding": []
   },
   "outputs": [
    {
     "name": "stdout",
     "output_type": "stream",
     "text": [
      "0.06538302430059152\n"
     ]
    }
   ],
   "source": [
    "from models.extend_model import Patch2NetworkInput\n",
    "#from models.two_dim_model import PEPS_einsum_uniform_shape_6x6_fast\n",
    "# model = MPSLinear(28*28,10,in_physics_bond = 2, out_physics_bond=1, virtual_bond_dim=100,\n",
    "#                   bias=False,label_position='center',init_std=0)\n",
    "#model = PEPS_einsum_uniform_shape_6x6_fast(in_physics_bond=16,virtual_bond_dim=3,init_std=1)\n",
    "model = nn.Sequential(Patch2NetworkInput(4,reverse=False),\n",
    "                      PEPS_uniform_shape_symmetry_deep_model(W=6,H=6,in_physics_bond=16,init_std=1e-5,virtual_bond_dim=5,\n",
    "                                                                                   normlized_layer_module=nn.InstanceNorm3d,\n",
    "                                                                                   nonlinear_layer=nn.Tanh()),\n",
    "                     \n",
    "                     nn.Linear(16,10)\n",
    "                     )\n",
    "#model = PEPS_einsum_arbitrary_partition_optim(virtual_bond_dim=\"models/arbitary_shape/arbitary_shape_2.json\",init_std=1e-2)\n",
    "                     \n",
    "\n",
    "                    \n",
    "#model  = AMPSShare(n=28*28, bond_dim=10, phys_dim=2)\n",
    "device = 'cuda'\n",
    "model = model.to(device)"
   ]
  },
  {
   "cell_type": "code",
   "execution_count": 13,
   "metadata": {},
   "outputs": [],
   "source": [
    "def preprocess_images(image):\n",
    "    return (image)"
   ]
  },
  {
   "cell_type": "code",
   "execution_count": 74,
   "metadata": {},
   "outputs": [],
   "source": [
    "infiniter = DataSimfetcher(train_loader, device=device)"
   ]
  },
  {
   "cell_type": "code",
   "execution_count": 75,
   "metadata": {
    "scrolled": true
   },
   "outputs": [
    {
     "name": "stdout",
     "output_type": "stream",
     "text": [
      "(tensor(0.9820, device='cuda:0'), tensor(0.0060, device='cuda:0'))\n",
      "(tensor(0.9820, device='cuda:0'), tensor(0.0060, device='cuda:0'))\n",
      "(tensor(2.0408, device='cuda:0'), tensor(-0.0188, device='cuda:0'))\n",
      "(tensor(1.1988, device='cuda:0'), tensor(0.0391, device='cuda:0'))\n"
     ]
    }
   ],
   "source": [
    "image,label= infiniter.next()\n",
    "bs,c,w,h = image.shape\n",
    "with torch.no_grad():\n",
    "    x     = preprocess_images(image);print(torch.std_mean(x))\n",
    "    x     = model[0](x);print(torch.std_mean(x))\n",
    "    x     = model[1](x);print(torch.std_mean(x))\n",
    "    x     = model[2](x);print(torch.std_mean(x))\n",
    "    #label = image.flatten().long()\n",
    "    #logits     = model(binary).reshape(bs*w*h,2)\n",
    "    #print(model(binary).squeeze().norm())"
   ]
  },
  {
   "cell_type": "code",
   "execution_count": 76,
   "metadata": {
    "code_folding": []
   },
   "outputs": [],
   "source": [
    "optimizer = torch.optim.Adam(model.parameters(), lr=0.005)"
   ]
  },
  {
   "cell_type": "code",
   "execution_count": 77,
   "metadata": {
    "code_folding": []
   },
   "outputs": [
    {
     "name": "stdout",
     "output_type": "stream",
     "text": [
      "log at log/test\n"
     ]
    }
   ],
   "source": [
    "# main loop\n",
    "logsys            = LoggingSystem(True,\"log/test\")\n",
    "metric_list       = ['loss','accu']\n",
    "lses=[]\n",
    "lres=[]"
   ]
  },
  {
   "cell_type": "code",
   "execution_count": null,
   "metadata": {
    "code_folding": [
     3
    ],
    "scrolled": false
   },
   "outputs": [
    {
     "data": {
      "image/png": "[encoded data removed]",
      "text/plain": [
       "<Figure size 864x288 with 2 Axes>"
      ]
     },
     "metadata": {},
     "output_type": "display_data"
    },
    {
     "data": {
      "text/html": [
       "\n",
       "    <div>\n",
       "        <style>\n",
       "            /* Turns off some styling */\n",
       "            progress {\n",
       "                /* gets rid of default border in Firefox and Opera. */\n",
       "                border: none;\n",
       "                /* Needs to be in here for Safari polyfill so background images work as expected. */\n",
       "                background-size: auto;\n",
       "            }\n",
       "            .progress-bar-interrupted, .progress-bar-interrupted::-webkit-progress-bar {\n",
       "                background: #F44336;\n",
       "            }\n",
       "        </style>\n",
       "      <progress value='10' class='' max='300', style='width:300px; height:20px; vertical-align: middle;'></progress>\n",
       "      3.33% [10/300 02:18<1:07:00]\n",
       "    </div>\n",
       "    \n",
       "\n",
       "\n",
       "    <div>\n",
       "        <style>\n",
       "            /* Turns off some styling */\n",
       "            progress {\n",
       "                /* gets rid of default border in Firefox and Opera. */\n",
       "                border: none;\n",
       "                /* Needs to be in here for Safari polyfill so background images work as expected. */\n",
       "                background-size: auto;\n",
       "            }\n",
       "            .progress-bar-interrupted, .progress-bar-interrupted::-webkit-progress-bar {\n",
       "                background: #F44336;\n",
       "            }\n",
       "        </style>\n",
       "      <progress value='11' class='' max='60', style='width:300px; height:20px; vertical-align: middle;'></progress>\n",
       "      18.33% [11/60 00:02<00:10]\n",
       "    </div>\n",
       "    "
      ],
      "text/plain": [
       "<IPython.core.display.HTML object>"
      ]
     },
     "metadata": {},
     "output_type": "display_data"
    },
    {
     "name": "stdout",
     "output_type": "stream",
     "text": [
      "\n",
      "Epoch: 000 \t Accu: 0.2420 \t Time: 13.87 s\n",
      "Epoch: 001 \t Accu: 0.4789 \t Time: 13.73 s\n",
      "Epoch: 002 \t Accu: 0.5727 \t Time: 13.93 s\n",
      "Epoch: 003 \t Accu: 0.7107 \t Time: 13.98 s\n",
      "Epoch: 004 \t Accu: 0.8072 \t Time: 13.83 s\n",
      "Epoch: 005 \t Accu: 0.8483 \t Time: 13.90 s\n",
      "Epoch: 006 \t Accu: 0.8702 \t Time: 13.75 s\n",
      "Epoch: 007 \t Accu: 0.8822 \t Time: 13.91 s\n",
      "Epoch: 008 \t Accu: 0.8807 \t Time: 13.90 s\n",
      "Epoch: 009 \t Accu: 0.8914 \t Time: 13.85 s\r"
     ]
    }
   ],
   "source": [
    "metric_dict       = logsys.initial_metric_dict(metric_list)\n",
    "master_bar        = logsys.create_master_bar(300)\n",
    "master_bar.set_multiply_graph(figsize=(12,4),engine=[['plot']*len(metric_list)],labels=[metric_list])\n",
    "for epoch in master_bar:\n",
    "    start_time = time.time()\n",
    "    model.train()\n",
    "    infiniter = DataSimfetcher(train_loader, device=device)\n",
    "    inter_b   = logsys.create_progress_bar(len(train_loader))\n",
    "    while inter_b.update_step():\n",
    "        image,label= infiniter.next()\n",
    "        bs,c,w,h = image.shape\n",
    "        optimizer.zero_grad()\n",
    "        binary     = preprocess_images(image)\n",
    "        logits     = model(binary).squeeze()\n",
    "        loss       = torch.nn.CrossEntropyLoss()(logits,label)\n",
    "        loss.backward()\n",
    "        if torch.isnan(loss):raise \n",
    "        \n",
    "            \n",
    "        #nn.utils.clip_grad_norm_(p, max_norm=1)\n",
    "        optimizer.step()\n",
    "        lses.append(loss.log().item())\n",
    "        #lres.append(sum([(p.grad/p).norm() for p in model.parameters()]).log().item())\n",
    "        if inter_b.now%20==0:\n",
    "            master_bar.update_graph_multiply([[lses[-100:],lres[-100:]]])\n",
    "    model.eval()\n",
    "    prefetcher = DataSimfetcher(test_loader, device=device)\n",
    "    inter_b    = logsys.create_progress_bar(len(test_loader))\n",
    "    labels     = []\n",
    "    logits     = []\n",
    "    with torch.no_grad():\n",
    "        while inter_b.update_step():\n",
    "            image,label= prefetcher.next()\n",
    "            binary     = preprocess_images(image)\n",
    "            logit      = model(binary).squeeze()\n",
    "            loss       = torch.nn.CrossEntropyLoss()(logit ,label)\n",
    "            labels.append(label)\n",
    "            logits.append(logit)\n",
    "    labels  = torch.cat(labels)\n",
    "    logits  = torch.cat(logits)\n",
    "    pred_labels  = torch.argmax(logits,-1)\n",
    "    accu =  torch.sum(pred_labels == labels)/len(labels)\n",
    "\n",
    "    lres.append(accu)\n",
    "    master_bar.update_graph_multiply([[lses[-100:],lres[-100:]]])\n",
    "    print('\\nEpoch: %.3i \\t Accu: %.4f \\t Time: %.2f s' %(epoch, accu.item(), time.time() - start_time),end='\\r')"
   ]
  },
  {
   "cell_type": "code",
   "execution_count": 107,
   "metadata": {
    "code_folding": [
     0
    ]
   },
   "outputs": [],
   "source": [
    "def sample(self, bs, random_start=False):\n",
    "    \"\"\"\n",
    "    Sample images/spin configurations\n",
    "    \"\"\"\n",
    "\n",
    "    device = self.tensors.device\n",
    "    samples = torch.empty([bs, self.n], device=device)\n",
    "\n",
    "    # if random_start = True, force s_1 = -1/+1 randomly\n",
    "    if random_start:\n",
    "        samples[:, 0] = torch.randint(2, size=(bs, ), dtype=torch.float, device=device)\n",
    "    else:\n",
    "        samples[:, 0] = 0.\n",
    "\n",
    "    for idx in range(self.n - 1):\n",
    "        if idx == 0:\n",
    "            # sample s_2 from p(s_2 | s_1)\n",
    "            embedded_data = torch.stack([samples[:, 0], 1.0 - samples[:, 0]], dim=1)  # (bs, 2)\n",
    "            mats          = torch.einsum('lri,bi->blr', self.tensors[0, :, :, :] , embedded_data)\n",
    "            left_vec      = mats[:, 0, :].unsqueeze(1)  # (bs, 1, D)\n",
    "            logits        = torch.einsum('blr, ri->bli', left_vec,(self.tensors[1, :, :, :] )[:, 0, :]).squeeze(1)\n",
    "            samples[:, 1] = torch.bernoulli(torch.softmax(logits, dim=1)[:, 0])\n",
    "        else:\n",
    "            # then sample s_3 from  p(s_3 | s_1, s_2) and so on\n",
    "            embedded_data = torch.stack([samples[:, idx], 1.0 - samples[:, idx]], dim=1)  # (bs, 2)\n",
    "            mats = torch.einsum('lri,bi->blr', self.tensors[idx, :, :, :] , embedded_data)\n",
    "            left_vec = torch.bmm(left_vec, mats)  # (bs, 1, D)\n",
    "            logits = torch.einsum('blr, ri->bli', left_vec,\n",
    "                                  (self.tensors[idx + 1, :, :, :] )[:, 0, :]).squeeze(1)\n",
    "            samples[:, idx + 1] = torch.bernoulli(torch.softmax(logits, dim=1)[:, 0])\n",
    "    return samples"
   ]
  }
 ],
 "metadata": {
  "kernelspec": {
   "display_name": "Python 3",
   "language": "python",
   "name": "python3"
  },
  "language_info": {
   "codemirror_mode": {
    "name": "ipython",
    "version": 3
   },
   "file_extension": ".py",
   "mimetype": "text/x-python",
   "name": "python",
   "nbconvert_exporter": "python",
   "pygments_lexer": "ipython3",
   "version": "3.7.3"
  }
 },
 "nbformat": 4,
 "nbformat_minor": 4
}
