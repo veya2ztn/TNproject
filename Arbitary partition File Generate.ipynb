{
 "cells": [
  {
   "cell_type": "markdown",
   "metadata": {},
   "source": [
    "In this notebook, we will generate arbitary partition"
   ]
  },
  {
   "cell_type": "code",
   "execution_count": 5,
   "metadata": {
    "code_folding": []
   },
   "outputs": [],
   "source": [
    "import torch\n",
    "import torch.nn as nn\n",
    "import torch.nn.functional as F\n",
    "from torchvision import datasets, transforms"
   ]
  },
  {
   "cell_type": "markdown",
   "metadata": {},
   "source": [
    "### arbitary partition 16x9"
   ]
  },
  {
   "cell_type": "code",
   "execution_count": 23,
   "metadata": {
    "code_folding": []
   },
   "outputs": [],
   "source": [
    "def set_good_gemo_pos(xyes):\n",
    "    xes,yes = xyes.transpose(1,0)\n",
    "    for now_value,another_value in [[14,-2],[15,-1],[-1,15],[-2,14]]:\n",
    "        if now_value in xes:\n",
    "            x_rest    = xes[xes!=now_value]\n",
    "            if len(x_rest)==0:break\n",
    "            mean_value = x_rest.mean()\n",
    "            if abs(mean_value-another_value) < abs(mean_value-now_value):\n",
    "                xes[np.where(xes==now_value)[0]]=another_value\n",
    "    return np.stack([xes,yes],-1)"
   ]
  },
  {
   "cell_type": "markdown",
   "metadata": {
    "heading_collapsed": true
   },
   "source": [
    "##### generate json file"
   ]
  },
  {
   "cell_type": "code",
   "execution_count": 26,
   "metadata": {
    "hidden": true
   },
   "outputs": [],
   "source": [
    "from models.arbitary_shape.shapes_list import *\n",
    "import numpy as np"
   ]
  },
  {
   "cell_type": "code",
   "execution_count": 25,
   "metadata": {
    "code_folding": [
     0,
     1,
     6,
     9
    ],
    "hidden": true
   },
   "outputs": [],
   "source": [
    "def generate_json_map_for_16x9_cylinder(shape_block):\n",
    "    def iterl(x):\n",
    "        return x%16\n",
    "\n",
    "    info_per_point = {}\n",
    "    info_per_group = {}\n",
    "    for i,line in enumerate(shape_block):\n",
    "        for j,val in enumerate(line):\n",
    "            info_per_point[(i,j)] = {'val':val}\n",
    "    def search_for(pos,group=None):\n",
    "        i,j = pos\n",
    "        pos =  iterl(i),j\n",
    "        val = info_per_point[pos]['val']\n",
    "        if 'group' not in info_per_point[pos]:\n",
    "            if group is None:group=len(info_per_group)\n",
    "            info_per_point[pos]['group']=group\n",
    "            if group not in info_per_group:info_per_group[group]={'element':[],'neighbor':set()}\n",
    "            info_per_group[group]['element'].append((pos[0],pos[1]))#element should be the topology idx, it will count in further work\n",
    "            for gemo_neighbor in [(i-1,j),(i+1,j),(i,j-1),(i,j+1)]: \n",
    "                neighbor = iterl(gemo_neighbor[0]),gemo_neighbor[1]\n",
    "                if (neighbor in info_per_point):\n",
    "                    neighbor_val = info_per_point[neighbor]['val']\n",
    "                    if ('group' not in info_per_point[neighbor]) and (val == neighbor_val):\n",
    "                        search_for(gemo_neighbor,group)\n",
    "\n",
    "    for i,line in enumerate(shape_block):\n",
    "        for j,val in enumerate(line):\n",
    "            search_for((i,j))\n",
    "\n",
    "    info_per_line={}\n",
    "    for i,line in enumerate(shape_block):\n",
    "        for j,val in enumerate(line):\n",
    "            group_now = info_per_point[(i,j)]['group']\n",
    "            for gemo_neighbor in [(i-1,j),(i+1,j),(i,j-1),(i,j+1)]:\n",
    "                neighbor = iterl(gemo_neighbor[0]),gemo_neighbor[1]\n",
    "                if neighbor in info_per_point:\n",
    "                    neighbor_group = info_per_point[neighbor]['group']\n",
    "                    if neighbor_group!=group_now:\n",
    "                        info_per_group[group_now]['neighbor']=info_per_group[group_now]['neighbor']|set([neighbor_group])\n",
    "                        line_tuple = [group_now,neighbor_group]\n",
    "                        line_tuple.sort() \n",
    "                        line_tuple= tuple(line_tuple)\n",
    "                        if line_tuple not in info_per_line:info_per_line[line_tuple]={\"element\":[]}\n",
    "                        #print(gemo_neighbor)\n",
    "                        linepos=[(i,j),neighbor]# the line from (i,j) to the neighbor (a,b)\n",
    "                        linepos.sort() \n",
    "                        if linepos not in info_per_line[line_tuple][\"element\"]:\n",
    "                            info_per_line[line_tuple][\"element\"].append(linepos)\n",
    "                        if abs(neighbor[0]-i)>16//2:\n",
    "                            #print(f\"({i},{j})->({neighbor[0]},{neighbor[1]})\")\n",
    "                            info_per_line[line_tuple][\"type\"]=\"arc\"\n",
    "                        else:\n",
    "                            info_per_line[line_tuple][\"type\"]=\"line\"\n",
    "\n",
    "\n",
    "    W,H = np.array(shape_block).shape \n",
    "    center = np.array([8,4]) \n",
    "    for line,pool in info_per_line.items():\n",
    "        start_pos=np.array([a for a,b in pool['element']])\n",
    "        ended_pos=np.array([b for a,b in pool['element']])\n",
    "\n",
    "        start_pos=set_good_gemo_pos(start_pos)\n",
    "        ended_pos=set_good_gemo_pos(ended_pos)\n",
    "\n",
    "        start_pos=np.mean(start_pos,0)# if contine (16,j) node then redirect to (0,j) so cause wrong\n",
    "        ended_pos=np.mean(ended_pos,0)\n",
    "        distance = (np.linalg.norm(start_pos-center) + np.linalg.norm(ended_pos-center))/2\n",
    "        centr_pos=(start_pos+ended_pos)/2\n",
    "        info_per_line[line]['weight']    = distance\n",
    "        info_per_line[line]['start_pos'] = list(start_pos)\n",
    "        info_per_line[line]['ended_pos'] = list(ended_pos)\n",
    "        info_per_line[line]['centr_pos'] = list(centr_pos)\n",
    "        #print(f\"line:{line} {start_pos}->{ended_pos} centr:{centr_pos} distance:{distance}\")\n",
    "\n",
    "    ##### calculate D according to the distance to center.\n",
    "\n",
    "    MAX_Dimension = 10\n",
    "    MIN_Dimension = 3\n",
    "    weight_list  = [val['weight'] for val in info_per_line.values()]\n",
    "    max_distance = max(weight_list)\n",
    "    min_distance = min(weight_list)\n",
    "    Dimenstion_function = lambda x : np.floor((MIN_Dimension-MAX_Dimension)/(max_distance-min_distance)*(x-min_distance)+MAX_Dimension)\n",
    "\n",
    "    for line,pool in info_per_line.items():\n",
    "        info_per_line[line]['D']    = Dimenstion_function(info_per_line[line]['weight'])\n",
    "\n",
    "    for group in info_per_group.keys():\n",
    "        info_per_group[group]['neighbor']=list(info_per_group[group]['neighbor'])\n",
    "\n",
    "    for group,info in info_per_group.items():\n",
    "        info_per_group[group]['element_idx']=np.ravel_multi_index(np.array(info['element']).transpose(),(W,H)).tolist()\n",
    "        info_per_group[group]['element_x']  =np.array(info['element']).transpose()\n",
    "        info_per_group[group]['element_y']  =np.array(info['element']).transpose()\n",
    "\n",
    "    import torch\n",
    "\n",
    "    arbitary_shape_state_dict={}\n",
    "    arbitary_shape_state_dict['node']   =info_per_group\n",
    "    arbitary_shape_state_dict['line']   =info_per_line\n",
    "    arbitary_shape_state_dict['element']=info_per_point\n",
    "    return arbitary_shape_state_dict"
   ]
  },
  {
   "cell_type": "code",
   "execution_count": 32,
   "metadata": {
    "hidden": true
   },
   "outputs": [],
   "source": [
    "patch_info = generate_json_map_for_16x9_cylinder(shape_16x9_12)"
   ]
  },
  {
   "cell_type": "code",
   "execution_count": 33,
   "metadata": {
    "hidden": true
   },
   "outputs": [],
   "source": [
    "#torch.save(patch_info,\"models/arbitary_shape/arbitary_shape_16x9_12.json\")"
   ]
  },
  {
   "cell_type": "markdown",
   "metadata": {
    "heading_collapsed": true,
    "hidden": true
   },
   "source": [
    "###### generate a list patch"
   ]
  },
  {
   "cell_type": "code",
   "execution_count": 6,
   "metadata": {
    "code_folding": [],
    "hidden": true
   },
   "outputs": [],
   "source": [
    "import numpy as np\n",
    "import torch"
   ]
  },
  {
   "cell_type": "code",
   "execution_count": 25,
   "metadata": {
    "code_folding": [
     1,
     9
    ],
    "hidden": true
   },
   "outputs": [],
   "source": [
    "all_partion=[]\n",
    "for i in range(8):\n",
    "    if i>1:continue\n",
    "    for j in range(i+1,8):\n",
    "        if j -i>4:continue\n",
    "        for k in range(j+1,8):\n",
    "            if k-j>4:continue\n",
    "            if 7-k>1:continue\n",
    "            all_partion.append([i,j,k])\n",
    "def create_patch_map(column_partition,row_partion=[0,3,6,9]):\n",
    "    group = 1\n",
    "    x,y,z =  column_partition\n",
    "    ll = np.zeros((16,9))\n",
    "    for s,e in zip(row_partion[:-1],row_partion[1:]):\n",
    "        idx= np.arange(-x,x+1)\n",
    "        ll[idx,s:e] = group;group+=1\n",
    "    for s,e in zip(row_partion[:-1],row_partion[1:]):\n",
    "        ll[x+1:y+1,s:e]   = group;group+=1\n",
    "        ll[16-y:16-x,s:e] = group;group+=1\n",
    "    for s,e in zip(row_partion[:-1],row_partion[1:]):\n",
    "        ll[y+1:z+1,s:e]   = group;group+=1\n",
    "        ll[16-z:16-y,s:e] = group;group+=1\n",
    "    for s,e in zip(row_partion[:-1],row_partion[1:]):\n",
    "        idx= np.arange(z+1,16-z)\n",
    "        ll[idx,s:e] = group;group+=1    \n",
    "    return ll\n",
    "# row_partition = [0,3,6,9]\n",
    "# patch_partions_list      = [create_patch_map(t,row_partition) for t in all_partion]\n",
    "# patch_partions_json_list = [generate_json_map_for_16x9_cylinder(t) for t in patch_partions_list]\n",
    "# torch.save(patch_partions_json_list,f\"models/arbitary_shape/patch_partions_3column_{len(all_partion)}units.pt\")\n",
    "# row_partition = [0,2,4,5,7,9]\n",
    "# patch_partions_list      = [create_patch_map(t,row_partition) for t in all_partion]\n",
    "# patch_partions_json_list = [generate_json_map_for_16x9_cylinder(t) for t in patch_partions_list]\n",
    "# torch.save(patch_partions_json_list,f\"models/arbitary_shape/patch_partions_5column_{len(all_partion)}units.pt\")"
   ]
  },
  {
   "cell_type": "code",
   "execution_count": 35,
   "metadata": {
    "code_folding": [],
    "hidden": true
   },
   "outputs": [],
   "source": [
    "# ##### old # for 19 outputs\n",
    "# all_partion=[]\n",
    "# for i in range(9):\n",
    "#     if i>2:continue\n",
    "#     for j in range(i+2,9):\n",
    "#         if j -i>4:continue\n",
    "#         for k in range(j+2,9):\n",
    "#             if k-j>4:continue\n",
    "#             if 8-k>2:continue\n",
    "#             all_partion.append([i,j,k])\n",
    "# def create_patch_map(column_partition,row_partion=[0,3,6,9]):\n",
    "#     group = 1\n",
    "#     x,y,z =  column_partition\n",
    "#     ll = np.zeros((16,9))\n",
    "#     for s,e in zip(row_partion[:-1],row_partion[1:]):\n",
    "#         idx= np.arange(-x,x+1)\n",
    "#         ll[idx,s:e] = group;group+=1\n",
    "#     for s,e in zip(row_partion[:-1],row_partion[1:]):\n",
    "#         ll[x+1:y+1,s:e]   = group;group+=1\n",
    "#         ll[16-y:16-x,s:e] = group;group+=1\n",
    "#     for s,e in zip(row_partion[:-1],row_partion[1:]):\n",
    "#         ll[y+1:z+1,s:e]   = group;group+=1\n",
    "#         ll[16-z:16-y,s:e] = group;group+=1\n",
    "#     for s,e in zip(row_partion[:-1],row_partion[1:]):\n",
    "#         idx= np.arange(z,16-z+1)\n",
    "#         ll[idx,s:e] = group;group+=1    \n",
    "#     return ll\n",
    "# row_partition = [0,3,6,9]\n",
    "# patch_partions_list = [create_patch_map(t,row_partition) for t in all_partion]\n",
    "# patch_partions_json_list = [generate_json_map_for_16x9_cylinder(t) for t in patch_partions_list]\n",
    "# torch.save(patch_partions_json_list,\"models/arbitary_shape/patch_partions_3colum_max45raw_json_list_regen.pt\")"
   ]
  },
  {
   "cell_type": "code",
   "execution_count": 37,
   "metadata": {
    "hidden": true
   },
   "outputs": [
    {
     "name": "stdout",
     "output_type": "stream",
     "text": [
      "[0, 4, 8]\n"
     ]
    },
    {
     "data": {
      "text/plain": [
       "array([[ 1.,  1.,  1.,  2.,  2.,  2.,  3.,  3.,  3.],\n",
       "       [ 4.,  4.,  4.,  6.,  6.,  6.,  8.,  8.,  8.],\n",
       "       [ 4.,  4.,  4.,  6.,  6.,  6.,  8.,  8.,  8.],\n",
       "       [ 4.,  4.,  4.,  6.,  6.,  6.,  8.,  8.,  8.],\n",
       "       [ 4.,  4.,  4.,  6.,  6.,  6.,  8.,  8.,  8.],\n",
       "       [10., 10., 10., 12., 12., 12., 14., 14., 14.],\n",
       "       [10., 10., 10., 12., 12., 12., 14., 14., 14.],\n",
       "       [10., 10., 10., 12., 12., 12., 14., 14., 14.],\n",
       "       [16., 16., 16., 17., 17., 17., 18., 18., 18.],\n",
       "       [11., 11., 11., 13., 13., 13., 15., 15., 15.],\n",
       "       [11., 11., 11., 13., 13., 13., 15., 15., 15.],\n",
       "       [11., 11., 11., 13., 13., 13., 15., 15., 15.],\n",
       "       [ 5.,  5.,  5.,  7.,  7.,  7.,  9.,  9.,  9.],\n",
       "       [ 5.,  5.,  5.,  7.,  7.,  7.,  9.,  9.,  9.],\n",
       "       [ 5.,  5.,  5.,  7.,  7.,  7.,  9.,  9.,  9.],\n",
       "       [ 5.,  5.,  5.,  7.,  7.,  7.,  9.,  9.,  9.]])"
      ]
     },
     "execution_count": 37,
     "metadata": {},
     "output_type": "execute_result"
    }
   ],
   "source": [
    "i=5\n",
    "print(all_partion[i])\n",
    "create_patch_map(all_partion[i],[0,3,6,9])"
   ]
  },
  {
   "cell_type": "code",
   "execution_count": 68,
   "metadata": {
    "hidden": true
   },
   "outputs": [],
   "source": []
  },
  {
   "cell_type": "markdown",
   "metadata": {
    "code_folding": []
   },
   "source": [
    "# plot"
   ]
  },
  {
   "cell_type": "code",
   "execution_count": 1,
   "metadata": {},
   "outputs": [],
   "source": [
    "import numpy as np\n",
    "import plotly.graph_objects as go\n",
    "import numpy as np\n",
    "import torch"
   ]
  },
  {
   "cell_type": "markdown",
   "metadata": {
    "heading_collapsed": true
   },
   "source": [
    "###### 3D plot"
   ]
  },
  {
   "cell_type": "code",
   "execution_count": 9,
   "metadata": {
    "hidden": true
   },
   "outputs": [],
   "source": [
    "# x_max = 16\n",
    "# radius= 3\n",
    "# def to_cylinder_coor(x,y):\n",
    "#     theta = 2*np.pi*x/x_max\n",
    "#     return theta,y\n",
    "# def cylinder(theta_start,theta_end, h_start,h_end, nt=2, nv =2):\n",
    "#     \"\"\"\n",
    "#     parametrize the cylinder of radius r, height h, base point a\n",
    "#     \"\"\"\n",
    "#     theta    = np.linspace(theta_start, theta_end, nt)\n",
    "#     v        = np.linspace(h_start, h_end, nv )\n",
    "#     theta, v = np.meshgrid(theta, v)\n",
    "#     x        = radius*np.cos(theta)\n",
    "#     y        = radius*np.sin(theta)\n",
    "#     z        = v\n",
    "#     return x, y, z\n",
    "\n",
    "# arbitary_shape_state_dict = torch.load(\"F:\\\\server\\\\SUTD Office\\\\Tensor_Network_Project\\\\models\\\\arbitary_shape\\\\arbitary_shape_16x9_2.json\")\n",
    "# info_per_group = arbitary_shape_state_dict['node']\n",
    "# info_per_line  = arbitary_shape_state_dict['line']\n",
    "# info_per_point = arbitary_shape_state_dict['element']\n",
    "# objects = []\n",
    "# offsite = 0.5\n",
    "# scalar  = 4\n",
    "# radius=3\n",
    "\n",
    "# objects=[]\n",
    "# alpha=0.3\n",
    "# for (g_l,g_r), pool in info_per_line.items():\n",
    "#     start_pos=pool['start_pos']\n",
    "#     ended_pos=pool['ended_pos']\n",
    "#     line_type = pool[\"type\"] if \"type\" in pool else \"line\"\n",
    "#     D = pool['D']\n",
    "#     xes = np.array([start_pos[0],ended_pos[0]])\n",
    "#     yes = np.array([start_pos[1],ended_pos[1]])\n",
    "\n",
    "#     theta0,z0 = to_cylinder_coor(xes,yes)\n",
    "#     x0,y0 = radius*np.cos(theta0),radius*np.sin(theta0)\n",
    "#     objects.append(go.Scatter3d(x=x0, y=y0, z=z0,mode='lines',line=dict(color='firebrick', width=4)))\n",
    "    \n",
    "# for idx,(group, pool) in enumerate(info_per_group.items()):\n",
    "    \n",
    "#     xes,yes=np.array(pool['element']).transpose()\n",
    "#     xes = (1-2*alpha)*(xes - min(xes)) + min(xes) + alpha*(max(xes)-min(xes))\n",
    "#     yes = (1-2*alpha)*(yes - min(yes)) + min(yes) + alpha*(max(yes)-min(yes))\n",
    "# #    h = max(yes)-min(yes)\n",
    "# #     c_x = xes.mean()\n",
    "# #     c_y = yes.mean()\n",
    "# #     x0  = scalar*min(xes)-offsite\n",
    "# #     x1  = scalar*max(xes)+offsite\n",
    "# #     z0  = scalar*min(yes)-offsite\n",
    "# #     z1  = scalar*max(yes)+offsite\n",
    "#     theta0,z0 = to_cylinder_coor(xes,yes)\n",
    "#     x0,y0 = radius*np.cos(theta0),radius*np.sin(theta0)\n",
    "#     objects.append(go.Scatter3d(x=x0, y=y0, z=z0,mode='markers',marker=dict(\n",
    "#                                             size=12,\n",
    "#                                             color=idx,                # set color to an array/list of desired values\n",
    "#                                             colorscale='Viridis',   # choose a colorscale\n",
    "#                                             opacity=1\n",
    "#                                         )))\n",
    "# axis = dict(showline=False, zeroline=False,showgrid=False,showticklabels=False,)\n",
    "# fig.update_layout(showlegend=False,scene = dict(xaxis = axis,yaxis = axis,zaxis = axis),plot_bgcolor='white')\n",
    "\n",
    "# fig = go.Figure()\n",
    "# for obj in objects:\n",
    "#     fig.add_trace(obj)\n",
    "# fig"
   ]
  },
  {
   "cell_type": "markdown",
   "metadata": {
    "heading_collapsed": true
   },
   "source": [
    "###### 2D plot rectangle"
   ]
  },
  {
   "cell_type": "code",
   "execution_count": null,
   "metadata": {
    "hidden": true
   },
   "outputs": [],
   "source": []
  },
  {
   "cell_type": "code",
   "execution_count": 53,
   "metadata": {
    "code_folding": [
     0
    ],
    "hidden": true
   },
   "outputs": [],
   "source": [
    "def ellipse_arc2(start_point=0, end_point=0, start_angle=0, end_angle=2*np.pi, N=100, closed= False):\n",
    "    a = (end_point[0] - start_point[0])/(np.cos(end_angle)-np.cos(start_angle))\n",
    "    if end_point[1] == start_point[1]:# 这并不是一个通用方案\n",
    "        b = 2\n",
    "    else:\n",
    "        b = (end_point[1] - start_point[1])/(np.sin(end_angle)-np.sin(start_angle))\n",
    "    x_center = end_point[0] - a*np.cos(end_angle)\n",
    "    y_center = end_point[1] - b*np.sin(end_angle)\n",
    "    t = np.linspace(start_angle, end_angle, N)\n",
    "    x = x_center + a*np.cos(t)\n",
    "    y = y_center + b*np.sin(t)\n",
    "    return x,y    "
   ]
  },
  {
   "cell_type": "code",
   "execution_count": 4,
   "metadata": {
    "hidden": true
   },
   "outputs": [],
   "source": [
    "# arbitary_shape_state_dict = torch.load(\"models/arbitary_shape/arbitary_shape_16x9_2.json\")\n",
    "# info_per_group = arbitary_shape_state_dict['node']\n",
    "# info_per_line  = arbitary_shape_state_dict['line']\n",
    "# info_per_point = arbitary_shape_state_dict['element']"
   ]
  },
  {
   "cell_type": "code",
   "execution_count": 23,
   "metadata": {
    "code_folding": [
     0
    ],
    "hidden": true,
    "scrolled": true
   },
   "outputs": [],
   "source": [
    "# #### plot######\n",
    "# objects = []\n",
    "# offsite = 0.5\n",
    "# scalar  = 4\n",
    "# for (g_l,g_r), pool in info_per_line.items():\n",
    "#     start_pos=pool['start_pos']\n",
    "#     ended_pos=pool['ended_pos']\n",
    "#     line_type = pool[\"type\"] if \"type\" in pool else \"line\"\n",
    "#     D = pool['D']\n",
    "#     x0,y0  = scalar*np.array(start_pos)\n",
    "#     x1,y1  = scalar*np.array(ended_pos)\n",
    "#     if line_type == \"line\":\n",
    "#         objects.append(go.Scatter(x=[x0,x1],y=[y0,y1],mode='lines', fill=\"toself\",\n",
    "#                               text=f\"D={D}\",hoveron='points',hoverinfo='text'\n",
    "#                                  )\n",
    "#                       )\n",
    "#     else:\n",
    "#         x,y = ellipse_arc2(start_point=[x0,y0], end_point=[x1,y1], start_angle=np.pi+1/6*np.pi, \n",
    "#                            end_angle=-1/6*np.pi,  N=60)\n",
    "#         objects.append(go.Scatter(x=x,y=y,mode='lines',# fill=\"toself\",\n",
    "#                               text=f\"D={D}\",hoveron='points',hoverinfo='text'\n",
    "#                                  )\n",
    "#                       )\n",
    "                    \n",
    "\n",
    "# for group, pool in info_per_group.items():\n",
    "#     xes,yes=np.array(pool['element']).transpose()\n",
    "#     w = max(xes)-min(xes)\n",
    "#     h = max(yes)-min(yes)\n",
    "#     c_x = xes.mean()\n",
    "#     c_y = yes.mean()\n",
    "#     x0  = scalar*min(xes)-offsite\n",
    "#     x1  = scalar*max(xes)+offsite\n",
    "#     y0  = scalar*min(yes)-offsite\n",
    "#     y1  = scalar*max(yes)+offsite\n",
    "#     objects.append(go.Scatter(x=[x0,x0,x1,x1,x0],y=[y0,y1,y1,y0,y0],mode='lines',fill=\"toself\",\n",
    "#                                hoveron='fills',hoverinfo='text',text=f\"G={group}\",\n",
    "#                               ))\n",
    "\n",
    "\n",
    "\n",
    "\n",
    "# fig = go.Figure()\n",
    "\n",
    "# axis = dict(showline=False, zeroline=False,showgrid=False,showticklabels=False,)\n",
    "# fig.update_layout(showlegend=False,xaxis=axis,yaxis=axis,plot_bgcolor='white')\n",
    "# fig.update_layout(\n",
    "#          autosize=False,\n",
    "#             width=800,\n",
    "#             height=800,\n",
    "#         hoverlabel=dict(\n",
    "#         bgcolor=\"white\",\n",
    "#         font_size=16,\n",
    "#         font_family=\"Rockwell\"\n",
    "#         )\n",
    "# )\n",
    "# fig.update_xaxes(fixedrange=True)\n",
    "# fig.update_yaxes(scaleanchor = \"x\",scaleratio = 1,)\n",
    "# #if show_name: self.depoly_label(fig)\n",
    "# for obj in objects:fig.add_trace(obj)\n",
    "# fig"
   ]
  },
  {
   "cell_type": "code",
   "execution_count": 54,
   "metadata": {
    "code_folding": [
     0
    ],
    "hidden": true
   },
   "outputs": [],
   "source": [
    "def plot_partition(partition_path):\n",
    "    arbitary_shape_state_dict = torch.load(partition_path)\n",
    "    info_per_group = arbitary_shape_state_dict['node']\n",
    "    info_per_line  = arbitary_shape_state_dict['line']\n",
    "    info_per_point = arbitary_shape_state_dict['element']\n",
    "    \n",
    "    objects = []\n",
    "    offsite = 0.5\n",
    "    scalar  = 4\n",
    "    for (g_l,g_r), pool in info_per_line.items():\n",
    "        start_pos=pool['start_pos']\n",
    "        ended_pos=pool['ended_pos']\n",
    "        line_type = pool[\"type\"] if \"type\" in pool else \"line\"\n",
    "        D = pool['D']\n",
    "        x0,y0  = scalar*np.array(start_pos)\n",
    "        x1,y1  = scalar*np.array(ended_pos)\n",
    "        if line_type == \"line\":\n",
    "            objects.append(go.Scatter(x=[x0,x1],y=[y0,y1],mode='lines', fill=\"toself\",\n",
    "                                  text=f\"D={D}\",hoveron='points',hoverinfo='text'\n",
    "                                     )\n",
    "                          )\n",
    "        else:\n",
    "            x,y = ellipse_arc2(start_point=[x0,y0], end_point=[x1,y1], start_angle=np.pi+1/6*np.pi, \n",
    "                               end_angle=-1/6*np.pi,  N=60)\n",
    "            objects.append(go.Scatter(x=x,y=y,mode='lines',# fill=\"toself\",\n",
    "                                  text=f\"D={D}\",hoveron='points',hoverinfo='text'\n",
    "                                     )\n",
    "                          )\n",
    "\n",
    "\n",
    "    for group, pool in info_per_group.items():\n",
    "        xes,yes=np.array(pool['element']).transpose()\n",
    "        w = max(xes)-min(xes)\n",
    "        h = max(yes)-min(yes)\n",
    "        c_x = xes.mean()\n",
    "        c_y = yes.mean()\n",
    "        x0  = scalar*min(xes)-offsite\n",
    "        x1  = scalar*max(xes)+offsite\n",
    "        y0  = scalar*min(yes)-offsite\n",
    "        y1  = scalar*max(yes)+offsite\n",
    "        objects.append(go.Scatter(x=[x0,x0,x1,x1,x0],y=[y0,y1,y1,y0,y0],mode='lines',fill=\"toself\",\n",
    "                                   hoveron='fills',hoverinfo='text',text=f\"G={group}\",\n",
    "                                  ))\n",
    "\n",
    "\n",
    "\n",
    "\n",
    "    fig = go.Figure()\n",
    "\n",
    "    axis = dict(showline=False, zeroline=False,showgrid=False,showticklabels=False,)\n",
    "    fig.update_layout(showlegend=False,xaxis=axis,yaxis=axis,plot_bgcolor='white')\n",
    "    fig.update_layout(\n",
    "             autosize=False,\n",
    "                width=800,\n",
    "                height=800,\n",
    "            hoverlabel=dict(\n",
    "            bgcolor=\"white\",\n",
    "            font_size=16,\n",
    "            font_family=\"Rockwell\"\n",
    "            )\n",
    "    )\n",
    "    fig.update_xaxes(fixedrange=True)\n",
    "    fig.update_yaxes(scaleanchor = \"x\",scaleratio = 1,)\n",
    "    #if show_name: self.depoly_label(fig)\n",
    "    for obj in objects:fig.add_trace(obj)\n",
    "    return fig"
   ]
  },
  {
   "cell_type": "code",
   "execution_count": 3,
   "metadata": {
    "hidden": true
   },
   "outputs": [],
   "source": [
    "# plot_partition(\"models/arbitary_shape/arbitary_shape_16x9_6.json\")"
   ]
  },
  {
   "cell_type": "code",
   "execution_count": 23,
   "metadata": {
    "hidden": true
   },
   "outputs": [
    {
     "ename": "KeyError",
     "evalue": "(0, 9)",
     "output_type": "error",
     "traceback": [
      "\u001b[0;31m---------------------------------------------------------------------------\u001b[0m",
      "\u001b[0;31mKeyError\u001b[0m                                  Traceback (most recent call last)",
      "\u001b[0;32m<ipython-input-23-cb816ecbc3c0>\u001b[0m in \u001b[0;36m<module>\u001b[0;34m\u001b[0m\n\u001b[1;32m      3\u001b[0m     \u001b[0mline\u001b[0m\u001b[0;34m=\u001b[0m\u001b[0;34m[\u001b[0m\u001b[0;34m]\u001b[0m\u001b[0;34m\u001b[0m\u001b[0;34m\u001b[0m\u001b[0m\n\u001b[1;32m      4\u001b[0m     \u001b[0;32mfor\u001b[0m \u001b[0mj\u001b[0m \u001b[0;32min\u001b[0m \u001b[0mrange\u001b[0m\u001b[0;34m(\u001b[0m\u001b[0;36m24\u001b[0m\u001b[0;34m)\u001b[0m\u001b[0;34m:\u001b[0m\u001b[0;34m\u001b[0m\u001b[0;34m\u001b[0m\u001b[0m\n\u001b[0;32m----> 5\u001b[0;31m         \u001b[0mline\u001b[0m\u001b[0;34m.\u001b[0m\u001b[0mappend\u001b[0m\u001b[0;34m(\u001b[0m\u001b[0minfo_per_point\u001b[0m\u001b[0;34m[\u001b[0m\u001b[0mi\u001b[0m\u001b[0;34m,\u001b[0m\u001b[0mj\u001b[0m\u001b[0;34m]\u001b[0m\u001b[0;34m[\u001b[0m\u001b[0;34m'group'\u001b[0m\u001b[0;34m]\u001b[0m\u001b[0;34m)\u001b[0m\u001b[0;34m\u001b[0m\u001b[0;34m\u001b[0m\u001b[0m\n\u001b[0m\u001b[1;32m      6\u001b[0m     \u001b[0mmatrix\u001b[0m\u001b[0;34m.\u001b[0m\u001b[0mappend\u001b[0m\u001b[0;34m(\u001b[0m\u001b[0mline\u001b[0m\u001b[0;34m)\u001b[0m\u001b[0;34m\u001b[0m\u001b[0;34m\u001b[0m\u001b[0m\n\u001b[1;32m      7\u001b[0m \u001b[0mmatrix\u001b[0m \u001b[0;34m=\u001b[0m \u001b[0mnp\u001b[0m\u001b[0;34m.\u001b[0m\u001b[0marray\u001b[0m\u001b[0;34m(\u001b[0m\u001b[0mmatrix\u001b[0m\u001b[0;34m)\u001b[0m\u001b[0;34m\u001b[0m\u001b[0;34m\u001b[0m\u001b[0m\n",
      "\u001b[0;31mKeyError\u001b[0m: (0, 9)"
     ]
    }
   ],
   "source": [
    "matrix=[]\n",
    "for i in range(24):\n",
    "    line=[]\n",
    "    for j in range(24):\n",
    "        line.append(info_per_point[i,j]['group'])\n",
    "    matrix.append(line)\n",
    "matrix = np.array(matrix)   "
   ]
  },
  {
   "cell_type": "code",
   "execution_count": 38,
   "metadata": {
    "hidden": true
   },
   "outputs": [],
   "source": [
    "from mltool.visualization import *"
   ]
  },
  {
   "cell_type": "code",
   "execution_count": 39,
   "metadata": {
    "hidden": true,
    "scrolled": true
   },
   "outputs": [
    {
     "ename": "TypeError",
     "evalue": "Image data of dtype object cannot be converted to float",
     "output_type": "error",
     "traceback": [
      "\u001b[0;31m---------------------------------------------------------------------------\u001b[0m",
      "\u001b[0;31mTypeError\u001b[0m                                 Traceback (most recent call last)",
      "\u001b[0;32m<ipython-input-39-2470c7245a85>\u001b[0m in \u001b[0;36m<module>\u001b[0;34m\u001b[0m\n\u001b[1;32m      1\u001b[0m \u001b[0mget_ipython\u001b[0m\u001b[0;34m(\u001b[0m\u001b[0;34m)\u001b[0m\u001b[0;34m.\u001b[0m\u001b[0mrun_line_magic\u001b[0m\u001b[0;34m(\u001b[0m\u001b[0;34m'matplotlib'\u001b[0m\u001b[0;34m,\u001b[0m \u001b[0;34m'inline'\u001b[0m\u001b[0;34m)\u001b[0m\u001b[0;34m\u001b[0m\u001b[0;34m\u001b[0m\u001b[0m\n\u001b[0;32m----> 2\u001b[0;31m \u001b[0mplt\u001b[0m\u001b[0;34m.\u001b[0m\u001b[0mimshow\u001b[0m\u001b[0;34m(\u001b[0m\u001b[0mnp\u001b[0m\u001b[0;34m.\u001b[0m\u001b[0marray\u001b[0m\u001b[0;34m(\u001b[0m\u001b[0mmatrix\u001b[0m\u001b[0;34m)\u001b[0m\u001b[0;34m)\u001b[0m\u001b[0;34m\u001b[0m\u001b[0;34m\u001b[0m\u001b[0m\n\u001b[0m",
      "\u001b[0;32m/usr/local/lib/python3.7/dist-packages/matplotlib/pyplot.py\u001b[0m in \u001b[0;36mimshow\u001b[0;34m(X, cmap, norm, aspect, interpolation, alpha, vmin, vmax, origin, extent, filternorm, filterrad, resample, url, data, **kwargs)\u001b[0m\n\u001b[1;32m   2876\u001b[0m         \u001b[0mfilternorm\u001b[0m\u001b[0;34m=\u001b[0m\u001b[0mfilternorm\u001b[0m\u001b[0;34m,\u001b[0m \u001b[0mfilterrad\u001b[0m\u001b[0;34m=\u001b[0m\u001b[0mfilterrad\u001b[0m\u001b[0;34m,\u001b[0m \u001b[0mresample\u001b[0m\u001b[0;34m=\u001b[0m\u001b[0mresample\u001b[0m\u001b[0;34m,\u001b[0m\u001b[0;34m\u001b[0m\u001b[0;34m\u001b[0m\u001b[0m\n\u001b[1;32m   2877\u001b[0m         \u001b[0murl\u001b[0m\u001b[0;34m=\u001b[0m\u001b[0murl\u001b[0m\u001b[0;34m,\u001b[0m \u001b[0;34m**\u001b[0m\u001b[0;34m(\u001b[0m\u001b[0;34m{\u001b[0m\u001b[0;34m\"data\"\u001b[0m\u001b[0;34m:\u001b[0m \u001b[0mdata\u001b[0m\u001b[0;34m}\u001b[0m \u001b[0;32mif\u001b[0m \u001b[0mdata\u001b[0m \u001b[0;32mis\u001b[0m \u001b[0;32mnot\u001b[0m \u001b[0;32mNone\u001b[0m \u001b[0;32melse\u001b[0m \u001b[0;34m{\u001b[0m\u001b[0;34m}\u001b[0m\u001b[0;34m)\u001b[0m\u001b[0;34m,\u001b[0m\u001b[0;34m\u001b[0m\u001b[0;34m\u001b[0m\u001b[0m\n\u001b[0;32m-> 2878\u001b[0;31m         **kwargs)\n\u001b[0m\u001b[1;32m   2879\u001b[0m     \u001b[0msci\u001b[0m\u001b[0;34m(\u001b[0m\u001b[0m__ret\u001b[0m\u001b[0;34m)\u001b[0m\u001b[0;34m\u001b[0m\u001b[0;34m\u001b[0m\u001b[0m\n\u001b[1;32m   2880\u001b[0m     \u001b[0;32mreturn\u001b[0m \u001b[0m__ret\u001b[0m\u001b[0;34m\u001b[0m\u001b[0;34m\u001b[0m\u001b[0m\n",
      "\u001b[0;32m/usr/local/lib/python3.7/dist-packages/matplotlib/__init__.py\u001b[0m in \u001b[0;36minner\u001b[0;34m(ax, data, *args, **kwargs)\u001b[0m\n\u001b[1;32m   1350\u001b[0m     \u001b[0;32mdef\u001b[0m \u001b[0minner\u001b[0m\u001b[0;34m(\u001b[0m\u001b[0max\u001b[0m\u001b[0;34m,\u001b[0m \u001b[0;34m*\u001b[0m\u001b[0margs\u001b[0m\u001b[0;34m,\u001b[0m \u001b[0mdata\u001b[0m\u001b[0;34m=\u001b[0m\u001b[0;32mNone\u001b[0m\u001b[0;34m,\u001b[0m \u001b[0;34m**\u001b[0m\u001b[0mkwargs\u001b[0m\u001b[0;34m)\u001b[0m\u001b[0;34m:\u001b[0m\u001b[0;34m\u001b[0m\u001b[0;34m\u001b[0m\u001b[0m\n\u001b[1;32m   1351\u001b[0m         \u001b[0;32mif\u001b[0m \u001b[0mdata\u001b[0m \u001b[0;32mis\u001b[0m \u001b[0;32mNone\u001b[0m\u001b[0;34m:\u001b[0m\u001b[0;34m\u001b[0m\u001b[0;34m\u001b[0m\u001b[0m\n\u001b[0;32m-> 1352\u001b[0;31m             \u001b[0;32mreturn\u001b[0m \u001b[0mfunc\u001b[0m\u001b[0;34m(\u001b[0m\u001b[0max\u001b[0m\u001b[0;34m,\u001b[0m \u001b[0;34m*\u001b[0m\u001b[0mmap\u001b[0m\u001b[0;34m(\u001b[0m\u001b[0msanitize_sequence\u001b[0m\u001b[0;34m,\u001b[0m \u001b[0margs\u001b[0m\u001b[0;34m)\u001b[0m\u001b[0;34m,\u001b[0m \u001b[0;34m**\u001b[0m\u001b[0mkwargs\u001b[0m\u001b[0;34m)\u001b[0m\u001b[0;34m\u001b[0m\u001b[0;34m\u001b[0m\u001b[0m\n\u001b[0m\u001b[1;32m   1353\u001b[0m \u001b[0;34m\u001b[0m\u001b[0m\n\u001b[1;32m   1354\u001b[0m         \u001b[0mbound\u001b[0m \u001b[0;34m=\u001b[0m \u001b[0mnew_sig\u001b[0m\u001b[0;34m.\u001b[0m\u001b[0mbind\u001b[0m\u001b[0;34m(\u001b[0m\u001b[0max\u001b[0m\u001b[0;34m,\u001b[0m \u001b[0;34m*\u001b[0m\u001b[0margs\u001b[0m\u001b[0;34m,\u001b[0m \u001b[0;34m**\u001b[0m\u001b[0mkwargs\u001b[0m\u001b[0;34m)\u001b[0m\u001b[0;34m\u001b[0m\u001b[0;34m\u001b[0m\u001b[0m\n",
      "\u001b[0;32m/usr/local/lib/python3.7/dist-packages/matplotlib/axes/_axes.py\u001b[0m in \u001b[0;36mimshow\u001b[0;34m(self, X, cmap, norm, aspect, interpolation, alpha, vmin, vmax, origin, extent, filternorm, filterrad, resample, url, **kwargs)\u001b[0m\n\u001b[1;32m   5587\u001b[0m                               resample=resample, **kwargs)\n\u001b[1;32m   5588\u001b[0m \u001b[0;34m\u001b[0m\u001b[0m\n\u001b[0;32m-> 5589\u001b[0;31m         \u001b[0mim\u001b[0m\u001b[0;34m.\u001b[0m\u001b[0mset_data\u001b[0m\u001b[0;34m(\u001b[0m\u001b[0mX\u001b[0m\u001b[0;34m)\u001b[0m\u001b[0;34m\u001b[0m\u001b[0;34m\u001b[0m\u001b[0m\n\u001b[0m\u001b[1;32m   5590\u001b[0m         \u001b[0mim\u001b[0m\u001b[0;34m.\u001b[0m\u001b[0mset_alpha\u001b[0m\u001b[0;34m(\u001b[0m\u001b[0malpha\u001b[0m\u001b[0;34m)\u001b[0m\u001b[0;34m\u001b[0m\u001b[0;34m\u001b[0m\u001b[0m\n\u001b[1;32m   5591\u001b[0m         \u001b[0;32mif\u001b[0m \u001b[0mim\u001b[0m\u001b[0;34m.\u001b[0m\u001b[0mget_clip_path\u001b[0m\u001b[0;34m(\u001b[0m\u001b[0;34m)\u001b[0m \u001b[0;32mis\u001b[0m \u001b[0;32mNone\u001b[0m\u001b[0;34m:\u001b[0m\u001b[0;34m\u001b[0m\u001b[0;34m\u001b[0m\u001b[0m\n",
      "\u001b[0;32m/usr/local/lib/python3.7/dist-packages/matplotlib/image.py\u001b[0m in \u001b[0;36mset_data\u001b[0;34m(self, A)\u001b[0m\n\u001b[1;32m    699\u001b[0m                 not np.can_cast(self._A.dtype, float, \"same_kind\")):\n\u001b[1;32m    700\u001b[0m             raise TypeError(\"Image data of dtype {} cannot be converted to \"\n\u001b[0;32m--> 701\u001b[0;31m                             \"float\".format(self._A.dtype))\n\u001b[0m\u001b[1;32m    702\u001b[0m \u001b[0;34m\u001b[0m\u001b[0m\n\u001b[1;32m    703\u001b[0m         \u001b[0;32mif\u001b[0m \u001b[0mself\u001b[0m\u001b[0;34m.\u001b[0m\u001b[0m_A\u001b[0m\u001b[0;34m.\u001b[0m\u001b[0mndim\u001b[0m \u001b[0;34m==\u001b[0m \u001b[0;36m3\u001b[0m \u001b[0;32mand\u001b[0m \u001b[0mself\u001b[0m\u001b[0;34m.\u001b[0m\u001b[0m_A\u001b[0m\u001b[0;34m.\u001b[0m\u001b[0mshape\u001b[0m\u001b[0;34m[\u001b[0m\u001b[0;34m-\u001b[0m\u001b[0;36m1\u001b[0m\u001b[0;34m]\u001b[0m \u001b[0;34m==\u001b[0m \u001b[0;36m1\u001b[0m\u001b[0;34m:\u001b[0m\u001b[0;34m\u001b[0m\u001b[0;34m\u001b[0m\u001b[0m\n",
      "\u001b[0;31mTypeError\u001b[0m: Image data of dtype object cannot be converted to float"
     ]
    },
    {
     "data": {
      "image/png": "[encoded data removed]",
      "text/plain": [
       "<Figure size 432x288 with 1 Axes>"
      ]
     },
     "metadata": {
      "needs_background": "light"
     },
     "output_type": "display_data"
    }
   ],
   "source": [
    "%matplotlib inline\n",
    "plt.imshow(np.array(matrix))"
   ]
  },
  {
   "cell_type": "markdown",
   "metadata": {
    "heading_collapsed": true
   },
   "source": [
    "###### 2D plot polar"
   ]
  },
  {
   "cell_type": "code",
   "execution_count": 100,
   "metadata": {
    "hidden": true
   },
   "outputs": [],
   "source": []
  },
  {
   "cell_type": "code",
   "execution_count": 3,
   "metadata": {
    "code_folding": [
     3,
     14
    ],
    "hidden": true
   },
   "outputs": [],
   "source": [
    "############# function\n",
    "import plotly.colors\n",
    "from PIL import ImageColor\n",
    "def get_color(colorscale_name, loc):\n",
    "    from _plotly_utils.basevalidators import ColorscaleValidator\n",
    "    # first parameter: Name of the property being validated\n",
    "    # second parameter: a string, doesn't really matter in our use case\n",
    "    cv = ColorscaleValidator(\"colorscale\", \"\")\n",
    "    # colorscale will be a list of lists: [[loc1, \"rgb1\"], [loc2, \"rgb2\"], ...] \n",
    "    colorscale = cv.validate_coerce(colorscale_name)\n",
    "    \n",
    "    if hasattr(loc, \"__iter__\"):\n",
    "        return [get_continuous_color(colorscale, x) for x in loc]\n",
    "    return get_continuous_color(colorscale, loc)\n",
    "def get_continuous_color(colorscale, intermed):\n",
    "    \"\"\"\n",
    "    Plotly continuous colorscales assign colors to the range [0, 1]. This function computes the intermediate\n",
    "    color for any value in that range.\n",
    "\n",
    "    Plotly doesn't make the colorscales directly accessible in a common format.\n",
    "    Some are ready to use:\n",
    "    \n",
    "        colorscale = plotly.colors.PLOTLY_SCALES[\"Greens\"]\n",
    "\n",
    "    Others are just swatches that need to be constructed into a colorscale:\n",
    "\n",
    "        viridis_colors, scale = plotly.colors.convert_colors_to_same_type(plotly.colors.sequential.Viridis)\n",
    "        colorscale = plotly.colors.make_colorscale(viridis_colors, scale=scale)\n",
    "\n",
    "    :param colorscale: A plotly continuous colorscale defined with RGB string colors.\n",
    "    :param intermed: value in the range [0, 1]\n",
    "    :return: color in rgb string format\n",
    "    :rtype: str\n",
    "    \"\"\"\n",
    "    if len(colorscale) < 1:\n",
    "        raise ValueError(\"colorscale must have at least one color\")\n",
    "\n",
    "    hex_to_rgb = lambda c: \"rgb\" + str(ImageColor.getcolor(c, \"RGB\"))\n",
    "\n",
    "    if intermed <= 0 or len(colorscale) == 1:\n",
    "        c = colorscale[0][1]\n",
    "        return c if c[0] != \"#\" else hex_to_rgb(c)\n",
    "    if intermed >= 1:\n",
    "        c = colorscale[-1][1]\n",
    "        return c if c[0] != \"#\" else hex_to_rgb(c)\n",
    "\n",
    "    for cutoff, color in colorscale:\n",
    "        if intermed > cutoff:\n",
    "            low_cutoff, low_color = cutoff, color\n",
    "        else:\n",
    "            high_cutoff, high_color = cutoff, color\n",
    "            break\n",
    "\n",
    "    if (low_color[0] == \"#\") or (high_color[0] == \"#\"):\n",
    "        # some color scale names (such as cividis) returns:\n",
    "        # [[loc1, \"hex1\"], [loc2, \"hex2\"], ...]\n",
    "        low_color = hex_to_rgb(low_color)\n",
    "        high_color = hex_to_rgb(high_color)\n",
    "\n",
    "    return plotly.colors.find_intermediate_color(\n",
    "        lowcolor=low_color,\n",
    "        highcolor=high_color,\n",
    "        intermed=((intermed - low_cutoff) / (high_cutoff - low_cutoff)),\n",
    "        colortype=\"rgb\",\n",
    "    )"
   ]
  },
  {
   "cell_type": "code",
   "execution_count": 4,
   "metadata": {
    "code_folding": [
     0,
     5
    ],
    "hidden": true
   },
   "outputs": [],
   "source": [
    "def to_circle_coor(x,y):\n",
    "    theta = 2*np.pi/(x_max-x_min)*(x-x_min) + x_min\n",
    "    radius= (radius_max-radius_min)/(y_max-y_min)*(y-y_min)+radius_min\n",
    "    return radius*np.cos(theta),radius*np.sin(theta)\n",
    "\n",
    "def to_circle_coor2(x,y):\n",
    "    theta = 2*np.pi/(x_max-x_min)*(x-x_min) + x_min\n",
    "    radius= (radius_max-radius_min)/(y_max-y_min)*(y-y_min)+radius_min\n",
    "    \n",
    "    thetamin = min(theta)\n",
    "    thetamax = max(theta)\n",
    "    if (thetamax - thetamin) > np.pi:\n",
    "        thetamax = -thetamax \n",
    "    radiusmin= min(radius)\n",
    "    radiusmax= max(radius)\n",
    "    \n",
    "    p0=[[t,radiusmin] for t in np.linspace(thetamin,thetamax,100)]\n",
    "    p1=[[thetamax,radiusmin]]\n",
    "    p2=[[thetamax,radiusmax]]\n",
    "    p3=[[t,radiusmax] for t in np.linspace(thetamax,thetamin,100)] \n",
    "    p4=[[thetamin,radiusmin]]\n",
    "    ps=p0+p1+p2+p3+p4\n",
    "    xes,yes = np.array(ps).transpose(1,0)\n",
    "    return yes*np.cos(xes),yes*np.sin(xes)"
   ]
  },
  {
   "cell_type": "code",
   "execution_count": 5,
   "metadata": {
    "hidden": true
   },
   "outputs": [],
   "source": [
    "radius_min = 2\n",
    "radius_max = 10\n",
    "x_max      = 16\n",
    "x_min      = 0\n",
    "y_max      = 9\n",
    "y_min      = 0\n"
   ]
  },
  {
   "cell_type": "code",
   "execution_count": 35,
   "metadata": {
    "code_folding": [
     0
    ],
    "hidden": true
   },
   "outputs": [],
   "source": [
    "# #########\n",
    "#arbitary_shape_state_dict = torch.load(\"models/arbitary_shape/arbitary_shape_16x9_7.json\")\n",
    "# info_per_group = arbitary_shape_state_dict['node']\n",
    "# info_per_line  = arbitary_shape_state_dict['line']\n",
    "# info_per_point = arbitary_shape_state_dict['element']\n",
    "# objects = []\n",
    "# offsite = 0.2\n",
    "# scalar  = 1\n",
    "# ### add line\n",
    "# for (g_l,g_r), pool in info_per_line.items():\n",
    "#     start_pos=pool['start_pos']\n",
    "#     ended_pos=pool['ended_pos']\n",
    "#     line_type = pool[\"type\"] if \"type\" in pool else \"line\"\n",
    "#     D = pool['D']\n",
    "#     xes     = np.array([start_pos[0],ended_pos[0]])\n",
    "#     yes     = np.array([start_pos[1],ended_pos[1]])\n",
    "#     xes,yes = to_circle_coor2(xes,yes)\n",
    "\n",
    "#     objects.append(go.Scatter(x=xes,y=yes,mode='lines', line=dict(color=\"#000000\",width=4),\n",
    "#                                   text=f\"D={D}\",hoveron='points',hoverinfo='text',opacity=1\n",
    "#                                  )\n",
    "#                       )\n",
    "\n",
    "\n",
    "# ### add block\n",
    "# for idx,(group, pool) in enumerate(info_per_group.items()):\n",
    "#     xes,yes=set_good_gemo_pos(np.array(pool['element'])).transpose()\n",
    "   \n",
    "#     #xes,yes=np.array(pool['element']).transpose()\n",
    "    \n",
    "#     w = max(xes)-min(xes)\n",
    "#     h = max(yes)-min(yes)\n",
    "#     c_x = xes.mean()\n",
    "#     c_y = yes.mean()\n",
    "#     x0  = scalar*min(xes)-offsite\n",
    "#     x1  = scalar*max(xes)+offsite\n",
    "#     y0  = scalar*min(yes)-offsite\n",
    "#     y1  = scalar*max(yes)+offsite\n",
    "#     xes = np.array([x0,x0,x1,x1,x0])\n",
    "#     yes = np.array([y0,y1,y1,y0,y0])\n",
    "#     xes,yes = to_circle_coor2(xes,yes)\n",
    "#     color = get_color('Viridis',((min(xes)+max(xes))/2+radius_max)/(4*radius_max)+\n",
    "#                                 (abs(min(yes)+max(yes))/2)/(2*radius_max))\n",
    "#     objects.append(go.Scatter(x=xes,y=yes,mode='lines', line=dict(color=color,width=1),\n",
    "#                                   fill='tozeroy', \n",
    "#                                   fillcolor=color,\n",
    "#                               hoveron='fills',hoverinfo='text',text=f\"G={group}\",opacity=1\n",
    "#                               ))\n",
    "\n",
    "\n",
    "# fig = go.Figure()\n",
    "\n",
    "# axis = dict(showline=False, zeroline=False,showgrid=False,showticklabels=False,)\n",
    "# fig.update_layout(showlegend=False,xaxis=axis,yaxis=axis,plot_bgcolor='white')\n",
    "# fig.update_layout(\n",
    "#          autosize=False,\n",
    "#             width=800,\n",
    "#             height=800,\n",
    "#         hoverlabel=dict(\n",
    "#         bgcolor=\"white\",\n",
    "#         font_size=16,\n",
    "#         font_family=\"Rockwell\"\n",
    "#         )\n",
    "# )\n",
    "# fig.update_xaxes(fixedrange=True)\n",
    "# fig.update_yaxes(scaleanchor = \"x\",scaleratio = 1,)\n",
    "# #if show_name: self.depoly_label(fig)\n",
    "# for obj in objects:fig.add_trace(obj)\n",
    "# fig"
   ]
  },
  {
   "cell_type": "code",
   "execution_count": 6,
   "metadata": {
    "code_folding": [
     0
    ],
    "hidden": true
   },
   "outputs": [],
   "source": [
    "def plot_partition_polar(partition_path):\n",
    "    if isinstance(partition_path,str):\n",
    "        arbitary_shape_state_dict = torch.load(partition_path)\n",
    "    else:\n",
    "        arbitary_shape_state_dict=partition_path\n",
    "    #########\n",
    "\n",
    "    info_per_group = arbitary_shape_state_dict['node']\n",
    "    info_per_line  = arbitary_shape_state_dict['line']\n",
    "    info_per_point = arbitary_shape_state_dict['element']\n",
    "    objects = []\n",
    "    offsite = 0.2\n",
    "    scalar  = 1\n",
    "    ### add line\n",
    "    for (g_l,g_r), pool in info_per_line.items():\n",
    "        start_pos=pool['start_pos']\n",
    "        ended_pos=pool['ended_pos']\n",
    "        line_type = pool[\"type\"] if \"type\" in pool else \"line\"\n",
    "        D = pool['D']\n",
    "        xes     = np.array([start_pos[0],ended_pos[0]])\n",
    "        yes     = np.array([start_pos[1],ended_pos[1]])\n",
    "        xes,yes = to_circle_coor2(xes,yes)\n",
    "\n",
    "        objects.append(go.Scatter(x=xes,y=yes,mode='lines', line=dict(color=\"#000000\",width=4),\n",
    "                                      text=f\"D={D}\",hoveron='points',hoverinfo='text',opacity=1\n",
    "                                     )\n",
    "                          )\n",
    "\n",
    "\n",
    "    ### add block\n",
    "    for idx,(group, pool) in enumerate(info_per_group.items()):\n",
    "        xes,yes=set_good_gemo_pos(np.array(pool['element'])).transpose()\n",
    "\n",
    "        #xes,yes=np.array(pool['element']).transpose()\n",
    "\n",
    "        w = max(xes)-min(xes)\n",
    "        h = max(yes)-min(yes)\n",
    "        c_x = xes.mean()\n",
    "        c_y = yes.mean()\n",
    "        x0  = scalar*min(xes)-offsite\n",
    "        x1  = scalar*max(xes)+offsite\n",
    "        y0  = scalar*min(yes)-offsite\n",
    "        y1  = scalar*max(yes)+offsite\n",
    "        xes = np.array([x0,x0,x1,x1,x0])\n",
    "        yes = np.array([y0,y1,y1,y0,y0])\n",
    "        xes,yes = to_circle_coor2(xes,yes)\n",
    "        color = get_color('Viridis',((min(xes)+max(xes))/2+radius_max)/(4*radius_max)+\n",
    "                                    (abs(min(yes)+max(yes))/2)/(2*radius_max))\n",
    "        objects.append(go.Scatter(x=xes,y=yes,mode='lines', line=dict(color=color,width=1),\n",
    "                                      fill='tozeroy', \n",
    "                                      fillcolor=color,\n",
    "                                  hoveron='fills',hoverinfo='text',text=f\"G={group}\",opacity=1\n",
    "                                  ))\n",
    "\n",
    "\n",
    "    fig = go.Figure()\n",
    "\n",
    "    axis = dict(showline=False, zeroline=False,showgrid=False,showticklabels=False,)\n",
    "    fig.update_layout(showlegend=False,xaxis=axis,yaxis=axis,plot_bgcolor='white')\n",
    "    fig.update_layout(\n",
    "             autosize=False,\n",
    "                width=800,\n",
    "                height=800,\n",
    "            hoverlabel=dict(\n",
    "            bgcolor=\"white\",\n",
    "            font_size=16,\n",
    "            font_family=\"Rockwell\"\n",
    "            )\n",
    "    )\n",
    "    fig.update_xaxes(fixedrange=True)\n",
    "    fig.update_yaxes(scaleanchor = \"x\",scaleratio = 1,)\n",
    "    #if show_name: self.depoly_label(fig)\n",
    "    for obj in objects:fig.add_trace(obj)\n",
    "    return fig"
   ]
  },
  {
   "cell_type": "code",
   "execution_count": 2,
   "metadata": {
    "hidden": true
   },
   "outputs": [],
   "source": [
    "# plot_partition_polar(\"models/arbitary_shape/arbitary_shape_16x9_13.json\")"
   ]
  },
  {
   "cell_type": "code",
   "execution_count": 39,
   "metadata": {
    "hidden": true
   },
   "outputs": [
    {
     "data": {
      "text/plain": [
       "19"
      ]
     },
     "execution_count": 39,
     "metadata": {},
     "output_type": "execute_result"
    }
   ],
   "source": [
    "patch_partions_list = torch.load(\"models/arbitary_shape/patch_partions_5colum_max45raw_json_list.pt\")\n",
    "len(patch_partions_list)"
   ]
  },
  {
   "cell_type": "code",
   "execution_count": 1,
   "metadata": {
    "code_folding": [],
    "hidden": true,
    "scrolled": true
   },
   "outputs": [],
   "source": [
    "# for idx,t in enumerate(patch_partions_list):\n",
    "#     print(idx)\n",
    "#     fig=plot_partition_polar(t)\n",
    "#     fig.show()\n",
    "# #fig.write_image(\"figures/arbitary_shape_16x9_10.png\")"
   ]
  },
  {
   "cell_type": "code",
   "execution_count": 9,
   "metadata": {
    "hidden": true
   },
   "outputs": [],
   "source": [
    "#fig.write_image(\"figures/arbitary_shape_16x9_2.png\")"
   ]
  }
 ],
 "metadata": {
  "kernelspec": {
   "display_name": "Python 3",
   "language": "python",
   "name": "python3"
  },
  "language_info": {
   "codemirror_mode": {
    "name": "ipython",
    "version": 3
   },
   "file_extension": ".py",
   "mimetype": "text/x-python",
   "name": "python",
   "nbconvert_exporter": "python",
   "pygments_lexer": "ipython3",
   "version": "3.7.3"
  }
 },
 "nbformat": 4,
 "nbformat_minor": 4
}
